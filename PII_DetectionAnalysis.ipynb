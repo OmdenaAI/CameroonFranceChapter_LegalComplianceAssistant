{
  "nbformat": 4,
  "nbformat_minor": 0,
  "metadata": {
    "colab": {
      "provenance": [],
      "toc_visible": true
    },
    "kernelspec": {
      "name": "python3",
      "display_name": "Python 3"
    },
    "language_info": {
      "name": "python"
    }
  },
  "cells": [
    {
      "cell_type": "code",
      "execution_count": null,
      "metadata": {
        "id": "GY7iTShIyrl7"
      },
      "outputs": [],
      "source": [
        "import pandas as pd\n",
        "import numpy as np\n",
        "import matplotlib.pyplot as plt\n",
        "import seaborn as sns\n",
        "from wordcloud import WordCloud\n",
        "import spacy\n",
        "import re\n",
        "from wordcloud import WordCloud\n",
        "import matplotlib.pyplot as plt\n",
        "import seaborn as sns\n",
        "from sklearn.ensemble import IsolationForest"
      ]
    },
    {
      "cell_type": "code",
      "source": [
        "from google.colab import drive\n",
        "drive.mount('/content/gdrive')\n",
        "\n",
        "df = pd.read_csv('/content/gdrive/MyDrive/Omdena/LegalAssistance/PII Detection.csv')\n",
        "print(df.info())\n",
        "print(df.head(5))\n",
        "\n",
        "# Check for missing values\n",
        "#print(df.isnull().sum())"
      ],
      "metadata": {
        "colab": {
          "base_uri": "https://localhost:8080/"
        },
        "id": "KsVp7hQv0wNK",
        "outputId": "4c7ab481-8b88-4708-ef56-f542c8cd1679"
      },
      "execution_count": null,
      "outputs": [
        {
          "output_type": "stream",
          "name": "stdout",
          "text": [
            "Drive already mounted at /content/gdrive; to attempt to forcibly remount, call drive.mount(\"/content/gdrive\", force_remount=True).\n",
            "<class 'pandas.core.frame.DataFrame'>\n",
            "RangeIndex: 45000 entries, 0 to 44999\n",
            "Data columns (total 10 columns):\n",
            " #   Column            Non-Null Count  Dtype \n",
            "---  ------            --------------  ----- \n",
            " 0   Name              45000 non-null  object\n",
            " 1   Credit Card       45000 non-null  object\n",
            " 2   Email             45000 non-null  object\n",
            " 3   URL               45000 non-null  object\n",
            " 4   Phone             45000 non-null  object\n",
            " 5   Address           45000 non-null  object\n",
            " 6   Company           45000 non-null  object\n",
            " 7   SSN               45000 non-null  object\n",
            " 8   Text              45000 non-null  object\n",
            " 9   True Predictions  45000 non-null  object\n",
            "dtypes: object(10)\n",
            "memory usage: 3.4+ MB\n",
            "None\n",
            "               Name                                        Credit Card  \\\n",
            "0      Regina Perez  JCB 15 digit\\nPenny Duke\\n213117812841877 10/2...   \n",
            "1      Tiffany Pham  JCB 16 digit\\nRiley King\\n3576968162841684 05/...   \n",
            "2  Alice Williamson  American Express\\nGregory Walker\\n371735920398...   \n",
            "3     Patrick Clark  VISA 16 digit\\nDaniel Green\\n4650631703483823 ...   \n",
            "4     Autumn Valdez  VISA 13 digit\\nBrady Martinez\\n4317292063777 0...   \n",
            "\n",
            "                          Email                             URL  \\\n",
            "0  velasquezspencer@example.com             https://moreno.com/   \n",
            "1     thomasheather@example.com            http://reynolds.org/   \n",
            "2           hwalker@example.org        https://www.murphy.info/   \n",
            "3       carlacherry@example.org          https://www.moore.com/   \n",
            "4   cynthiaanderson@example.net  http://www.henderson-ward.com/   \n",
            "\n",
            "             Phone                                            Address  \\\n",
            "0   +91 2508571174  62550 Anderson Falls Suite 686\\nMonroeton, GA ...   \n",
            "1   +91 1178284707   254 Savage River Suite 120\\nMiguelfort, GA 92091   \n",
            "2   +58 8947726509         22471 Jennifer Coves\\nPhelpsside, PA 78572   \n",
            "3  +242 3283446338  460 Hannah Vista Suite 923\\nHardinburgh, MP 62832   \n",
            "4   +91 3248107236            22492 Zhang Ports\\nLake James, MD 40251   \n",
            "\n",
            "                     Company          SSN  \\\n",
            "0                Andrade LLC  341-40-3390   \n",
            "1            Galvan-Phillips  674-05-9192   \n",
            "2  Frey, Zimmerman and Terry  141-32-3590   \n",
            "3   Moore, Powell and Carter  528-15-3380   \n",
            "4             Griffith-Henry  670-06-6125   \n",
            "\n",
            "                                                Text  \\\n",
            "0  To The Members of Andrade LLC,\\nReport on the ...   \n",
            "1  Following the annual compliance schedule, a th...   \n",
            "2  Independent Auditor's Report on the Standalone...   \n",
            "3  We have conducted a thorough review of the tax...   \n",
            "4  To Whom It May Concern,\\n\\nThis letter is to c...   \n",
            "\n",
            "                                    True Predictions  \n",
            "0  [(2334, 2384, 'address'), (18, 29, 'company'),...  \n",
            "1  [(3594, 3606, 'name'), (3521, 3577, 'credit_ca...  \n",
            "2  [(3701, 3717, 'name'), (3821, 3845, 'url'), (3...  \n",
            "3  [(3456, 3469, 'name'), (5116, 5129, 'name'), (...  \n",
            "4  [(56, 69, 'name'), (1137, 1150, 'name'), (841,...  \n"
          ]
        }
      ]
    },
    {
      "cell_type": "code",
      "source": [
        "print(f\"Number of records: {df.shape[0]}\")\n",
        "print(f\"Number of features: {df.shape[1]}\")"
      ],
      "metadata": {
        "colab": {
          "base_uri": "https://localhost:8080/"
        },
        "id": "0-TL9uC83sO2",
        "outputId": "6122e368-39b2-4f0f-8b32-aa7a4229e441"
      },
      "execution_count": null,
      "outputs": [
        {
          "output_type": "stream",
          "name": "stdout",
          "text": [
            "Number of records: 45000\n",
            "Number of features: 10\n"
          ]
        }
      ]
    },
    {
      "cell_type": "code",
      "source": [
        "df['Credit Card'].str.len().hist()"
      ],
      "metadata": {
        "colab": {
          "base_uri": "https://localhost:8080/",
          "height": 451
        },
        "id": "WzUjQHVN3ziF",
        "outputId": "1f2d722f-ba94-428a-90b2-b3655c25993b"
      },
      "execution_count": null,
      "outputs": [
        {
          "output_type": "execute_result",
          "data": {
            "text/plain": [
              "<Axes: >"
            ]
          },
          "metadata": {},
          "execution_count": 27
        },
        {
          "output_type": "display_data",
          "data": {
            "text/plain": [
              "<Figure size 640x480 with 1 Axes>"
            ],
            "image/png": "[encoded data removed]"
          },
          "metadata": {}
        }
      ]
    },
    {
      "cell_type": "code",
      "source": [
        "# Detect Email\n",
        "\n",
        "email_pattern = re.compile(r'\\b[A-Za-z0-9._%+-]+@[A-Za-z0-9.-]+\\.[A-Z|a-z]{2,}\\b')\n",
        "df['email_detected'] = df['Email'].apply(lambda x: bool(email_pattern.search(str(x))))\n",
        "print(df)"
      ],
      "metadata": {
        "colab": {
          "base_uri": "https://localhost:8080/"
        },
        "id": "jL-b8vuLFdkG",
        "outputId": "5eb0faef-d386-4e9b-a8e3-ee33a2395c06"
      },
      "execution_count": null,
      "outputs": [
        {
          "output_type": "stream",
          "name": "stdout",
          "text": [
            "                     Name                                        Credit Card  \\\n",
            "0            Regina Perez  JCB 15 digit\\nPenny Duke\\n213117812841877 10/2...   \n",
            "1            Tiffany Pham  JCB 16 digit\\nRiley King\\n3576968162841684 05/...   \n",
            "2        Alice Williamson  American Express\\nGregory Walker\\n371735920398...   \n",
            "3           Patrick Clark  VISA 16 digit\\nDaniel Green\\n4650631703483823 ...   \n",
            "4           Autumn Valdez  VISA 13 digit\\nBrady Martinez\\n4317292063777 0...   \n",
            "...                   ...                                                ...   \n",
            "44995        Cindy Murray  VISA 16 digit\\nVernon Miles\\n4930367669060881 ...   \n",
            "44996      Michael Briggs  JCB 16 digit\\nCarmen Roth\\n3540330403257548 02...   \n",
            "44997          Raven West  VISA 13 digit\\nBryan Jackson\\n4517990689068 10...   \n",
            "44998    Mrs. Katie Moody  VISA 16 digit\\nSamantha Bauer\\n409229300914512...   \n",
            "44999  Gwendolyn Phillips  JCB 16 digit\\nChristina Jefferson\\n35925607697...   \n",
            "\n",
            "                              Email                             URL  \\\n",
            "0      velasquezspencer@example.com             https://moreno.com/   \n",
            "1         thomasheather@example.com            http://reynolds.org/   \n",
            "2               hwalker@example.org        https://www.murphy.info/   \n",
            "3           carlacherry@example.org          https://www.moore.com/   \n",
            "4       cynthiaanderson@example.net  http://www.henderson-ward.com/   \n",
            "...                             ...                             ...   \n",
            "44995           laura10@example.org        https://clark-rocha.com/   \n",
            "44996      edwardtaylor@example.net               http://vega.info/   \n",
            "44997       shannonwang@example.com   http://www.fields-watson.com/   \n",
            "44998       michaellowe@example.net           http://www.smith.net/   \n",
            "44999          ejohnson@example.com           http://www.smith.com/   \n",
            "\n",
            "                 Phone                                            Address  \\\n",
            "0       +91 2508571174  62550 Anderson Falls Suite 686\\nMonroeton, GA ...   \n",
            "1       +91 1178284707   254 Savage River Suite 120\\nMiguelfort, GA 92091   \n",
            "2       +58 8947726509         22471 Jennifer Coves\\nPhelpsside, PA 78572   \n",
            "3      +242 3283446338  460 Hannah Vista Suite 923\\nHardinburgh, MP 62832   \n",
            "4       +91 3248107236            22492 Zhang Ports\\nLake James, MD 40251   \n",
            "...                ...                                                ...   \n",
            "44995   +84 6219748174             85014 Jenny Drive\\nKingmouth, ND 41268   \n",
            "44996  +380 6491308568  951 Abigail Grove Suite 005\\nPatriciafurt, ID ...   \n",
            "44997   +77 7233025493                       USNV Armstrong\\nFPO AA 63591   \n",
            "44998   +83 5096332962                   Unit 8835 Box 9630\\nDPO AP 31983   \n",
            "44999   +91 1258455190        0831 Lopez Avenue\\nPort Davidfurt, HI 93596   \n",
            "\n",
            "                            Company          SSN  \\\n",
            "0                       Andrade LLC  341-40-3390   \n",
            "1                   Galvan-Phillips  674-05-9192   \n",
            "2         Frey, Zimmerman and Terry  141-32-3590   \n",
            "3          Moore, Powell and Carter  528-15-3380   \n",
            "4                    Griffith-Henry  670-06-6125   \n",
            "...                             ...          ...   \n",
            "44995                   Schmidt LLC  527-07-9289   \n",
            "44996                 Cannon-Miller  583-75-9388   \n",
            "44997                  Brown-Greene  388-73-3743   \n",
            "44998  Simpson, Stewart and Salazar  622-10-2201   \n",
            "44999  Hernandez, Williams and Hale  284-64-9987   \n",
            "\n",
            "                                                    Text  \\\n",
            "0      To The Members of Andrade LLC,\\nReport on the ...   \n",
            "1      Following the annual compliance schedule, a th...   \n",
            "2      Independent Auditor's Report on the Standalone...   \n",
            "3      We have conducted a thorough review of the tax...   \n",
            "4      To Whom It May Concern,\\n\\nThis letter is to c...   \n",
            "...                                                  ...   \n",
            "44995  This Service Contract between Schmidt LLC and ...   \n",
            "44996  Dear Michael Briggs, we have received your loa...   \n",
            "44997  Insurance claim #CLM12345678 has been initiate...   \n",
            "44998  We are pleased to welcome Mrs. Katie Moody to ...   \n",
            "44999  Dear Gwendolyn Phillips, your subscription wit...   \n",
            "\n",
            "                                        True Predictions  email_detected  \n",
            "0      [(2334, 2384, 'address'), (18, 29, 'company'),...            True  \n",
            "1      [(3594, 3606, 'name'), (3521, 3577, 'credit_ca...            True  \n",
            "2      [(3701, 3717, 'name'), (3821, 3845, 'url'), (3...            True  \n",
            "3      [(3456, 3469, 'name'), (5116, 5129, 'name'), (...            True  \n",
            "4      [(56, 69, 'name'), (1137, 1150, 'name'), (841,...            True  \n",
            "...                                                  ...             ...  \n",
            "44995  [(46, 58, 'name'), (225, 237, 'name'), (310, 3...            True  \n",
            "44996  [(5, 19, 'name'), (469, 526, 'credit_card'), (...            True  \n",
            "44997  [(51, 61, 'name'), (388, 398, 'name'), (200, 2...            True  \n",
            "44998  [(26, 42, 'name'), (375, 436, 'credit_card'), ...            True  \n",
            "44999  [(5, 23, 'name'), (311, 376, 'credit_card'), (...            True  \n",
            "\n",
            "[45000 rows x 11 columns]\n"
          ]
        }
      ]
    },
    {
      "cell_type": "code",
      "source": [
        "# Detect SSN\n",
        "ssn_pattern = re.compile(r'\\b\\d{3}-\\d{2}-\\d{4}\\b')\n",
        "df['ssn_detected_in_comment'] = df['Text'].apply(lambda x: bool(ssn_pattern.search(str(x))))\n",
        "\n",
        "print(df)"
      ],
      "metadata": {
        "colab": {
          "base_uri": "https://localhost:8080/"
        },
        "id": "Sr0c5daCIuAF",
        "outputId": "ec08da71-4c9c-4195-e352-2d049eaf1dd5"
      },
      "execution_count": null,
      "outputs": [
        {
          "output_type": "stream",
          "name": "stdout",
          "text": [
            "                     Name                                        Credit Card  \\\n",
            "0            Regina Perez  JCB 15 digit\\nPenny Duke\\n213117812841877 10/2...   \n",
            "1            Tiffany Pham  JCB 16 digit\\nRiley King\\n3576968162841684 05/...   \n",
            "2        Alice Williamson  American Express\\nGregory Walker\\n371735920398...   \n",
            "3           Patrick Clark  VISA 16 digit\\nDaniel Green\\n4650631703483823 ...   \n",
            "4           Autumn Valdez  VISA 13 digit\\nBrady Martinez\\n4317292063777 0...   \n",
            "...                   ...                                                ...   \n",
            "44995        Cindy Murray  VISA 16 digit\\nVernon Miles\\n4930367669060881 ...   \n",
            "44996      Michael Briggs  JCB 16 digit\\nCarmen Roth\\n3540330403257548 02...   \n",
            "44997          Raven West  VISA 13 digit\\nBryan Jackson\\n4517990689068 10...   \n",
            "44998    Mrs. Katie Moody  VISA 16 digit\\nSamantha Bauer\\n409229300914512...   \n",
            "44999  Gwendolyn Phillips  JCB 16 digit\\nChristina Jefferson\\n35925607697...   \n",
            "\n",
            "                              Email                             URL  \\\n",
            "0      velasquezspencer@example.com             https://moreno.com/   \n",
            "1         thomasheather@example.com            http://reynolds.org/   \n",
            "2               hwalker@example.org        https://www.murphy.info/   \n",
            "3           carlacherry@example.org          https://www.moore.com/   \n",
            "4       cynthiaanderson@example.net  http://www.henderson-ward.com/   \n",
            "...                             ...                             ...   \n",
            "44995           laura10@example.org        https://clark-rocha.com/   \n",
            "44996      edwardtaylor@example.net               http://vega.info/   \n",
            "44997       shannonwang@example.com   http://www.fields-watson.com/   \n",
            "44998       michaellowe@example.net           http://www.smith.net/   \n",
            "44999          ejohnson@example.com           http://www.smith.com/   \n",
            "\n",
            "                 Phone                                            Address  \\\n",
            "0       +91 2508571174  62550 Anderson Falls Suite 686\\nMonroeton, GA ...   \n",
            "1       +91 1178284707   254 Savage River Suite 120\\nMiguelfort, GA 92091   \n",
            "2       +58 8947726509         22471 Jennifer Coves\\nPhelpsside, PA 78572   \n",
            "3      +242 3283446338  460 Hannah Vista Suite 923\\nHardinburgh, MP 62832   \n",
            "4       +91 3248107236            22492 Zhang Ports\\nLake James, MD 40251   \n",
            "...                ...                                                ...   \n",
            "44995   +84 6219748174             85014 Jenny Drive\\nKingmouth, ND 41268   \n",
            "44996  +380 6491308568  951 Abigail Grove Suite 005\\nPatriciafurt, ID ...   \n",
            "44997   +77 7233025493                       USNV Armstrong\\nFPO AA 63591   \n",
            "44998   +83 5096332962                   Unit 8835 Box 9630\\nDPO AP 31983   \n",
            "44999   +91 1258455190        0831 Lopez Avenue\\nPort Davidfurt, HI 93596   \n",
            "\n",
            "                            Company          SSN  \\\n",
            "0                       Andrade LLC  341-40-3390   \n",
            "1                   Galvan-Phillips  674-05-9192   \n",
            "2         Frey, Zimmerman and Terry  141-32-3590   \n",
            "3          Moore, Powell and Carter  528-15-3380   \n",
            "4                    Griffith-Henry  670-06-6125   \n",
            "...                             ...          ...   \n",
            "44995                   Schmidt LLC  527-07-9289   \n",
            "44996                 Cannon-Miller  583-75-9388   \n",
            "44997                  Brown-Greene  388-73-3743   \n",
            "44998  Simpson, Stewart and Salazar  622-10-2201   \n",
            "44999  Hernandez, Williams and Hale  284-64-9987   \n",
            "\n",
            "                                                    Text  \\\n",
            "0      To The Members of Andrade LLC,\\nReport on the ...   \n",
            "1      Following the annual compliance schedule, a th...   \n",
            "2      Independent Auditor's Report on the Standalone...   \n",
            "3      We have conducted a thorough review of the tax...   \n",
            "4      To Whom It May Concern,\\n\\nThis letter is to c...   \n",
            "...                                                  ...   \n",
            "44995  This Service Contract between Schmidt LLC and ...   \n",
            "44996  Dear Michael Briggs, we have received your loa...   \n",
            "44997  Insurance claim #CLM12345678 has been initiate...   \n",
            "44998  We are pleased to welcome Mrs. Katie Moody to ...   \n",
            "44999  Dear Gwendolyn Phillips, your subscription wit...   \n",
            "\n",
            "                                        True Predictions  \\\n",
            "0      [(2334, 2384, 'address'), (18, 29, 'company'),...   \n",
            "1      [(3594, 3606, 'name'), (3521, 3577, 'credit_ca...   \n",
            "2      [(3701, 3717, 'name'), (3821, 3845, 'url'), (3...   \n",
            "3      [(3456, 3469, 'name'), (5116, 5129, 'name'), (...   \n",
            "4      [(56, 69, 'name'), (1137, 1150, 'name'), (841,...   \n",
            "...                                                  ...   \n",
            "44995  [(46, 58, 'name'), (225, 237, 'name'), (310, 3...   \n",
            "44996  [(5, 19, 'name'), (469, 526, 'credit_card'), (...   \n",
            "44997  [(51, 61, 'name'), (388, 398, 'name'), (200, 2...   \n",
            "44998  [(26, 42, 'name'), (375, 436, 'credit_card'), ...   \n",
            "44999  [(5, 23, 'name'), (311, 376, 'credit_card'), (...   \n",
            "\n",
            "       ssn_detected_in_comment  \n",
            "0                        False  \n",
            "1                         True  \n",
            "2                         True  \n",
            "3                         True  \n",
            "4                         True  \n",
            "...                        ...  \n",
            "44995                     True  \n",
            "44996                     True  \n",
            "44997                     True  \n",
            "44998                     True  \n",
            "44999                     True  \n",
            "\n",
            "[45000 rows x 11 columns]\n"
          ]
        }
      ]
    },
    {
      "cell_type": "code",
      "source": [
        "\n",
        "\n",
        "df['Name_word_count'] = df['Name'].apply(lambda x: len(str(x).split()))\n",
        "df['Address_word_count'] = df['Address'].apply(lambda x: len(str(x).split()))\n",
        "print(df)"
      ],
      "metadata": {
        "colab": {
          "base_uri": "https://localhost:8080/"
        },
        "id": "1-_htw3N4wvO",
        "outputId": "a2f85e8f-e9ad-456b-d15f-94b2c107a5e9"
      },
      "execution_count": null,
      "outputs": [
        {
          "output_type": "stream",
          "name": "stdout",
          "text": [
            "                     Name                                        Credit Card  \\\n",
            "0            Regina Perez  JCB 15 digit\\nPenny Duke\\n213117812841877 10/2...   \n",
            "1            Tiffany Pham  JCB 16 digit\\nRiley King\\n3576968162841684 05/...   \n",
            "2        Alice Williamson  American Express\\nGregory Walker\\n371735920398...   \n",
            "3           Patrick Clark  VISA 16 digit\\nDaniel Green\\n4650631703483823 ...   \n",
            "4           Autumn Valdez  VISA 13 digit\\nBrady Martinez\\n4317292063777 0...   \n",
            "...                   ...                                                ...   \n",
            "44995        Cindy Murray  VISA 16 digit\\nVernon Miles\\n4930367669060881 ...   \n",
            "44996      Michael Briggs  JCB 16 digit\\nCarmen Roth\\n3540330403257548 02...   \n",
            "44997          Raven West  VISA 13 digit\\nBryan Jackson\\n4517990689068 10...   \n",
            "44998    Mrs. Katie Moody  VISA 16 digit\\nSamantha Bauer\\n409229300914512...   \n",
            "44999  Gwendolyn Phillips  JCB 16 digit\\nChristina Jefferson\\n35925607697...   \n",
            "\n",
            "                              Email                             URL  \\\n",
            "0      velasquezspencer@example.com             https://moreno.com/   \n",
            "1         thomasheather@example.com            http://reynolds.org/   \n",
            "2               hwalker@example.org        https://www.murphy.info/   \n",
            "3           carlacherry@example.org          https://www.moore.com/   \n",
            "4       cynthiaanderson@example.net  http://www.henderson-ward.com/   \n",
            "...                             ...                             ...   \n",
            "44995           laura10@example.org        https://clark-rocha.com/   \n",
            "44996      edwardtaylor@example.net               http://vega.info/   \n",
            "44997       shannonwang@example.com   http://www.fields-watson.com/   \n",
            "44998       michaellowe@example.net           http://www.smith.net/   \n",
            "44999          ejohnson@example.com           http://www.smith.com/   \n",
            "\n",
            "                 Phone                                            Address  \\\n",
            "0       +91 2508571174  62550 Anderson Falls Suite 686\\nMonroeton, GA ...   \n",
            "1       +91 1178284707   254 Savage River Suite 120\\nMiguelfort, GA 92091   \n",
            "2       +58 8947726509         22471 Jennifer Coves\\nPhelpsside, PA 78572   \n",
            "3      +242 3283446338  460 Hannah Vista Suite 923\\nHardinburgh, MP 62832   \n",
            "4       +91 3248107236            22492 Zhang Ports\\nLake James, MD 40251   \n",
            "...                ...                                                ...   \n",
            "44995   +84 6219748174             85014 Jenny Drive\\nKingmouth, ND 41268   \n",
            "44996  +380 6491308568  951 Abigail Grove Suite 005\\nPatriciafurt, ID ...   \n",
            "44997   +77 7233025493                       USNV Armstrong\\nFPO AA 63591   \n",
            "44998   +83 5096332962                   Unit 8835 Box 9630\\nDPO AP 31983   \n",
            "44999   +91 1258455190        0831 Lopez Avenue\\nPort Davidfurt, HI 93596   \n",
            "\n",
            "                            Company          SSN  \\\n",
            "0                       Andrade LLC  341-40-3390   \n",
            "1                   Galvan-Phillips  674-05-9192   \n",
            "2         Frey, Zimmerman and Terry  141-32-3590   \n",
            "3          Moore, Powell and Carter  528-15-3380   \n",
            "4                    Griffith-Henry  670-06-6125   \n",
            "...                             ...          ...   \n",
            "44995                   Schmidt LLC  527-07-9289   \n",
            "44996                 Cannon-Miller  583-75-9388   \n",
            "44997                  Brown-Greene  388-73-3743   \n",
            "44998  Simpson, Stewart and Salazar  622-10-2201   \n",
            "44999  Hernandez, Williams and Hale  284-64-9987   \n",
            "\n",
            "                                                    Text  \\\n",
            "0      To The Members of Andrade LLC,\\nReport on the ...   \n",
            "1      Following the annual compliance schedule, a th...   \n",
            "2      Independent Auditor's Report on the Standalone...   \n",
            "3      We have conducted a thorough review of the tax...   \n",
            "4      To Whom It May Concern,\\n\\nThis letter is to c...   \n",
            "...                                                  ...   \n",
            "44995  This Service Contract between Schmidt LLC and ...   \n",
            "44996  Dear Michael Briggs, we have received your loa...   \n",
            "44997  Insurance claim #CLM12345678 has been initiate...   \n",
            "44998  We are pleased to welcome Mrs. Katie Moody to ...   \n",
            "44999  Dear Gwendolyn Phillips, your subscription wit...   \n",
            "\n",
            "                                        True Predictions  \\\n",
            "0      [(2334, 2384, 'address'), (18, 29, 'company'),...   \n",
            "1      [(3594, 3606, 'name'), (3521, 3577, 'credit_ca...   \n",
            "2      [(3701, 3717, 'name'), (3821, 3845, 'url'), (3...   \n",
            "3      [(3456, 3469, 'name'), (5116, 5129, 'name'), (...   \n",
            "4      [(56, 69, 'name'), (1137, 1150, 'name'), (841,...   \n",
            "...                                                  ...   \n",
            "44995  [(46, 58, 'name'), (225, 237, 'name'), (310, 3...   \n",
            "44996  [(5, 19, 'name'), (469, 526, 'credit_card'), (...   \n",
            "44997  [(51, 61, 'name'), (388, 398, 'name'), (200, 2...   \n",
            "44998  [(26, 42, 'name'), (375, 436, 'credit_card'), ...   \n",
            "44999  [(5, 23, 'name'), (311, 376, 'credit_card'), (...   \n",
            "\n",
            "       ssn_detected_in_comment  Name_word_count  Address_word_count  \n",
            "0                        False                2                   8  \n",
            "1                         True                2                   8  \n",
            "2                         True                2                   6  \n",
            "3                         True                2                   8  \n",
            "4                         True                2                   7  \n",
            "...                        ...              ...                 ...  \n",
            "44995                     True                2                   6  \n",
            "44996                     True                2                   8  \n",
            "44997                     True                2                   5  \n",
            "44998                     True                3                   7  \n",
            "44999                     True                2                   7  \n",
            "\n",
            "[45000 rows x 13 columns]\n"
          ]
        }
      ]
    },
    {
      "cell_type": "code",
      "source": [
        "# Example: Distribution of email length\n",
        "df['email_length'] = df['Email'].astype(str).apply(len)\n",
        "sns.histplot(df['email_length'], bins=30, kde=True)\n",
        "plt.title('Email Length Distribution')\n",
        "plt.show()"
      ],
      "metadata": {
        "colab": {
          "base_uri": "https://localhost:8080/",
          "height": 472
        },
        "id": "8qLbSruAGF0e",
        "outputId": "76c3d086-4b4b-4c8c-997c-5f1f5cd7ae54"
      },
      "execution_count": null,
      "outputs": [
        {
          "output_type": "display_data",
          "data": {
            "text/plain": [
              "<Figure size 640x480 with 1 Axes>"
            ],
            "image/png": "[encoded data removed]"
          },
          "metadata": {}
        }
      ]
    },
    {
      "cell_type": "code",
      "source": [
        "# Count of PII detections\n",
        "detected_counts = df[[col for col in df.columns if '_detected' in col]].sum()\n",
        "detected_counts.plot(kind='bar')\n",
        "plt.title('PII Detection Count by Type')\n",
        "plt.show()"
      ],
      "metadata": {
        "colab": {
          "base_uri": "https://localhost:8080/",
          "height": 623
        },
        "id": "T-kLgVSaJgb2",
        "outputId": "db8fa3a5-da12-4e48-877b-bbb6a40a42a9"
      },
      "execution_count": null,
      "outputs": [
        {
          "output_type": "display_data",
          "data": {
            "text/plain": [
              "<Figure size 640x480 with 1 Axes>"
            ],
            "image/png": "[encoded data removed]"
          },
          "metadata": {}
        }
      ]
    },
    {
      "cell_type": "code",
      "source": [
        "# Example: Anomalies in email length\n",
        "X = df[['email_length']].fillna(0)\n",
        "iso_forest = IsolationForest(contamination=0.01, random_state=42)\n",
        "df['email_length_anomaly'] = iso_forest.fit_predict(X)  # -1 = anomaly, 1 = normal\n"
      ],
      "metadata": {
        "id": "Rccw5aHlJrQM"
      },
      "execution_count": null,
      "outputs": []
    },
    {
      "cell_type": "code",
      "source": [
        " #Show anomalies\n",
        "anomalies = df[df['email_length_anomaly'] == -1]\n",
        "print(\"Anomalies detected:\\n\", anomalies[['Email', 'email_length']])\n",
        "\n",
        "\n",
        "# 📄 Export Report\n",
        "\n",
        "# Save anomalies and PII detections\n",
        "df.to_csv('pii_detection_results.csv', index=False)\n",
        "print(\"Report saved as pii_detection_results.csv\")"
      ],
      "metadata": {
        "colab": {
          "base_uri": "https://localhost:8080/"
        },
        "id": "Vs2wVb2xKFTW",
        "outputId": "60ac15df-f2e6-4774-ace6-a03d00729828"
      },
      "execution_count": null,
      "outputs": [
        {
          "output_type": "stream",
          "name": "stdout",
          "text": [
            "Anomalies detected:\n",
            "                                   Email  email_length\n",
            "44       mcfarlandchristina@example.net            30\n",
            "104    christopherpatterson@example.org            32\n",
            "396     christopherespinoza@example.org            31\n",
            "601      katherinehernandez@example.net            30\n",
            "684                     mle@example.net            15\n",
            "...                                 ...           ...\n",
            "44332    christopherramirez@example.net            30\n",
            "44608    christopherelliott@example.com            30\n",
            "44636    stephaniearmstrong@example.com            30\n",
            "44787    contreraskatherine@example.net            30\n",
            "44926    elizabethblanchard@example.net            30\n",
            "\n",
            "[260 rows x 2 columns]\n",
            "Report saved as pii_detection_results.csv\n"
          ]
        }
      ]
    },
    {
      "cell_type": "code",
      "source": [
        "# ===============================\n",
        "# 📏 Feature Engineering: Length Analysis\n",
        "# ===============================\n",
        "# Assuming columns like 'email' and 'phone' exist (you can adjust names)\n",
        "df['email_length'] = df['Email'].astype(str).apply(len)\n",
        "df['phone_length'] = df['Phone'].astype(str).apply(len)\n",
        "\n",
        "print(\"Email Length Stats:\\n\", df['email_length'].describe())\n",
        "print(\"Phone Length Stats:\\n\", df['phone_length'].describe())\n",
        "\n",
        "# ===============================\n",
        "# ⚠️ Anomaly Detection: Isolation Forest\n",
        "# ===============================\n",
        "# Prepare length features for anomaly detection\n",
        "X = df[['email_length', 'phone_length']].fillna(0)\n",
        "\n",
        "# Train Isolation Forest\n",
        "iso_forest = IsolationForest(contamination=0.01, random_state=42)\n",
        "df['anomaly_flag'] = iso_forest.fit_predict(X)  # -1 = anomaly, 1 = normal\n",
        "\n",
        "# List anomalies\n",
        "anomalies = df[df['anomaly_flag'] == -1]\n",
        "print(\"Anomalies detected:\\n\", anomalies[['Email', 'Phone', 'email_length', 'phone_length']])\n"
      ],
      "metadata": {
        "colab": {
          "base_uri": "https://localhost:8080/"
        },
        "id": "rxs79MpLM31z",
        "outputId": "e503df23-3ec6-4415-86b3-e534a121d8e7"
      },
      "execution_count": null,
      "outputs": [
        {
          "output_type": "stream",
          "name": "stdout",
          "text": [
            "Email Length Stats:\n",
            " count    45000.000000\n",
            "mean        21.838600\n",
            "std          2.947848\n",
            "min         15.000000\n",
            "25%         19.000000\n",
            "50%         22.000000\n",
            "75%         24.000000\n",
            "max         34.000000\n",
            "Name: email_length, dtype: float64\n",
            "Phone Length Stats:\n",
            " count    45000.00000\n",
            "mean        14.33120\n",
            "std          0.47065\n",
            "min         14.00000\n",
            "25%         14.00000\n",
            "50%         14.00000\n",
            "75%         15.00000\n",
            "max         15.00000\n",
            "Name: phone_length, dtype: float64\n",
            "Anomalies detected:\n",
            "                                   Email            Phone  email_length  \\\n",
            "44       mcfarlandchristina@example.net   +94 7228247446            30   \n",
            "73                     slin@example.com  +163 8206877266            16   \n",
            "104    christopherpatterson@example.org  +873 0529925628            32   \n",
            "225                    mgay@example.net  +182 4458108415            16   \n",
            "327       michaelpennington@example.com  +591 7771245667            29   \n",
            "...                                 ...              ...           ...   \n",
            "44558                  glee@example.com  +910 9235399536            16   \n",
            "44608    christopherelliott@example.com   +91 1223299651            30   \n",
            "44636    stephaniearmstrong@example.com  +977 3348366929            30   \n",
            "44787    contreraskatherine@example.net   +00 6074545153            30   \n",
            "44926    elizabethblanchard@example.net  +657 1382680394            30   \n",
            "\n",
            "       phone_length  \n",
            "44               14  \n",
            "73               15  \n",
            "104              15  \n",
            "225              15  \n",
            "327              15  \n",
            "...             ...  \n",
            "44558            15  \n",
            "44608            14  \n",
            "44636            15  \n",
            "44787            14  \n",
            "44926            15  \n",
            "\n",
            "[440 rows x 4 columns]\n"
          ]
        }
      ]
    },
    {
      "cell_type": "code",
      "source": [
        "#pip install presidio-analyzer"
      ],
      "metadata": {
        "colab": {
          "base_uri": "https://localhost:8080/"
        },
        "id": "-eX-tx0BKXBD",
        "outputId": "1bcee79e-5c10-4891-91f6-c8cbd9c7d530"
      },
      "execution_count": null,
      "outputs": [
        {
          "output_type": "stream",
          "name": "stdout",
          "text": [
            "Collecting presidio-analyzer\n",
            "  Downloading presidio_analyzer-2.2.357-py3-none-any.whl.metadata (3.3 kB)\n",
            "Collecting phonenumbers<9.0.0,>=8.12 (from presidio-analyzer)\n",
            "  Downloading phonenumbers-8.13.55-py2.py3-none-any.whl.metadata (11 kB)\n",
            "Requirement already satisfied: pyyaml in /usr/local/lib/python3.11/dist-packages (from presidio-analyzer) (6.0.2)\n",
            "Requirement already satisfied: regex in /usr/local/lib/python3.11/dist-packages (from presidio-analyzer) (2024.11.6)\n",
            "Requirement already satisfied: spacy!=3.7.0,<4.0.0,>=3.4.4 in /usr/local/lib/python3.11/dist-packages (from presidio-analyzer) (3.7.5)\n",
            "Collecting tldextract (from presidio-analyzer)\n",
            "  Downloading tldextract-5.1.3-py3-none-any.whl.metadata (11 kB)\n",
            "Requirement already satisfied: spacy-legacy<3.1.0,>=3.0.11 in /usr/local/lib/python3.11/dist-packages (from spacy!=3.7.0,<4.0.0,>=3.4.4->presidio-analyzer) (3.0.12)\n",
            "Requirement already satisfied: spacy-loggers<2.0.0,>=1.0.0 in /usr/local/lib/python3.11/dist-packages (from spacy!=3.7.0,<4.0.0,>=3.4.4->presidio-analyzer) (1.0.5)\n",
            "Requirement already satisfied: murmurhash<1.1.0,>=0.28.0 in /usr/local/lib/python3.11/dist-packages (from spacy!=3.7.0,<4.0.0,>=3.4.4->presidio-analyzer) (1.0.12)\n",
            "Requirement already satisfied: cymem<2.1.0,>=2.0.2 in /usr/local/lib/python3.11/dist-packages (from spacy!=3.7.0,<4.0.0,>=3.4.4->presidio-analyzer) (2.0.11)\n",
            "Requirement already satisfied: preshed<3.1.0,>=3.0.2 in /usr/local/lib/python3.11/dist-packages (from spacy!=3.7.0,<4.0.0,>=3.4.4->presidio-analyzer) (3.0.9)\n",
            "Requirement already satisfied: thinc<8.3.0,>=8.2.2 in /usr/local/lib/python3.11/dist-packages (from spacy!=3.7.0,<4.0.0,>=3.4.4->presidio-analyzer) (8.2.5)\n",
            "Requirement already satisfied: wasabi<1.2.0,>=0.9.1 in /usr/local/lib/python3.11/dist-packages (from spacy!=3.7.0,<4.0.0,>=3.4.4->presidio-analyzer) (1.1.3)\n",
            "Requirement already satisfied: srsly<3.0.0,>=2.4.3 in /usr/local/lib/python3.11/dist-packages (from spacy!=3.7.0,<4.0.0,>=3.4.4->presidio-analyzer) (2.5.1)\n",
            "Requirement already satisfied: catalogue<2.1.0,>=2.0.6 in /usr/local/lib/python3.11/dist-packages (from spacy!=3.7.0,<4.0.0,>=3.4.4->presidio-analyzer) (2.0.10)\n",
            "Requirement already satisfied: weasel<0.5.0,>=0.1.0 in /usr/local/lib/python3.11/dist-packages (from spacy!=3.7.0,<4.0.0,>=3.4.4->presidio-analyzer) (0.4.1)\n",
            "Requirement already satisfied: typer<1.0.0,>=0.3.0 in /usr/local/lib/python3.11/dist-packages (from spacy!=3.7.0,<4.0.0,>=3.4.4->presidio-analyzer) (0.15.2)\n",
            "Requirement already satisfied: tqdm<5.0.0,>=4.38.0 in /usr/local/lib/python3.11/dist-packages (from spacy!=3.7.0,<4.0.0,>=3.4.4->presidio-analyzer) (4.67.1)\n",
            "Requirement already satisfied: requests<3.0.0,>=2.13.0 in /usr/local/lib/python3.11/dist-packages (from spacy!=3.7.0,<4.0.0,>=3.4.4->presidio-analyzer) (2.32.3)\n",
            "Requirement already satisfied: pydantic!=1.8,!=1.8.1,<3.0.0,>=1.7.4 in /usr/local/lib/python3.11/dist-packages (from spacy!=3.7.0,<4.0.0,>=3.4.4->presidio-analyzer) (2.10.6)\n",
            "Requirement already satisfied: jinja2 in /usr/local/lib/python3.11/dist-packages (from spacy!=3.7.0,<4.0.0,>=3.4.4->presidio-analyzer) (3.1.5)\n",
            "Requirement already satisfied: setuptools in /usr/local/lib/python3.11/dist-packages (from spacy!=3.7.0,<4.0.0,>=3.4.4->presidio-analyzer) (75.1.0)\n",
            "Requirement already satisfied: packaging>=20.0 in /usr/local/lib/python3.11/dist-packages (from spacy!=3.7.0,<4.0.0,>=3.4.4->presidio-analyzer) (24.2)\n",
            "Requirement already satisfied: langcodes<4.0.0,>=3.2.0 in /usr/local/lib/python3.11/dist-packages (from spacy!=3.7.0,<4.0.0,>=3.4.4->presidio-analyzer) (3.5.0)\n",
            "Requirement already satisfied: numpy>=1.19.0 in /usr/local/lib/python3.11/dist-packages (from spacy!=3.7.0,<4.0.0,>=3.4.4->presidio-analyzer) (1.26.4)\n",
            "Requirement already satisfied: idna in /usr/local/lib/python3.11/dist-packages (from tldextract->presidio-analyzer) (3.10)\n",
            "Collecting requests-file>=1.4 (from tldextract->presidio-analyzer)\n",
            "  Downloading requests_file-2.1.0-py2.py3-none-any.whl.metadata (1.7 kB)\n",
            "Requirement already satisfied: filelock>=3.0.8 in /usr/local/lib/python3.11/dist-packages (from tldextract->presidio-analyzer) (3.17.0)\n",
            "Requirement already satisfied: language-data>=1.2 in /usr/local/lib/python3.11/dist-packages (from langcodes<4.0.0,>=3.2.0->spacy!=3.7.0,<4.0.0,>=3.4.4->presidio-analyzer) (1.3.0)\n",
            "Requirement already satisfied: annotated-types>=0.6.0 in /usr/local/lib/python3.11/dist-packages (from pydantic!=1.8,!=1.8.1,<3.0.0,>=1.7.4->spacy!=3.7.0,<4.0.0,>=3.4.4->presidio-analyzer) (0.7.0)\n",
            "Requirement already satisfied: pydantic-core==2.27.2 in /usr/local/lib/python3.11/dist-packages (from pydantic!=1.8,!=1.8.1,<3.0.0,>=1.7.4->spacy!=3.7.0,<4.0.0,>=3.4.4->presidio-analyzer) (2.27.2)\n",
            "Requirement already satisfied: typing-extensions>=4.12.2 in /usr/local/lib/python3.11/dist-packages (from pydantic!=1.8,!=1.8.1,<3.0.0,>=1.7.4->spacy!=3.7.0,<4.0.0,>=3.4.4->presidio-analyzer) (4.12.2)\n",
            "Requirement already satisfied: charset-normalizer<4,>=2 in /usr/local/lib/python3.11/dist-packages (from requests<3.0.0,>=2.13.0->spacy!=3.7.0,<4.0.0,>=3.4.4->presidio-analyzer) (3.4.1)\n",
            "Requirement already satisfied: urllib3<3,>=1.21.1 in /usr/local/lib/python3.11/dist-packages (from requests<3.0.0,>=2.13.0->spacy!=3.7.0,<4.0.0,>=3.4.4->presidio-analyzer) (2.3.0)\n",
            "Requirement already satisfied: certifi>=2017.4.17 in /usr/local/lib/python3.11/dist-packages (from requests<3.0.0,>=2.13.0->spacy!=3.7.0,<4.0.0,>=3.4.4->presidio-analyzer) (2025.1.31)\n",
            "Requirement already satisfied: blis<0.8.0,>=0.7.8 in /usr/local/lib/python3.11/dist-packages (from thinc<8.3.0,>=8.2.2->spacy!=3.7.0,<4.0.0,>=3.4.4->presidio-analyzer) (0.7.11)\n",
            "Requirement already satisfied: confection<1.0.0,>=0.0.1 in /usr/local/lib/python3.11/dist-packages (from thinc<8.3.0,>=8.2.2->spacy!=3.7.0,<4.0.0,>=3.4.4->presidio-analyzer) (0.1.5)\n",
            "Requirement already satisfied: click>=8.0.0 in /usr/local/lib/python3.11/dist-packages (from typer<1.0.0,>=0.3.0->spacy!=3.7.0,<4.0.0,>=3.4.4->presidio-analyzer) (8.1.8)\n",
            "Requirement already satisfied: shellingham>=1.3.0 in /usr/local/lib/python3.11/dist-packages (from typer<1.0.0,>=0.3.0->spacy!=3.7.0,<4.0.0,>=3.4.4->presidio-analyzer) (1.5.4)\n",
            "Requirement already satisfied: rich>=10.11.0 in /usr/local/lib/python3.11/dist-packages (from typer<1.0.0,>=0.3.0->spacy!=3.7.0,<4.0.0,>=3.4.4->presidio-analyzer) (13.9.4)\n",
            "Requirement already satisfied: cloudpathlib<1.0.0,>=0.7.0 in /usr/local/lib/python3.11/dist-packages (from weasel<0.5.0,>=0.1.0->spacy!=3.7.0,<4.0.0,>=3.4.4->presidio-analyzer) (0.20.0)\n",
            "Requirement already satisfied: smart-open<8.0.0,>=5.2.1 in /usr/local/lib/python3.11/dist-packages (from weasel<0.5.0,>=0.1.0->spacy!=3.7.0,<4.0.0,>=3.4.4->presidio-analyzer) (7.1.0)\n",
            "Requirement already satisfied: MarkupSafe>=2.0 in /usr/local/lib/python3.11/dist-packages (from jinja2->spacy!=3.7.0,<4.0.0,>=3.4.4->presidio-analyzer) (3.0.2)\n",
            "Requirement already satisfied: marisa-trie>=1.1.0 in /usr/local/lib/python3.11/dist-packages (from language-data>=1.2->langcodes<4.0.0,>=3.2.0->spacy!=3.7.0,<4.0.0,>=3.4.4->presidio-analyzer) (1.2.1)\n",
            "Requirement already satisfied: markdown-it-py>=2.2.0 in /usr/local/lib/python3.11/dist-packages (from rich>=10.11.0->typer<1.0.0,>=0.3.0->spacy!=3.7.0,<4.0.0,>=3.4.4->presidio-analyzer) (3.0.0)\n",
            "Requirement already satisfied: pygments<3.0.0,>=2.13.0 in /usr/local/lib/python3.11/dist-packages (from rich>=10.11.0->typer<1.0.0,>=0.3.0->spacy!=3.7.0,<4.0.0,>=3.4.4->presidio-analyzer) (2.18.0)\n",
            "Requirement already satisfied: wrapt in /usr/local/lib/python3.11/dist-packages (from smart-open<8.0.0,>=5.2.1->weasel<0.5.0,>=0.1.0->spacy!=3.7.0,<4.0.0,>=3.4.4->presidio-analyzer) (1.17.2)\n",
            "Requirement already satisfied: mdurl~=0.1 in /usr/local/lib/python3.11/dist-packages (from markdown-it-py>=2.2.0->rich>=10.11.0->typer<1.0.0,>=0.3.0->spacy!=3.7.0,<4.0.0,>=3.4.4->presidio-analyzer) (0.1.2)\n",
            "Downloading presidio_analyzer-2.2.357-py3-none-any.whl (112 kB)\n",
            "\u001b[2K   \u001b[90m━━━━━━━━━━━━━━━━━━━━━━━━━━━━━━━━━━━━━━━━\u001b[0m \u001b[32m112.3/112.3 kB\u001b[0m \u001b[31m8.3 MB/s\u001b[0m eta \u001b[36m0:00:00\u001b[0m\n",
            "\u001b[?25hDownloading phonenumbers-8.13.55-py2.py3-none-any.whl (2.6 MB)\n",
            "\u001b[2K   \u001b[90m━━━━━━━━━━━━━━━━━━━━━━━━━━━━━━━━━━━━━━━━\u001b[0m \u001b[32m2.6/2.6 MB\u001b[0m \u001b[31m50.6 MB/s\u001b[0m eta \u001b[36m0:00:00\u001b[0m\n",
            "\u001b[?25hDownloading tldextract-5.1.3-py3-none-any.whl (104 kB)\n",
            "\u001b[2K   \u001b[90m━━━━━━━━━━━━━━━━━━━━━━━━━━━━━━━━━━━━━━━━\u001b[0m \u001b[32m104.9/104.9 kB\u001b[0m \u001b[31m8.0 MB/s\u001b[0m eta \u001b[36m0:00:00\u001b[0m\n",
            "\u001b[?25hDownloading requests_file-2.1.0-py2.py3-none-any.whl (4.2 kB)\n",
            "Installing collected packages: phonenumbers, requests-file, tldextract, presidio-analyzer\n",
            "Successfully installed phonenumbers-8.13.55 presidio-analyzer-2.2.357 requests-file-2.1.0 tldextract-5.1.3\n"
          ]
        }
      ]
    },
    {
      "cell_type": "code",
      "source": [
        "from presidio_analyzer import AnalyzerEngine\n",
        "analyzer = AnalyzerEngine()\n",
        "results = analyzer.analyze(text=\"This Service Contract between\", entities=[\"Phone\"], language=\"en\")\n",
        "print(results)"
      ],
      "metadata": {
        "colab": {
          "base_uri": "https://localhost:8080/",
          "height": 547
        },
        "id": "kOFNlaKJLLq7",
        "outputId": "736aedda-b437-49ea-bbde-370c8edeba9e",
        "collapsed": true
      },
      "execution_count": null,
      "outputs": [
        {
          "output_type": "stream",
          "name": "stderr",
          "text": [
            "WARNING:presidio-analyzer:Recognizer not added to registry because language is not supported by registry - CreditCardRecognizer supported languages: es, registry supported languages: en\n",
            "WARNING:presidio-analyzer:Recognizer not added to registry because language is not supported by registry - CreditCardRecognizer supported languages: it, registry supported languages: en\n",
            "WARNING:presidio-analyzer:Recognizer not added to registry because language is not supported by registry - CreditCardRecognizer supported languages: pl, registry supported languages: en\n",
            "WARNING:presidio-analyzer:Recognizer not added to registry because language is not supported by registry - EsNifRecognizer supported languages: es, registry supported languages: en\n",
            "WARNING:presidio-analyzer:Recognizer not added to registry because language is not supported by registry - EsNieRecognizer supported languages: es, registry supported languages: en\n",
            "WARNING:presidio-analyzer:Recognizer not added to registry because language is not supported by registry - ItDriverLicenseRecognizer supported languages: it, registry supported languages: en\n",
            "WARNING:presidio-analyzer:Recognizer not added to registry because language is not supported by registry - ItFiscalCodeRecognizer supported languages: it, registry supported languages: en\n",
            "WARNING:presidio-analyzer:Recognizer not added to registry because language is not supported by registry - ItVatCodeRecognizer supported languages: it, registry supported languages: en\n",
            "WARNING:presidio-analyzer:Recognizer not added to registry because language is not supported by registry - ItIdentityCardRecognizer supported languages: it, registry supported languages: en\n",
            "WARNING:presidio-analyzer:Recognizer not added to registry because language is not supported by registry - ItPassportRecognizer supported languages: it, registry supported languages: en\n",
            "WARNING:presidio-analyzer:Recognizer not added to registry because language is not supported by registry - PlPeselRecognizer supported languages: pl, registry supported languages: en\n",
            "WARNING:presidio-analyzer:Entity Phone doesn't have the corresponding recognizer in language : en\n"
          ]
        },
        {
          "output_type": "error",
          "ename": "ValueError",
          "evalue": "No matching recognizers were found to serve the request.",
          "traceback": [
            "\u001b[0;31m---------------------------------------------------------------------------\u001b[0m",
            "\u001b[0;31mValueError\u001b[0m                                Traceback (most recent call last)",
            "\u001b[0;32m<ipython-input-45-f5dea98795ff>\u001b[0m in \u001b[0;36m<cell line: 0>\u001b[0;34m()\u001b[0m\n\u001b[1;32m      1\u001b[0m \u001b[0;32mfrom\u001b[0m \u001b[0mpresidio_analyzer\u001b[0m \u001b[0;32mimport\u001b[0m \u001b[0mAnalyzerEngine\u001b[0m\u001b[0;34m\u001b[0m\u001b[0;34m\u001b[0m\u001b[0m\n\u001b[1;32m      2\u001b[0m \u001b[0manalyzer\u001b[0m \u001b[0;34m=\u001b[0m \u001b[0mAnalyzerEngine\u001b[0m\u001b[0;34m(\u001b[0m\u001b[0;34m)\u001b[0m\u001b[0;34m\u001b[0m\u001b[0;34m\u001b[0m\u001b[0m\n\u001b[0;32m----> 3\u001b[0;31m \u001b[0mresults\u001b[0m \u001b[0;34m=\u001b[0m \u001b[0manalyzer\u001b[0m\u001b[0;34m.\u001b[0m\u001b[0manalyze\u001b[0m\u001b[0;34m(\u001b[0m\u001b[0mtext\u001b[0m\u001b[0;34m=\u001b[0m\u001b[0;34m\"This Service Contract between\"\u001b[0m\u001b[0;34m,\u001b[0m \u001b[0mentities\u001b[0m\u001b[0;34m=\u001b[0m\u001b[0;34m[\u001b[0m\u001b[0;34m\"Phone\"\u001b[0m\u001b[0;34m]\u001b[0m\u001b[0;34m,\u001b[0m \u001b[0mlanguage\u001b[0m\u001b[0;34m=\u001b[0m\u001b[0;34m\"en\"\u001b[0m\u001b[0;34m)\u001b[0m\u001b[0;34m\u001b[0m\u001b[0;34m\u001b[0m\u001b[0m\n\u001b[0m\u001b[1;32m      4\u001b[0m \u001b[0mprint\u001b[0m\u001b[0;34m(\u001b[0m\u001b[0mresults\u001b[0m\u001b[0;34m)\u001b[0m\u001b[0;34m\u001b[0m\u001b[0;34m\u001b[0m\u001b[0m\n",
            "\u001b[0;32m/usr/local/lib/python3.11/dist-packages/presidio_analyzer/analyzer_engine.py\u001b[0m in \u001b[0;36manalyze\u001b[0;34m(self, text, language, entities, correlation_id, score_threshold, return_decision_process, ad_hoc_recognizers, context, allow_list, allow_list_match, regex_flags, nlp_artifacts)\u001b[0m\n\u001b[1;32m    204\u001b[0m         \u001b[0mall_fields\u001b[0m \u001b[0;34m=\u001b[0m \u001b[0;32mnot\u001b[0m \u001b[0mentities\u001b[0m\u001b[0;34m\u001b[0m\u001b[0;34m\u001b[0m\u001b[0m\n\u001b[1;32m    205\u001b[0m \u001b[0;34m\u001b[0m\u001b[0m\n\u001b[0;32m--> 206\u001b[0;31m         recognizers = self.registry.get_recognizers(\n\u001b[0m\u001b[1;32m    207\u001b[0m             \u001b[0mlanguage\u001b[0m\u001b[0;34m=\u001b[0m\u001b[0mlanguage\u001b[0m\u001b[0;34m,\u001b[0m\u001b[0;34m\u001b[0m\u001b[0;34m\u001b[0m\u001b[0m\n\u001b[1;32m    208\u001b[0m             \u001b[0mentities\u001b[0m\u001b[0;34m=\u001b[0m\u001b[0mentities\u001b[0m\u001b[0;34m,\u001b[0m\u001b[0;34m\u001b[0m\u001b[0;34m\u001b[0m\u001b[0m\n",
            "\u001b[0;32m/usr/local/lib/python3.11/dist-packages/presidio_analyzer/recognizer_registry/recognizer_registry.py\u001b[0m in \u001b[0;36mget_recognizers\u001b[0;34m(self, language, entities, all_fields, ad_hoc_recognizers)\u001b[0m\n\u001b[1;32m    195\u001b[0m \u001b[0;34m\u001b[0m\u001b[0m\n\u001b[1;32m    196\u001b[0m         \u001b[0;32mif\u001b[0m \u001b[0;32mnot\u001b[0m \u001b[0mto_return\u001b[0m\u001b[0;34m:\u001b[0m\u001b[0;34m\u001b[0m\u001b[0;34m\u001b[0m\u001b[0m\n\u001b[0;32m--> 197\u001b[0;31m             \u001b[0;32mraise\u001b[0m \u001b[0mValueError\u001b[0m\u001b[0;34m(\u001b[0m\u001b[0;34m\"No matching recognizers were found to serve the request.\"\u001b[0m\u001b[0;34m)\u001b[0m\u001b[0;34m\u001b[0m\u001b[0;34m\u001b[0m\u001b[0m\n\u001b[0m\u001b[1;32m    198\u001b[0m \u001b[0;34m\u001b[0m\u001b[0m\n\u001b[1;32m    199\u001b[0m         \u001b[0;32mreturn\u001b[0m \u001b[0mlist\u001b[0m\u001b[0;34m(\u001b[0m\u001b[0mto_return\u001b[0m\u001b[0;34m)\u001b[0m\u001b[0;34m\u001b[0m\u001b[0;34m\u001b[0m\u001b[0m\n",
            "\u001b[0;31mValueError\u001b[0m: No matching recognizers were found to serve the request."
          ]
        }
      ]
    },
    {
      "cell_type": "code",
      "source": [],
      "metadata": {
        "id": "YF4B1WO1Mmb8"
      },
      "execution_count": null,
      "outputs": []
    },
    {
      "cell_type": "code",
      "source": [],
      "metadata": {
        "id": "otloW4GJM2WU"
      },
      "execution_count": null,
      "outputs": []
    }
  ]
}