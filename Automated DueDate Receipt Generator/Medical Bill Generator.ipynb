{
 "cells": [
  {
   "cell_type": "code",
   "execution_count": 1,
   "id": "a1dab372",
   "metadata": {},
   "outputs": [],
   "source": [
    "from docx import Document\n",
    "import pandas as pd\n",
    "from faker import Faker\n",
    "from docx.shared import Cm\n",
    "import random"
   ]
  },
  {
   "cell_type": "code",
   "execution_count": 2,
   "id": "0dc4cfdc",
   "metadata": {},
   "outputs": [],
   "source": [
    "def generate_fake_details(count):\n",
    "    fake = Faker()\n",
    "\n",
    "    # generate n fake records\n",
    "    records = []\n",
    "    for _ in range(count):\n",
    "        doctor_name = f\"{fake.first_name()}, {fake.last_name()}\"\n",
    "        doctor_lastname = doctor_name.split(', ')[1].strip()\n",
    "        doctor_address = fake.address().replace(\"\\n\", \", \")\n",
    "        doctor_phone = fake.numerify(text=\"##########\")\n",
    "        doctor_fax = fake.numerify(text=\"##########\")\n",
    "        registration_date = fake.date_between(start_date=\"-10y\", end_date=\"today\").strftime(\"%Y-%m-%d\")\n",
    "\n",
    "        patient_name = f\"{fake.first_name_female()}, {fake.last_name_female()}\"\n",
    "        patient_insurance = fake.numerify(text=\"##########\")\n",
    "        patient_mobile = fake.numerify(text=\"##########\")\n",
    "        patient_dob = fake.date_of_birth(minimum_age=18, maximum_age=90).strftime(\"%d-%b-%Y\")\n",
    "        patient_address = fake.address().replace(\"\\n\", \", \")\n",
    "        expected_due_date = fake.date_between(start_date=\"today\", end_date=\"+9M\").strftime(\"%d-%b-%Y\")\n",
    "\n",
    "        records.append([\n",
    "            doctor_name, doctor_lastname,registration_date, doctor_address, doctor_phone, doctor_fax,\n",
    "            patient_name, patient_insurance, patient_dob, patient_address, patient_mobile, expected_due_date\n",
    "        ])\n",
    "\n",
    "    # create and save dataFrame\n",
    "    columns = [\n",
    "        \"doctor_name\", \"doctor_lastname\",\"date_of_registration\", \"doctor_address\", \"doctor_phone\",\n",
    "        \"doctor_fax\", \"patient_name\", \"patient_insurance_number\", \"patient_dob\", \"patient_address\",\n",
    "        \"patient_mobile_number\", \"expected_due_date\"\n",
    "    ]\n",
    "    df = pd.DataFrame(records, columns=columns)\n",
    "    filepath = \"fake_patient_contacts.csv\"\n",
    "    df.to_csv(filepath, index=False)\n",
    "    print(\"CSV file generated successfully!\")\n",
    "    \n",
    "    return filepath"
   ]
  },
  {
   "cell_type": "code",
   "execution_count": 3,
   "id": "c38c1b17",
   "metadata": {},
   "outputs": [],
   "source": [
    "def fill_due_date_info(template_path,output_path, data):\n",
    "    \n",
    "    doc = Document(template_path)\n",
    "    \n",
    "    # replace placeholder's value\n",
    "    for paragraph in doc.paragraphs:\n",
    "        \n",
    "        if \"<img>\" in paragraph.text:\n",
    "            paragraph.text = paragraph.text.replace(\"<img>\", \"\")\n",
    "            run = paragraph.add_run()\n",
    "            run.add_picture(f'gynae logos/{random.randint(1, 8)}.png', width=Cm(5))\n",
    "        elif \"<signature>\" in paragraph.text:\n",
    "            paragraph.text = paragraph.text.replace(\"<signature>\", \"\")\n",
    "            run = paragraph.add_run()\n",
    "            run.add_picture(f'signatures/{random.randint(1, 8)}.png', width=Cm(2))\n",
    "        else:\n",
    "            for key, value in data.items():\n",
    "                if key in paragraph.text:\n",
    "                    for run in paragraph.runs:\n",
    "                        run.text = run.text.replace(key, str(value))\n",
    "    \n",
    "    doc.save(output_path)\n",
    "    \n",
    "def generate_bill_from_csv(csv_path,template_path):\n",
    "    \n",
    "    df = pd.read_csv(csv_path)\n",
    "    \n",
    "    # generate data for replacement from csv\n",
    "    for idx, row in df.iterrows():\n",
    "        patient_first_name = row['patient_name'].split(',')[0].strip()\n",
    "        data={\n",
    "            '[Doctor name]' : row['doctor_name'],\n",
    "            '[Date of registration]' : row['date_of_registration'],\n",
    "            '[Doctor Lastname]' : row['doctor_lastname'],\n",
    "            '[Doctor address]': row['doctor_address'],\n",
    "            '[Doctor phone]' : row['doctor_phone'],\n",
    "            '[Doctor fax]' : row['doctor_fax'],\n",
    "            '[Patient name]' : row['patient_name'],\n",
    "            '[Patient insurance number]': row['patient_insurance_number'],\n",
    "            '[Patient DOB]': row['patient_dob'],\n",
    "            '[Patient address]' : row['patient_address'],\n",
    "            '[Patient mobile number]': row['patient_mobile_number'],\n",
    "            '[expected due date]' : row['expected_due_date']\n",
    "        }\n",
    "    \n",
    "    \n",
    "        output_path = f'Pregnancy Bill/{patient_first_name}_duedate.docx'    \n",
    "        fill_due_date_info(template_path,output_path,data)\n",
    "        \n",
    "    print(\"Filled medical bills successfully!\")"
   ]
  },
  {
   "cell_type": "code",
   "execution_count": 4,
   "id": "ec523397",
   "metadata": {},
   "outputs": [
    {
     "name": "stdout",
     "output_type": "stream",
     "text": [
      "CSV file generated successfully!\n",
      "Filled medical bills successfully!\n"
     ]
    }
   ],
   "source": [
    "if __name__ == \"__main__\":\n",
    "    template_path = 'Bill Template.docx'\n",
    "    csv_path = generate_fake_details(100)\n",
    "    generate_bill_from_csv(csv_path,template_path)"
   ]
  },
  {
   "cell_type": "code",
   "execution_count": null,
   "id": "1528e019",
   "metadata": {},
   "outputs": [],
   "source": []
  }
 ],
 "metadata": {
  "kernelspec": {
   "display_name": "Python 3 (ipykernel)",
   "language": "python",
   "name": "python3"
  },
  "language_info": {
   "codemirror_mode": {
    "name": "ipython",
    "version": 3
   },
   "file_extension": ".py",
   "mimetype": "text/x-python",
   "name": "python",
   "nbconvert_exporter": "python",
   "pygments_lexer": "ipython3",
   "version": "3.9.7"
  }
 },
 "nbformat": 4,
 "nbformat_minor": 5
}
