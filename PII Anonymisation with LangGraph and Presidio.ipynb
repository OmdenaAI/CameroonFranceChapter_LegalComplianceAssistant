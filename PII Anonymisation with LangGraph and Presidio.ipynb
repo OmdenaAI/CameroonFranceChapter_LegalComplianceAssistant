{
 "cells": [
  {
   "cell_type": "markdown",
   "metadata": {},
   "source": [
    "## PII Anonymisation with LangGraph and Presidio\n",
    "\n",
    "This notebook is a first draft for building a PII Anonymisation solution with LangGraph, Presidio and, in a later version, an LLM. The goal is to build an agentic system that processes uploaded documents, identifies Personally identifiable information (PII), redacts the PII and finally saves the new document with redacted PII.\n",
    "\n",
    "The following tools are considered:\n",
    "- LangGraph is an orchestration framework for complex agentic systems. It is more low-level and controllable than many other frameworks.\n",
    "- Presidio is  a library that provides fast identification and anonymization modules for private entities in text and images such as credit card numbers, names, locations, social security numbers, bitcoin wallets, US phone numbers, financial data and more. It is different from other SaaS tools such as Azure AI Language and Amazon Comprehend which have less customization capabilities. Most of these SaaS offerings use dedicated ML models and other logic for PII detection and often have better entity coverage or accuracy than Presidio. Presidio can be leveraged in parallel to other PII detection services.\n",
    "- LLM - In a future version an open-source LLM will be integrated in the agentic system. Possible LLMs include LLama 3, Mistral, or SaulLM-7B which is an open-source LLM tailored for the legal domain.\n",
    "\n",
    "Draft of the agentic system:\n",
    "- Get input - for simplicity I am only using a prompt with text at the moment\n",
    "- Pre-process input - current version involves only a function to verify the text is in English\n",
    "- Subgraph for identifying and redacting PII - at the moment only implemented with Presidio\n",
    "- Return output with blank PII"
   ]
  },
  {
   "cell_type": "code",
   "execution_count": 1,
   "metadata": {},
   "outputs": [
    {
     "name": "stdout",
     "output_type": "stream",
     "text": [
      "Note: you may need to restart the kernel to use updated packages.\n"
     ]
    }
   ],
   "source": [
    "# Install necessary packages\n",
    "%pip install --upgrade --quiet  langgraph langchain poetry langchain-experimental presidio-analyzer presidio-anonymizer langchain-ollama"
   ]
  },
  {
   "cell_type": "code",
   "execution_count": 2,
   "metadata": {},
   "outputs": [],
   "source": [
    "# Import statements\n",
    "import os\n",
    "\n",
    "from IPython.display import Image, display\n",
    "from typing import TypedDict\n",
    "\n",
    "from langgraph.graph import StateGraph, START, END\n",
    "\n",
    "from langdetect import detect\n",
    "\n",
    "from presidio_analyzer import AnalyzerEngine\n",
    "from presidio_anonymizer import AnonymizerEngine\n",
    "\n",
    "from utils import get_langsmith_key\n"
   ]
  },
  {
   "cell_type": "code",
   "execution_count": 3,
   "metadata": {},
   "outputs": [],
   "source": [
    "# Using LangSmith is recommended but not required\n",
    "os.environ[\"LANGSMITH_TRACING\"] = \"true\"\n",
    "langsmith_key = get_langsmith_key()\n",
    "os.environ[\"LANGSMITH_API_KEY\"] = langsmith_key\n",
    "\n",
    "# Required only if using the EU instance\n",
    "LANGSMITH_ENDPOINT = \"https://api.langsmith.com\""
   ]
  },
  {
   "cell_type": "markdown",
   "metadata": {},
   "source": [
    "Since we want to prevent the inputs and outputs of our traces from being logged, we can hide them by setting the following environment variables. This works for both the LangSmith SDK (Python and TypeScript) and LangChain."
   ]
  },
  {
   "cell_type": "code",
   "execution_count": 4,
   "metadata": {},
   "outputs": [],
   "source": [
    "# Hide inputs and outputs \n",
    "LANGSMITH_HIDE_INPUTS = True\n",
    "LANGSMITH_HIDE_OUTPUTS = True"
   ]
  },
  {
   "cell_type": "code",
   "execution_count": 5,
   "metadata": {},
   "outputs": [],
   "source": [
    "# Create a class to hold the original text in the ParentState\n",
    "class ParentState(TypedDict):\n",
    "    text:str"
   ]
  },
  {
   "cell_type": "code",
   "execution_count": 6,
   "metadata": {},
   "outputs": [],
   "source": [
    "# Create a class to hold the request and response for the anonymizer\n",
    "class SubgraphState(TypedDict):\n",
    "    text:str\n",
    "    anonymized_text:str"
   ]
  },
  {
   "cell_type": "code",
   "execution_count": 7,
   "metadata": {},
   "outputs": [],
   "source": [
    "# Node function to get the text from the ParentState\n",
    "def get_text(state:ParentState):\n",
    "    \"\"\"\n",
    "    This function gets the text from the ParentState and returns it.\n",
    "    \"\"\"\n",
    "    return {\"text\": state[\"text\"]}"
   ]
  },
  {
   "cell_type": "code",
   "execution_count": 8,
   "metadata": {},
   "outputs": [],
   "source": [
    "# Node function to check if the input is in English\n",
    "def is_text_in_english(state: ParentState) -> dict:\n",
    "    \"\"\"\n",
    "    This function checks if the text in the ParentState is in English.\n",
    "    It uses langdetect to detect the language of the text.\n",
    "    If the language is English, it returns the next node to call the anonymize_text_subgraph.\n",
    "    \"\"\"\n",
    "    text = state.get(\"text\", \"\")\n",
    "\n",
    "    # Using langdetect to detect language and check if text is in English\n",
    "    try:\n",
    "        detected_language = detect(text)\n",
    "        if detected_language == 'en':  # If the language is English\n",
    "            return {\"next_node\": \"call_anonymize_text_subgraph\"}  # Correct node name for the next step\n",
    "        else:\n",
    "            print(\"Text is not in English. This pipeline only supports English text.\")\n",
    "            return {\"next_node\": END}  # If not English, return END\n",
    "    except Exception as e:\n",
    "        print(f\"Error detecting language: {e}\")\n",
    "        return {\"next_node\": END}  # Return \"END\" in case of error\n"
   ]
  },
  {
   "cell_type": "code",
   "execution_count": 9,
   "metadata": {},
   "outputs": [],
   "source": [
    "# Node function to anonymizes the text using the Presidio Analyzer and Anonymizer engines\n",
    "def anonymize_text(state:SubgraphState):\n",
    "    \"\"\"\n",
    "    This function anonymizes the text using the Presidio Analyzer and Anonymizer engines.\n",
    "    It takes in the original text, analyzes it, and then anonymizes it.\n",
    "    It returns the original text and the anonymized text.\n",
    "    \"\"\"\n",
    "    analyzer = AnalyzerEngine()\n",
    "    anonymizer = AnonymizerEngine()\n",
    "    original_text = state[\"text\"]\n",
    "    result = analyzer.analyze(text=original_text, language=\"en\")\n",
    "    state[\"anonymized_text\"] =anonymizer.anonymize(text=original_text,analyzer_results=result).text\n",
    "    return {\"text\":original_text +\" anonymized_text=\"+state[\"anonymized_text\"]}"
   ]
  },
  {
   "cell_type": "markdown",
   "metadata": {},
   "source": [
    "Sub-graphs allow us to create and manage different states in different parts of the graph. This is particularly useful for multi-agent systems, with teams of agents that each have their own state. The most critical thing to understand is how the graphs communicate. In short, communication is done with over-lapping keys."
   ]
  },
  {
   "cell_type": "code",
   "execution_count": 10,
   "metadata": {},
   "outputs": [],
   "source": [
    "# Build the subgraph\n",
    "subgraph_builder = StateGraph(SubgraphState)\n",
    "subgraph_builder.add_node(\"anonymize_text_node\", anonymize_text)\n",
    "subgraph_builder.add_edge(START,\"anonymize_text_node\")\n",
    "\n",
    "# Compile the subgraph\n",
    "subgraph = subgraph_builder.compile()"
   ]
  },
  {
   "cell_type": "code",
   "execution_count": 11,
   "metadata": {},
   "outputs": [
    {
     "data": {
      "image/png": "[encoded data removed]",
      "text/plain": [
       "<IPython.core.display.Image object>"
      ]
     },
     "metadata": {},
     "output_type": "display_data"
    }
   ],
   "source": [
    "# View the subgraph\n",
    "display(Image(subgraph.get_graph().draw_mermaid_png()))"
   ]
  },
  {
   "cell_type": "code",
   "execution_count": 12,
   "metadata": {},
   "outputs": [],
   "source": [
    "# Build the parent graph\n",
    "parent_graph_builder = StateGraph(ParentState)\n",
    "parent_graph_builder.add_node(\"get_input\", get_text)\n",
    "parent_graph_builder.add_node(\"preprocessing\", is_text_in_english)\n",
    "parent_graph_builder.add_node(\"call_anonymize_text_subgraph\", subgraph)\n",
    "\n",
    "# Ensure nodes are connected in the correct sequence\n",
    "parent_graph_builder.add_edge(START, \"get_input\")\n",
    "parent_graph_builder.add_edge(\"get_input\", \"preprocessing\")\n",
    "\n",
    "# Conditional edge uses a dictionary to handle routing\n",
    "parent_graph_builder.add_conditional_edges(\n",
    "    \"preprocessing\",  # Source node\n",
    "    lambda state: state.get(\"next_node\", \"END\")  # Routing based on the 'next_node' key\n",
    ")\n",
    "\n",
    "# Finally, connect to END node\n",
    "parent_graph_builder.add_edge(\"call_anonymize_text_subgraph\", END)\n",
    "\n",
    "# Compile the parent graph\n",
    "graph = parent_graph_builder.compile()"
   ]
  },
  {
   "cell_type": "code",
   "execution_count": 13,
   "metadata": {},
   "outputs": [
    {
     "data": {
      "image/png": "[encoded data removed]",
      "text/plain": [
       "<IPython.core.display.Image object>"
      ]
     },
     "metadata": {},
     "output_type": "display_data"
    }
   ],
   "source": [
    "# View the parent graph\n",
    "display(Image(graph.get_graph().draw_mermaid_png()))"
   ]
  },
  {
   "cell_type": "code",
   "execution_count": null,
   "metadata": {},
   "outputs": [],
   "source": []
  },
  {
   "cell_type": "markdown",
   "metadata": {},
   "source": [
    "When we invoke the graph with the below input it correctly identifies all the PII although there is an error that the bank account number is identified as <DATE_TIME>."
   ]
  },
  {
   "cell_type": "code",
   "execution_count": 14,
   "metadata": {},
   "outputs": [
    {
     "name": "stdout",
     "output_type": "stream",
     "text": [
      "{'text': 'My bank account is 808123456789012 and my email is jane@example.com, and phone number 123-456-7890. Best, Jane Doe Phone: (123) 456-7890 Email: jane@example.com anonymized_text=My bank account is <DATE_TIME> and my email is <EMAIL_ADDRESS>, and phone number <PHONE_NUMBER>. Best, <PERSON> Phone: <PHONE_NUMBER> Email: <EMAIL_ADDRESS>'}\n"
     ]
    }
   ],
   "source": [
    "# Invoke the graph with text in English\n",
    "result = graph.invoke({\"text\": \"My bank account is 808123456789012 and my email is jane@example.com, and phone number 123-456-7890. Best, Jane Doe Phone: (123) 456-7890 Email: jane@example.com\"})\n",
    "print(result)"
   ]
  },
  {
   "cell_type": "markdown",
   "metadata": {},
   "source": [
    "When we invoke the graph with the below input containing a rare name it doesn't identify the name as PII but it identifies the phone number."
   ]
  },
  {
   "cell_type": "code",
   "execution_count": 15,
   "metadata": {},
   "outputs": [
    {
     "name": "stdout",
     "output_type": "stream",
     "text": [
      "{'text': 'My name is Tsvetina and I am my phone number is 080-456-7890. anonymized_text=My name is Tsvetina and I am my phone number is <PHONE_NUMBER>.'}\n"
     ]
    }
   ],
   "source": [
    "# Invoke the graph with text in English\n",
    "result = graph.invoke({\"text\": \"My name is Tsvetina and I am my phone number is 080-456-7890.\"})\n",
    "print(result)"
   ]
  },
  {
   "cell_type": "markdown",
   "metadata": {},
   "source": [
    "When we invoke the graph with non-English input, the error is correctly identified."
   ]
  },
  {
   "cell_type": "code",
   "execution_count": 16,
   "metadata": {},
   "outputs": [
    {
     "name": "stdout",
     "output_type": "stream",
     "text": [
      "Text is not in English. This pipeline only supports English text.\n",
      "{'text': 'Hola mi nombre es Jane, Como estas? jane@example.com'}\n"
     ]
    }
   ],
   "source": [
    "# Invoke the graph with text in Spanish\n",
    "result = graph.invoke({\"text\": \"Hola mi nombre es Jane, Como estas? jane@example.com\"}) \n",
    "print(result)"
   ]
  }
 ],
 "metadata": {
  "kernelspec": {
   "display_name": "langgraph",
   "language": "python",
   "name": "python3"
  },
  "language_info": {
   "codemirror_mode": {
    "name": "ipython",
    "version": 3
   },
   "file_extension": ".py",
   "mimetype": "text/x-python",
   "name": "python",
   "nbconvert_exporter": "python",
   "pygments_lexer": "ipython3",
   "version": "3.11.11"
  }
 },
 "nbformat": 4,
 "nbformat_minor": 2
}
