{
  "cells": [
    {
      "cell_type": "code",
      "execution_count": null,
      "metadata": {
        "colab": {
          "base_uri": "https://localhost:8080/"
        },
        "id": "OXPvMSagYrhJ",
        "outputId": "5fddd33c-9e9e-4572-8dc2-84d5e52bd61e"
      },
      "outputs": [
        {
          "name": "stdout",
          "output_type": "stream",
          "text": [
            "Requirement already satisfied: presidio-analyzer in /usr/local/lib/python3.11/dist-packages (2.2.357)\n",
            "Requirement already satisfied: phonenumbers<9.0.0,>=8.12 in /usr/local/lib/python3.11/dist-packages (from presidio-analyzer) (8.13.55)\n",
            "Requirement already satisfied: pyyaml in /usr/local/lib/python3.11/dist-packages (from presidio-analyzer) (6.0.2)\n",
            "Requirement already satisfied: regex in /usr/local/lib/python3.11/dist-packages (from presidio-analyzer) (2024.11.6)\n",
            "Requirement already satisfied: spacy!=3.7.0,<4.0.0,>=3.4.4 in /usr/local/lib/python3.11/dist-packages (from presidio-analyzer) (3.7.5)\n",
            "Requirement already satisfied: tldextract in /usr/local/lib/python3.11/dist-packages (from presidio-analyzer) (5.1.3)\n",
            "Requirement already satisfied: spacy-legacy<3.1.0,>=3.0.11 in /usr/local/lib/python3.11/dist-packages (from spacy!=3.7.0,<4.0.0,>=3.4.4->presidio-analyzer) (3.0.12)\n",
            "Requirement already satisfied: spacy-loggers<2.0.0,>=1.0.0 in /usr/local/lib/python3.11/dist-packages (from spacy!=3.7.0,<4.0.0,>=3.4.4->presidio-analyzer) (1.0.5)\n",
            "Requirement already satisfied: murmurhash<1.1.0,>=0.28.0 in /usr/local/lib/python3.11/dist-packages (from spacy!=3.7.0,<4.0.0,>=3.4.4->presidio-analyzer) (1.0.12)\n",
            "Requirement already satisfied: cymem<2.1.0,>=2.0.2 in /usr/local/lib/python3.11/dist-packages (from spacy!=3.7.0,<4.0.0,>=3.4.4->presidio-analyzer) (2.0.11)\n",
            "Requirement already satisfied: preshed<3.1.0,>=3.0.2 in /usr/local/lib/python3.11/dist-packages (from spacy!=3.7.0,<4.0.0,>=3.4.4->presidio-analyzer) (3.0.9)\n",
            "Requirement already satisfied: thinc<8.3.0,>=8.2.2 in /usr/local/lib/python3.11/dist-packages (from spacy!=3.7.0,<4.0.0,>=3.4.4->presidio-analyzer) (8.2.5)\n",
            "Requirement already satisfied: wasabi<1.2.0,>=0.9.1 in /usr/local/lib/python3.11/dist-packages (from spacy!=3.7.0,<4.0.0,>=3.4.4->presidio-analyzer) (1.1.3)\n",
            "Requirement already satisfied: srsly<3.0.0,>=2.4.3 in /usr/local/lib/python3.11/dist-packages (from spacy!=3.7.0,<4.0.0,>=3.4.4->presidio-analyzer) (2.5.1)\n",
            "Requirement already satisfied: catalogue<2.1.0,>=2.0.6 in /usr/local/lib/python3.11/dist-packages (from spacy!=3.7.0,<4.0.0,>=3.4.4->presidio-analyzer) (2.0.10)\n",
            "Requirement already satisfied: weasel<0.5.0,>=0.1.0 in /usr/local/lib/python3.11/dist-packages (from spacy!=3.7.0,<4.0.0,>=3.4.4->presidio-analyzer) (0.4.1)\n",
            "Requirement already satisfied: typer<1.0.0,>=0.3.0 in /usr/local/lib/python3.11/dist-packages (from spacy!=3.7.0,<4.0.0,>=3.4.4->presidio-analyzer) (0.15.1)\n",
            "Requirement already satisfied: tqdm<5.0.0,>=4.38.0 in /usr/local/lib/python3.11/dist-packages (from spacy!=3.7.0,<4.0.0,>=3.4.4->presidio-analyzer) (4.67.1)\n",
            "Requirement already satisfied: requests<3.0.0,>=2.13.0 in /usr/local/lib/python3.11/dist-packages (from spacy!=3.7.0,<4.0.0,>=3.4.4->presidio-analyzer) (2.32.3)\n",
            "Requirement already satisfied: pydantic!=1.8,!=1.8.1,<3.0.0,>=1.7.4 in /usr/local/lib/python3.11/dist-packages (from spacy!=3.7.0,<4.0.0,>=3.4.4->presidio-analyzer) (2.10.6)\n",
            "Requirement already satisfied: jinja2 in /usr/local/lib/python3.11/dist-packages (from spacy!=3.7.0,<4.0.0,>=3.4.4->presidio-analyzer) (3.1.5)\n",
            "Requirement already satisfied: setuptools in /usr/local/lib/python3.11/dist-packages (from spacy!=3.7.0,<4.0.0,>=3.4.4->presidio-analyzer) (75.1.0)\n",
            "Requirement already satisfied: packaging>=20.0 in /usr/local/lib/python3.11/dist-packages (from spacy!=3.7.0,<4.0.0,>=3.4.4->presidio-analyzer) (24.2)\n",
            "Requirement already satisfied: langcodes<4.0.0,>=3.2.0 in /usr/local/lib/python3.11/dist-packages (from spacy!=3.7.0,<4.0.0,>=3.4.4->presidio-analyzer) (3.5.0)\n",
            "Requirement already satisfied: numpy>=1.19.0 in /usr/local/lib/python3.11/dist-packages (from spacy!=3.7.0,<4.0.0,>=3.4.4->presidio-analyzer) (1.26.4)\n",
            "Requirement already satisfied: idna in /usr/local/lib/python3.11/dist-packages (from tldextract->presidio-analyzer) (3.10)\n",
            "Requirement already satisfied: requests-file>=1.4 in /usr/local/lib/python3.11/dist-packages (from tldextract->presidio-analyzer) (2.1.0)\n",
            "Requirement already satisfied: filelock>=3.0.8 in /usr/local/lib/python3.11/dist-packages (from tldextract->presidio-analyzer) (3.17.0)\n",
            "Requirement already satisfied: language-data>=1.2 in /usr/local/lib/python3.11/dist-packages (from langcodes<4.0.0,>=3.2.0->spacy!=3.7.0,<4.0.0,>=3.4.4->presidio-analyzer) (1.3.0)\n",
            "Requirement already satisfied: annotated-types>=0.6.0 in /usr/local/lib/python3.11/dist-packages (from pydantic!=1.8,!=1.8.1,<3.0.0,>=1.7.4->spacy!=3.7.0,<4.0.0,>=3.4.4->presidio-analyzer) (0.7.0)\n",
            "Requirement already satisfied: pydantic-core==2.27.2 in /usr/local/lib/python3.11/dist-packages (from pydantic!=1.8,!=1.8.1,<3.0.0,>=1.7.4->spacy!=3.7.0,<4.0.0,>=3.4.4->presidio-analyzer) (2.27.2)\n",
            "Requirement already satisfied: typing-extensions>=4.12.2 in /usr/local/lib/python3.11/dist-packages (from pydantic!=1.8,!=1.8.1,<3.0.0,>=1.7.4->spacy!=3.7.0,<4.0.0,>=3.4.4->presidio-analyzer) (4.12.2)\n",
            "Requirement already satisfied: charset-normalizer<4,>=2 in /usr/local/lib/python3.11/dist-packages (from requests<3.0.0,>=2.13.0->spacy!=3.7.0,<4.0.0,>=3.4.4->presidio-analyzer) (3.4.1)\n",
            "Requirement already satisfied: urllib3<3,>=1.21.1 in /usr/local/lib/python3.11/dist-packages (from requests<3.0.0,>=2.13.0->spacy!=3.7.0,<4.0.0,>=3.4.4->presidio-analyzer) (2.3.0)\n",
            "Requirement already satisfied: certifi>=2017.4.17 in /usr/local/lib/python3.11/dist-packages (from requests<3.0.0,>=2.13.0->spacy!=3.7.0,<4.0.0,>=3.4.4->presidio-analyzer) (2025.1.31)\n",
            "Requirement already satisfied: blis<0.8.0,>=0.7.8 in /usr/local/lib/python3.11/dist-packages (from thinc<8.3.0,>=8.2.2->spacy!=3.7.0,<4.0.0,>=3.4.4->presidio-analyzer) (0.7.11)\n",
            "Requirement already satisfied: confection<1.0.0,>=0.0.1 in /usr/local/lib/python3.11/dist-packages (from thinc<8.3.0,>=8.2.2->spacy!=3.7.0,<4.0.0,>=3.4.4->presidio-analyzer) (0.1.5)\n",
            "Requirement already satisfied: click>=8.0.0 in /usr/local/lib/python3.11/dist-packages (from typer<1.0.0,>=0.3.0->spacy!=3.7.0,<4.0.0,>=3.4.4->presidio-analyzer) (8.1.8)\n",
            "Requirement already satisfied: shellingham>=1.3.0 in /usr/local/lib/python3.11/dist-packages (from typer<1.0.0,>=0.3.0->spacy!=3.7.0,<4.0.0,>=3.4.4->presidio-analyzer) (1.5.4)\n",
            "Requirement already satisfied: rich>=10.11.0 in /usr/local/lib/python3.11/dist-packages (from typer<1.0.0,>=0.3.0->spacy!=3.7.0,<4.0.0,>=3.4.4->presidio-analyzer) (13.9.4)\n",
            "Requirement already satisfied: cloudpathlib<1.0.0,>=0.7.0 in /usr/local/lib/python3.11/dist-packages (from weasel<0.5.0,>=0.1.0->spacy!=3.7.0,<4.0.0,>=3.4.4->presidio-analyzer) (0.20.0)\n",
            "Requirement already satisfied: smart-open<8.0.0,>=5.2.1 in /usr/local/lib/python3.11/dist-packages (from weasel<0.5.0,>=0.1.0->spacy!=3.7.0,<4.0.0,>=3.4.4->presidio-analyzer) (7.1.0)\n",
            "Requirement already satisfied: MarkupSafe>=2.0 in /usr/local/lib/python3.11/dist-packages (from jinja2->spacy!=3.7.0,<4.0.0,>=3.4.4->presidio-analyzer) (3.0.2)\n",
            "Requirement already satisfied: marisa-trie>=1.1.0 in /usr/local/lib/python3.11/dist-packages (from language-data>=1.2->langcodes<4.0.0,>=3.2.0->spacy!=3.7.0,<4.0.0,>=3.4.4->presidio-analyzer) (1.2.1)\n",
            "Requirement already satisfied: markdown-it-py>=2.2.0 in /usr/local/lib/python3.11/dist-packages (from rich>=10.11.0->typer<1.0.0,>=0.3.0->spacy!=3.7.0,<4.0.0,>=3.4.4->presidio-analyzer) (3.0.0)\n",
            "Requirement already satisfied: pygments<3.0.0,>=2.13.0 in /usr/local/lib/python3.11/dist-packages (from rich>=10.11.0->typer<1.0.0,>=0.3.0->spacy!=3.7.0,<4.0.0,>=3.4.4->presidio-analyzer) (2.18.0)\n",
            "Requirement already satisfied: wrapt in /usr/local/lib/python3.11/dist-packages (from smart-open<8.0.0,>=5.2.1->weasel<0.5.0,>=0.1.0->spacy!=3.7.0,<4.0.0,>=3.4.4->presidio-analyzer) (1.17.2)\n",
            "Requirement already satisfied: mdurl~=0.1 in /usr/local/lib/python3.11/dist-packages (from markdown-it-py>=2.2.0->rich>=10.11.0->typer<1.0.0,>=0.3.0->spacy!=3.7.0,<4.0.0,>=3.4.4->presidio-analyzer) (0.1.2)\n",
            "Requirement already satisfied: presidio-anonymizer in /usr/local/lib/python3.11/dist-packages (2.2.357)\n",
            "Requirement already satisfied: azure-core in /usr/local/lib/python3.11/dist-packages (from presidio-anonymizer) (1.32.0)\n",
            "Requirement already satisfied: pycryptodome>=3.10.1 in /usr/local/lib/python3.11/dist-packages (from presidio-anonymizer) (3.21.0)\n",
            "Requirement already satisfied: requests>=2.21.0 in /usr/local/lib/python3.11/dist-packages (from azure-core->presidio-anonymizer) (2.32.3)\n",
            "Requirement already satisfied: six>=1.11.0 in /usr/local/lib/python3.11/dist-packages (from azure-core->presidio-anonymizer) (1.17.0)\n",
            "Requirement already satisfied: typing-extensions>=4.6.0 in /usr/local/lib/python3.11/dist-packages (from azure-core->presidio-anonymizer) (4.12.2)\n",
            "Requirement already satisfied: charset-normalizer<4,>=2 in /usr/local/lib/python3.11/dist-packages (from requests>=2.21.0->azure-core->presidio-anonymizer) (3.4.1)\n",
            "Requirement already satisfied: idna<4,>=2.5 in /usr/local/lib/python3.11/dist-packages (from requests>=2.21.0->azure-core->presidio-anonymizer) (3.10)\n",
            "Requirement already satisfied: urllib3<3,>=1.21.1 in /usr/local/lib/python3.11/dist-packages (from requests>=2.21.0->azure-core->presidio-anonymizer) (2.3.0)\n",
            "Requirement already satisfied: certifi>=2017.4.17 in /usr/local/lib/python3.11/dist-packages (from requests>=2.21.0->azure-core->presidio-anonymizer) (2025.1.31)\n"
          ]
        }
      ],
      "source": [
        "!pip install presidio-analyzer\n",
        "!pip install presidio-anonymizer"
      ]
    },
    {
      "cell_type": "code",
      "execution_count": null,
      "metadata": {
        "colab": {
          "base_uri": "https://localhost:8080/"
        },
        "id": "bx0ioe10XsAI",
        "outputId": "b2416d5c-37a6-41a7-c409-7e67948da3f1"
      },
      "outputs": [
        {
          "name": "stderr",
          "output_type": "stream",
          "text": [
            "WARNING:presidio-analyzer:Recognizer not added to registry because language is not supported by registry - CreditCardRecognizer supported languages: es, registry supported languages: en\n",
            "WARNING:presidio-analyzer:Recognizer not added to registry because language is not supported by registry - CreditCardRecognizer supported languages: it, registry supported languages: en\n",
            "WARNING:presidio-analyzer:Recognizer not added to registry because language is not supported by registry - CreditCardRecognizer supported languages: pl, registry supported languages: en\n",
            "WARNING:presidio-analyzer:Recognizer not added to registry because language is not supported by registry - EsNifRecognizer supported languages: es, registry supported languages: en\n",
            "WARNING:presidio-analyzer:Recognizer not added to registry because language is not supported by registry - EsNieRecognizer supported languages: es, registry supported languages: en\n",
            "WARNING:presidio-analyzer:Recognizer not added to registry because language is not supported by registry - ItDriverLicenseRecognizer supported languages: it, registry supported languages: en\n",
            "WARNING:presidio-analyzer:Recognizer not added to registry because language is not supported by registry - ItFiscalCodeRecognizer supported languages: it, registry supported languages: en\n",
            "WARNING:presidio-analyzer:Recognizer not added to registry because language is not supported by registry - ItVatCodeRecognizer supported languages: it, registry supported languages: en\n",
            "WARNING:presidio-analyzer:Recognizer not added to registry because language is not supported by registry - ItIdentityCardRecognizer supported languages: it, registry supported languages: en\n",
            "WARNING:presidio-analyzer:Recognizer not added to registry because language is not supported by registry - ItPassportRecognizer supported languages: it, registry supported languages: en\n",
            "WARNING:presidio-analyzer:Recognizer not added to registry because language is not supported by registry - PlPeselRecognizer supported languages: pl, registry supported languages: en\n"
          ]
        },
        {
          "name": "stdout",
          "output_type": "stream",
          "text": [
            "Detected entities: [type: PERSON, start: 11, end: 19, score: 0.85]\n",
            "Anonymized text: text: My name is <PERSON> and my phone number is 555-1234.\n",
            "items:\n",
            "[\n",
            "    {'start': 11, 'end': 19, 'entity_type': 'PERSON', 'text': '<PERSON>', 'operator': 'replace'}\n",
            "]\n",
            "\n"
          ]
        }
      ],
      "source": [
        "from presidio_analyzer import AnalyzerEngine\n",
        "from presidio_anonymizer import AnonymizerEngine\n",
        "\n",
        "# Initialize the analyzer and anonymizer\n",
        "analyzer = AnalyzerEngine()\n",
        "anonymizer = AnonymizerEngine()\n",
        "\n",
        "# Input text\n",
        "text = \"My name is John Doe and my phone number is 555-1234.\"\n",
        "\n",
        "# Detect sensitive information\n",
        "results = analyzer.analyze(text=text, language=\"en\")\n",
        "print(\"Detected entities:\", results)\n",
        "\n",
        "# Anonymize the text\n",
        "anonymized_text = anonymizer.anonymize(text=text, analyzer_results=results)\n",
        "print(\"Anonymized text:\", anonymized_text)"
      ]
    },
    {
      "cell_type": "markdown",
      "metadata": {
        "id": "KbkZY9zVZ7E2"
      },
      "source": [
        "# PDF"
      ]
    },
    {
      "cell_type": "code",
      "execution_count": null,
      "metadata": {
        "colab": {
          "base_uri": "https://localhost:8080/"
        },
        "id": "0bMQoSNtZ6aX",
        "outputId": "f786fdc1-3530-43cb-df31-c720625c6d31"
      },
      "outputs": [
        {
          "name": "stdout",
          "output_type": "stream",
          "text": [
            "Collecting pdfplumber\n",
            "  Downloading pdfplumber-0.11.5-py3-none-any.whl.metadata (42 kB)\n",
            "\u001b[?25l     \u001b[90m━━━━━━━━━━━━━━━━━━━━━━━━━━━━━━━━━━━━━━━━\u001b[0m \u001b[32m0.0/42.5 kB\u001b[0m \u001b[31m?\u001b[0m eta \u001b[36m-:--:--\u001b[0m\r\u001b[2K     \u001b[90m━━━━━━━━━━━━━━━━━━━━━━━━━━━━━━━━━━━━━━━━\u001b[0m \u001b[32m42.5/42.5 kB\u001b[0m \u001b[31m2.3 MB/s\u001b[0m eta \u001b[36m0:00:00\u001b[0m\n",
            "\u001b[?25hCollecting pdfminer.six==20231228 (from pdfplumber)\n",
            "  Downloading pdfminer.six-20231228-py3-none-any.whl.metadata (4.2 kB)\n",
            "Requirement already satisfied: Pillow>=9.1 in /usr/local/lib/python3.11/dist-packages (from pdfplumber) (11.1.0)\n",
            "Collecting pypdfium2>=4.18.0 (from pdfplumber)\n",
            "  Downloading pypdfium2-4.30.1-py3-none-manylinux_2_17_x86_64.manylinux2014_x86_64.whl.metadata (48 kB)\n",
            "\u001b[2K     \u001b[90m━━━━━━━━━━━━━━━━━━━━━━━━━━━━━━━━━━━━━━━━\u001b[0m \u001b[32m48.2/48.2 kB\u001b[0m \u001b[31m2.9 MB/s\u001b[0m eta \u001b[36m0:00:00\u001b[0m\n",
            "\u001b[?25hRequirement already satisfied: charset-normalizer>=2.0.0 in /usr/local/lib/python3.11/dist-packages (from pdfminer.six==20231228->pdfplumber) (3.4.1)\n",
            "Requirement already satisfied: cryptography>=36.0.0 in /usr/local/lib/python3.11/dist-packages (from pdfminer.six==20231228->pdfplumber) (43.0.3)\n",
            "Requirement already satisfied: cffi>=1.12 in /usr/local/lib/python3.11/dist-packages (from cryptography>=36.0.0->pdfminer.six==20231228->pdfplumber) (1.17.1)\n",
            "Requirement already satisfied: pycparser in /usr/local/lib/python3.11/dist-packages (from cffi>=1.12->cryptography>=36.0.0->pdfminer.six==20231228->pdfplumber) (2.22)\n",
            "Downloading pdfplumber-0.11.5-py3-none-any.whl (59 kB)\n",
            "\u001b[2K   \u001b[90m━━━━━━━━━━━━━━━━━━━━━━━━━━━━━━━━━━━━━━━━\u001b[0m \u001b[32m59.5/59.5 kB\u001b[0m \u001b[31m4.1 MB/s\u001b[0m eta \u001b[36m0:00:00\u001b[0m\n",
            "\u001b[?25hDownloading pdfminer.six-20231228-py3-none-any.whl (5.6 MB)\n",
            "\u001b[2K   \u001b[90m━━━━━━━━━━━━━━━━━━━━━━━━━━━━━━━━━━━━━━━━\u001b[0m \u001b[32m5.6/5.6 MB\u001b[0m \u001b[31m70.4 MB/s\u001b[0m eta \u001b[36m0:00:00\u001b[0m\n",
            "\u001b[?25hDownloading pypdfium2-4.30.1-py3-none-manylinux_2_17_x86_64.manylinux2014_x86_64.whl (2.9 MB)\n",
            "\u001b[2K   \u001b[90m━━━━━━━━━━━━━━━━━━━━━━━━━━━━━━━━━━━━━━━━\u001b[0m \u001b[32m2.9/2.9 MB\u001b[0m \u001b[31m75.6 MB/s\u001b[0m eta \u001b[36m0:00:00\u001b[0m\n",
            "\u001b[?25hInstalling collected packages: pypdfium2, pdfminer.six, pdfplumber\n",
            "Successfully installed pdfminer.six-20231228 pdfplumber-0.11.5 pypdfium2-4.30.1\n"
          ]
        }
      ],
      "source": [
        "!pip install pdfplumber"
      ]
    },
    {
      "cell_type": "code",
      "execution_count": null,
      "metadata": {
        "colab": {
          "base_uri": "https://localhost:8080/"
        },
        "id": "dHWpWmcdYESH",
        "outputId": "7c8329f5-f189-4faa-c3c0-966fae49bf66"
      },
      "outputs": [
        {
          "name": "stdout",
          "output_type": "stream",
          "text": [
            "Extracted Text: Divorce Agreement\n",
            "This Divorce Agreement (\"Agreement\") is made and entered into on this ___ day of\n",
            "__________, 20__, by and between Justin Powell, residing at 009 Cooper Loaf Apt. 167\n",
            "West Tanya, NV 33483, and Margaret Gonzales, residing at 087 Sarah Hills Apt. 760\n",
            "Brewershire, IA 90392. The parties have agreed to dissolve their marriage and settle all\n",
            "matters related to the division of assets, child custody, spousal support, and other\n",
            "obligations as outlined below.\n",
            "1. Recitals\n",
            "WHEREAS, the parties were married on 2025-02-06 in 462 Mcknight Unions Apt. 585\n",
            "North Dannyhaven, GA 55306;\n",
            "WHEREAS, the parties have decided to dissolve their marriage amicably;\n",
            "WHEREAS, the parties wish to resolve all issues arising from their marriage, including but\n",
            "not limited to property division, child custody, child support, spousal support, and other\n",
            "matters;\n",
            "NOW, THEREFORE, in consideration of the mutual promises and covenants contained\n",
            "herein, the parties agree as follows:\n",
            "2. Division of Assets and Debts\n",
            "The parties agree to divide their marital assets and debts as follows:\n",
            "- Real Estate: The marital home located at 7564 Ray Walk Suite 355\n",
            "Nancyview, NV 77664 shall be transferred to Justin Powell. Any outstanding mortgage or\n",
            "liens shall remain the responsibility of Justin Powell.\n",
            "- Bank Accounts: All joint bank accounts shall be closed, and the funds shall be divided\n",
            "equally between the parties.\n",
            "- Retirement Accounts: Each party shall retain their respective retirement accounts (e.g.,\n",
            "401(k), IRA). Any joint retirement accounts shall be divided according to a Qualified\n",
            "Domestic Relations Order (QDRO).\n",
            "- Vehicles: Each party shall retain ownership of the vehicle(s) titled in their name. Any loans\n",
            "associated with the vehicles shall remain the responsibility of the titled owner.\n",
            "- Personal Property: Each party shall retain their personal belongings, including furniture,\n",
            "electronics, and other household items as mutually agreed upon.\n",
            "- Debts: All joint debts incurred during the marriage shall be divided equally unless\n",
            "otherwise specified herein.\n",
            "3. Child Custody and Support\n",
            "The parties agree to the following custody and support arrangement:\n",
            "- Legal Custody: Joint legal custody shall be granted to both parties, meaning both parents\n",
            "shall share decision-making authority regarding the children’s education, healthcare, and\n",
            "general welfare.\n",
            "- Physical Custody: The children shall reside primarily with [Parent Name], with visitation\n",
            "rights granted to [Other Parent Name] as follows:- Weekends: Every other weekend from Friday at 6:00 PM to Sunday at 6:00 PM.\n",
            "- Holidays: The children shall alternate holidays between the parents as follows:\n",
            "Thanksgiving with [Parent A] in even years, Christmas with [Parent B] in odd years, etc.\n",
            "- Child Support: Justin Powell shall pay $385 per month in child support to Margaret\n",
            "Gonzales. Payments shall be made via bank transfer and are due on the 1st of each month.\n",
            "- Medical Expenses: Both parties shall equally share any uninsured medical, dental, or\n",
            "educational expenses for the children.\n",
            "4. Spousal Support (Alimony)\n",
            "The parties agree to the following spousal support arrangement:\n",
            "- Justin Powell shall pay $567 per month in spousal support to Margaret Gonzales for a\n",
            "period of 5 years, beginning on 2025-01-25.\n",
            "- The obligation to pay spousal support shall terminate upon the death of either party, the\n",
            "remarriage of the receiving party, or the expiration of the agreed-upon duration, whichever\n",
            "occurs first.\n",
            "5. Health Insurance and Benefits\n",
            "The parties agree to the following regarding health insurance and benefits:\n",
            "- Health Insurance: Justin Powell shall maintain health insurance coverage for the children\n",
            "until they reach the age of majority or graduate from high school, whichever occurs later.\n",
            "- Life Insurance: Justin Powell shall maintain a life insurance policy with a face value of\n",
            "$455972, naming Margaret Gonzales as the beneficiary to secure child support and/or\n",
            "spousal support obligations.\n",
            "6. Tax Matters\n",
            "The parties agree to the following regarding tax matters:\n",
            "- Dependency Exemptions: The parties shall alternate claiming the children as dependents\n",
            "for tax purposes, with [Parent A] claiming them in even years and [Parent B] in odd years.\n",
            "- Filing Status: Each party shall file their taxes separately unless otherwise agreed upon in\n",
            "writing.\n",
            "7. Dispute Resolution\n",
            "In the event of any disputes arising under this Agreement, the parties agree to attempt to\n",
            "resolve such disputes through mediation before pursuing litigation. If mediation fails, the\n",
            "matter may be resolved through arbitration or court proceedings as permitted by law.\n",
            "8. General Provisions\n",
            "The parties agree to the following general provisions:\n",
            "- Entire Agreement: This Agreement constitutes the entire understanding between the\n",
            "parties and supersedes all prior agreements, whether written or oral.\n",
            "- Modifications: Any modifications to this Agreement must be in writing and signed by bothparties.\n",
            "- Governing Law: This Agreement shall be governed by and construed in accordance with\n",
            "the laws of the State of West Virginia.\n",
            "9. Signatures\n",
            "Justin Powell's Signature:\n",
            "Date: ___/___/20__\n",
            "Margaret Gonzales's Signature:\n",
            "Date: ___/___/20__\n",
            "Witness 1: Jose Davila\n",
            "Date: ___/___/20__\n",
            "Witness 2: Rebekah Rodriguez\n",
            "Date: ___/___/20__\n",
            "Notary Acknowledgment\n",
            "State of West Virginia\n",
            "County of British Virgin IslandsOn this ___ day of __________, 20__, before me, the undersigned notary public, personally\n",
            "appeared Justin Powell and Margaret Gonzales, known to me (or satisfactorily proven) to be\n",
            "the persons whose names are subscribed to this instrument, and acknowledged that they\n",
            "executed it for the purposes therein contained.\n",
            "___________________________\n",
            "Mendoza-Harper, Notary Public\n",
            "My Commission Expires: ___/___/20__\n"
          ]
        }
      ],
      "source": [
        "import pdfplumber\n",
        "\n",
        "def extract_text_from_pdf(pdf_path):\n",
        "    text = \"\"\n",
        "    with pdfplumber.open(pdf_path) as pdf:\n",
        "        for page in pdf.pages:\n",
        "            text += page.extract_text()\n",
        "    return text\n",
        "\n",
        "pdf_path = \"/content/Detailed_Divorce_Agreement_0.pdf\"\n",
        "extracted_text = extract_text_from_pdf(pdf_path)\n",
        "print(\"Extracted Text:\", extracted_text)"
      ]
    },
    {
      "cell_type": "code",
      "execution_count": null,
      "metadata": {
        "colab": {
          "base_uri": "https://localhost:8080/"
        },
        "id": "AamceTaMZ4tm",
        "outputId": "fadface2-8a5d-46b3-b023-55b21d33114c"
      },
      "outputs": [
        {
          "name": "stderr",
          "output_type": "stream",
          "text": [
            "WARNING:presidio-analyzer:Recognizer not added to registry because language is not supported by registry - CreditCardRecognizer supported languages: es, registry supported languages: en\n",
            "WARNING:presidio-analyzer:Recognizer not added to registry because language is not supported by registry - CreditCardRecognizer supported languages: it, registry supported languages: en\n",
            "WARNING:presidio-analyzer:Recognizer not added to registry because language is not supported by registry - CreditCardRecognizer supported languages: pl, registry supported languages: en\n",
            "WARNING:presidio-analyzer:Recognizer not added to registry because language is not supported by registry - EsNifRecognizer supported languages: es, registry supported languages: en\n",
            "WARNING:presidio-analyzer:Recognizer not added to registry because language is not supported by registry - EsNieRecognizer supported languages: es, registry supported languages: en\n",
            "WARNING:presidio-analyzer:Recognizer not added to registry because language is not supported by registry - ItDriverLicenseRecognizer supported languages: it, registry supported languages: en\n",
            "WARNING:presidio-analyzer:Recognizer not added to registry because language is not supported by registry - ItFiscalCodeRecognizer supported languages: it, registry supported languages: en\n",
            "WARNING:presidio-analyzer:Recognizer not added to registry because language is not supported by registry - ItVatCodeRecognizer supported languages: it, registry supported languages: en\n",
            "WARNING:presidio-analyzer:Recognizer not added to registry because language is not supported by registry - ItIdentityCardRecognizer supported languages: it, registry supported languages: en\n",
            "WARNING:presidio-analyzer:Recognizer not added to registry because language is not supported by registry - ItPassportRecognizer supported languages: it, registry supported languages: en\n",
            "WARNING:presidio-analyzer:Recognizer not added to registry because language is not supported by registry - PlPeselRecognizer supported languages: pl, registry supported languages: en\n"
          ]
        },
        {
          "name": "stdout",
          "output_type": "stream",
          "text": [
            "Detected Entities: [type: PERSON, start: 132, end: 145, score: 0.85, type: LOCATION, start: 163, end: 178, score: 0.85, type: PERSON, start: 210, end: 227, score: 0.85, type: PERSON, start: 245, end: 260, score: 0.85, type: LOCATION, start: 279, end: 287, score: 0.85, type: DATE_TIME, start: 520, end: 530, score: 0.85, type: PERSON, start: 563, end: 579, score: 0.85, type: DATE_TIME, start: 584, end: 589, score: 0.85, type: LOCATION, start: 1117, end: 1140, score: 0.85, type: LOCATION, start: 1141, end: 1150, score: 0.85, type: DATE_TIME, start: 1155, end: 1160, score: 0.85, type: PERSON, start: 1185, end: 1198, score: 0.85, type: PERSON, start: 1269, end: 1282, score: 0.85, type: DATE_TIME, start: 2510, end: 2529, score: 0.85, type: DATE_TIME, start: 2535, end: 2541, score: 0.85, type: DATE_TIME, start: 2545, end: 2562, score: 0.85, type: DATE_TIME, start: 2566, end: 2573, score: 0.85, type: DATE_TIME, start: 2657, end: 2669, score: 0.85, type: DATE_TIME, start: 2694, end: 2699, score: 0.85, type: DATE_TIME, start: 2701, end: 2710, score: 0.85, type: DATE_TIME, start: 2730, end: 2739, score: 0.85, type: PERSON, start: 2763, end: 2776, score: 0.85, type: PERSON, start: 2822, end: 2839, score: 0.85, type: DATE_TIME, start: 2897, end: 2918, score: 0.85, type: PERSON, start: 3141, end: 3154, score: 0.85, type: PERSON, start: 3202, end: 3219, score: 0.85, type: DATE_TIME, start: 3236, end: 3243, score: 0.85, type: DATE_TIME, start: 3258, end: 3268, score: 0.85, type: PERSON, start: 3597, end: 3610, score: 0.85, type: PERSON, start: 3778, end: 3791, score: 0.85, type: PERSON, start: 3868, end: 3885, score: 0.85, type: DATE_TIME, start: 4183, end: 4188, score: 0.85, type: DATE_TIME, start: 4207, end: 4216, score: 0.85, type: LOCATION, start: 5052, end: 5065, score: 0.85, type: PERSON, start: 5081, end: 5096, score: 0.85, type: PERSON, start: 5127, end: 5146, score: 0.85, type: PERSON, start: 5188, end: 5199, score: 0.85, type: PERSON, start: 5230, end: 5247, score: 0.85, type: LOCATION, start: 5298, end: 5318, score: 0.85, type: LOCATION, start: 5322, end: 5346, score: 0.85, type: PERSON, start: 5443, end: 5456, score: 0.85, type: PERSON, start: 5461, end: 5478, score: 0.85, type: US_DRIVER_LICENSE, start: 3853, end: 3859, score: 0.4, type: IN_PAN, start: 99, end: 109, score: 0.05, type: IN_PAN, start: 520, end: 530, score: 0.05, type: IN_PAN, start: 569, end: 579, score: 0.05, type: IN_PAN, start: 1404, end: 1414, score: 0.05, type: IN_PAN, start: 1455, end: 1465, score: 0.05, type: IN_PAN, start: 1466, end: 1476, score: 0.05, type: IN_PAN, start: 1517, end: 1527, score: 0.05, type: IN_PAN, start: 1708, end: 1718, score: 0.05, type: IN_PAN, start: 1850, end: 1860, score: 0.05, type: IN_PAN, start: 2324, end: 2334, score: 0.05, type: IN_PAN, start: 2438, end: 2448, score: 0.05, type: IN_PAN, start: 3258, end: 3268, score: 0.05, type: IN_PAN, start: 3276, end: 3286, score: 0.05, type: IN_PAN, start: 3362, end: 3372, score: 0.05, type: IN_PAN, start: 3404, end: 3414, score: 0.05]\n"
          ]
        }
      ],
      "source": [
        "from presidio_analyzer import AnalyzerEngine\n",
        "\n",
        "# Initialize the analyzer\n",
        "analyzer = AnalyzerEngine()\n",
        "\n",
        "# Analyze the extracted text\n",
        "results = analyzer.analyze(text=extracted_text, language=\"en\")\n",
        "print(\"Detected Entities:\", results)"
      ]
    },
    {
      "cell_type": "code",
      "execution_count": null,
      "metadata": {
        "colab": {
          "base_uri": "https://localhost:8080/"
        },
        "id": "y9kf_pOuaV-8",
        "outputId": "9b6a900f-f571-45b9-a29f-d77dddd9191d"
      },
      "outputs": [
        {
          "name": "stdout",
          "output_type": "stream",
          "text": [
            "Anonymized Text: text: Divorce Agreement\n",
            "This Divorce Agreement (\"Agreement\") is made and entered into on this ___ day of\n",
            "<IN_PAN>, 20__, by and between <PERSON>, residing at 009 <LOCATION>. 167\n",
            "West Tanya, NV 33483, and <PERSON>, residing at 087 <PERSON>. 760\n",
            "Brewershire, <LOCATION>. The parties have agreed to dissolve their marriage and settle all\n",
            "matters related to the division of assets, child custody, spousal support, and other\n",
            "obligations as outlined below.\n",
            "1. Recitals\n",
            "WHEREAS, the parties were married on <DATE_TIME> in 462 Mcknight Unions Apt. 585\n",
            "<PERSON>, GA <DATE_TIME>;\n",
            "WHEREAS, the parties have decided to dissolve their marriage amicably;\n",
            "WHEREAS, the parties wish to resolve all issues arising from their marriage, including but\n",
            "not limited to property division, child custody, child support, spousal support, and other\n",
            "matters;\n",
            "NOW, THEREFORE, in consideration of the mutual promises and covenants contained\n",
            "herein, the parties agree as follows:\n",
            "2. Division of Assets and Debts\n",
            "The parties agree to divide their marital assets and debts as follows:\n",
            "- Real Estate: The marital home located at <LOCATION>\n",
            "<LOCATION>, NV <DATE_TIME> shall be transferred to <PERSON>. Any outstanding mortgage or\n",
            "liens shall remain the responsibility of <PERSON>.\n",
            "- Bank Accounts: All joint bank accounts shall be closed, and the funds shall be divided\n",
            "equally between the parties.\n",
            "- <IN_PAN> Accounts: Each party shall retain their <IN_PAN> accounts (e.g.,\n",
            "401(k), IRA). Any joint <IN_PAN> accounts shall be divided according to a Qualified\n",
            "Domestic Relations Order (QDRO).\n",
            "- Vehicles: Each party shall retain ownership of the vehicle(s) titled in their name. Any loans\n",
            "<IN_PAN> with the vehicles shall remain the responsibility of the titled owner.\n",
            "- Personal Property: Each party shall retain their personal <IN_PAN>, including furniture,\n",
            "electronics, and other household items as mutually agreed upon.\n",
            "- Debts: All joint debts incurred during the marriage shall be divided equally unless\n",
            "otherwise specified herein.\n",
            "3. Child Custody and Support\n",
            "The parties agree to the following custody and support arrangement:\n",
            "- Legal Custody: Joint legal custody shall be granted to both parties, meaning both parents\n",
            "shall share decision-making authority regarding the children’s education, <IN_PAN>, and\n",
            "general welfare.\n",
            "- Physical Custody: The children shall reside primarily with [Parent Name], with <IN_PAN>\n",
            "rights granted to [Other Parent Name] as follows:- Weekends: <DATE_TIME> from <DATE_TIME> at <DATE_TIME> at <DATE_TIME>.\n",
            "- Holidays: The children shall alternate holidays between the parents as follows:\n",
            "<DATE_TIME> with [Parent A] in even <DATE_TIME>, <DATE_TIME> with [Parent B] in <DATE_TIME>, etc.\n",
            "- Child Support: <PERSON> shall pay $385 per month in child support to <PERSON>. Payments shall be made via bank transfer and are due on <DATE_TIME>.\n",
            "- Medical Expenses: Both parties shall equally share any uninsured medical, dental, or\n",
            "educational expenses for the children.\n",
            "4. Spousal Support (Alimony)\n",
            "The parties agree to the following spousal support arrangement:\n",
            "- <PERSON> shall pay $567 per month in spousal support to <PERSON> for a\n",
            "period of <DATE_TIME>, beginning on <DATE_TIME>.\n",
            "- The <IN_PAN> to pay spousal support shall terminate upon the death of either party, the\n",
            "<IN_PAN> of the receiving party, or the <IN_PAN> of the agreed-upon duration, whichever\n",
            "occurs first.\n",
            "5. Health Insurance and Benefits\n",
            "The parties agree to the following regarding health insurance and benefits:\n",
            "- Health Insurance: <PERSON> shall maintain health insurance coverage for the children\n",
            "until they reach the age of majority or graduate from high school, whichever occurs later.\n",
            "- Life Insurance: <PERSON> shall maintain a life insurance policy with a face value of\n",
            "$<US_DRIVER_LICENSE>, naming <PERSON> as the beneficiary to secure child support and/or\n",
            "spousal support obligations.\n",
            "6. Tax Matters\n",
            "The parties agree to the following regarding tax matters:\n",
            "- Dependency Exemptions: The parties shall alternate claiming the children as dependents\n",
            "for tax purposes, with [Parent A] claiming them in even <DATE_TIME> and [Parent B] in <DATE_TIME>.\n",
            "- Filing Status: Each party shall file their taxes separately unless otherwise agreed upon in\n",
            "writing.\n",
            "7. Dispute Resolution\n",
            "In the event of any disputes arising under this Agreement, the parties agree to attempt to\n",
            "resolve such disputes through mediation before pursuing litigation. If mediation fails, the\n",
            "matter may be resolved through arbitration or court proceedings as permitted by law.\n",
            "8. General Provisions\n",
            "The parties agree to the following general provisions:\n",
            "- Entire Agreement: This Agreement constitutes the entire understanding between the\n",
            "parties and supersedes all prior agreements, whether written or oral.\n",
            "- Modifications: Any modifications to this Agreement must be in writing and signed by bothparties.\n",
            "- Governing Law: This Agreement shall be governed by and construed in accordance with\n",
            "the laws of the State of <LOCATION>.\n",
            "9. Signatures\n",
            "<PERSON> Signature:\n",
            "Date: ___/___/20__\n",
            "<PERSON> Signature:\n",
            "Date: ___/___/20__\n",
            "Witness 1: <PERSON>\n",
            "Date: ___/___/20__\n",
            "Witness 2: <PERSON>\n",
            "Date: ___/___/20__\n",
            "Notary Acknowledgment\n",
            "State of <LOCATION> of <LOCATION> this ___ day of __________, 20__, before me, the undersigned notary public, personally\n",
            "appeared <PERSON> and <PERSON>, known to me (or satisfactorily proven) to be\n",
            "the persons whose names are subscribed to this instrument, and acknowledged that they\n",
            "executed it for the purposes therein contained.\n",
            "___________________________\n",
            "Mendoza-Harper, Notary Public\n",
            "My Commission Expires: ___/___/20__\n",
            "items:\n",
            "[\n",
            "    {'start': 5298, 'end': 5306, 'entity_type': 'PERSON', 'text': '<PERSON>', 'operator': 'replace'},\n",
            "    {'start': 5285, 'end': 5293, 'entity_type': 'PERSON', 'text': '<PERSON>', 'operator': 'replace'},\n",
            "    {'start': 5178, 'end': 5188, 'entity_type': 'LOCATION', 'text': '<LOCATION>', 'operator': 'replace'},\n",
            "    {'start': 5164, 'end': 5174, 'entity_type': 'LOCATION', 'text': '<LOCATION>', 'operator': 'replace'},\n",
            "    {'start': 5105, 'end': 5113, 'entity_type': 'PERSON', 'text': '<PERSON>', 'operator': 'replace'},\n",
            "    {'start': 5066, 'end': 5074, 'entity_type': 'PERSON', 'text': '<PERSON>', 'operator': 'replace'},\n",
            "    {'start': 5016, 'end': 5024, 'entity_type': 'PERSON', 'text': '<PERSON>', 'operator': 'replace'},\n",
            "    {'start': 4977, 'end': 4985, 'entity_type': 'PERSON', 'text': '<PERSON>', 'operator': 'replace'},\n",
            "    {'start': 4951, 'end': 4961, 'entity_type': 'LOCATION', 'text': '<LOCATION>', 'operator': 'replace'},\n",
            "    {'start': 4104, 'end': 4115, 'entity_type': 'DATE_TIME', 'text': '<DATE_TIME>', 'operator': 'replace'},\n",
            "    {'start': 4074, 'end': 4085, 'entity_type': 'DATE_TIME', 'text': '<DATE_TIME>', 'operator': 'replace'},\n",
            "    {'start': 3768, 'end': 3776, 'entity_type': 'PERSON', 'text': '<PERSON>', 'operator': 'replace'},\n",
            "    {'start': 3740, 'end': 3759, 'entity_type': 'US_DRIVER_LICENSE', 'text': '<US_DRIVER_LICENSE>', 'operator': 'replace'},\n",
            "    {'start': 3670, 'end': 3678, 'entity_type': 'PERSON', 'text': '<PERSON>', 'operator': 'replace'},\n",
            "    {'start': 3494, 'end': 3502, 'entity_type': 'PERSON', 'text': '<PERSON>', 'operator': 'replace'},\n",
            "    {'start': 3303, 'end': 3311, 'entity_type': 'IN_PAN', 'text': '<IN_PAN>', 'operator': 'replace'},\n",
            "    {'start': 3263, 'end': 3271, 'entity_type': 'IN_PAN', 'text': '<IN_PAN>', 'operator': 'replace'},\n",
            "    {'start': 3179, 'end': 3187, 'entity_type': 'IN_PAN', 'text': '<IN_PAN>', 'operator': 'replace'},\n",
            "    {'start': 3160, 'end': 3171, 'entity_type': 'DATE_TIME', 'text': '<DATE_TIME>', 'operator': 'replace'},\n",
            "    {'start': 3134, 'end': 3145, 'entity_type': 'DATE_TIME', 'text': '<DATE_TIME>', 'operator': 'replace'},\n",
            "    {'start': 3109, 'end': 3117, 'entity_type': 'PERSON', 'text': '<PERSON>', 'operator': 'replace'},\n",
            "    {'start': 3053, 'end': 3061, 'entity_type': 'PERSON', 'text': '<PERSON>', 'operator': 'replace'},\n",
            "    {'start': 2819, 'end': 2830, 'entity_type': 'DATE_TIME', 'text': '<DATE_TIME>', 'operator': 'replace'},\n",
            "    {'start': 2753, 'end': 2761, 'entity_type': 'PERSON', 'text': '<PERSON>', 'operator': 'replace'},\n",
            "    {'start': 2699, 'end': 2707, 'entity_type': 'PERSON', 'text': '<PERSON>', 'operator': 'replace'},\n",
            "    {'start': 2664, 'end': 2675, 'entity_type': 'DATE_TIME', 'text': '<DATE_TIME>', 'operator': 'replace'},\n",
            "    {'start': 2633, 'end': 2644, 'entity_type': 'DATE_TIME', 'text': '<DATE_TIME>', 'operator': 'replace'},\n",
            "    {'start': 2620, 'end': 2631, 'entity_type': 'DATE_TIME', 'text': '<DATE_TIME>', 'operator': 'replace'},\n",
            "    {'start': 2584, 'end': 2595, 'entity_type': 'DATE_TIME', 'text': '<DATE_TIME>', 'operator': 'replace'},\n",
            "    {'start': 2489, 'end': 2500, 'entity_type': 'DATE_TIME', 'text': '<DATE_TIME>', 'operator': 'replace'},\n",
            "    {'start': 2474, 'end': 2485, 'entity_type': 'DATE_TIME', 'text': '<DATE_TIME>', 'operator': 'replace'},\n",
            "    {'start': 2459, 'end': 2470, 'entity_type': 'DATE_TIME', 'text': '<DATE_TIME>', 'operator': 'replace'},\n",
            "    {'start': 2442, 'end': 2453, 'entity_type': 'DATE_TIME', 'text': '<DATE_TIME>', 'operator': 'replace'},\n",
            "    {'start': 2372, 'end': 2380, 'entity_type': 'IN_PAN', 'text': '<IN_PAN>', 'operator': 'replace'},\n",
            "    {'start': 2260, 'end': 2268, 'entity_type': 'IN_PAN', 'text': '<IN_PAN>', 'operator': 'replace'},\n",
            "    {'start': 1788, 'end': 1796, 'entity_type': 'IN_PAN', 'text': '<IN_PAN>', 'operator': 'replace'},\n",
            "    {'start': 1648, 'end': 1656, 'entity_type': 'IN_PAN', 'text': '<IN_PAN>', 'operator': 'replace'},\n",
            "    {'start': 1459, 'end': 1467, 'entity_type': 'IN_PAN', 'text': '<IN_PAN>', 'operator': 'replace'},\n",
            "    {'start': 1410, 'end': 1418, 'entity_type': 'IN_PAN', 'text': '<IN_PAN>', 'operator': 'replace'},\n",
            "    {'start': 1361, 'end': 1369, 'entity_type': 'IN_PAN', 'text': '<IN_PAN>', 'operator': 'replace'},\n",
            "    {'start': 1231, 'end': 1239, 'entity_type': 'PERSON', 'text': '<PERSON>', 'operator': 'replace'},\n",
            "    {'start': 1152, 'end': 1160, 'entity_type': 'PERSON', 'text': '<PERSON>', 'operator': 'replace'},\n",
            "    {'start': 1116, 'end': 1127, 'entity_type': 'DATE_TIME', 'text': '<DATE_TIME>', 'operator': 'replace'},\n",
            "    {'start': 1101, 'end': 1111, 'entity_type': 'LOCATION', 'text': '<LOCATION>', 'operator': 'replace'},\n",
            "    {'start': 1090, 'end': 1100, 'entity_type': 'LOCATION', 'text': '<LOCATION>', 'operator': 'replace'},\n",
            "    {'start': 551, 'end': 562, 'entity_type': 'DATE_TIME', 'text': '<DATE_TIME>', 'operator': 'replace'},\n",
            "    {'start': 538, 'end': 546, 'entity_type': 'PERSON', 'text': '<PERSON>', 'operator': 'replace'},\n",
            "    {'start': 494, 'end': 505, 'entity_type': 'DATE_TIME', 'text': '<DATE_TIME>', 'operator': 'replace'},\n",
            "    {'start': 251, 'end': 261, 'entity_type': 'LOCATION', 'text': '<LOCATION>', 'operator': 'replace'},\n",
            "    {'start': 224, 'end': 232, 'entity_type': 'PERSON', 'text': '<PERSON>', 'operator': 'replace'},\n",
            "    {'start': 198, 'end': 206, 'entity_type': 'PERSON', 'text': '<PERSON>', 'operator': 'replace'},\n",
            "    {'start': 156, 'end': 166, 'entity_type': 'LOCATION', 'text': '<LOCATION>', 'operator': 'replace'},\n",
            "    {'start': 130, 'end': 138, 'entity_type': 'PERSON', 'text': '<PERSON>', 'operator': 'replace'},\n",
            "    {'start': 99, 'end': 107, 'entity_type': 'IN_PAN', 'text': '<IN_PAN>', 'operator': 'replace'}\n",
            "]\n",
            "\n"
          ]
        }
      ],
      "source": [
        "from presidio_anonymizer import AnonymizerEngine\n",
        "\n",
        "# Initialize the anonymizer\n",
        "anonymizer = AnonymizerEngine()\n",
        "\n",
        "# Anonymize the text\n",
        "anonymized_text = anonymizer.anonymize(text=extracted_text, analyzer_results=results)\n",
        "print(\"Anonymized Text:\", anonymized_text)"
      ]
    },
    {
      "cell_type": "code",
      "execution_count": null,
      "metadata": {
        "colab": {
          "base_uri": "https://localhost:8080/"
        },
        "id": "LZIYO7d4acMO",
        "outputId": "f782b976-c509-4d5f-b537-62c8bf209177"
      },
      "outputs": [
        {
          "name": "stdout",
          "output_type": "stream",
          "text": [
            "Detected Entities with Custom Recognizer: [type: PERSON, start: 132, end: 145, score: 0.85, type: LOCATION, start: 163, end: 178, score: 0.85, type: PERSON, start: 210, end: 227, score: 0.85, type: PERSON, start: 245, end: 260, score: 0.85, type: LOCATION, start: 279, end: 287, score: 0.85, type: DATE_TIME, start: 520, end: 530, score: 0.85, type: PERSON, start: 563, end: 579, score: 0.85, type: DATE_TIME, start: 584, end: 589, score: 0.85, type: LOCATION, start: 1117, end: 1140, score: 0.85, type: LOCATION, start: 1141, end: 1150, score: 0.85, type: DATE_TIME, start: 1155, end: 1160, score: 0.85, type: PERSON, start: 1185, end: 1198, score: 0.85, type: PERSON, start: 1269, end: 1282, score: 0.85, type: DATE_TIME, start: 2510, end: 2529, score: 0.85, type: DATE_TIME, start: 2535, end: 2541, score: 0.85, type: DATE_TIME, start: 2545, end: 2562, score: 0.85, type: DATE_TIME, start: 2566, end: 2573, score: 0.85, type: DATE_TIME, start: 2657, end: 2669, score: 0.85, type: DATE_TIME, start: 2694, end: 2699, score: 0.85, type: DATE_TIME, start: 2701, end: 2710, score: 0.85, type: DATE_TIME, start: 2730, end: 2739, score: 0.85, type: PERSON, start: 2763, end: 2776, score: 0.85, type: PERSON, start: 2822, end: 2839, score: 0.85, type: DATE_TIME, start: 2897, end: 2918, score: 0.85, type: PERSON, start: 3141, end: 3154, score: 0.85, type: PERSON, start: 3202, end: 3219, score: 0.85, type: DATE_TIME, start: 3236, end: 3243, score: 0.85, type: DATE_TIME, start: 3258, end: 3268, score: 0.85, type: PERSON, start: 3597, end: 3610, score: 0.85, type: PERSON, start: 3778, end: 3791, score: 0.85, type: PERSON, start: 3868, end: 3885, score: 0.85, type: DATE_TIME, start: 4183, end: 4188, score: 0.85, type: DATE_TIME, start: 4207, end: 4216, score: 0.85, type: LOCATION, start: 5052, end: 5065, score: 0.85, type: PERSON, start: 5081, end: 5096, score: 0.85, type: PERSON, start: 5127, end: 5146, score: 0.85, type: PERSON, start: 5188, end: 5199, score: 0.85, type: PERSON, start: 5230, end: 5247, score: 0.85, type: LOCATION, start: 5298, end: 5318, score: 0.85, type: LOCATION, start: 5322, end: 5346, score: 0.85, type: PERSON, start: 5443, end: 5456, score: 0.85, type: PERSON, start: 5461, end: 5478, score: 0.85, type: MONEY, start: 2787, end: 2791, score: 0.8, type: MONEY, start: 3165, end: 3169, score: 0.8, type: MONEY, start: 3852, end: 3859, score: 0.8, type: US_DRIVER_LICENSE, start: 3853, end: 3859, score: 0.4, type: IN_PAN, start: 99, end: 109, score: 0.05, type: IN_PAN, start: 520, end: 530, score: 0.05, type: IN_PAN, start: 569, end: 579, score: 0.05, type: IN_PAN, start: 1404, end: 1414, score: 0.05, type: IN_PAN, start: 1455, end: 1465, score: 0.05, type: IN_PAN, start: 1466, end: 1476, score: 0.05, type: IN_PAN, start: 1517, end: 1527, score: 0.05, type: IN_PAN, start: 1708, end: 1718, score: 0.05, type: IN_PAN, start: 1850, end: 1860, score: 0.05, type: IN_PAN, start: 2324, end: 2334, score: 0.05, type: IN_PAN, start: 2438, end: 2448, score: 0.05, type: IN_PAN, start: 3258, end: 3268, score: 0.05, type: IN_PAN, start: 3276, end: 3286, score: 0.05, type: IN_PAN, start: 3362, end: 3372, score: 0.05, type: IN_PAN, start: 3404, end: 3414, score: 0.05]\n"
          ]
        }
      ],
      "source": [
        "from presidio_analyzer import Pattern, PatternRecognizer\n",
        "\n",
        "# Define a custom pattern for monetary values\n",
        "money_pattern = Pattern(\n",
        "    name=\"money_pattern\",\n",
        "    regex=r\"\\$\\d+(\\.\\d{1,2})?\",  # Matches dollar amounts like $100 or $100.50\n",
        "    score=0.8\n",
        ")\n",
        "\n",
        "# Create a custom recognizer\n",
        "money_recognizer = PatternRecognizer(\n",
        "    supported_entity=\"MONEY\",\n",
        "    patterns=[money_pattern]\n",
        ")\n",
        "\n",
        "# Add the custom recognizer to the analyzer\n",
        "analyzer.registry.add_recognizer(money_recognizer)\n",
        "\n",
        "# Re-analyze the text with the custom recognizer\n",
        "results = analyzer.analyze(text=extracted_text, language=\"en\")\n",
        "print(\"Detected Entities with Custom Recognizer:\", results)"
      ]
    },
    {
      "cell_type": "code",
      "execution_count": null,
      "metadata": {
        "colab": {
          "base_uri": "https://localhost:8080/"
        },
        "id": "_aI-22olaqAB",
        "outputId": "5d0f560f-f43a-4c71-bba1-376aa6688d70"
      },
      "outputs": [
        {
          "name": "stdout",
          "output_type": "stream",
          "text": [
            "Anonymized Text: text: Divorce Agreement\n",
            "This Divorce Agreement (\"Agreement\") is made and entered into on this ___ day of\n",
            "<IN_PAN>, 20__, by and between <PERSON>, residing at 009 <LOCATION>. 167\n",
            "West Tanya, NV 33483, and <PERSON>, residing at 087 <PERSON>. 760\n",
            "Brewershire, <LOCATION>. The parties have agreed to dissolve their marriage and settle all\n",
            "matters related to the division of assets, child custody, spousal support, and other\n",
            "obligations as outlined below.\n",
            "1. Recitals\n",
            "WHEREAS, the parties were married on <DATE_TIME> in 462 Mcknight Unions Apt. 585\n",
            "<PERSON>, GA <DATE_TIME>;\n",
            "WHEREAS, the parties have decided to dissolve their marriage amicably;\n",
            "WHEREAS, the parties wish to resolve all issues arising from their marriage, including but\n",
            "not limited to property division, child custody, child support, spousal support, and other\n",
            "matters;\n",
            "NOW, THEREFORE, in consideration of the mutual promises and covenants contained\n",
            "herein, the parties agree as follows:\n",
            "2. Division of Assets and Debts\n",
            "The parties agree to divide their marital assets and debts as follows:\n",
            "- Real Estate: The marital home located at <LOCATION>\n",
            "<LOCATION>, NV <DATE_TIME> shall be transferred to <PERSON>. Any outstanding mortgage or\n",
            "liens shall remain the responsibility of <PERSON>.\n",
            "- Bank Accounts: All joint bank accounts shall be closed, and the funds shall be divided\n",
            "equally between the parties.\n",
            "- <IN_PAN> Accounts: Each party shall retain their <IN_PAN> accounts (e.g.,\n",
            "401(k), IRA). Any joint <IN_PAN> accounts shall be divided according to a Qualified\n",
            "Domestic Relations Order (QDRO).\n",
            "- Vehicles: Each party shall retain ownership of the vehicle(s) titled in their name. Any loans\n",
            "<IN_PAN> with the vehicles shall remain the responsibility of the titled owner.\n",
            "- Personal Property: Each party shall retain their personal <IN_PAN>, including furniture,\n",
            "electronics, and other household items as mutually agreed upon.\n",
            "- Debts: All joint debts incurred during the marriage shall be divided equally unless\n",
            "otherwise specified herein.\n",
            "3. Child Custody and Support\n",
            "The parties agree to the following custody and support arrangement:\n",
            "- Legal Custody: Joint legal custody shall be granted to both parties, meaning both parents\n",
            "shall share decision-making authority regarding the children’s education, <IN_PAN>, and\n",
            "general welfare.\n",
            "- Physical Custody: The children shall reside primarily with [Parent Name], with <IN_PAN>\n",
            "rights granted to [Other Parent Name] as follows:- Weekends: <DATE_TIME> from <DATE_TIME> at <DATE_TIME> at <DATE_TIME>.\n",
            "- Holidays: The children shall alternate holidays between the parents as follows:\n",
            "<DATE_TIME> with [Parent A] in even <DATE_TIME>, <DATE_TIME> with [Parent B] in <DATE_TIME>, etc.\n",
            "- Child Support: <PERSON> shall pay <MONEY> per month in child support to <PERSON>. Payments shall be made via bank transfer and are due on <DATE_TIME>.\n",
            "- Medical Expenses: Both parties shall equally share any uninsured medical, dental, or\n",
            "educational expenses for the children.\n",
            "4. Spousal Support (Alimony)\n",
            "The parties agree to the following spousal support arrangement:\n",
            "- <PERSON> shall pay <MONEY> per month in spousal support to <PERSON> for a\n",
            "period of <DATE_TIME>, beginning on <DATE_TIME>.\n",
            "- The <IN_PAN> to pay spousal support shall terminate upon the death of either party, the\n",
            "<IN_PAN> of the receiving party, or the <IN_PAN> of the agreed-upon duration, whichever\n",
            "occurs first.\n",
            "5. Health Insurance and Benefits\n",
            "The parties agree to the following regarding health insurance and benefits:\n",
            "- Health Insurance: <PERSON> shall maintain health insurance coverage for the children\n",
            "until they reach the age of majority or graduate from high school, whichever occurs later.\n",
            "- Life Insurance: <PERSON> shall maintain a life insurance policy with a face value of\n",
            "<MONEY>, naming <PERSON> as the beneficiary to secure child support and/or\n",
            "spousal support obligations.\n",
            "6. Tax Matters\n",
            "The parties agree to the following regarding tax matters:\n",
            "- Dependency Exemptions: The parties shall alternate claiming the children as dependents\n",
            "for tax purposes, with [Parent A] claiming them in even <DATE_TIME> and [Parent B] in <DATE_TIME>.\n",
            "- Filing Status: Each party shall file their taxes separately unless otherwise agreed upon in\n",
            "writing.\n",
            "7. Dispute Resolution\n",
            "In the event of any disputes arising under this Agreement, the parties agree to attempt to\n",
            "resolve such disputes through mediation before pursuing litigation. If mediation fails, the\n",
            "matter may be resolved through arbitration or court proceedings as permitted by law.\n",
            "8. General Provisions\n",
            "The parties agree to the following general provisions:\n",
            "- Entire Agreement: This Agreement constitutes the entire understanding between the\n",
            "parties and supersedes all prior agreements, whether written or oral.\n",
            "- Modifications: Any modifications to this Agreement must be in writing and signed by bothparties.\n",
            "- Governing Law: This Agreement shall be governed by and construed in accordance with\n",
            "the laws of the State of <LOCATION>.\n",
            "9. Signatures\n",
            "<PERSON> Signature:\n",
            "Date: ___/___/20__\n",
            "<PERSON> Signature:\n",
            "Date: ___/___/20__\n",
            "Witness 1: <PERSON>\n",
            "Date: ___/___/20__\n",
            "Witness 2: <PERSON>\n",
            "Date: ___/___/20__\n",
            "Notary Acknowledgment\n",
            "State of <LOCATION> of <LOCATION> this ___ day of __________, 20__, before me, the undersigned notary public, personally\n",
            "appeared <PERSON> and <PERSON>, known to me (or satisfactorily proven) to be\n",
            "the persons whose names are subscribed to this instrument, and acknowledged that they\n",
            "executed it for the purposes therein contained.\n",
            "___________________________\n",
            "Mendoza-Harper, Notary Public\n",
            "My Commission Expires: ___/___/20__\n",
            "items:\n",
            "[\n",
            "    {'start': 5291, 'end': 5299, 'entity_type': 'PERSON', 'text': '<PERSON>', 'operator': 'replace'},\n",
            "    {'start': 5278, 'end': 5286, 'entity_type': 'PERSON', 'text': '<PERSON>', 'operator': 'replace'},\n",
            "    {'start': 5171, 'end': 5181, 'entity_type': 'LOCATION', 'text': '<LOCATION>', 'operator': 'replace'},\n",
            "    {'start': 5157, 'end': 5167, 'entity_type': 'LOCATION', 'text': '<LOCATION>', 'operator': 'replace'},\n",
            "    {'start': 5098, 'end': 5106, 'entity_type': 'PERSON', 'text': '<PERSON>', 'operator': 'replace'},\n",
            "    {'start': 5059, 'end': 5067, 'entity_type': 'PERSON', 'text': '<PERSON>', 'operator': 'replace'},\n",
            "    {'start': 5009, 'end': 5017, 'entity_type': 'PERSON', 'text': '<PERSON>', 'operator': 'replace'},\n",
            "    {'start': 4970, 'end': 4978, 'entity_type': 'PERSON', 'text': '<PERSON>', 'operator': 'replace'},\n",
            "    {'start': 4944, 'end': 4954, 'entity_type': 'LOCATION', 'text': '<LOCATION>', 'operator': 'replace'},\n",
            "    {'start': 4097, 'end': 4108, 'entity_type': 'DATE_TIME', 'text': '<DATE_TIME>', 'operator': 'replace'},\n",
            "    {'start': 4067, 'end': 4078, 'entity_type': 'DATE_TIME', 'text': '<DATE_TIME>', 'operator': 'replace'},\n",
            "    {'start': 3761, 'end': 3769, 'entity_type': 'PERSON', 'text': '<PERSON>', 'operator': 'replace'},\n",
            "    {'start': 3745, 'end': 3752, 'entity_type': 'MONEY', 'text': '<MONEY>', 'operator': 'replace'},\n",
            "    {'start': 3676, 'end': 3684, 'entity_type': 'PERSON', 'text': '<PERSON>', 'operator': 'replace'},\n",
            "    {'start': 3500, 'end': 3508, 'entity_type': 'PERSON', 'text': '<PERSON>', 'operator': 'replace'},\n",
            "    {'start': 3309, 'end': 3317, 'entity_type': 'IN_PAN', 'text': '<IN_PAN>', 'operator': 'replace'},\n",
            "    {'start': 3269, 'end': 3277, 'entity_type': 'IN_PAN', 'text': '<IN_PAN>', 'operator': 'replace'},\n",
            "    {'start': 3185, 'end': 3193, 'entity_type': 'IN_PAN', 'text': '<IN_PAN>', 'operator': 'replace'},\n",
            "    {'start': 3166, 'end': 3177, 'entity_type': 'DATE_TIME', 'text': '<DATE_TIME>', 'operator': 'replace'},\n",
            "    {'start': 3140, 'end': 3151, 'entity_type': 'DATE_TIME', 'text': '<DATE_TIME>', 'operator': 'replace'},\n",
            "    {'start': 3115, 'end': 3123, 'entity_type': 'PERSON', 'text': '<PERSON>', 'operator': 'replace'},\n",
            "    {'start': 3075, 'end': 3082, 'entity_type': 'MONEY', 'text': '<MONEY>', 'operator': 'replace'},\n",
            "    {'start': 3056, 'end': 3064, 'entity_type': 'PERSON', 'text': '<PERSON>', 'operator': 'replace'},\n",
            "    {'start': 2822, 'end': 2833, 'entity_type': 'DATE_TIME', 'text': '<DATE_TIME>', 'operator': 'replace'},\n",
            "    {'start': 2756, 'end': 2764, 'entity_type': 'PERSON', 'text': '<PERSON>', 'operator': 'replace'},\n",
            "    {'start': 2718, 'end': 2725, 'entity_type': 'MONEY', 'text': '<MONEY>', 'operator': 'replace'},\n",
            "    {'start': 2699, 'end': 2707, 'entity_type': 'PERSON', 'text': '<PERSON>', 'operator': 'replace'},\n",
            "    {'start': 2664, 'end': 2675, 'entity_type': 'DATE_TIME', 'text': '<DATE_TIME>', 'operator': 'replace'},\n",
            "    {'start': 2633, 'end': 2644, 'entity_type': 'DATE_TIME', 'text': '<DATE_TIME>', 'operator': 'replace'},\n",
            "    {'start': 2620, 'end': 2631, 'entity_type': 'DATE_TIME', 'text': '<DATE_TIME>', 'operator': 'replace'},\n",
            "    {'start': 2584, 'end': 2595, 'entity_type': 'DATE_TIME', 'text': '<DATE_TIME>', 'operator': 'replace'},\n",
            "    {'start': 2489, 'end': 2500, 'entity_type': 'DATE_TIME', 'text': '<DATE_TIME>', 'operator': 'replace'},\n",
            "    {'start': 2474, 'end': 2485, 'entity_type': 'DATE_TIME', 'text': '<DATE_TIME>', 'operator': 'replace'},\n",
            "    {'start': 2459, 'end': 2470, 'entity_type': 'DATE_TIME', 'text': '<DATE_TIME>', 'operator': 'replace'},\n",
            "    {'start': 2442, 'end': 2453, 'entity_type': 'DATE_TIME', 'text': '<DATE_TIME>', 'operator': 'replace'},\n",
            "    {'start': 2372, 'end': 2380, 'entity_type': 'IN_PAN', 'text': '<IN_PAN>', 'operator': 'replace'},\n",
            "    {'start': 2260, 'end': 2268, 'entity_type': 'IN_PAN', 'text': '<IN_PAN>', 'operator': 'replace'},\n",
            "    {'start': 1788, 'end': 1796, 'entity_type': 'IN_PAN', 'text': '<IN_PAN>', 'operator': 'replace'},\n",
            "    {'start': 1648, 'end': 1656, 'entity_type': 'IN_PAN', 'text': '<IN_PAN>', 'operator': 'replace'},\n",
            "    {'start': 1459, 'end': 1467, 'entity_type': 'IN_PAN', 'text': '<IN_PAN>', 'operator': 'replace'},\n",
            "    {'start': 1410, 'end': 1418, 'entity_type': 'IN_PAN', 'text': '<IN_PAN>', 'operator': 'replace'},\n",
            "    {'start': 1361, 'end': 1369, 'entity_type': 'IN_PAN', 'text': '<IN_PAN>', 'operator': 'replace'},\n",
            "    {'start': 1231, 'end': 1239, 'entity_type': 'PERSON', 'text': '<PERSON>', 'operator': 'replace'},\n",
            "    {'start': 1152, 'end': 1160, 'entity_type': 'PERSON', 'text': '<PERSON>', 'operator': 'replace'},\n",
            "    {'start': 1116, 'end': 1127, 'entity_type': 'DATE_TIME', 'text': '<DATE_TIME>', 'operator': 'replace'},\n",
            "    {'start': 1101, 'end': 1111, 'entity_type': 'LOCATION', 'text': '<LOCATION>', 'operator': 'replace'},\n",
            "    {'start': 1090, 'end': 1100, 'entity_type': 'LOCATION', 'text': '<LOCATION>', 'operator': 'replace'},\n",
            "    {'start': 551, 'end': 562, 'entity_type': 'DATE_TIME', 'text': '<DATE_TIME>', 'operator': 'replace'},\n",
            "    {'start': 538, 'end': 546, 'entity_type': 'PERSON', 'text': '<PERSON>', 'operator': 'replace'},\n",
            "    {'start': 494, 'end': 505, 'entity_type': 'DATE_TIME', 'text': '<DATE_TIME>', 'operator': 'replace'},\n",
            "    {'start': 251, 'end': 261, 'entity_type': 'LOCATION', 'text': '<LOCATION>', 'operator': 'replace'},\n",
            "    {'start': 224, 'end': 232, 'entity_type': 'PERSON', 'text': '<PERSON>', 'operator': 'replace'},\n",
            "    {'start': 198, 'end': 206, 'entity_type': 'PERSON', 'text': '<PERSON>', 'operator': 'replace'},\n",
            "    {'start': 156, 'end': 166, 'entity_type': 'LOCATION', 'text': '<LOCATION>', 'operator': 'replace'},\n",
            "    {'start': 130, 'end': 138, 'entity_type': 'PERSON', 'text': '<PERSON>', 'operator': 'replace'},\n",
            "    {'start': 99, 'end': 107, 'entity_type': 'IN_PAN', 'text': '<IN_PAN>', 'operator': 'replace'}\n",
            "]\n",
            "\n"
          ]
        }
      ],
      "source": [
        "from presidio_anonymizer import AnonymizerEngine\n",
        "\n",
        "# Initialize the anonymizer\n",
        "anonymizer = AnonymizerEngine()\n",
        "\n",
        "# Anonymize the text\n",
        "anonymized_text = anonymizer.anonymize(text=extracted_text, analyzer_results=results)\n",
        "print(\"Anonymized Text:\", anonymized_text)"
      ]
    },
    {
      "cell_type": "markdown",
      "metadata": {
        "id": "mauxXgZ0_sny"
      },
      "source": [
        "# Presidio + Transformers\n",
        "\n",
        "```\n",
        "# This is formatted as code\n",
        "```\n",
        "\n"
      ]
    },
    {
      "cell_type": "code",
      "execution_count": null,
      "metadata": {
        "colab": {
          "base_uri": "https://localhost:8080/"
        },
        "id": "R3wMVNee31Fw",
        "outputId": "6d2b069d-412e-466c-9631-d994393d2e14"
      },
      "outputs": [
        {
          "name": "stdout",
          "output_type": "stream",
          "text": [
            "Requirement already satisfied: datasets in /usr/local/lib/python3.11/dist-packages (3.3.2)\n",
            "Requirement already satisfied: filelock in /usr/local/lib/python3.11/dist-packages (from datasets) (3.17.0)\n",
            "Requirement already satisfied: numpy>=1.17 in /usr/local/lib/python3.11/dist-packages (from datasets) (1.26.4)\n",
            "Requirement already satisfied: pyarrow>=15.0.0 in /usr/local/lib/python3.11/dist-packages (from datasets) (17.0.0)\n",
            "Requirement already satisfied: dill<0.3.9,>=0.3.0 in /usr/local/lib/python3.11/dist-packages (from datasets) (0.3.8)\n",
            "Requirement already satisfied: pandas in /usr/local/lib/python3.11/dist-packages (from datasets) (2.2.2)\n",
            "Requirement already satisfied: requests>=2.32.2 in /usr/local/lib/python3.11/dist-packages (from datasets) (2.32.3)\n",
            "Requirement already satisfied: tqdm>=4.66.3 in /usr/local/lib/python3.11/dist-packages (from datasets) (4.67.1)\n",
            "Requirement already satisfied: xxhash in /usr/local/lib/python3.11/dist-packages (from datasets) (3.5.0)\n",
            "Requirement already satisfied: multiprocess<0.70.17 in /usr/local/lib/python3.11/dist-packages (from datasets) (0.70.16)\n",
            "Requirement already satisfied: fsspec<=2024.12.0,>=2023.1.0 in /usr/local/lib/python3.11/dist-packages (from fsspec[http]<=2024.12.0,>=2023.1.0->datasets) (2024.10.0)\n",
            "Requirement already satisfied: aiohttp in /usr/local/lib/python3.11/dist-packages (from datasets) (3.11.12)\n",
            "Requirement already satisfied: huggingface-hub>=0.24.0 in /usr/local/lib/python3.11/dist-packages (from datasets) (0.28.1)\n",
            "Requirement already satisfied: packaging in /usr/local/lib/python3.11/dist-packages (from datasets) (24.2)\n",
            "Requirement already satisfied: pyyaml>=5.1 in /usr/local/lib/python3.11/dist-packages (from datasets) (6.0.2)\n",
            "Requirement already satisfied: aiohappyeyeballs>=2.3.0 in /usr/local/lib/python3.11/dist-packages (from aiohttp->datasets) (2.4.6)\n",
            "Requirement already satisfied: aiosignal>=1.1.2 in /usr/local/lib/python3.11/dist-packages (from aiohttp->datasets) (1.3.2)\n",
            "Requirement already satisfied: attrs>=17.3.0 in /usr/local/lib/python3.11/dist-packages (from aiohttp->datasets) (25.1.0)\n",
            "Requirement already satisfied: frozenlist>=1.1.1 in /usr/local/lib/python3.11/dist-packages (from aiohttp->datasets) (1.5.0)\n",
            "Requirement already satisfied: multidict<7.0,>=4.5 in /usr/local/lib/python3.11/dist-packages (from aiohttp->datasets) (6.1.0)\n",
            "Requirement already satisfied: propcache>=0.2.0 in /usr/local/lib/python3.11/dist-packages (from aiohttp->datasets) (0.2.1)\n",
            "Requirement already satisfied: yarl<2.0,>=1.17.0 in /usr/local/lib/python3.11/dist-packages (from aiohttp->datasets) (1.18.3)\n",
            "Requirement already satisfied: typing-extensions>=3.7.4.3 in /usr/local/lib/python3.11/dist-packages (from huggingface-hub>=0.24.0->datasets) (4.12.2)\n",
            "Requirement already satisfied: charset-normalizer<4,>=2 in /usr/local/lib/python3.11/dist-packages (from requests>=2.32.2->datasets) (3.4.1)\n",
            "Requirement already satisfied: idna<4,>=2.5 in /usr/local/lib/python3.11/dist-packages (from requests>=2.32.2->datasets) (3.10)\n",
            "Requirement already satisfied: urllib3<3,>=1.21.1 in /usr/local/lib/python3.11/dist-packages (from requests>=2.32.2->datasets) (2.3.0)\n",
            "Requirement already satisfied: certifi>=2017.4.17 in /usr/local/lib/python3.11/dist-packages (from requests>=2.32.2->datasets) (2025.1.31)\n",
            "Requirement already satisfied: python-dateutil>=2.8.2 in /usr/local/lib/python3.11/dist-packages (from pandas->datasets) (2.8.2)\n",
            "Requirement already satisfied: pytz>=2020.1 in /usr/local/lib/python3.11/dist-packages (from pandas->datasets) (2025.1)\n",
            "Requirement already satisfied: tzdata>=2022.7 in /usr/local/lib/python3.11/dist-packages (from pandas->datasets) (2025.1)\n",
            "Requirement already satisfied: six>=1.5 in /usr/local/lib/python3.11/dist-packages (from python-dateutil>=2.8.2->pandas->datasets) (1.17.0)\n"
          ]
        }
      ],
      "source": [
        "!pip install datasets"
      ]
    },
    {
      "cell_type": "code",
      "execution_count": null,
      "metadata": {
        "id": "LLUSnm62CP9s"
      },
      "outputs": [],
      "source": [
        "import json\n",
        "with open(r'legal_labels_20.jsonl') as f:\n",
        "    data = f.read()"
      ]
    },
    {
      "cell_type": "code",
      "execution_count": null,
      "metadata": {
        "id": "7ld-38FtFOs5"
      },
      "outputs": [],
      "source": [
        "import ast\n",
        "data_list = data.split(\"\\n\")\n",
        "data_final = []\n",
        "for d in data_list[:-1]:\n",
        "    data_final.append(ast.literal_eval(d))"
      ]
    },
    {
      "cell_type": "code",
      "execution_count": null,
      "metadata": {
        "id": "dWh7YteH_udP"
      },
      "outputs": [],
      "source": [
        "def convert_to_bio(text, labels):\n",
        "    tokens = text.split()\n",
        "    bio_labels = ['O'] * len(tokens)\n",
        "\n",
        "    for start, end, label in labels:\n",
        "        entity_text = text[start:end]\n",
        "        entity_tokens = entity_text.split()\n",
        "        entity_start = text[:start].count(' ')\n",
        "        entity_end = entity_start + len(entity_tokens)\n",
        "\n",
        "        if len(entity_tokens) > 0:\n",
        "            try:\n",
        "              bio_labels[entity_start] = f'B-{label}'\n",
        "              for i in range(entity_start + 1, entity_end):\n",
        "                  bio_labels[i] = f'I-{label}'\n",
        "            except:\n",
        "              pass\n",
        "    return list(zip(tokens, bio_labels))\n",
        "\n",
        "bio_data_final = []\n",
        "for data in data_final:\n",
        "  text = data['text']\n",
        "  labels = data['label']\n",
        "  bio_data = convert_to_bio(text, labels)\n",
        "  bio_data_final.append(bio_data)"
      ]
    },
    {
      "cell_type": "code",
      "execution_count": null,
      "metadata": {
        "colab": {
          "base_uri": "https://localhost:8080/"
        },
        "id": "WQVwO5jNHyB6",
        "outputId": "b2a9b972-98cf-4ca7-9288-ac97e3007519"
      },
      "outputs": [
        {
          "data": {
            "text/plain": [
              "59"
            ]
          },
          "execution_count": 7,
          "metadata": {},
          "output_type": "execute_result"
        }
      ],
      "source": [
        "len(bio_data_final)"
      ]
    },
    {
      "cell_type": "code",
      "execution_count": null,
      "metadata": {
        "id": "Tc7ymXmgAK1b"
      },
      "outputs": [],
      "source": [
        "from datasets import Dataset\n",
        "\n",
        "# Create a dataset where each document's tokens and labels are kept separate\n",
        "dataset = Dataset.from_dict({\n",
        "    \"tokens\": [[token for token, _ in bio_data] for bio_data in bio_data_final],\n",
        "    \"ner_tags\": [[label for _, label in bio_data] for bio_data in bio_data_final]\n",
        "})"
      ]
    },
    {
      "cell_type": "code",
      "execution_count": null,
      "metadata": {
        "id": "D7qbk_LpBBQI"
      },
      "outputs": [],
      "source": [
        "# Split into train and validation\n",
        "train_test_split = dataset.train_test_split(test_size=0.2, seed=42)\n",
        "train_dataset = train_test_split['train']\n",
        "val_dataset = train_test_split['test']"
      ]
    },
    {
      "cell_type": "code",
      "execution_count": null,
      "metadata": {
        "colab": {
          "base_uri": "https://localhost:8080/"
        },
        "id": "fE3Kw89nIvnK",
        "outputId": "11ff9cd9-b8ac-4f11-eb6e-9fd4104abb8c"
      },
      "outputs": [
        {
          "name": "stdout",
          "output_type": "stream",
          "text": [
            "Label to ID mapping: {'B-COUNTRY': 0, 'B-DATE': 1, 'B-MONEY': 2, 'B-NAME': 3, 'B-STREET_ADDRESS': 4, 'B-TENURE': 5, 'I-COUNTRY': 6, 'I-DATE': 7, 'I-NAME': 8, 'I-STREET_ADDRESS': 9, 'I-TENURE': 10, 'O': 11}\n"
          ]
        }
      ],
      "source": [
        "# Extract all unique labels\n",
        "unique_labels = sorted(set(label for bio_data in bio_data_final for _, label in bio_data))\n",
        "\n",
        "# Create a mapping from label to ID\n",
        "label_to_id = {label: i for i, label in enumerate(unique_labels)}\n",
        "id_to_label = {i: label for label, i in label_to_id.items()}\n",
        "\n",
        "print(\"Label to ID mapping:\", label_to_id)"
      ]
    },
    {
      "cell_type": "code",
      "execution_count": null,
      "metadata": {
        "id": "aAS0FrBHIzes"
      },
      "outputs": [],
      "source": [
        "# Convert string labels to integer IDs\n",
        "converted_bio_data_final = []\n",
        "for bio_data in bio_data_final:\n",
        "    converted_bio_data = [(token, label_to_id[label]) for token, label in bio_data]\n",
        "    converted_bio_data_final.append(converted_bio_data)"
      ]
    },
    {
      "cell_type": "code",
      "execution_count": null,
      "metadata": {
        "id": "32bGHdpuI2Md"
      },
      "outputs": [],
      "source": [
        "from datasets import Dataset\n",
        "\n",
        "# Create a dataset where each document's tokens and labels are kept separate\n",
        "dataset = Dataset.from_dict({\n",
        "    \"tokens\": [[token for token, _ in bio_data] for bio_data in converted_bio_data_final],\n",
        "    \"ner_tags\": [[label for _, label in bio_data] for bio_data in converted_bio_data_final]\n",
        "})"
      ]
    },
    {
      "cell_type": "code",
      "execution_count": null,
      "metadata": {
        "colab": {
          "base_uri": "https://localhost:8080/",
          "height": 81,
          "referenced_widgets": [
            "bd58888ea3e444478ff13315b346a865",
            "146828428c32468897503901cb86c509",
            "11be3dbdcfc44b21b044d1c485b01bf0",
            "236ce9ed44094c6ea1cf0d246090db49",
            "1ced9be91cb6484d99da5dd7ddfeb2d6",
            "3e2603008843456b8d0cd517407506f6",
            "774b3de3abc046c6a4a9f41f1c4ab984",
            "6524970f918c46ccab64e8cfb697cae3",
            "30fd37cc0f85401fb20c773772751586",
            "d62652d18aa9483e84c3df41b9c7ff9a",
            "f7e79a9e885b448faeccb2c1011bc81e",
            "b2ac39674559465aa60370eff13dca2b",
            "36e0258f25bb4adba53225aa8a629ef2",
            "682eb415635447af92c42b0da2c4e25b",
            "ccdc6f15a92946b3a91ca8a890c9c818",
            "3d3d52047b6647e886ddcd3f91f2b955",
            "5f90a4f7865d4b7fa2c8515f5c832432",
            "00828d5aa6be4bdf98b94a08dcb73abd",
            "19d5cbb7ae9a4558b32df92a9b65a41f",
            "5d51d16030a34ff38c12c62843c55e4f",
            "078ff248affe4783952ce27c45ef3c11",
            "388409d9e7ca4c34aab7dee4840fc64d"
          ]
        },
        "id": "23bziCyCDYlb",
        "outputId": "4fb05a8f-1e50-4ab7-f176-ae02bd15d26e"
      },
      "outputs": [
        {
          "data": {
            "application/vnd.jupyter.widget-view+json": {
              "model_id": "bd58888ea3e444478ff13315b346a865",
              "version_major": 2,
              "version_minor": 0
            },
            "text/plain": [
              "Map:   0%|          | 0/47 [00:00<?, ? examples/s]"
            ]
          },
          "metadata": {},
          "output_type": "display_data"
        },
        {
          "data": {
            "application/vnd.jupyter.widget-view+json": {
              "model_id": "b2ac39674559465aa60370eff13dca2b",
              "version_major": 2,
              "version_minor": 0
            },
            "text/plain": [
              "Map:   0%|          | 0/12 [00:00<?, ? examples/s]"
            ]
          },
          "metadata": {},
          "output_type": "display_data"
        }
      ],
      "source": [
        "from transformers import AutoTokenizer\n",
        "\n",
        "# Load a pre-trained tokenizer\n",
        "model_name = \"bert-base-cased\"\n",
        "tokenizer = AutoTokenizer.from_pretrained(model_name)\n",
        "\n",
        "def tokenize_and_align_labels(examples):\n",
        "    tokenized_inputs = tokenizer(\n",
        "        examples[\"tokens\"],\n",
        "        truncation=True,\n",
        "        is_split_into_words=True,\n",
        "        padding=\"max_length\",\n",
        "        max_length=512  # Adjust based on your model's maximum input length\n",
        "    )\n",
        "\n",
        "    labels = []\n",
        "    for i, label in enumerate(examples[\"ner_tags\"]):\n",
        "        word_ids = tokenized_inputs.word_ids(batch_index=i)\n",
        "        previous_word_idx = None\n",
        "        label_ids = []\n",
        "        for word_idx in word_ids:\n",
        "            if word_idx is None:\n",
        "                label_ids.append(-100)\n",
        "            elif word_idx != previous_word_idx:\n",
        "                label_ids.append(label[word_idx])\n",
        "            else:  # Subword tokens\n",
        "                label_ids.append(-100)\n",
        "            previous_word_idx = word_idx\n",
        "        labels.append(label_ids)\n",
        "\n",
        "    tokenized_inputs[\"labels\"] = labels\n",
        "    return tokenized_inputs\n",
        "\n",
        "\n",
        "train_test_split = dataset.train_test_split(test_size=0.2, seed=42)\n",
        "train_dataset = train_test_split['train']\n",
        "val_dataset = train_test_split['test']\n",
        "\n",
        "train_tokenized = train_dataset.map(tokenize_and_align_labels, batched=True)\n",
        "val_tokenized = val_dataset.map(tokenize_and_align_labels, batched=True)"
      ]
    },
    {
      "cell_type": "code",
      "execution_count": null,
      "metadata": {
        "colab": {
          "base_uri": "https://localhost:8080/"
        },
        "id": "MNqMNLEMKM5H",
        "outputId": "e76dec93-e9cb-460d-c96c-07694740e57b"
      },
      "outputs": [
        {
          "name": "stdout",
          "output_type": "stream",
          "text": [
            "Requirement already satisfied: evaluate in /usr/local/lib/python3.11/dist-packages (0.4.3)\n",
            "Requirement already satisfied: datasets>=2.0.0 in /usr/local/lib/python3.11/dist-packages (from evaluate) (3.3.2)\n",
            "Requirement already satisfied: numpy>=1.17 in /usr/local/lib/python3.11/dist-packages (from evaluate) (1.26.4)\n",
            "Requirement already satisfied: dill in /usr/local/lib/python3.11/dist-packages (from evaluate) (0.3.8)\n",
            "Requirement already satisfied: pandas in /usr/local/lib/python3.11/dist-packages (from evaluate) (2.2.2)\n",
            "Requirement already satisfied: requests>=2.19.0 in /usr/local/lib/python3.11/dist-packages (from evaluate) (2.32.3)\n",
            "Requirement already satisfied: tqdm>=4.62.1 in /usr/local/lib/python3.11/dist-packages (from evaluate) (4.67.1)\n",
            "Requirement already satisfied: xxhash in /usr/local/lib/python3.11/dist-packages (from evaluate) (3.5.0)\n",
            "Requirement already satisfied: multiprocess in /usr/local/lib/python3.11/dist-packages (from evaluate) (0.70.16)\n",
            "Requirement already satisfied: fsspec>=2021.05.0 in /usr/local/lib/python3.11/dist-packages (from fsspec[http]>=2021.05.0->evaluate) (2024.10.0)\n",
            "Requirement already satisfied: huggingface-hub>=0.7.0 in /usr/local/lib/python3.11/dist-packages (from evaluate) (0.28.1)\n",
            "Requirement already satisfied: packaging in /usr/local/lib/python3.11/dist-packages (from evaluate) (24.2)\n",
            "Requirement already satisfied: filelock in /usr/local/lib/python3.11/dist-packages (from datasets>=2.0.0->evaluate) (3.17.0)\n",
            "Requirement already satisfied: pyarrow>=15.0.0 in /usr/local/lib/python3.11/dist-packages (from datasets>=2.0.0->evaluate) (17.0.0)\n",
            "Requirement already satisfied: aiohttp in /usr/local/lib/python3.11/dist-packages (from datasets>=2.0.0->evaluate) (3.11.12)\n",
            "Requirement already satisfied: pyyaml>=5.1 in /usr/local/lib/python3.11/dist-packages (from datasets>=2.0.0->evaluate) (6.0.2)\n",
            "Requirement already satisfied: typing-extensions>=3.7.4.3 in /usr/local/lib/python3.11/dist-packages (from huggingface-hub>=0.7.0->evaluate) (4.12.2)\n",
            "Requirement already satisfied: charset-normalizer<4,>=2 in /usr/local/lib/python3.11/dist-packages (from requests>=2.19.0->evaluate) (3.4.1)\n",
            "Requirement already satisfied: idna<4,>=2.5 in /usr/local/lib/python3.11/dist-packages (from requests>=2.19.0->evaluate) (3.10)\n",
            "Requirement already satisfied: urllib3<3,>=1.21.1 in /usr/local/lib/python3.11/dist-packages (from requests>=2.19.0->evaluate) (2.3.0)\n",
            "Requirement already satisfied: certifi>=2017.4.17 in /usr/local/lib/python3.11/dist-packages (from requests>=2.19.0->evaluate) (2025.1.31)\n",
            "Requirement already satisfied: python-dateutil>=2.8.2 in /usr/local/lib/python3.11/dist-packages (from pandas->evaluate) (2.8.2)\n",
            "Requirement already satisfied: pytz>=2020.1 in /usr/local/lib/python3.11/dist-packages (from pandas->evaluate) (2025.1)\n",
            "Requirement already satisfied: tzdata>=2022.7 in /usr/local/lib/python3.11/dist-packages (from pandas->evaluate) (2025.1)\n",
            "Requirement already satisfied: aiohappyeyeballs>=2.3.0 in /usr/local/lib/python3.11/dist-packages (from aiohttp->datasets>=2.0.0->evaluate) (2.4.6)\n",
            "Requirement already satisfied: aiosignal>=1.1.2 in /usr/local/lib/python3.11/dist-packages (from aiohttp->datasets>=2.0.0->evaluate) (1.3.2)\n",
            "Requirement already satisfied: attrs>=17.3.0 in /usr/local/lib/python3.11/dist-packages (from aiohttp->datasets>=2.0.0->evaluate) (25.1.0)\n",
            "Requirement already satisfied: frozenlist>=1.1.1 in /usr/local/lib/python3.11/dist-packages (from aiohttp->datasets>=2.0.0->evaluate) (1.5.0)\n",
            "Requirement already satisfied: multidict<7.0,>=4.5 in /usr/local/lib/python3.11/dist-packages (from aiohttp->datasets>=2.0.0->evaluate) (6.1.0)\n",
            "Requirement already satisfied: propcache>=0.2.0 in /usr/local/lib/python3.11/dist-packages (from aiohttp->datasets>=2.0.0->evaluate) (0.2.1)\n",
            "Requirement already satisfied: yarl<2.0,>=1.17.0 in /usr/local/lib/python3.11/dist-packages (from aiohttp->datasets>=2.0.0->evaluate) (1.18.3)\n",
            "Requirement already satisfied: six>=1.5 in /usr/local/lib/python3.11/dist-packages (from python-dateutil>=2.8.2->pandas->evaluate) (1.17.0)\n"
          ]
        }
      ],
      "source": [
        "!pip install evaluate"
      ]
    },
    {
      "cell_type": "code",
      "execution_count": null,
      "metadata": {
        "colab": {
          "base_uri": "https://localhost:8080/"
        },
        "id": "lgt-jJsJKWim",
        "outputId": "10a60fc2-6649-4cae-c8bf-4240ecf23636"
      },
      "outputs": [
        {
          "name": "stdout",
          "output_type": "stream",
          "text": [
            "Requirement already satisfied: seqeval in /usr/local/lib/python3.11/dist-packages (1.2.2)\n",
            "Requirement already satisfied: numpy>=1.14.0 in /usr/local/lib/python3.11/dist-packages (from seqeval) (1.26.4)\n",
            "Requirement already satisfied: scikit-learn>=0.21.3 in /usr/local/lib/python3.11/dist-packages (from seqeval) (1.6.1)\n",
            "Requirement already satisfied: scipy>=1.6.0 in /usr/local/lib/python3.11/dist-packages (from scikit-learn>=0.21.3->seqeval) (1.13.1)\n",
            "Requirement already satisfied: joblib>=1.2.0 in /usr/local/lib/python3.11/dist-packages (from scikit-learn>=0.21.3->seqeval) (1.4.2)\n",
            "Requirement already satisfied: threadpoolctl>=3.1.0 in /usr/local/lib/python3.11/dist-packages (from scikit-learn>=0.21.3->seqeval) (3.5.0)\n"
          ]
        }
      ],
      "source": [
        "!pip install seqeval"
      ]
    },
    {
      "cell_type": "code",
      "execution_count": null,
      "metadata": {
        "id": "5lzMt4C7KSHI"
      },
      "outputs": [],
      "source": [
        "import evaluate\n",
        "import numpy as np\n",
        "\n",
        "metric = evaluate.load(\"seqeval\")\n",
        "\n",
        "def compute_metrics(p):\n",
        "    predictions, labels = p\n",
        "    predictions = np.argmax(predictions, axis=2)\n",
        "\n",
        "    true_labels = [[id_to_label[l] for l in label if l != -100] for label in labels]\n",
        "    true_predictions = [\n",
        "        [id_to_label[p] for (p, l) in zip(prediction, label) if l != -100]\n",
        "        for prediction, label in zip(predictions, labels)\n",
        "    ]\n",
        "\n",
        "    results = metric.compute(predictions=true_predictions, references=true_labels)\n",
        "    return {\n",
        "        \"precision\": results[\"overall_precision\"],\n",
        "        \"recall\": results[\"overall_recall\"],\n",
        "        \"f1\": results[\"overall_f1\"],\n",
        "        \"accuracy\": results[\"overall_accuracy\"],\n",
        "    }"
      ]
    },
    {
      "cell_type": "code",
      "execution_count": null,
      "metadata": {
        "colab": {
          "base_uri": "https://localhost:8080/",
          "height": 280
        },
        "id": "Lnk74Y95Ilrp",
        "outputId": "3b8bc3df-6675-4bf3-98f3-f3b217249280"
      },
      "outputs": [
        {
          "name": "stderr",
          "output_type": "stream",
          "text": [
            "Some weights of BertForTokenClassification were not initialized from the model checkpoint at bert-base-cased and are newly initialized: ['classifier.bias', 'classifier.weight']\n",
            "You should probably TRAIN this model on a down-stream task to be able to use it for predictions and inference.\n",
            "/usr/local/lib/python3.11/dist-packages/transformers/training_args.py:1575: FutureWarning: `evaluation_strategy` is deprecated and will be removed in version 4.46 of 🤗 Transformers. Use `eval_strategy` instead\n",
            "  warnings.warn(\n",
            "<ipython-input-17-4f68cab92022>:50: FutureWarning: `tokenizer` is deprecated and will be removed in version 5.0.0 for `Trainer.__init__`. Use `processing_class` instead.\n",
            "  trainer = Trainer(\n",
            "\u001b[34m\u001b[1mwandb\u001b[0m: \u001b[33mWARNING\u001b[0m The `run_name` is currently set to the same value as `TrainingArguments.output_dir`. If this was not intended, please specify a different run name by setting the `TrainingArguments.run_name` parameter.\n",
            "\u001b[34m\u001b[1mwandb\u001b[0m: Currently logged in as: \u001b[33mmosrihari\u001b[0m (\u001b[33mmosrihari-na\u001b[0m) to \u001b[32mhttps://api.wandb.ai\u001b[0m. Use \u001b[1m`wandb login --relogin`\u001b[0m to force relogin\n",
            "\u001b[34m\u001b[1mwandb\u001b[0m: Using wandb-core as the SDK backend.  Please refer to https://wandb.me/wandb-core for more information.\n"
          ]
        },
        {
          "data": {
            "text/html": [
              "Tracking run with wandb version 0.19.6"
            ],
            "text/plain": [
              "<IPython.core.display.HTML object>"
            ]
          },
          "metadata": {},
          "output_type": "display_data"
        },
        {
          "data": {
            "text/html": [
              "Run data is saved locally in <code>/content/wandb/run-20250225_120627-tul85i3m</code>"
            ],
            "text/plain": [
              "<IPython.core.display.HTML object>"
            ]
          },
          "metadata": {},
          "output_type": "display_data"
        },
        {
          "data": {
            "text/html": [
              "Syncing run <strong><a href='https://wandb.ai/mosrihari-na/huggingface/runs/tul85i3m' target=\"_blank\">./results</a></strong> to <a href='https://wandb.ai/mosrihari-na/huggingface' target=\"_blank\">Weights & Biases</a> (<a href='https://wandb.me/developer-guide' target=\"_blank\">docs</a>)<br>"
            ],
            "text/plain": [
              "<IPython.core.display.HTML object>"
            ]
          },
          "metadata": {},
          "output_type": "display_data"
        },
        {
          "data": {
            "text/html": [
              " View project at <a href='https://wandb.ai/mosrihari-na/huggingface' target=\"_blank\">https://wandb.ai/mosrihari-na/huggingface</a>"
            ],
            "text/plain": [
              "<IPython.core.display.HTML object>"
            ]
          },
          "metadata": {},
          "output_type": "display_data"
        },
        {
          "data": {
            "text/html": [
              " View run at <a href='https://wandb.ai/mosrihari-na/huggingface/runs/tul85i3m' target=\"_blank\">https://wandb.ai/mosrihari-na/huggingface/runs/tul85i3m</a>"
            ],
            "text/plain": [
              "<IPython.core.display.HTML object>"
            ]
          },
          "metadata": {},
          "output_type": "display_data"
        }
      ],
      "source": [
        "import evaluate\n",
        "import numpy as np\n",
        "from transformers import Trainer, TrainingArguments\n",
        "from transformers import AutoModelForTokenClassification, Trainer, TrainingArguments\n",
        "\n",
        "# Load the seqeval metric using the evaluate library\n",
        "metric = evaluate.load(\"seqeval\")\n",
        "model = AutoModelForTokenClassification.from_pretrained(\n",
        "    model_name,\n",
        "    num_labels=len(unique_labels),\n",
        "    id2label=id_to_label,\n",
        "    label2id=label_to_id\n",
        ")\n",
        "def compute_metrics(p):\n",
        "    predictions, labels = p\n",
        "    predictions = np.argmax(predictions, axis=2)\n",
        "\n",
        "    true_labels = [[id_to_label[l] for l in label if l != -100] for label in labels]\n",
        "    true_predictions = [\n",
        "        [id_to_label[p] for (p, l) in zip(prediction, label) if l != -100]\n",
        "        for prediction, label in zip(predictions, labels)\n",
        "    ]\n",
        "\n",
        "\n",
        "    results = metric.compute(predictions=true_predictions, references=true_labels)\n",
        "    return {\n",
        "        \"precision\": results[\"overall_precision\"],\n",
        "        \"recall\": results[\"overall_recall\"],\n",
        "        \"f1\": results[\"overall_f1\"],\n",
        "        \"accuracy\": results[\"overall_accuracy\"],\n",
        "    }\n",
        "\n",
        "training_args = TrainingArguments(\n",
        "    output_dir=\"./results\",\n",
        "    evaluation_strategy=\"epoch\",\n",
        "    learning_rate=2e-5,\n",
        "    per_device_train_batch_size=16,\n",
        "    per_device_eval_batch_size=16,\n",
        "    num_train_epochs=3,\n",
        "    weight_decay=0.01,\n",
        "    logging_dir=\"./logs\",\n",
        "    logging_steps=10,\n",
        "    save_strategy=\"epoch\",\n",
        "    load_best_model_at_end=True,\n",
        "    metric_for_best_model=\"f1\",\n",
        "    greater_is_better=True\n",
        ")\n",
        "\n",
        "\n",
        "trainer = Trainer(\n",
        "    model=model,\n",
        "    args=training_args,\n",
        "    train_dataset=train_tokenized,\n",
        "    eval_dataset=val_tokenized,\n",
        "    tokenizer=tokenizer,\n",
        "    compute_metrics=compute_metrics\n",
        ")\n",
        "\n",
        "# Train the model\n",
        "trainer.train()"
      ]
    },
    {
      "cell_type": "code",
      "execution_count": null,
      "metadata": {
        "colab": {
          "base_uri": "https://localhost:8080/"
        },
        "id": "NnLzL5qLI_g8",
        "outputId": "afcb6b91-73e9-48cc-f43f-e3a6c639847c"
      },
      "outputs": [
        {
          "data": {
            "text/plain": [
              "('./ner_model/tokenizer_config.json',\n",
              " './ner_model/special_tokens_map.json',\n",
              " './ner_model/vocab.txt',\n",
              " './ner_model/added_tokens.json',\n",
              " './ner_model/tokenizer.json')"
            ]
          },
          "execution_count": 59,
          "metadata": {},
          "output_type": "execute_result"
        }
      ],
      "source": [
        "model.save_pretrained(\"./ner_model\")\n",
        "tokenizer.save_pretrained(\"./ner_model\")"
      ]
    },
    {
      "cell_type": "code",
      "execution_count": null,
      "metadata": {
        "id": "8VMCG1y0LZjt"
      },
      "outputs": [],
      "source": [
        "from transformers import AutoTokenizer, AutoModelForTokenClassification\n",
        "import torch\n",
        "\n",
        "# Load the trained model and tokenizer\n",
        "model = AutoModelForTokenClassification.from_pretrained(\"./ner_model\")\n",
        "tokenizer = AutoTokenizer.from_pretrained(\"./ner_model\")\n",
        "\n",
        "# Define a function to predict entities using the trained model\n",
        "def predict_entities(text):\n",
        "    inputs = tokenizer(text, return_tensors=\"pt\", truncation=True, padding=True, is_split_into_words=False)\n",
        "\n",
        "    with torch.no_grad():\n",
        "        outputs = model(**inputs)\n",
        "\n",
        "    predictions = torch.argmax(outputs.logits, dim=-1).squeeze().tolist()\n",
        "\n",
        "\n",
        "    tokens = tokenizer.convert_ids_to_tokens(inputs[\"input_ids\"].squeeze().tolist())\n",
        "    predicted_labels = [model.config.id2label[label_id] for label_id in predictions]\n",
        "\n",
        "    entities = []\n",
        "    current_entity = None\n",
        "    for token, label in zip(tokens, predicted_labels):\n",
        "        if label.startswith(\"B-\"):\n",
        "            if current_entity:\n",
        "                entities.append(current_entity)\n",
        "            current_entity = {\"entity\": label[2:], \"text\": token}\n",
        "        elif label.startswith(\"I-\") and current_entity:\n",
        "            current_entity[\"text\"] += \" \" + token\n",
        "        else:\n",
        "            if current_entity:\n",
        "                entities.append(current_entity)\n",
        "                current_entity = None\n",
        "\n",
        "    if current_entity:\n",
        "        entities.append(current_entity)\n",
        "\n",
        "    return entities"
      ]
    },
    {
      "cell_type": "code",
      "execution_count": null,
      "metadata": {
        "id": "dMZGgak-LhGU"
      },
      "outputs": [],
      "source": []
    },
    {
      "cell_type": "code",
      "execution_count": null,
      "metadata": {
        "colab": {
          "base_uri": "https://localhost:8080/"
        },
        "id": "3pdiAZw8LePh",
        "outputId": "48a7490b-8269-4342-9e50-dbe3f90dddf1"
      },
      "outputs": [
        {
          "name": "stderr",
          "output_type": "stream",
          "text": [
            "WARNING:presidio-analyzer:Model en_core_web_lg is not installed. Downloading...\n"
          ]
        },
        {
          "name": "stdout",
          "output_type": "stream",
          "text": [
            "\u001b[38;5;2m✔ Download and installation successful\u001b[0m\n",
            "You can now load the package via spacy.load('en_core_web_lg')\n",
            "\u001b[38;5;3m⚠ Restart to reload dependencies\u001b[0m\n",
            "If you are in a Jupyter or Colab notebook, you may need to restart Python in\n",
            "order to load all the package's dependencies. You can do this by selecting the\n",
            "'Restart kernel' or 'Restart runtime' option.\n"
          ]
        },
        {
          "name": "stderr",
          "output_type": "stream",
          "text": [
            "WARNING:presidio-analyzer:Recognizer not added to registry because language is not supported by registry - CreditCardRecognizer supported languages: es, registry supported languages: en\n",
            "WARNING:presidio-analyzer:Recognizer not added to registry because language is not supported by registry - CreditCardRecognizer supported languages: it, registry supported languages: en\n",
            "WARNING:presidio-analyzer:Recognizer not added to registry because language is not supported by registry - CreditCardRecognizer supported languages: pl, registry supported languages: en\n",
            "WARNING:presidio-analyzer:Recognizer not added to registry because language is not supported by registry - EsNifRecognizer supported languages: es, registry supported languages: en\n",
            "WARNING:presidio-analyzer:Recognizer not added to registry because language is not supported by registry - EsNieRecognizer supported languages: es, registry supported languages: en\n",
            "WARNING:presidio-analyzer:Recognizer not added to registry because language is not supported by registry - ItDriverLicenseRecognizer supported languages: it, registry supported languages: en\n",
            "WARNING:presidio-analyzer:Recognizer not added to registry because language is not supported by registry - ItFiscalCodeRecognizer supported languages: it, registry supported languages: en\n",
            "WARNING:presidio-analyzer:Recognizer not added to registry because language is not supported by registry - ItVatCodeRecognizer supported languages: it, registry supported languages: en\n",
            "WARNING:presidio-analyzer:Recognizer not added to registry because language is not supported by registry - ItIdentityCardRecognizer supported languages: it, registry supported languages: en\n",
            "WARNING:presidio-analyzer:Recognizer not added to registry because language is not supported by registry - ItPassportRecognizer supported languages: it, registry supported languages: en\n",
            "WARNING:presidio-analyzer:Recognizer not added to registry because language is not supported by registry - PlPeselRecognizer supported languages: pl, registry supported languages: en\n"
          ]
        }
      ],
      "source": [
        "from presidio_analyzer import AnalyzerEngine\n",
        "\n",
        "analyzer = AnalyzerEngine()\n",
        "\n",
        "def detect_entities_with_presidio(text):\n",
        "    results = analyzer.analyze(text=text, language=\"en\")\n",
        "    entities = [{\"entity\": result.entity_type, \"text\": text[result.start:result.end]} for result in results]\n",
        "    return entities"
      ]
    },
    {
      "cell_type": "code",
      "execution_count": null,
      "metadata": {
        "id": "g7iyZEwZLgEp"
      },
      "outputs": [],
      "source": [
        "def combine_results(text):\n",
        "    custom_entities = predict_entities(text)\n",
        "\n",
        "    presidio_entities = detect_entities_with_presidio(text)\n",
        "\n",
        "    combined_entities = custom_entities + presidio_entities\n",
        "\n",
        "    unique_entities = []\n",
        "    seen = set()\n",
        "    for entity in combined_entities:\n",
        "        key = (entity[\"entity\"], entity[\"text\"])\n",
        "        if key not in seen:\n",
        "            seen.add(key)\n",
        "            unique_entities.append(entity)\n",
        "\n",
        "    return unique_entities"
      ]
    },
    {
      "cell_type": "code",
      "execution_count": null,
      "metadata": {
        "id": "wYm3-2YnMFJ5"
      },
      "outputs": [],
      "source": [
        "with open('/content/Detailed_Divorce_Agreement_12.txt') as f:\n",
        "  text = f.read()"
      ]
    },
    {
      "cell_type": "code",
      "execution_count": null,
      "metadata": {
        "colab": {
          "base_uri": "https://localhost:8080/"
        },
        "id": "ssms4ToRLxzr",
        "outputId": "6a0324d6-2a3c-44eb-8c52-6671fbd2e9c1"
      },
      "outputs": [
        {
          "name": "stdout",
          "output_type": "stream",
          "text": [
            "Entity: NAME, Text: [CLS]\n",
            "Entity: NAME, Text: Di ##vor ##ce\n",
            "Entity: DATE, Text: Di ##vor ##ce\n",
            "Entity: MONEY, Text: (\n",
            "Entity: TENURE, Text: \"\n",
            "Entity: TENURE, Text: is\n",
            "Entity: STREET_ADDRESS, Text: ,\n",
            "Entity: COUNTRY, Text: 20\n",
            "Entity: STREET_ADDRESS, Text: , by\n",
            "Entity: MONEY, Text: between\n",
            "Entity: TENURE, Text: Hector Carson\n",
            "Entity: MONEY, Text: ,\n",
            "Entity: TENURE, Text: 64\n",
            "Entity: TENURE, Text: ##8\n",
            "Entity: TENURE, Text: 73 ##20 ##4\n",
            "Entity: COUNTRY, Text: and\n",
            "Entity: MONEY, Text: ##5\n",
            "Entity: STREET_ADDRESS, Text: ##15\n",
            "Entity: TENURE, Text: to dissolve their\n",
            "Entity: DATE, Text: all\n",
            "Entity: TENURE, Text: of\n",
            "Entity: TENURE, Text: , child\n",
            "Entity: TENURE, Text: ,\n",
            "Entity: TENURE, Text: s\n",
            "Entity: TENURE, Text: support , and\n",
            "Entity: COUNTRY, Text: 1\n",
            "Entity: TENURE, Text: ##tals\n",
            "Entity: TENURE, Text: W\n",
            "Entity: MONEY, Text: ##ER\n",
            "Entity: COUNTRY, Text: married\n",
            "Entity: STREET_ADDRESS, Text: 23\n",
            "Entity: NAME, Text: Peter Isle\n",
            "Entity: TENURE, Text: Martin\n",
            "Entity: TENURE, Text: ##view\n",
            "Entity: TENURE, Text: , NJ\n",
            "Entity: TENURE, Text: ##35\n",
            "Entity: MONEY, Text: am\n",
            "Entity: COUNTRY, Text: ,\n",
            "Entity: TENURE, Text: including\n",
            "Entity: TENURE, Text: limited\n",
            "Entity: TENURE, Text: to\n",
            "Entity: TENURE, Text: ##W\n",
            "Entity: TENURE, Text: ##RE\n",
            "Entity: MONEY, Text: ##F\n",
            "Entity: MONEY, Text: ##OR\n",
            "Entity: MONEY, Text: consideration\n",
            "Entity: TENURE, Text: co\n",
            "Entity: TENURE, Text: ##ants\n",
            "Entity: COUNTRY, Text: 2\n",
            "Entity: DATE, Text: De\n",
            "Entity: TENURE, Text: ##s\n",
            "Entity: STREET_ADDRESS, Text: ##26\n",
            "Entity: TENURE, Text: 94\n",
            "Entity: NAME, Text: ##c\n",
            "Entity: TENURE, Text: ##land ##chester\n",
            "Entity: NAME, Text: DC\n",
            "Entity: TENURE, Text: 49\n",
            "Entity: TENURE, Text: ##7\n",
            "Entity: STREET_ADDRESS, Text: ##8\n",
            "Entity: STREET_ADDRESS, Text: ##9\n",
            "Entity: TENURE, Text: Hector\n",
            "Entity: DATE, Text: Any\n",
            "Entity: STREET_ADDRESS, Text: lie\n",
            "Entity: TENURE, Text: ##ns\n",
            "Entity: COUNTRY, Text: Carson\n",
            "Entity: TENURE, Text: Bank\n",
            "Entity: DATE, Text: A\n",
            "Entity: TENURE, Text: joint\n",
            "Entity: TENURE, Text: Re ##ti\n",
            "Entity: DATE, Text: ##rem\n",
            "Entity: TENURE, Text: ##ent\n",
            "Entity: MONEY, Text: Each\n",
            "Entity: TENURE, Text: respective\n",
            "Entity: TENURE, Text: (\n",
            "Entity: STREET_ADDRESS, Text: k )\n",
            "Entity: PERSON, Text: Hector Carson\n",
            "Entity: PERSON, Text: Brian Ford\n",
            "Entity: LOCATION, Text: Port Stevenburgh\n",
            "Entity: PERSON, Text: Monica Ayala\n",
            "Entity: LOCATION, Text: Fox Spur\n",
            "Entity: LOCATION, Text: Lake Johnny\n",
            "Entity: LOCATION, Text: MO\n",
            "Entity: DATE_TIME, Text: 2025-01-23\n",
            "Entity: PERSON, Text: Peter Isle\n",
            "Martinview\n",
            "Entity: LOCATION, Text: NJ 48355\n",
            "Entity: LOCATION, Text: 7226 Lauren Highway Suite\n",
            "Entity: DATE_TIME, Text: Every other weekend\n",
            "Entity: DATE_TIME, Text: Friday\n",
            "Entity: DATE_TIME, Text: 6:00 PM to Sunday\n",
            "Entity: DATE_TIME, Text: 6:00 PM\n",
            "Entity: DATE_TIME, Text: Thanksgiving\n",
            "Entity: DATE_TIME, Text: years\n",
            "Entity: DATE_TIME, Text: Christmas\n",
            "Entity: DATE_TIME, Text: odd years\n",
            "Entity: DATE_TIME, Text: the 1st of each month\n",
            "Entity: DATE_TIME, Text: 5 years\n",
            "Entity: DATE_TIME, Text: 2025-02-05\n",
            "Entity: LOCATION, Text: the State of Indiana\n",
            "Entity: PERSON, Text: Carson\n",
            "Entity: PERSON, Text: Monica Ayala's\n",
            "Entity: PERSON, Text: Brian Waller\n",
            "Entity: PERSON, Text: Michael Lewis\n",
            "Entity: LOCATION, Text: Indiana\n",
            "County\n",
            "Entity: US_DRIVER_LICENSE, Text: 124263\n",
            "Entity: IN_PAN, Text: __________\n",
            "Entity: IN_PAN, Text: 2025-01-23\n",
            "Entity: IN_PAN, Text: Martinview\n",
            "Entity: IN_PAN, Text: Retirement\n",
            "Entity: IN_PAN, Text: respective\n",
            "Entity: IN_PAN, Text: retirement\n",
            "Entity: IN_PAN, Text: associated\n",
            "Entity: IN_PAN, Text: belongings\n",
            "Entity: IN_PAN, Text: healthcare\n",
            "Entity: IN_PAN, Text: visitation\n",
            "Entity: IN_PAN, Text: 2025-02-05\n",
            "Entity: IN_PAN, Text: obligation\n",
            "Entity: IN_PAN, Text: remarriage\n",
            "Entity: IN_PAN, Text: expiration\n"
          ]
        }
      ],
      "source": [
        "# Get combined results\n",
        "results = combine_results(text)\n",
        "\n",
        "# Print the detected entities\n",
        "for entity in results:\n",
        "    print(f\"Entity: {entity['entity']}, Text: {entity['text']}\")"
      ]
    },
    {
      "cell_type": "markdown",
      "metadata": {
        "id": "LOXOAp1GCF0g"
      },
      "source": [
        "# Spacy"
      ]
    },
    {
      "cell_type": "code",
      "execution_count": null,
      "metadata": {
        "id": "wIwOXZ4oCp4x"
      },
      "outputs": [],
      "source": [
        "# https://mjghadge9007.medium.com/building-your-own-custom-named-entity-recognition-ner-model-with-spacy-v3-a-step-by-step-guide-15c7dcb1c416"
      ]
    },
    {
      "cell_type": "code",
      "source": [
        "!pip install -U spacy\n",
        "!pip install spacy_transformers"
      ],
      "metadata": {
        "colab": {
          "base_uri": "https://localhost:8080/"
        },
        "id": "3JOuM3V6GVY6",
        "outputId": "3b3f66f2-3aff-4e75-e51d-ce0f4e653a47"
      },
      "execution_count": 1,
      "outputs": [
        {
          "output_type": "stream",
          "name": "stdout",
          "text": [
            "Requirement already satisfied: spacy in /usr/local/lib/python3.11/dist-packages (3.7.5)\n",
            "Collecting spacy\n",
            "  Downloading spacy-3.8.4-cp311-cp311-manylinux_2_17_x86_64.manylinux2014_x86_64.whl.metadata (27 kB)\n",
            "Requirement already satisfied: spacy-legacy<3.1.0,>=3.0.11 in /usr/local/lib/python3.11/dist-packages (from spacy) (3.0.12)\n",
            "Requirement already satisfied: spacy-loggers<2.0.0,>=1.0.0 in /usr/local/lib/python3.11/dist-packages (from spacy) (1.0.5)\n",
            "Requirement already satisfied: murmurhash<1.1.0,>=0.28.0 in /usr/local/lib/python3.11/dist-packages (from spacy) (1.0.12)\n",
            "Requirement already satisfied: cymem<2.1.0,>=2.0.2 in /usr/local/lib/python3.11/dist-packages (from spacy) (2.0.11)\n",
            "Requirement already satisfied: preshed<3.1.0,>=3.0.2 in /usr/local/lib/python3.11/dist-packages (from spacy) (3.0.9)\n",
            "Collecting thinc<8.4.0,>=8.3.4 (from spacy)\n",
            "  Downloading thinc-8.3.4-cp311-cp311-manylinux_2_17_x86_64.manylinux2014_x86_64.whl.metadata (15 kB)\n",
            "Requirement already satisfied: wasabi<1.2.0,>=0.9.1 in /usr/local/lib/python3.11/dist-packages (from spacy) (1.1.3)\n",
            "Requirement already satisfied: srsly<3.0.0,>=2.4.3 in /usr/local/lib/python3.11/dist-packages (from spacy) (2.5.1)\n",
            "Requirement already satisfied: catalogue<2.1.0,>=2.0.6 in /usr/local/lib/python3.11/dist-packages (from spacy) (2.0.10)\n",
            "Requirement already satisfied: weasel<0.5.0,>=0.1.0 in /usr/local/lib/python3.11/dist-packages (from spacy) (0.4.1)\n",
            "Requirement already satisfied: typer<1.0.0,>=0.3.0 in /usr/local/lib/python3.11/dist-packages (from spacy) (0.15.1)\n",
            "Requirement already satisfied: tqdm<5.0.0,>=4.38.0 in /usr/local/lib/python3.11/dist-packages (from spacy) (4.67.1)\n",
            "Requirement already satisfied: numpy>=1.19.0 in /usr/local/lib/python3.11/dist-packages (from spacy) (1.26.4)\n",
            "Requirement already satisfied: requests<3.0.0,>=2.13.0 in /usr/local/lib/python3.11/dist-packages (from spacy) (2.32.3)\n",
            "Requirement already satisfied: pydantic!=1.8,!=1.8.1,<3.0.0,>=1.7.4 in /usr/local/lib/python3.11/dist-packages (from spacy) (2.10.6)\n",
            "Requirement already satisfied: jinja2 in /usr/local/lib/python3.11/dist-packages (from spacy) (3.1.5)\n",
            "Requirement already satisfied: setuptools in /usr/local/lib/python3.11/dist-packages (from spacy) (75.1.0)\n",
            "Requirement already satisfied: packaging>=20.0 in /usr/local/lib/python3.11/dist-packages (from spacy) (24.2)\n",
            "Requirement already satisfied: langcodes<4.0.0,>=3.2.0 in /usr/local/lib/python3.11/dist-packages (from spacy) (3.5.0)\n",
            "Requirement already satisfied: language-data>=1.2 in /usr/local/lib/python3.11/dist-packages (from langcodes<4.0.0,>=3.2.0->spacy) (1.3.0)\n",
            "Requirement already satisfied: annotated-types>=0.6.0 in /usr/local/lib/python3.11/dist-packages (from pydantic!=1.8,!=1.8.1,<3.0.0,>=1.7.4->spacy) (0.7.0)\n",
            "Requirement already satisfied: pydantic-core==2.27.2 in /usr/local/lib/python3.11/dist-packages (from pydantic!=1.8,!=1.8.1,<3.0.0,>=1.7.4->spacy) (2.27.2)\n",
            "Requirement already satisfied: typing-extensions>=4.12.2 in /usr/local/lib/python3.11/dist-packages (from pydantic!=1.8,!=1.8.1,<3.0.0,>=1.7.4->spacy) (4.12.2)\n",
            "Requirement already satisfied: charset-normalizer<4,>=2 in /usr/local/lib/python3.11/dist-packages (from requests<3.0.0,>=2.13.0->spacy) (3.4.1)\n",
            "Requirement already satisfied: idna<4,>=2.5 in /usr/local/lib/python3.11/dist-packages (from requests<3.0.0,>=2.13.0->spacy) (3.10)\n",
            "Requirement already satisfied: urllib3<3,>=1.21.1 in /usr/local/lib/python3.11/dist-packages (from requests<3.0.0,>=2.13.0->spacy) (2.3.0)\n",
            "Requirement already satisfied: certifi>=2017.4.17 in /usr/local/lib/python3.11/dist-packages (from requests<3.0.0,>=2.13.0->spacy) (2025.1.31)\n",
            "Collecting blis<1.3.0,>=1.2.0 (from thinc<8.4.0,>=8.3.4->spacy)\n",
            "  Downloading blis-1.2.0-cp311-cp311-manylinux_2_17_x86_64.manylinux2014_x86_64.whl.metadata (7.7 kB)\n",
            "Requirement already satisfied: confection<1.0.0,>=0.0.1 in /usr/local/lib/python3.11/dist-packages (from thinc<8.4.0,>=8.3.4->spacy) (0.1.5)\n",
            "Requirement already satisfied: click>=8.0.0 in /usr/local/lib/python3.11/dist-packages (from typer<1.0.0,>=0.3.0->spacy) (8.1.8)\n",
            "Requirement already satisfied: shellingham>=1.3.0 in /usr/local/lib/python3.11/dist-packages (from typer<1.0.0,>=0.3.0->spacy) (1.5.4)\n",
            "Requirement already satisfied: rich>=10.11.0 in /usr/local/lib/python3.11/dist-packages (from typer<1.0.0,>=0.3.0->spacy) (13.9.4)\n",
            "Requirement already satisfied: cloudpathlib<1.0.0,>=0.7.0 in /usr/local/lib/python3.11/dist-packages (from weasel<0.5.0,>=0.1.0->spacy) (0.20.0)\n",
            "Requirement already satisfied: smart-open<8.0.0,>=5.2.1 in /usr/local/lib/python3.11/dist-packages (from weasel<0.5.0,>=0.1.0->spacy) (7.1.0)\n",
            "Requirement already satisfied: MarkupSafe>=2.0 in /usr/local/lib/python3.11/dist-packages (from jinja2->spacy) (3.0.2)\n",
            "Requirement already satisfied: marisa-trie>=1.1.0 in /usr/local/lib/python3.11/dist-packages (from language-data>=1.2->langcodes<4.0.0,>=3.2.0->spacy) (1.2.1)\n",
            "Requirement already satisfied: markdown-it-py>=2.2.0 in /usr/local/lib/python3.11/dist-packages (from rich>=10.11.0->typer<1.0.0,>=0.3.0->spacy) (3.0.0)\n",
            "Requirement already satisfied: pygments<3.0.0,>=2.13.0 in /usr/local/lib/python3.11/dist-packages (from rich>=10.11.0->typer<1.0.0,>=0.3.0->spacy) (2.18.0)\n",
            "Requirement already satisfied: wrapt in /usr/local/lib/python3.11/dist-packages (from smart-open<8.0.0,>=5.2.1->weasel<0.5.0,>=0.1.0->spacy) (1.17.2)\n",
            "Requirement already satisfied: mdurl~=0.1 in /usr/local/lib/python3.11/dist-packages (from markdown-it-py>=2.2.0->rich>=10.11.0->typer<1.0.0,>=0.3.0->spacy) (0.1.2)\n",
            "Downloading spacy-3.8.4-cp311-cp311-manylinux_2_17_x86_64.manylinux2014_x86_64.whl (30.6 MB)\n",
            "\u001b[2K   \u001b[90m━━━━━━━━━━━━━━━━━━━━━━━━━━━━━━━━━━━━━━━━\u001b[0m \u001b[32m30.6/30.6 MB\u001b[0m \u001b[31m18.1 MB/s\u001b[0m eta \u001b[36m0:00:00\u001b[0m\n",
            "\u001b[?25hDownloading thinc-8.3.4-cp311-cp311-manylinux_2_17_x86_64.manylinux2014_x86_64.whl (3.9 MB)\n",
            "\u001b[2K   \u001b[90m━━━━━━━━━━━━━━━━━━━━━━━━━━━━━━━━━━━━━━━━\u001b[0m \u001b[32m3.9/3.9 MB\u001b[0m \u001b[31m56.3 MB/s\u001b[0m eta \u001b[36m0:00:00\u001b[0m\n",
            "\u001b[?25hDownloading blis-1.2.0-cp311-cp311-manylinux_2_17_x86_64.manylinux2014_x86_64.whl (11.7 MB)\n",
            "\u001b[2K   \u001b[90m━━━━━━━━━━━━━━━━━━━━━━━━━━━━━━━━━━━━━━━━\u001b[0m \u001b[32m11.7/11.7 MB\u001b[0m \u001b[31m67.7 MB/s\u001b[0m eta \u001b[36m0:00:00\u001b[0m\n",
            "\u001b[?25hInstalling collected packages: blis, thinc, spacy\n",
            "  Attempting uninstall: blis\n",
            "    Found existing installation: blis 0.7.11\n",
            "    Uninstalling blis-0.7.11:\n",
            "      Successfully uninstalled blis-0.7.11\n",
            "  Attempting uninstall: thinc\n",
            "    Found existing installation: thinc 8.2.5\n",
            "    Uninstalling thinc-8.2.5:\n",
            "      Successfully uninstalled thinc-8.2.5\n",
            "  Attempting uninstall: spacy\n",
            "    Found existing installation: spacy 3.7.5\n",
            "    Uninstalling spacy-3.7.5:\n",
            "      Successfully uninstalled spacy-3.7.5\n",
            "\u001b[31mERROR: pip's dependency resolver does not currently take into account all the packages that are installed. This behaviour is the source of the following dependency conflicts.\n",
            "en-core-web-sm 3.7.1 requires spacy<3.8.0,>=3.7.2, but you have spacy 3.8.4 which is incompatible.\u001b[0m\u001b[31m\n",
            "\u001b[0mSuccessfully installed blis-1.2.0 spacy-3.8.4 thinc-8.3.4\n",
            "Collecting spacy_transformers\n",
            "  Downloading spacy_transformers-1.3.8-cp311-cp311-manylinux_2_17_x86_64.manylinux2014_x86_64.whl.metadata (7.0 kB)\n",
            "Requirement already satisfied: spacy<4.1.0,>=3.5.0 in /usr/local/lib/python3.11/dist-packages (from spacy_transformers) (3.8.4)\n",
            "Requirement already satisfied: numpy>=1.19.0 in /usr/local/lib/python3.11/dist-packages (from spacy_transformers) (1.26.4)\n",
            "Requirement already satisfied: transformers<4.50.0,>=3.4.0 in /usr/local/lib/python3.11/dist-packages (from spacy_transformers) (4.48.3)\n",
            "Requirement already satisfied: torch>=1.8.0 in /usr/local/lib/python3.11/dist-packages (from spacy_transformers) (2.5.1+cu124)\n",
            "Requirement already satisfied: srsly<3.0.0,>=2.4.0 in /usr/local/lib/python3.11/dist-packages (from spacy_transformers) (2.5.1)\n",
            "Collecting spacy-alignments<1.0.0,>=0.7.2 (from spacy_transformers)\n",
            "  Downloading spacy_alignments-0.9.1-cp311-cp311-manylinux_2_17_x86_64.manylinux2014_x86_64.whl.metadata (2.7 kB)\n",
            "Requirement already satisfied: spacy-legacy<3.1.0,>=3.0.11 in /usr/local/lib/python3.11/dist-packages (from spacy<4.1.0,>=3.5.0->spacy_transformers) (3.0.12)\n",
            "Requirement already satisfied: spacy-loggers<2.0.0,>=1.0.0 in /usr/local/lib/python3.11/dist-packages (from spacy<4.1.0,>=3.5.0->spacy_transformers) (1.0.5)\n",
            "Requirement already satisfied: murmurhash<1.1.0,>=0.28.0 in /usr/local/lib/python3.11/dist-packages (from spacy<4.1.0,>=3.5.0->spacy_transformers) (1.0.12)\n",
            "Requirement already satisfied: cymem<2.1.0,>=2.0.2 in /usr/local/lib/python3.11/dist-packages (from spacy<4.1.0,>=3.5.0->spacy_transformers) (2.0.11)\n",
            "Requirement already satisfied: preshed<3.1.0,>=3.0.2 in /usr/local/lib/python3.11/dist-packages (from spacy<4.1.0,>=3.5.0->spacy_transformers) (3.0.9)\n",
            "Requirement already satisfied: thinc<8.4.0,>=8.3.4 in /usr/local/lib/python3.11/dist-packages (from spacy<4.1.0,>=3.5.0->spacy_transformers) (8.3.4)\n",
            "Requirement already satisfied: wasabi<1.2.0,>=0.9.1 in /usr/local/lib/python3.11/dist-packages (from spacy<4.1.0,>=3.5.0->spacy_transformers) (1.1.3)\n",
            "Requirement already satisfied: catalogue<2.1.0,>=2.0.6 in /usr/local/lib/python3.11/dist-packages (from spacy<4.1.0,>=3.5.0->spacy_transformers) (2.0.10)\n",
            "Requirement already satisfied: weasel<0.5.0,>=0.1.0 in /usr/local/lib/python3.11/dist-packages (from spacy<4.1.0,>=3.5.0->spacy_transformers) (0.4.1)\n",
            "Requirement already satisfied: typer<1.0.0,>=0.3.0 in /usr/local/lib/python3.11/dist-packages (from spacy<4.1.0,>=3.5.0->spacy_transformers) (0.15.1)\n",
            "Requirement already satisfied: tqdm<5.0.0,>=4.38.0 in /usr/local/lib/python3.11/dist-packages (from spacy<4.1.0,>=3.5.0->spacy_transformers) (4.67.1)\n",
            "Requirement already satisfied: requests<3.0.0,>=2.13.0 in /usr/local/lib/python3.11/dist-packages (from spacy<4.1.0,>=3.5.0->spacy_transformers) (2.32.3)\n",
            "Requirement already satisfied: pydantic!=1.8,!=1.8.1,<3.0.0,>=1.7.4 in /usr/local/lib/python3.11/dist-packages (from spacy<4.1.0,>=3.5.0->spacy_transformers) (2.10.6)\n",
            "Requirement already satisfied: jinja2 in /usr/local/lib/python3.11/dist-packages (from spacy<4.1.0,>=3.5.0->spacy_transformers) (3.1.5)\n",
            "Requirement already satisfied: setuptools in /usr/local/lib/python3.11/dist-packages (from spacy<4.1.0,>=3.5.0->spacy_transformers) (75.1.0)\n",
            "Requirement already satisfied: packaging>=20.0 in /usr/local/lib/python3.11/dist-packages (from spacy<4.1.0,>=3.5.0->spacy_transformers) (24.2)\n",
            "Requirement already satisfied: langcodes<4.0.0,>=3.2.0 in /usr/local/lib/python3.11/dist-packages (from spacy<4.1.0,>=3.5.0->spacy_transformers) (3.5.0)\n",
            "Requirement already satisfied: filelock in /usr/local/lib/python3.11/dist-packages (from torch>=1.8.0->spacy_transformers) (3.17.0)\n",
            "Requirement already satisfied: typing-extensions>=4.8.0 in /usr/local/lib/python3.11/dist-packages (from torch>=1.8.0->spacy_transformers) (4.12.2)\n",
            "Requirement already satisfied: networkx in /usr/local/lib/python3.11/dist-packages (from torch>=1.8.0->spacy_transformers) (3.4.2)\n",
            "Requirement already satisfied: fsspec in /usr/local/lib/python3.11/dist-packages (from torch>=1.8.0->spacy_transformers) (2024.10.0)\n",
            "Collecting nvidia-cuda-nvrtc-cu12==12.4.127 (from torch>=1.8.0->spacy_transformers)\n",
            "  Downloading nvidia_cuda_nvrtc_cu12-12.4.127-py3-none-manylinux2014_x86_64.whl.metadata (1.5 kB)\n",
            "Collecting nvidia-cuda-runtime-cu12==12.4.127 (from torch>=1.8.0->spacy_transformers)\n",
            "  Downloading nvidia_cuda_runtime_cu12-12.4.127-py3-none-manylinux2014_x86_64.whl.metadata (1.5 kB)\n",
            "Collecting nvidia-cuda-cupti-cu12==12.4.127 (from torch>=1.8.0->spacy_transformers)\n",
            "  Downloading nvidia_cuda_cupti_cu12-12.4.127-py3-none-manylinux2014_x86_64.whl.metadata (1.6 kB)\n",
            "Collecting nvidia-cudnn-cu12==9.1.0.70 (from torch>=1.8.0->spacy_transformers)\n",
            "  Downloading nvidia_cudnn_cu12-9.1.0.70-py3-none-manylinux2014_x86_64.whl.metadata (1.6 kB)\n",
            "Collecting nvidia-cublas-cu12==12.4.5.8 (from torch>=1.8.0->spacy_transformers)\n",
            "  Downloading nvidia_cublas_cu12-12.4.5.8-py3-none-manylinux2014_x86_64.whl.metadata (1.5 kB)\n",
            "Collecting nvidia-cufft-cu12==11.2.1.3 (from torch>=1.8.0->spacy_transformers)\n",
            "  Downloading nvidia_cufft_cu12-11.2.1.3-py3-none-manylinux2014_x86_64.whl.metadata (1.5 kB)\n",
            "Collecting nvidia-curand-cu12==10.3.5.147 (from torch>=1.8.0->spacy_transformers)\n",
            "  Downloading nvidia_curand_cu12-10.3.5.147-py3-none-manylinux2014_x86_64.whl.metadata (1.5 kB)\n",
            "Collecting nvidia-cusolver-cu12==11.6.1.9 (from torch>=1.8.0->spacy_transformers)\n",
            "  Downloading nvidia_cusolver_cu12-11.6.1.9-py3-none-manylinux2014_x86_64.whl.metadata (1.6 kB)\n",
            "Collecting nvidia-cusparse-cu12==12.3.1.170 (from torch>=1.8.0->spacy_transformers)\n",
            "  Downloading nvidia_cusparse_cu12-12.3.1.170-py3-none-manylinux2014_x86_64.whl.metadata (1.6 kB)\n",
            "Requirement already satisfied: nvidia-nccl-cu12==2.21.5 in /usr/local/lib/python3.11/dist-packages (from torch>=1.8.0->spacy_transformers) (2.21.5)\n",
            "Requirement already satisfied: nvidia-nvtx-cu12==12.4.127 in /usr/local/lib/python3.11/dist-packages (from torch>=1.8.0->spacy_transformers) (12.4.127)\n",
            "Collecting nvidia-nvjitlink-cu12==12.4.127 (from torch>=1.8.0->spacy_transformers)\n",
            "  Downloading nvidia_nvjitlink_cu12-12.4.127-py3-none-manylinux2014_x86_64.whl.metadata (1.5 kB)\n",
            "Requirement already satisfied: triton==3.1.0 in /usr/local/lib/python3.11/dist-packages (from torch>=1.8.0->spacy_transformers) (3.1.0)\n",
            "Requirement already satisfied: sympy==1.13.1 in /usr/local/lib/python3.11/dist-packages (from torch>=1.8.0->spacy_transformers) (1.13.1)\n",
            "Requirement already satisfied: mpmath<1.4,>=1.1.0 in /usr/local/lib/python3.11/dist-packages (from sympy==1.13.1->torch>=1.8.0->spacy_transformers) (1.3.0)\n",
            "Requirement already satisfied: huggingface-hub<1.0,>=0.24.0 in /usr/local/lib/python3.11/dist-packages (from transformers<4.50.0,>=3.4.0->spacy_transformers) (0.28.1)\n",
            "Requirement already satisfied: pyyaml>=5.1 in /usr/local/lib/python3.11/dist-packages (from transformers<4.50.0,>=3.4.0->spacy_transformers) (6.0.2)\n",
            "Requirement already satisfied: regex!=2019.12.17 in /usr/local/lib/python3.11/dist-packages (from transformers<4.50.0,>=3.4.0->spacy_transformers) (2024.11.6)\n",
            "Requirement already satisfied: tokenizers<0.22,>=0.21 in /usr/local/lib/python3.11/dist-packages (from transformers<4.50.0,>=3.4.0->spacy_transformers) (0.21.0)\n",
            "Requirement already satisfied: safetensors>=0.4.1 in /usr/local/lib/python3.11/dist-packages (from transformers<4.50.0,>=3.4.0->spacy_transformers) (0.5.2)\n",
            "Requirement already satisfied: language-data>=1.2 in /usr/local/lib/python3.11/dist-packages (from langcodes<4.0.0,>=3.2.0->spacy<4.1.0,>=3.5.0->spacy_transformers) (1.3.0)\n",
            "Requirement already satisfied: annotated-types>=0.6.0 in /usr/local/lib/python3.11/dist-packages (from pydantic!=1.8,!=1.8.1,<3.0.0,>=1.7.4->spacy<4.1.0,>=3.5.0->spacy_transformers) (0.7.0)\n",
            "Requirement already satisfied: pydantic-core==2.27.2 in /usr/local/lib/python3.11/dist-packages (from pydantic!=1.8,!=1.8.1,<3.0.0,>=1.7.4->spacy<4.1.0,>=3.5.0->spacy_transformers) (2.27.2)\n",
            "Requirement already satisfied: charset-normalizer<4,>=2 in /usr/local/lib/python3.11/dist-packages (from requests<3.0.0,>=2.13.0->spacy<4.1.0,>=3.5.0->spacy_transformers) (3.4.1)\n",
            "Requirement already satisfied: idna<4,>=2.5 in /usr/local/lib/python3.11/dist-packages (from requests<3.0.0,>=2.13.0->spacy<4.1.0,>=3.5.0->spacy_transformers) (3.10)\n",
            "Requirement already satisfied: urllib3<3,>=1.21.1 in /usr/local/lib/python3.11/dist-packages (from requests<3.0.0,>=2.13.0->spacy<4.1.0,>=3.5.0->spacy_transformers) (2.3.0)\n",
            "Requirement already satisfied: certifi>=2017.4.17 in /usr/local/lib/python3.11/dist-packages (from requests<3.0.0,>=2.13.0->spacy<4.1.0,>=3.5.0->spacy_transformers) (2025.1.31)\n",
            "Requirement already satisfied: blis<1.3.0,>=1.2.0 in /usr/local/lib/python3.11/dist-packages (from thinc<8.4.0,>=8.3.4->spacy<4.1.0,>=3.5.0->spacy_transformers) (1.2.0)\n",
            "Requirement already satisfied: confection<1.0.0,>=0.0.1 in /usr/local/lib/python3.11/dist-packages (from thinc<8.4.0,>=8.3.4->spacy<4.1.0,>=3.5.0->spacy_transformers) (0.1.5)\n",
            "Requirement already satisfied: click>=8.0.0 in /usr/local/lib/python3.11/dist-packages (from typer<1.0.0,>=0.3.0->spacy<4.1.0,>=3.5.0->spacy_transformers) (8.1.8)\n",
            "Requirement already satisfied: shellingham>=1.3.0 in /usr/local/lib/python3.11/dist-packages (from typer<1.0.0,>=0.3.0->spacy<4.1.0,>=3.5.0->spacy_transformers) (1.5.4)\n",
            "Requirement already satisfied: rich>=10.11.0 in /usr/local/lib/python3.11/dist-packages (from typer<1.0.0,>=0.3.0->spacy<4.1.0,>=3.5.0->spacy_transformers) (13.9.4)\n",
            "Requirement already satisfied: cloudpathlib<1.0.0,>=0.7.0 in /usr/local/lib/python3.11/dist-packages (from weasel<0.5.0,>=0.1.0->spacy<4.1.0,>=3.5.0->spacy_transformers) (0.20.0)\n",
            "Requirement already satisfied: smart-open<8.0.0,>=5.2.1 in /usr/local/lib/python3.11/dist-packages (from weasel<0.5.0,>=0.1.0->spacy<4.1.0,>=3.5.0->spacy_transformers) (7.1.0)\n",
            "Requirement already satisfied: MarkupSafe>=2.0 in /usr/local/lib/python3.11/dist-packages (from jinja2->spacy<4.1.0,>=3.5.0->spacy_transformers) (3.0.2)\n",
            "Requirement already satisfied: marisa-trie>=1.1.0 in /usr/local/lib/python3.11/dist-packages (from language-data>=1.2->langcodes<4.0.0,>=3.2.0->spacy<4.1.0,>=3.5.0->spacy_transformers) (1.2.1)\n",
            "Requirement already satisfied: markdown-it-py>=2.2.0 in /usr/local/lib/python3.11/dist-packages (from rich>=10.11.0->typer<1.0.0,>=0.3.0->spacy<4.1.0,>=3.5.0->spacy_transformers) (3.0.0)\n",
            "Requirement already satisfied: pygments<3.0.0,>=2.13.0 in /usr/local/lib/python3.11/dist-packages (from rich>=10.11.0->typer<1.0.0,>=0.3.0->spacy<4.1.0,>=3.5.0->spacy_transformers) (2.18.0)\n",
            "Requirement already satisfied: wrapt in /usr/local/lib/python3.11/dist-packages (from smart-open<8.0.0,>=5.2.1->weasel<0.5.0,>=0.1.0->spacy<4.1.0,>=3.5.0->spacy_transformers) (1.17.2)\n",
            "Requirement already satisfied: mdurl~=0.1 in /usr/local/lib/python3.11/dist-packages (from markdown-it-py>=2.2.0->rich>=10.11.0->typer<1.0.0,>=0.3.0->spacy<4.1.0,>=3.5.0->spacy_transformers) (0.1.2)\n",
            "Downloading spacy_transformers-1.3.8-cp311-cp311-manylinux_2_17_x86_64.manylinux2014_x86_64.whl (756 kB)\n",
            "\u001b[2K   \u001b[90m━━━━━━━━━━━━━━━━━━━━━━━━━━━━━━━━━━━━━━━━\u001b[0m \u001b[32m756.2/756.2 kB\u001b[0m \u001b[31m12.6 MB/s\u001b[0m eta \u001b[36m0:00:00\u001b[0m\n",
            "\u001b[?25hDownloading spacy_alignments-0.9.1-cp311-cp311-manylinux_2_17_x86_64.manylinux2014_x86_64.whl (313 kB)\n",
            "\u001b[2K   \u001b[90m━━━━━━━━━━━━━━━━━━━━━━━━━━━━━━━━━━━━━━━━\u001b[0m \u001b[32m314.0/314.0 kB\u001b[0m \u001b[31m9.8 MB/s\u001b[0m eta \u001b[36m0:00:00\u001b[0m\n",
            "\u001b[?25hDownloading nvidia_cublas_cu12-12.4.5.8-py3-none-manylinux2014_x86_64.whl (363.4 MB)\n",
            "\u001b[2K   \u001b[90m━━━━━━━━━━━━━━━━━━━━━━━━━━━━━━━━━━━━━━━━\u001b[0m \u001b[32m363.4/363.4 MB\u001b[0m \u001b[31m3.2 MB/s\u001b[0m eta \u001b[36m0:00:00\u001b[0m\n",
            "\u001b[?25hDownloading nvidia_cuda_cupti_cu12-12.4.127-py3-none-manylinux2014_x86_64.whl (13.8 MB)\n",
            "\u001b[2K   \u001b[90m━━━━━━━━━━━━━━━━━━━━━━━━━━━━━━━━━━━━━━━━\u001b[0m \u001b[32m13.8/13.8 MB\u001b[0m \u001b[31m26.2 MB/s\u001b[0m eta \u001b[36m0:00:00\u001b[0m\n",
            "\u001b[?25hDownloading nvidia_cuda_nvrtc_cu12-12.4.127-py3-none-manylinux2014_x86_64.whl (24.6 MB)\n",
            "\u001b[2K   \u001b[90m━━━━━━━━━━━━━━━━━━━━━━━━━━━━━━━━━━━━━━━━\u001b[0m \u001b[32m24.6/24.6 MB\u001b[0m \u001b[31m30.1 MB/s\u001b[0m eta \u001b[36m0:00:00\u001b[0m\n",
            "\u001b[?25hDownloading nvidia_cuda_runtime_cu12-12.4.127-py3-none-manylinux2014_x86_64.whl (883 kB)\n",
            "\u001b[2K   \u001b[90m━━━━━━━━━━━━━━━━━━━━━━━━━━━━━━━━━━━━━━━━\u001b[0m \u001b[32m883.7/883.7 kB\u001b[0m \u001b[31m34.4 MB/s\u001b[0m eta \u001b[36m0:00:00\u001b[0m\n",
            "\u001b[?25hDownloading nvidia_cudnn_cu12-9.1.0.70-py3-none-manylinux2014_x86_64.whl (664.8 MB)\n",
            "\u001b[2K   \u001b[90m━━━━━━━━━━━━━━━━━━━━━━━━━━━━━━━━━━━━━━━━\u001b[0m \u001b[32m664.8/664.8 MB\u001b[0m \u001b[31m1.2 MB/s\u001b[0m eta \u001b[36m0:00:00\u001b[0m\n",
            "\u001b[?25hDownloading nvidia_cufft_cu12-11.2.1.3-py3-none-manylinux2014_x86_64.whl (211.5 MB)\n",
            "\u001b[2K   \u001b[90m━━━━━━━━━━━━━━━━━━━━━━━━━━━━━━━━━━━━━━━━\u001b[0m \u001b[32m211.5/211.5 MB\u001b[0m \u001b[31m5.7 MB/s\u001b[0m eta \u001b[36m0:00:00\u001b[0m\n",
            "\u001b[?25hDownloading nvidia_curand_cu12-10.3.5.147-py3-none-manylinux2014_x86_64.whl (56.3 MB)\n",
            "\u001b[2K   \u001b[90m━━━━━━━━━━━━━━━━━━━━━━━━━━━━━━━━━━━━━━━━\u001b[0m \u001b[32m56.3/56.3 MB\u001b[0m \u001b[31m16.2 MB/s\u001b[0m eta \u001b[36m0:00:00\u001b[0m\n",
            "\u001b[?25hDownloading nvidia_cusolver_cu12-11.6.1.9-py3-none-manylinux2014_x86_64.whl (127.9 MB)\n",
            "\u001b[2K   \u001b[90m━━━━━━━━━━━━━━━━━━━━━━━━━━━━━━━━━━━━━━━━\u001b[0m \u001b[32m127.9/127.9 MB\u001b[0m \u001b[31m7.4 MB/s\u001b[0m eta \u001b[36m0:00:00\u001b[0m\n",
            "\u001b[?25hDownloading nvidia_cusparse_cu12-12.3.1.170-py3-none-manylinux2014_x86_64.whl (207.5 MB)\n",
            "\u001b[2K   \u001b[90m━━━━━━━━━━━━━━━━━━━━━━━━━━━━━━━━━━━━━━━━\u001b[0m \u001b[32m207.5/207.5 MB\u001b[0m \u001b[31m5.6 MB/s\u001b[0m eta \u001b[36m0:00:00\u001b[0m\n",
            "\u001b[?25hDownloading nvidia_nvjitlink_cu12-12.4.127-py3-none-manylinux2014_x86_64.whl (21.1 MB)\n",
            "\u001b[2K   \u001b[90m━━━━━━━━━━━━━━━━━━━━━━━━━━━━━━━━━━━━━━━━\u001b[0m \u001b[32m21.1/21.1 MB\u001b[0m \u001b[31m68.8 MB/s\u001b[0m eta \u001b[36m0:00:00\u001b[0m\n",
            "\u001b[?25hInstalling collected packages: spacy-alignments, nvidia-nvjitlink-cu12, nvidia-curand-cu12, nvidia-cufft-cu12, nvidia-cuda-runtime-cu12, nvidia-cuda-nvrtc-cu12, nvidia-cuda-cupti-cu12, nvidia-cublas-cu12, nvidia-cusparse-cu12, nvidia-cudnn-cu12, nvidia-cusolver-cu12, spacy_transformers\n",
            "  Attempting uninstall: nvidia-nvjitlink-cu12\n",
            "    Found existing installation: nvidia-nvjitlink-cu12 12.5.82\n",
            "    Uninstalling nvidia-nvjitlink-cu12-12.5.82:\n",
            "      Successfully uninstalled nvidia-nvjitlink-cu12-12.5.82\n",
            "  Attempting uninstall: nvidia-curand-cu12\n",
            "    Found existing installation: nvidia-curand-cu12 10.3.6.82\n",
            "    Uninstalling nvidia-curand-cu12-10.3.6.82:\n",
            "      Successfully uninstalled nvidia-curand-cu12-10.3.6.82\n",
            "  Attempting uninstall: nvidia-cufft-cu12\n",
            "    Found existing installation: nvidia-cufft-cu12 11.2.3.61\n",
            "    Uninstalling nvidia-cufft-cu12-11.2.3.61:\n",
            "      Successfully uninstalled nvidia-cufft-cu12-11.2.3.61\n",
            "  Attempting uninstall: nvidia-cuda-runtime-cu12\n",
            "    Found existing installation: nvidia-cuda-runtime-cu12 12.5.82\n",
            "    Uninstalling nvidia-cuda-runtime-cu12-12.5.82:\n",
            "      Successfully uninstalled nvidia-cuda-runtime-cu12-12.5.82\n",
            "  Attempting uninstall: nvidia-cuda-nvrtc-cu12\n",
            "    Found existing installation: nvidia-cuda-nvrtc-cu12 12.5.82\n",
            "    Uninstalling nvidia-cuda-nvrtc-cu12-12.5.82:\n",
            "      Successfully uninstalled nvidia-cuda-nvrtc-cu12-12.5.82\n",
            "  Attempting uninstall: nvidia-cuda-cupti-cu12\n",
            "    Found existing installation: nvidia-cuda-cupti-cu12 12.5.82\n",
            "    Uninstalling nvidia-cuda-cupti-cu12-12.5.82:\n",
            "      Successfully uninstalled nvidia-cuda-cupti-cu12-12.5.82\n",
            "  Attempting uninstall: nvidia-cublas-cu12\n",
            "    Found existing installation: nvidia-cublas-cu12 12.5.3.2\n",
            "    Uninstalling nvidia-cublas-cu12-12.5.3.2:\n",
            "      Successfully uninstalled nvidia-cublas-cu12-12.5.3.2\n",
            "  Attempting uninstall: nvidia-cusparse-cu12\n",
            "    Found existing installation: nvidia-cusparse-cu12 12.5.1.3\n",
            "    Uninstalling nvidia-cusparse-cu12-12.5.1.3:\n",
            "      Successfully uninstalled nvidia-cusparse-cu12-12.5.1.3\n",
            "  Attempting uninstall: nvidia-cudnn-cu12\n",
            "    Found existing installation: nvidia-cudnn-cu12 9.3.0.75\n",
            "    Uninstalling nvidia-cudnn-cu12-9.3.0.75:\n",
            "      Successfully uninstalled nvidia-cudnn-cu12-9.3.0.75\n",
            "  Attempting uninstall: nvidia-cusolver-cu12\n",
            "    Found existing installation: nvidia-cusolver-cu12 11.6.3.83\n",
            "    Uninstalling nvidia-cusolver-cu12-11.6.3.83:\n",
            "      Successfully uninstalled nvidia-cusolver-cu12-11.6.3.83\n",
            "Successfully installed nvidia-cublas-cu12-12.4.5.8 nvidia-cuda-cupti-cu12-12.4.127 nvidia-cuda-nvrtc-cu12-12.4.127 nvidia-cuda-runtime-cu12-12.4.127 nvidia-cudnn-cu12-9.1.0.70 nvidia-cufft-cu12-11.2.1.3 nvidia-curand-cu12-10.3.5.147 nvidia-cusolver-cu12-11.6.1.9 nvidia-cusparse-cu12-12.3.1.170 nvidia-nvjitlink-cu12-12.4.127 spacy-alignments-0.9.1 spacy_transformers-1.3.8\n"
          ]
        }
      ]
    },
    {
      "cell_type": "code",
      "source": [
        "import spacy\n",
        "from spacy.tokens import DocBin\n",
        "from tqdm import tqdm\n",
        "import json"
      ],
      "metadata": {
        "id": "-KPshnBIGQeH"
      },
      "execution_count": 2,
      "outputs": []
    },
    {
      "cell_type": "code",
      "source": [
        "def get_spacy_doc(data, db):\n",
        "  # Create a blank spaCy pipeline\n",
        "  nlp = spacy.blank('en')\n",
        "\n",
        "  # Iterate through the data\n",
        "  for text, annot in tqdm(data):\n",
        "    doc = nlp.make_doc(text)\n",
        "    annot = annot['entities']\n",
        "\n",
        "    ents = []\n",
        "    entity_indices = []\n",
        "\n",
        "    # Extract entities from the annotations\n",
        "    for start, end, label in annot:\n",
        "      skip_entity = False\n",
        "      for idx in range(start, end):\n",
        "        if idx in entity_indices:\n",
        "          skip_entity = True\n",
        "          break\n",
        "      if skip_entity:\n",
        "        continue\n",
        "\n",
        "      entity_indices = entity_indices + list(range(start, end))\n",
        "      try:\n",
        "        span = doc.char_span(start, end, label=label, alignment_mode='strict')\n",
        "      except:\n",
        "        continue\n",
        "\n",
        "      if span is None:\n",
        "        # Log errors for annotations that couldn't be processed\n",
        "        err_data = str([start, end]) + \"    \" + str(text) + \"\\n\"\n",
        "        print(\"Error\")\n",
        "      else:\n",
        "        ents.append(span)\n",
        "\n",
        "    try:\n",
        "      doc.ents = ents\n",
        "      db.add(doc)\n",
        "    except:\n",
        "      pass\n",
        "  return db"
      ],
      "metadata": {
        "id": "N9M94DVJGPVO"
      },
      "execution_count": 15,
      "outputs": []
    },
    {
      "cell_type": "code",
      "source": [
        "import os\n",
        "annotation_data = []\n",
        "annotation_list = os.listdir(\"/content/drive/MyDrive/omdena_legal/spacy_annotations\")\n",
        "for ann_files in annotation_list:\n",
        "  data = json.load(open(f\"/content/drive/MyDrive/omdena_legal/spacy_annotations/{ann_files}\",\"r\"))\n",
        "  annotation_data.append(data)"
      ],
      "metadata": {
        "id": "eTsByP1kHDS_"
      },
      "execution_count": 13,
      "outputs": []
    },
    {
      "cell_type": "code",
      "source": [
        "db = DocBin()\n",
        "for data in annotation_data:\n",
        "  db = get_spacy_doc(data, db)"
      ],
      "metadata": {
        "colab": {
          "base_uri": "https://localhost:8080/"
        },
        "id": "_2Vog4t2HXGQ",
        "outputId": "f533806a-8217-4fe6-9f69-1fa1d2071b56"
      },
      "execution_count": 16,
      "outputs": [
        {
          "output_type": "stream",
          "name": "stderr",
          "text": [
            "100%|██████████| 1/1 [00:00<00:00,  2.07it/s]\n",
            "100%|██████████| 1/1 [00:00<00:00, 16.86it/s]\n",
            "100%|██████████| 1/1 [00:00<00:00, 24.28it/s]\n",
            "100%|██████████| 1/1 [00:00<00:00, 21.96it/s]\n",
            "100%|██████████| 1/1 [00:00<00:00,  6.57it/s]\n",
            "100%|██████████| 1/1 [00:00<00:00, 20.58it/s]\n",
            "100%|██████████| 1/1 [00:00<00:00, 22.21it/s]\n",
            "100%|██████████| 1/1 [00:00<00:00, 22.41it/s]\n",
            "100%|██████████| 1/1 [00:00<00:00, 23.85it/s]\n",
            "100%|██████████| 1/1 [00:00<00:00, 23.46it/s]\n"
          ]
        }
      ]
    },
    {
      "cell_type": "code",
      "source": [
        "db.to_disk(\"/content/drive/MyDrive/omdena_legal/train.spacy\")"
      ],
      "metadata": {
        "id": "XSS7V8MvHsf5"
      },
      "execution_count": 17,
      "outputs": []
    },
    {
      "cell_type": "code",
      "source": [
        "!python -m spacy init fill-config /content/drive/MyDrive/omdena_legal/custom_ner/config/base_config.cfg /content/drive/MyDrive/omdena_legal/custom_ner/config/config.cfg"
      ],
      "metadata": {
        "colab": {
          "base_uri": "https://localhost:8080/"
        },
        "id": "O0kMLEbOJSRG",
        "outputId": "da12501f-36e8-4cd9-ebe3-b89e022cb792"
      },
      "execution_count": 3,
      "outputs": [
        {
          "output_type": "stream",
          "name": "stdout",
          "text": [
            "\u001b[38;5;2m✔ Auto-filled config with all values\u001b[0m\n",
            "\u001b[38;5;2m✔ Saved config\u001b[0m\n",
            "/content/drive/MyDrive/omdena_legal/custom_ner/config/config.cfg\n",
            "You can now add your data and train your pipeline:\n",
            "python -m spacy train config.cfg --paths.train ./train.spacy --paths.dev ./dev.spacy\n"
          ]
        }
      ]
    },
    {
      "cell_type": "code",
      "source": [
        "!python -m spacy train /content/drive/MyDrive/omdena_legal/custom_ner/config/config.cfg  --output /content/drive/MyDrive/omdena_legal/custom_ner/trained_models/output  --paths.train /content/drive/MyDrive/omdena_legal/train.spacy  --paths.dev /content/drive/MyDrive/omdena_legal/train.spacy --gpu-id 0"
      ],
      "metadata": {
        "colab": {
          "base_uri": "https://localhost:8080/"
        },
        "id": "ZlmX5WQqK5By",
        "outputId": "83fd692a-7bb6-43f9-f893-a0cc79ee22ff"
      },
      "execution_count": 4,
      "outputs": [
        {
          "output_type": "stream",
          "name": "stdout",
          "text": [
            "\u001b[38;5;4mℹ Saving to output directory:\n",
            "/content/drive/MyDrive/omdena_legal/custom_ner/trained_models/output\u001b[0m\n",
            "\u001b[38;5;4mℹ Using GPU: 0\u001b[0m\n",
            "\u001b[1m\n",
            "=========================== Initializing pipeline ===========================\u001b[0m\n",
            "tokenizer_config.json: 100% 25.0/25.0 [00:00<00:00, 184kB/s]\n",
            "config.json: 100% 481/481 [00:00<00:00, 3.52MB/s]\n",
            "vocab.json: 100% 899k/899k [00:00<00:00, 3.68MB/s]\n",
            "merges.txt: 100% 456k/456k [00:00<00:00, 2.80MB/s]\n",
            "tokenizer.json: 100% 1.36M/1.36M [00:00<00:00, 4.10MB/s]\n",
            "2025-02-27 11:40:01.003103: E external/local_xla/xla/stream_executor/cuda/cuda_fft.cc:477] Unable to register cuFFT factory: Attempting to register factory for plugin cuFFT when one has already been registered\n",
            "WARNING: All log messages before absl::InitializeLog() is called are written to STDERR\n",
            "E0000 00:00:1740656401.294308    2173 cuda_dnn.cc:8310] Unable to register cuDNN factory: Attempting to register factory for plugin cuDNN when one has already been registered\n",
            "E0000 00:00:1740656401.372887    2173 cuda_blas.cc:1418] Unable to register cuBLAS factory: Attempting to register factory for plugin cuBLAS when one has already been registered\n",
            "2025-02-27 11:40:02.006191: I tensorflow/core/platform/cpu_feature_guard.cc:210] This TensorFlow binary is optimized to use available CPU instructions in performance-critical operations.\n",
            "To enable the following instructions: AVX2 AVX512F FMA, in other operations, rebuild TensorFlow with the appropriate compiler flags.\n",
            "model.safetensors: 100% 499M/499M [00:02<00:00, 235MB/s]\n",
            "Some weights of RobertaModel were not initialized from the model checkpoint at roberta-base and are newly initialized: ['roberta.pooler.dense.bias', 'roberta.pooler.dense.weight']\n",
            "You should probably TRAIN this model on a down-stream task to be able to use it for predictions and inference.\n",
            "\u001b[38;5;2m✔ Initialized pipeline\u001b[0m\n",
            "\u001b[1m\n",
            "============================= Training pipeline =============================\u001b[0m\n",
            "\u001b[38;5;4mℹ Pipeline: ['transformer', 'ner']\u001b[0m\n",
            "\u001b[38;5;4mℹ Initial learn rate: 0.0\u001b[0m\n",
            "E    #       LOSS TRANS...  LOSS NER  ENTS_F  ENTS_P  ENTS_R  SCORE \n",
            "---  ------  -------------  --------  ------  ------  ------  ------\n",
            "  0       0       33491.15   1001.89    0.00    0.00    0.00    0.00\n",
            " 20     200      909804.75  54989.39   95.75   94.99   96.53    0.96\n",
            " 40     400        2045.54    286.35  100.00  100.00  100.00    1.00\n",
            " 60     600           6.64      9.61  100.00  100.00  100.00    1.00\n",
            " 80     800           6.73      8.49  100.00  100.00  100.00    1.00\n",
            "100    1000           5.66      5.04  100.00  100.00  100.00    1.00\n"
          ]
        }
      ]
    },
    {
      "cell_type": "code",
      "source": [
        "nlp = spacy.load('/content/drive/MyDrive/omdena_legal/custom_ner/trained_models/output/model-best')"
      ],
      "metadata": {
        "colab": {
          "base_uri": "https://localhost:8080/"
        },
        "id": "xq-rlObYMCLW",
        "outputId": "ab5b72ff-3795-4fb5-e521-6fbc0103b6a7"
      },
      "execution_count": 5,
      "outputs": [
        {
          "output_type": "stream",
          "name": "stderr",
          "text": [
            "/usr/local/lib/python3.11/dist-packages/spacy_transformers/layers/hf_shim.py:124: FutureWarning: You are using `torch.load` with `weights_only=False` (the current default value), which uses the default pickle module implicitly. It is possible to construct malicious pickle data which will execute arbitrary code during unpickling (See https://github.com/pytorch/pytorch/blob/main/SECURITY.md#untrusted-models for more details). In a future release, the default value for `weights_only` will be flipped to `True`. This limits the functions that could be executed during unpickling. Arbitrary objects will no longer be allowed to be loaded via this mode unless they are explicitly allowlisted by the user via `torch.serialization.add_safe_globals`. We recommend you start setting `weights_only=True` for any use case where you don't have full control of the loaded file. Please open an issue on GitHub for any issues related to this experimental feature.\n",
            "  self._model.load_state_dict(torch.load(filelike, map_location=device))\n"
          ]
        }
      ]
    },
    {
      "cell_type": "code",
      "source": [
        "with open(\"/content/Detailed_Divorce_Agreement_11.txt\") as f:\n",
        "  test_data = f.read()"
      ],
      "metadata": {
        "id": "xpaueORsQSV3"
      },
      "execution_count": 6,
      "outputs": []
    },
    {
      "cell_type": "code",
      "source": [
        "test_data"
      ],
      "metadata": {
        "colab": {
          "base_uri": "https://localhost:8080/",
          "height": 122
        },
        "id": "0qwtcSiAQXk-",
        "outputId": "87f08868-240d-42f5-b085-1aa9d071b991"
      },
      "execution_count": 7,
      "outputs": [
        {
          "output_type": "execute_result",
          "data": {
            "text/plain": [
              "'Divorce Agreement\\n\\nThis Divorce Agreement (\"Agreement\") is made and entered into on this ___ day of __________, 20__, by and between Steven Salas, residing at Unit 5898 Box 9346\\nDPO AA 23038, and Amanda Krause, residing at 670 Peterson Viaduct Suite 530\\nSpencerhaven, FM 86681. The parties have agreed to dissolve their marriage and settle all matters related to the division of assets, child custody, spousal support, and other obligations as outlined below.\\n\\n1. Recitals\\n\\nWHEREAS, the parties were married on 2025-01-06 in 896 Joseph Glens\\nSnyderchester, MP 34339;\\nWHEREAS, the parties have decided to dissolve their marriage amicably;\\nWHEREAS, the parties wish to resolve all issues arising from their marriage, including but not limited to property division, child custody, child support, spousal support, and other matters;\\nNOW, THEREFORE, in consideration of the mutual promises and covenants contained herein, the parties agree as follows:\\n\\n2. Division of Assets and Debts\\n\\nThe parties agree to divide their marital assets and debts as follows:\\n- Real Estate: The marital home located at 351 Ford Locks Apt. 922\\nNew Michelleborough, CO 17048 shall be transferred to Steven Salas. Any outstanding mortgage or liens shall remain the responsibility of Steven Salas.\\n- Bank Accounts: All joint bank accounts shall be closed, and the funds shall be divided equally between the parties.\\n- Retirement Accounts: Each party shall retain their respective retirement accounts (e.g., 401(k), IRA). Any joint retirement accounts shall be divided according to a Qualified Domestic Relations Order (QDRO).\\n- Vehicles: Each party shall retain ownership of the vehicle(s) titled in their name. Any loans associated with the vehicles shall remain the responsibility of the titled owner.\\n- Personal Property: Each party shall retain their personal belongings, including furniture, electronics, and other household items as mutually agreed upon.\\n- Debts: All joint debts incurred during the marriage shall be divided equally unless otherwise specified herein.\\n\\n3. Child Custody and Support\\n\\nThe parties agree to the following custody and support arrangement:\\n- Legal Custody: Joint legal custody shall be granted to both parties, meaning both parents shall share decision-making authority regarding the children’s education, healthcare, and general welfare.\\n- Physical Custody: The children shall reside primarily with [Parent Name], with visitation rights granted to [Other Parent Name] as follows:\\n  - Weekends: Every other weekend from Friday at 6:00 PM to Sunday at 6:00 PM.\\n  - Holidays: The children shall alternate holidays between the parents as follows: Thanksgiving with [Parent A] in even years, Christmas with [Parent B] in odd years, etc.\\n- Child Support: Steven Salas shall pay $535 per month in child support to Amanda Krause. Payments shall be made via bank transfer and are due on the 1st of each month.\\n- Medical Expenses: Both parties shall equally share any uninsured medical, dental, or educational expenses for the children.\\n\\n4. Spousal Support (Alimony)\\n\\nThe parties agree to the following spousal support arrangement:\\n- Steven Salas shall pay $556 per month in spousal support to Amanda Krause for a period of 4 years, beginning on 2025-01-04.\\n- The obligation to pay spousal support shall terminate upon the death of either party, the remarriage of the receiving party, or the expiration of the agreed-upon duration, whichever occurs first.\\n\\n\\n5. Health Insurance and Benefits\\n\\nThe parties agree to the following regarding health insurance and benefits:\\n- Health Insurance: Steven Salas shall maintain health insurance coverage for the children until they reach the age of majority or graduate from high school, whichever occurs later.\\n- Life Insurance: Steven Salas shall maintain a life insurance policy with a face value of $511911, naming Amanda Krause as the beneficiary to secure child support and/or spousal support obligations.\\n\\n\\n6. Tax Matters\\n\\nThe parties agree to the following regarding tax matters:\\n- Dependency Exemptions: The parties shall alternate claiming the children as dependents for tax purposes, with [Parent A] claiming them in even years and [Parent B] in odd years.\\n- Filing Status: Each party shall file their taxes separately unless otherwise agreed upon in writing.\\n\\n\\n7. Dispute Resolution\\n\\nIn the event of any disputes arising under this Agreement, the parties agree to attempt to resolve such disputes through mediation before pursuing litigation. If mediation fails, the matter may be resolved through arbitration or court proceedings as permitted by law.\\n\\n8. General Provisions\\n\\nThe parties agree to the following general provisions:\\n- Entire Agreement: This Agreement constitutes the entire understanding between the parties and supersedes all prior agreements, whether written or oral.\\n- Modifications: Any modifications to this Agreement must be in writing and signed by both parties.\\n- Governing Law: This Agreement shall be governed by and construed in accordance with the laws of the State of Oklahoma.\\n\\n\\n9. Signatures\\n\\nSteven Salas\\'s Signature:\\n\\n\\n\\nDate: ___/___/20__\\n\\n\\nAmanda Krause\\'s Signature:\\n\\n\\n\\nDate: ___/___/20__\\n\\n\\nWitness 1: Christy Ware\\n\\n\\n\\nDate: ___/___/20__\\n\\n\\nWitness 2: Adrian Burton\\n\\n\\n\\nDate: ___/___/20__\\n\\n\\nNotary Acknowledgment\\n\\nState of Oklahoma\\nCounty of Slovakia (Slovak Republic)\\n\\nOn this ___ day of __________, 20__, before me, the undersigned notary public, personally appeared Steven Salas and Amanda Krause, known to me (or satisfactorily proven) to be the persons whose names are subscribed to this instrument, and acknowledged that they executed it for the purposes therein contained.\\n\\n___________________________\\nFuller, Kerr and Spencer, Notary Public\\nMy Commission Expires: ___/___/20__'"
            ],
            "application/vnd.google.colaboratory.intrinsic+json": {
              "type": "string"
            }
          },
          "metadata": {},
          "execution_count": 7
        }
      ]
    },
    {
      "cell_type": "code",
      "source": [
        "doc = nlp(test_data)\n",
        "for ent in doc.ents:\n",
        "  print(ent.text, \"  ->>>>  \", ent.label_)"
      ],
      "metadata": {
        "colab": {
          "base_uri": "https://localhost:8080/"
        },
        "id": "0FB3XXDZQaIi",
        "outputId": "b0c42741-56c2-4c39-8b67-8393345771c1"
      },
      "execution_count": 8,
      "outputs": [
        {
          "output_type": "stream",
          "name": "stdout",
          "text": [
            "___ day of __________, 20__   ->>>>   DATE\n",
            "Steven Salas   ->>>>   NAME\n",
            "Unit 5898 Box 9346\n",
            "DPO AA 23038   ->>>>   STREET_ADDRESS\n",
            "Amanda Krause   ->>>>   NAME\n",
            "670 Peterson Viaduct Suite 530\n",
            "Spencerhaven, FM 86681.   ->>>>   STREET_ADDRESS\n",
            "2025-01-06   ->>>>   DATE\n",
            "896 Joseph Glens\n",
            "Snyderchester, MP 34339   ->>>>   STREET_ADDRESS\n",
            "351 Ford Locks Apt. 922\n",
            "New Michelleborough, CO 17048   ->>>>   STREET_ADDRESS\n",
            "Steven Salas.   ->>>>   NAME\n",
            "Steven Salas.   ->>>>   NAME\n",
            "Parent Name   ->>>>   NAME\n",
            "Other Parent Name   ->>>>   NAME\n",
            "Parent A   ->>>>   NAME\n",
            "Parent B   ->>>>   NAME\n",
            "Steven Salas   ->>>>   NAME\n",
            "$535   ->>>>   MONEY\n",
            "Amanda Krause.   ->>>>   NAME\n",
            "Steven Salas   ->>>>   NAME\n",
            "$556   ->>>>   MONEY\n",
            "Amanda Krause   ->>>>   NAME\n",
            "4 years   ->>>>   TENURE\n",
            "2025-01-04.   ->>>>   DATE\n",
            "Steven Salas   ->>>>   NAME\n",
            "Steven Salas   ->>>>   NAME\n",
            "$511911   ->>>>   MONEY\n",
            "Amanda Krause   ->>>>   NAME\n",
            "Parent A   ->>>>   NAME\n",
            "Parent B   ->>>>   NAME\n",
            "Oklahoma.   ->>>>   COUNTRY\n",
            "Steven Salas   ->>>>   NAME\n",
            "___/___/20__   ->>>>   DATE\n",
            "Amanda Krause   ->>>>   NAME\n",
            "___/___/20__   ->>>>   DATE\n",
            "Christy Ware   ->>>>   NAME\n",
            "___/___/20__   ->>>>   DATE\n",
            "Adrian Burton   ->>>>   NAME\n",
            "___/___/20__   ->>>>   DATE\n",
            "Oklahoma   ->>>>   COUNTRY\n",
            "Slovakia   ->>>>   COUNTRY\n",
            "Slovak   ->>>>   COUNTRY\n",
            "Republic   ->>>>   COUNTRY\n",
            "___ day of __________, 20__   ->>>>   DATE\n",
            "Steven Salas   ->>>>   NAME\n",
            "Amanda Krause   ->>>>   NAME\n",
            "Fuller, Kerr and Spencer   ->>>>   NAME\n",
            "___/___/20__   ->>>>   DATE\n"
          ]
        }
      ]
    },
    {
      "cell_type": "code",
      "source": [],
      "metadata": {
        "id": "iBkuWRSMQhqv"
      },
      "execution_count": null,
      "outputs": []
    }
  ],
  "metadata": {
    "colab": {
      "provenance": [],
      "gpuType": "T4"
    },
    "kernelspec": {
      "display_name": "Python 3",
      "name": "python3"
    },
    "language_info": {
      "name": "python"
    },
    "widgets": {
      "application/vnd.jupyter.widget-state+json": {
        "00828d5aa6be4bdf98b94a08dcb73abd": {
          "model_module": "@jupyter-widgets/controls",
          "model_module_version": "1.5.0",
          "model_name": "DescriptionStyleModel",
          "state": {
            "_model_module": "@jupyter-widgets/controls",
            "_model_module_version": "1.5.0",
            "_model_name": "DescriptionStyleModel",
            "_view_count": null,
            "_view_module": "@jupyter-widgets/base",
            "_view_module_version": "1.2.0",
            "_view_name": "StyleView",
            "description_width": ""
          }
        },
        "078ff248affe4783952ce27c45ef3c11": {
          "model_module": "@jupyter-widgets/base",
          "model_module_version": "1.2.0",
          "model_name": "LayoutModel",
          "state": {
            "_model_module": "@jupyter-widgets/base",
            "_model_module_version": "1.2.0",
            "_model_name": "LayoutModel",
            "_view_count": null,
            "_view_module": "@jupyter-widgets/base",
            "_view_module_version": "1.2.0",
            "_view_name": "LayoutView",
            "align_content": null,
            "align_items": null,
            "align_self": null,
            "border": null,
            "bottom": null,
            "display": null,
            "flex": null,
            "flex_flow": null,
            "grid_area": null,
            "grid_auto_columns": null,
            "grid_auto_flow": null,
            "grid_auto_rows": null,
            "grid_column": null,
            "grid_gap": null,
            "grid_row": null,
            "grid_template_areas": null,
            "grid_template_columns": null,
            "grid_template_rows": null,
            "height": null,
            "justify_content": null,
            "justify_items": null,
            "left": null,
            "margin": null,
            "max_height": null,
            "max_width": null,
            "min_height": null,
            "min_width": null,
            "object_fit": null,
            "object_position": null,
            "order": null,
            "overflow": null,
            "overflow_x": null,
            "overflow_y": null,
            "padding": null,
            "right": null,
            "top": null,
            "visibility": null,
            "width": null
          }
        },
        "11be3dbdcfc44b21b044d1c485b01bf0": {
          "model_module": "@jupyter-widgets/controls",
          "model_module_version": "1.5.0",
          "model_name": "FloatProgressModel",
          "state": {
            "_dom_classes": [],
            "_model_module": "@jupyter-widgets/controls",
            "_model_module_version": "1.5.0",
            "_model_name": "FloatProgressModel",
            "_view_count": null,
            "_view_module": "@jupyter-widgets/controls",
            "_view_module_version": "1.5.0",
            "_view_name": "ProgressView",
            "bar_style": "success",
            "description": "",
            "description_tooltip": null,
            "layout": "IPY_MODEL_6524970f918c46ccab64e8cfb697cae3",
            "max": 47,
            "min": 0,
            "orientation": "horizontal",
            "style": "IPY_MODEL_30fd37cc0f85401fb20c773772751586",
            "value": 47
          }
        },
        "146828428c32468897503901cb86c509": {
          "model_module": "@jupyter-widgets/controls",
          "model_module_version": "1.5.0",
          "model_name": "HTMLModel",
          "state": {
            "_dom_classes": [],
            "_model_module": "@jupyter-widgets/controls",
            "_model_module_version": "1.5.0",
            "_model_name": "HTMLModel",
            "_view_count": null,
            "_view_module": "@jupyter-widgets/controls",
            "_view_module_version": "1.5.0",
            "_view_name": "HTMLView",
            "description": "",
            "description_tooltip": null,
            "layout": "IPY_MODEL_3e2603008843456b8d0cd517407506f6",
            "placeholder": "​",
            "style": "IPY_MODEL_774b3de3abc046c6a4a9f41f1c4ab984",
            "value": "Map: 100%"
          }
        },
        "19d5cbb7ae9a4558b32df92a9b65a41f": {
          "model_module": "@jupyter-widgets/base",
          "model_module_version": "1.2.0",
          "model_name": "LayoutModel",
          "state": {
            "_model_module": "@jupyter-widgets/base",
            "_model_module_version": "1.2.0",
            "_model_name": "LayoutModel",
            "_view_count": null,
            "_view_module": "@jupyter-widgets/base",
            "_view_module_version": "1.2.0",
            "_view_name": "LayoutView",
            "align_content": null,
            "align_items": null,
            "align_self": null,
            "border": null,
            "bottom": null,
            "display": null,
            "flex": null,
            "flex_flow": null,
            "grid_area": null,
            "grid_auto_columns": null,
            "grid_auto_flow": null,
            "grid_auto_rows": null,
            "grid_column": null,
            "grid_gap": null,
            "grid_row": null,
            "grid_template_areas": null,
            "grid_template_columns": null,
            "grid_template_rows": null,
            "height": null,
            "justify_content": null,
            "justify_items": null,
            "left": null,
            "margin": null,
            "max_height": null,
            "max_width": null,
            "min_height": null,
            "min_width": null,
            "object_fit": null,
            "object_position": null,
            "order": null,
            "overflow": null,
            "overflow_x": null,
            "overflow_y": null,
            "padding": null,
            "right": null,
            "top": null,
            "visibility": null,
            "width": null
          }
        },
        "1ced9be91cb6484d99da5dd7ddfeb2d6": {
          "model_module": "@jupyter-widgets/base",
          "model_module_version": "1.2.0",
          "model_name": "LayoutModel",
          "state": {
            "_model_module": "@jupyter-widgets/base",
            "_model_module_version": "1.2.0",
            "_model_name": "LayoutModel",
            "_view_count": null,
            "_view_module": "@jupyter-widgets/base",
            "_view_module_version": "1.2.0",
            "_view_name": "LayoutView",
            "align_content": null,
            "align_items": null,
            "align_self": null,
            "border": null,
            "bottom": null,
            "display": null,
            "flex": null,
            "flex_flow": null,
            "grid_area": null,
            "grid_auto_columns": null,
            "grid_auto_flow": null,
            "grid_auto_rows": null,
            "grid_column": null,
            "grid_gap": null,
            "grid_row": null,
            "grid_template_areas": null,
            "grid_template_columns": null,
            "grid_template_rows": null,
            "height": null,
            "justify_content": null,
            "justify_items": null,
            "left": null,
            "margin": null,
            "max_height": null,
            "max_width": null,
            "min_height": null,
            "min_width": null,
            "object_fit": null,
            "object_position": null,
            "order": null,
            "overflow": null,
            "overflow_x": null,
            "overflow_y": null,
            "padding": null,
            "right": null,
            "top": null,
            "visibility": null,
            "width": null
          }
        },
        "236ce9ed44094c6ea1cf0d246090db49": {
          "model_module": "@jupyter-widgets/controls",
          "model_module_version": "1.5.0",
          "model_name": "HTMLModel",
          "state": {
            "_dom_classes": [],
            "_model_module": "@jupyter-widgets/controls",
            "_model_module_version": "1.5.0",
            "_model_name": "HTMLModel",
            "_view_count": null,
            "_view_module": "@jupyter-widgets/controls",
            "_view_module_version": "1.5.0",
            "_view_name": "HTMLView",
            "description": "",
            "description_tooltip": null,
            "layout": "IPY_MODEL_d62652d18aa9483e84c3df41b9c7ff9a",
            "placeholder": "​",
            "style": "IPY_MODEL_f7e79a9e885b448faeccb2c1011bc81e",
            "value": " 47/47 [00:00&lt;00:00, 99.82 examples/s]"
          }
        },
        "30fd37cc0f85401fb20c773772751586": {
          "model_module": "@jupyter-widgets/controls",
          "model_module_version": "1.5.0",
          "model_name": "ProgressStyleModel",
          "state": {
            "_model_module": "@jupyter-widgets/controls",
            "_model_module_version": "1.5.0",
            "_model_name": "ProgressStyleModel",
            "_view_count": null,
            "_view_module": "@jupyter-widgets/base",
            "_view_module_version": "1.2.0",
            "_view_name": "StyleView",
            "bar_color": null,
            "description_width": ""
          }
        },
        "36e0258f25bb4adba53225aa8a629ef2": {
          "model_module": "@jupyter-widgets/controls",
          "model_module_version": "1.5.0",
          "model_name": "HTMLModel",
          "state": {
            "_dom_classes": [],
            "_model_module": "@jupyter-widgets/controls",
            "_model_module_version": "1.5.0",
            "_model_name": "HTMLModel",
            "_view_count": null,
            "_view_module": "@jupyter-widgets/controls",
            "_view_module_version": "1.5.0",
            "_view_name": "HTMLView",
            "description": "",
            "description_tooltip": null,
            "layout": "IPY_MODEL_5f90a4f7865d4b7fa2c8515f5c832432",
            "placeholder": "​",
            "style": "IPY_MODEL_00828d5aa6be4bdf98b94a08dcb73abd",
            "value": "Map: 100%"
          }
        },
        "388409d9e7ca4c34aab7dee4840fc64d": {
          "model_module": "@jupyter-widgets/controls",
          "model_module_version": "1.5.0",
          "model_name": "DescriptionStyleModel",
          "state": {
            "_model_module": "@jupyter-widgets/controls",
            "_model_module_version": "1.5.0",
            "_model_name": "DescriptionStyleModel",
            "_view_count": null,
            "_view_module": "@jupyter-widgets/base",
            "_view_module_version": "1.2.0",
            "_view_name": "StyleView",
            "description_width": ""
          }
        },
        "3d3d52047b6647e886ddcd3f91f2b955": {
          "model_module": "@jupyter-widgets/base",
          "model_module_version": "1.2.0",
          "model_name": "LayoutModel",
          "state": {
            "_model_module": "@jupyter-widgets/base",
            "_model_module_version": "1.2.0",
            "_model_name": "LayoutModel",
            "_view_count": null,
            "_view_module": "@jupyter-widgets/base",
            "_view_module_version": "1.2.0",
            "_view_name": "LayoutView",
            "align_content": null,
            "align_items": null,
            "align_self": null,
            "border": null,
            "bottom": null,
            "display": null,
            "flex": null,
            "flex_flow": null,
            "grid_area": null,
            "grid_auto_columns": null,
            "grid_auto_flow": null,
            "grid_auto_rows": null,
            "grid_column": null,
            "grid_gap": null,
            "grid_row": null,
            "grid_template_areas": null,
            "grid_template_columns": null,
            "grid_template_rows": null,
            "height": null,
            "justify_content": null,
            "justify_items": null,
            "left": null,
            "margin": null,
            "max_height": null,
            "max_width": null,
            "min_height": null,
            "min_width": null,
            "object_fit": null,
            "object_position": null,
            "order": null,
            "overflow": null,
            "overflow_x": null,
            "overflow_y": null,
            "padding": null,
            "right": null,
            "top": null,
            "visibility": null,
            "width": null
          }
        },
        "3e2603008843456b8d0cd517407506f6": {
          "model_module": "@jupyter-widgets/base",
          "model_module_version": "1.2.0",
          "model_name": "LayoutModel",
          "state": {
            "_model_module": "@jupyter-widgets/base",
            "_model_module_version": "1.2.0",
            "_model_name": "LayoutModel",
            "_view_count": null,
            "_view_module": "@jupyter-widgets/base",
            "_view_module_version": "1.2.0",
            "_view_name": "LayoutView",
            "align_content": null,
            "align_items": null,
            "align_self": null,
            "border": null,
            "bottom": null,
            "display": null,
            "flex": null,
            "flex_flow": null,
            "grid_area": null,
            "grid_auto_columns": null,
            "grid_auto_flow": null,
            "grid_auto_rows": null,
            "grid_column": null,
            "grid_gap": null,
            "grid_row": null,
            "grid_template_areas": null,
            "grid_template_columns": null,
            "grid_template_rows": null,
            "height": null,
            "justify_content": null,
            "justify_items": null,
            "left": null,
            "margin": null,
            "max_height": null,
            "max_width": null,
            "min_height": null,
            "min_width": null,
            "object_fit": null,
            "object_position": null,
            "order": null,
            "overflow": null,
            "overflow_x": null,
            "overflow_y": null,
            "padding": null,
            "right": null,
            "top": null,
            "visibility": null,
            "width": null
          }
        },
        "5d51d16030a34ff38c12c62843c55e4f": {
          "model_module": "@jupyter-widgets/controls",
          "model_module_version": "1.5.0",
          "model_name": "ProgressStyleModel",
          "state": {
            "_model_module": "@jupyter-widgets/controls",
            "_model_module_version": "1.5.0",
            "_model_name": "ProgressStyleModel",
            "_view_count": null,
            "_view_module": "@jupyter-widgets/base",
            "_view_module_version": "1.2.0",
            "_view_name": "StyleView",
            "bar_color": null,
            "description_width": ""
          }
        },
        "5f90a4f7865d4b7fa2c8515f5c832432": {
          "model_module": "@jupyter-widgets/base",
          "model_module_version": "1.2.0",
          "model_name": "LayoutModel",
          "state": {
            "_model_module": "@jupyter-widgets/base",
            "_model_module_version": "1.2.0",
            "_model_name": "LayoutModel",
            "_view_count": null,
            "_view_module": "@jupyter-widgets/base",
            "_view_module_version": "1.2.0",
            "_view_name": "LayoutView",
            "align_content": null,
            "align_items": null,
            "align_self": null,
            "border": null,
            "bottom": null,
            "display": null,
            "flex": null,
            "flex_flow": null,
            "grid_area": null,
            "grid_auto_columns": null,
            "grid_auto_flow": null,
            "grid_auto_rows": null,
            "grid_column": null,
            "grid_gap": null,
            "grid_row": null,
            "grid_template_areas": null,
            "grid_template_columns": null,
            "grid_template_rows": null,
            "height": null,
            "justify_content": null,
            "justify_items": null,
            "left": null,
            "margin": null,
            "max_height": null,
            "max_width": null,
            "min_height": null,
            "min_width": null,
            "object_fit": null,
            "object_position": null,
            "order": null,
            "overflow": null,
            "overflow_x": null,
            "overflow_y": null,
            "padding": null,
            "right": null,
            "top": null,
            "visibility": null,
            "width": null
          }
        },
        "6524970f918c46ccab64e8cfb697cae3": {
          "model_module": "@jupyter-widgets/base",
          "model_module_version": "1.2.0",
          "model_name": "LayoutModel",
          "state": {
            "_model_module": "@jupyter-widgets/base",
            "_model_module_version": "1.2.0",
            "_model_name": "LayoutModel",
            "_view_count": null,
            "_view_module": "@jupyter-widgets/base",
            "_view_module_version": "1.2.0",
            "_view_name": "LayoutView",
            "align_content": null,
            "align_items": null,
            "align_self": null,
            "border": null,
            "bottom": null,
            "display": null,
            "flex": null,
            "flex_flow": null,
            "grid_area": null,
            "grid_auto_columns": null,
            "grid_auto_flow": null,
            "grid_auto_rows": null,
            "grid_column": null,
            "grid_gap": null,
            "grid_row": null,
            "grid_template_areas": null,
            "grid_template_columns": null,
            "grid_template_rows": null,
            "height": null,
            "justify_content": null,
            "justify_items": null,
            "left": null,
            "margin": null,
            "max_height": null,
            "max_width": null,
            "min_height": null,
            "min_width": null,
            "object_fit": null,
            "object_position": null,
            "order": null,
            "overflow": null,
            "overflow_x": null,
            "overflow_y": null,
            "padding": null,
            "right": null,
            "top": null,
            "visibility": null,
            "width": null
          }
        },
        "682eb415635447af92c42b0da2c4e25b": {
          "model_module": "@jupyter-widgets/controls",
          "model_module_version": "1.5.0",
          "model_name": "FloatProgressModel",
          "state": {
            "_dom_classes": [],
            "_model_module": "@jupyter-widgets/controls",
            "_model_module_version": "1.5.0",
            "_model_name": "FloatProgressModel",
            "_view_count": null,
            "_view_module": "@jupyter-widgets/controls",
            "_view_module_version": "1.5.0",
            "_view_name": "ProgressView",
            "bar_style": "success",
            "description": "",
            "description_tooltip": null,
            "layout": "IPY_MODEL_19d5cbb7ae9a4558b32df92a9b65a41f",
            "max": 12,
            "min": 0,
            "orientation": "horizontal",
            "style": "IPY_MODEL_5d51d16030a34ff38c12c62843c55e4f",
            "value": 12
          }
        },
        "774b3de3abc046c6a4a9f41f1c4ab984": {
          "model_module": "@jupyter-widgets/controls",
          "model_module_version": "1.5.0",
          "model_name": "DescriptionStyleModel",
          "state": {
            "_model_module": "@jupyter-widgets/controls",
            "_model_module_version": "1.5.0",
            "_model_name": "DescriptionStyleModel",
            "_view_count": null,
            "_view_module": "@jupyter-widgets/base",
            "_view_module_version": "1.2.0",
            "_view_name": "StyleView",
            "description_width": ""
          }
        },
        "b2ac39674559465aa60370eff13dca2b": {
          "model_module": "@jupyter-widgets/controls",
          "model_module_version": "1.5.0",
          "model_name": "HBoxModel",
          "state": {
            "_dom_classes": [],
            "_model_module": "@jupyter-widgets/controls",
            "_model_module_version": "1.5.0",
            "_model_name": "HBoxModel",
            "_view_count": null,
            "_view_module": "@jupyter-widgets/controls",
            "_view_module_version": "1.5.0",
            "_view_name": "HBoxView",
            "box_style": "",
            "children": [
              "IPY_MODEL_36e0258f25bb4adba53225aa8a629ef2",
              "IPY_MODEL_682eb415635447af92c42b0da2c4e25b",
              "IPY_MODEL_ccdc6f15a92946b3a91ca8a890c9c818"
            ],
            "layout": "IPY_MODEL_3d3d52047b6647e886ddcd3f91f2b955"
          }
        },
        "bd58888ea3e444478ff13315b346a865": {
          "model_module": "@jupyter-widgets/controls",
          "model_module_version": "1.5.0",
          "model_name": "HBoxModel",
          "state": {
            "_dom_classes": [],
            "_model_module": "@jupyter-widgets/controls",
            "_model_module_version": "1.5.0",
            "_model_name": "HBoxModel",
            "_view_count": null,
            "_view_module": "@jupyter-widgets/controls",
            "_view_module_version": "1.5.0",
            "_view_name": "HBoxView",
            "box_style": "",
            "children": [
              "IPY_MODEL_146828428c32468897503901cb86c509",
              "IPY_MODEL_11be3dbdcfc44b21b044d1c485b01bf0",
              "IPY_MODEL_236ce9ed44094c6ea1cf0d246090db49"
            ],
            "layout": "IPY_MODEL_1ced9be91cb6484d99da5dd7ddfeb2d6"
          }
        },
        "ccdc6f15a92946b3a91ca8a890c9c818": {
          "model_module": "@jupyter-widgets/controls",
          "model_module_version": "1.5.0",
          "model_name": "HTMLModel",
          "state": {
            "_dom_classes": [],
            "_model_module": "@jupyter-widgets/controls",
            "_model_module_version": "1.5.0",
            "_model_name": "HTMLModel",
            "_view_count": null,
            "_view_module": "@jupyter-widgets/controls",
            "_view_module_version": "1.5.0",
            "_view_name": "HTMLView",
            "description": "",
            "description_tooltip": null,
            "layout": "IPY_MODEL_078ff248affe4783952ce27c45ef3c11",
            "placeholder": "​",
            "style": "IPY_MODEL_388409d9e7ca4c34aab7dee4840fc64d",
            "value": " 12/12 [00:00&lt;00:00, 16.20 examples/s]"
          }
        },
        "d62652d18aa9483e84c3df41b9c7ff9a": {
          "model_module": "@jupyter-widgets/base",
          "model_module_version": "1.2.0",
          "model_name": "LayoutModel",
          "state": {
            "_model_module": "@jupyter-widgets/base",
            "_model_module_version": "1.2.0",
            "_model_name": "LayoutModel",
            "_view_count": null,
            "_view_module": "@jupyter-widgets/base",
            "_view_module_version": "1.2.0",
            "_view_name": "LayoutView",
            "align_content": null,
            "align_items": null,
            "align_self": null,
            "border": null,
            "bottom": null,
            "display": null,
            "flex": null,
            "flex_flow": null,
            "grid_area": null,
            "grid_auto_columns": null,
            "grid_auto_flow": null,
            "grid_auto_rows": null,
            "grid_column": null,
            "grid_gap": null,
            "grid_row": null,
            "grid_template_areas": null,
            "grid_template_columns": null,
            "grid_template_rows": null,
            "height": null,
            "justify_content": null,
            "justify_items": null,
            "left": null,
            "margin": null,
            "max_height": null,
            "max_width": null,
            "min_height": null,
            "min_width": null,
            "object_fit": null,
            "object_position": null,
            "order": null,
            "overflow": null,
            "overflow_x": null,
            "overflow_y": null,
            "padding": null,
            "right": null,
            "top": null,
            "visibility": null,
            "width": null
          }
        },
        "f7e79a9e885b448faeccb2c1011bc81e": {
          "model_module": "@jupyter-widgets/controls",
          "model_module_version": "1.5.0",
          "model_name": "DescriptionStyleModel",
          "state": {
            "_model_module": "@jupyter-widgets/controls",
            "_model_module_version": "1.5.0",
            "_model_name": "DescriptionStyleModel",
            "_view_count": null,
            "_view_module": "@jupyter-widgets/base",
            "_view_module_version": "1.2.0",
            "_view_name": "StyleView",
            "description_width": ""
          }
        }
      }
    },
    "accelerator": "GPU"
  },
  "nbformat": 4,
  "nbformat_minor": 0
}