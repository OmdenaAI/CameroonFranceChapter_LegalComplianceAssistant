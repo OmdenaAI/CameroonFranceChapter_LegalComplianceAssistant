{
  "cells": [
    {
      "cell_type": "markdown",
      "source": [
        "# Presidio only"
      ],
      "metadata": {
        "id": "O7b3a9oqg1nV"
      }
    },
    {
      "cell_type": "code",
      "execution_count": 2,
      "metadata": {
        "colab": {
          "base_uri": "https://localhost:8080/"
        },
        "id": "OXPvMSagYrhJ",
        "outputId": "a76edcad-b591-4058-85fd-2a0cdbe68a8d"
      },
      "outputs": [
        {
          "output_type": "stream",
          "name": "stdout",
          "text": [
            "Collecting presidio-analyzer\n",
            "  Downloading presidio_analyzer-2.2.357-py3-none-any.whl.metadata (3.3 kB)\n",
            "Collecting phonenumbers<9.0.0,>=8.12 (from presidio-analyzer)\n",
            "  Downloading phonenumbers-8.13.55-py2.py3-none-any.whl.metadata (11 kB)\n",
            "Requirement already satisfied: pyyaml in /usr/local/lib/python3.11/dist-packages (from presidio-analyzer) (6.0.2)\n",
            "Requirement already satisfied: regex in /usr/local/lib/python3.11/dist-packages (from presidio-analyzer) (2024.11.6)\n",
            "Requirement already satisfied: spacy!=3.7.0,<4.0.0,>=3.4.4 in /usr/local/lib/python3.11/dist-packages (from presidio-analyzer) (3.8.4)\n",
            "Collecting tldextract (from presidio-analyzer)\n",
            "  Downloading tldextract-5.1.3-py3-none-any.whl.metadata (11 kB)\n",
            "Requirement already satisfied: spacy-legacy<3.1.0,>=3.0.11 in /usr/local/lib/python3.11/dist-packages (from spacy!=3.7.0,<4.0.0,>=3.4.4->presidio-analyzer) (3.0.12)\n",
            "Requirement already satisfied: spacy-loggers<2.0.0,>=1.0.0 in /usr/local/lib/python3.11/dist-packages (from spacy!=3.7.0,<4.0.0,>=3.4.4->presidio-analyzer) (1.0.5)\n",
            "Requirement already satisfied: murmurhash<1.1.0,>=0.28.0 in /usr/local/lib/python3.11/dist-packages (from spacy!=3.7.0,<4.0.0,>=3.4.4->presidio-analyzer) (1.0.12)\n",
            "Requirement already satisfied: cymem<2.1.0,>=2.0.2 in /usr/local/lib/python3.11/dist-packages (from spacy!=3.7.0,<4.0.0,>=3.4.4->presidio-analyzer) (2.0.11)\n",
            "Requirement already satisfied: preshed<3.1.0,>=3.0.2 in /usr/local/lib/python3.11/dist-packages (from spacy!=3.7.0,<4.0.0,>=3.4.4->presidio-analyzer) (3.0.9)\n",
            "Requirement already satisfied: thinc<8.4.0,>=8.3.4 in /usr/local/lib/python3.11/dist-packages (from spacy!=3.7.0,<4.0.0,>=3.4.4->presidio-analyzer) (8.3.4)\n",
            "Requirement already satisfied: wasabi<1.2.0,>=0.9.1 in /usr/local/lib/python3.11/dist-packages (from spacy!=3.7.0,<4.0.0,>=3.4.4->presidio-analyzer) (1.1.3)\n",
            "Requirement already satisfied: srsly<3.0.0,>=2.4.3 in /usr/local/lib/python3.11/dist-packages (from spacy!=3.7.0,<4.0.0,>=3.4.4->presidio-analyzer) (2.5.1)\n",
            "Requirement already satisfied: catalogue<2.1.0,>=2.0.6 in /usr/local/lib/python3.11/dist-packages (from spacy!=3.7.0,<4.0.0,>=3.4.4->presidio-analyzer) (2.0.10)\n",
            "Requirement already satisfied: weasel<0.5.0,>=0.1.0 in /usr/local/lib/python3.11/dist-packages (from spacy!=3.7.0,<4.0.0,>=3.4.4->presidio-analyzer) (0.4.1)\n",
            "Requirement already satisfied: typer<1.0.0,>=0.3.0 in /usr/local/lib/python3.11/dist-packages (from spacy!=3.7.0,<4.0.0,>=3.4.4->presidio-analyzer) (0.15.1)\n",
            "Requirement already satisfied: tqdm<5.0.0,>=4.38.0 in /usr/local/lib/python3.11/dist-packages (from spacy!=3.7.0,<4.0.0,>=3.4.4->presidio-analyzer) (4.67.1)\n",
            "Requirement already satisfied: numpy>=1.19.0 in /usr/local/lib/python3.11/dist-packages (from spacy!=3.7.0,<4.0.0,>=3.4.4->presidio-analyzer) (1.26.4)\n",
            "Requirement already satisfied: requests<3.0.0,>=2.13.0 in /usr/local/lib/python3.11/dist-packages (from spacy!=3.7.0,<4.0.0,>=3.4.4->presidio-analyzer) (2.32.3)\n",
            "Requirement already satisfied: pydantic!=1.8,!=1.8.1,<3.0.0,>=1.7.4 in /usr/local/lib/python3.11/dist-packages (from spacy!=3.7.0,<4.0.0,>=3.4.4->presidio-analyzer) (2.10.6)\n",
            "Requirement already satisfied: jinja2 in /usr/local/lib/python3.11/dist-packages (from spacy!=3.7.0,<4.0.0,>=3.4.4->presidio-analyzer) (3.1.5)\n",
            "Requirement already satisfied: setuptools in /usr/local/lib/python3.11/dist-packages (from spacy!=3.7.0,<4.0.0,>=3.4.4->presidio-analyzer) (75.1.0)\n",
            "Requirement already satisfied: packaging>=20.0 in /usr/local/lib/python3.11/dist-packages (from spacy!=3.7.0,<4.0.0,>=3.4.4->presidio-analyzer) (24.2)\n",
            "Requirement already satisfied: langcodes<4.0.0,>=3.2.0 in /usr/local/lib/python3.11/dist-packages (from spacy!=3.7.0,<4.0.0,>=3.4.4->presidio-analyzer) (3.5.0)\n",
            "Requirement already satisfied: idna in /usr/local/lib/python3.11/dist-packages (from tldextract->presidio-analyzer) (3.10)\n",
            "Collecting requests-file>=1.4 (from tldextract->presidio-analyzer)\n",
            "  Downloading requests_file-2.1.0-py2.py3-none-any.whl.metadata (1.7 kB)\n",
            "Requirement already satisfied: filelock>=3.0.8 in /usr/local/lib/python3.11/dist-packages (from tldextract->presidio-analyzer) (3.17.0)\n",
            "Requirement already satisfied: language-data>=1.2 in /usr/local/lib/python3.11/dist-packages (from langcodes<4.0.0,>=3.2.0->spacy!=3.7.0,<4.0.0,>=3.4.4->presidio-analyzer) (1.3.0)\n",
            "Requirement already satisfied: annotated-types>=0.6.0 in /usr/local/lib/python3.11/dist-packages (from pydantic!=1.8,!=1.8.1,<3.0.0,>=1.7.4->spacy!=3.7.0,<4.0.0,>=3.4.4->presidio-analyzer) (0.7.0)\n",
            "Requirement already satisfied: pydantic-core==2.27.2 in /usr/local/lib/python3.11/dist-packages (from pydantic!=1.8,!=1.8.1,<3.0.0,>=1.7.4->spacy!=3.7.0,<4.0.0,>=3.4.4->presidio-analyzer) (2.27.2)\n",
            "Requirement already satisfied: typing-extensions>=4.12.2 in /usr/local/lib/python3.11/dist-packages (from pydantic!=1.8,!=1.8.1,<3.0.0,>=1.7.4->spacy!=3.7.0,<4.0.0,>=3.4.4->presidio-analyzer) (4.12.2)\n",
            "Requirement already satisfied: charset-normalizer<4,>=2 in /usr/local/lib/python3.11/dist-packages (from requests<3.0.0,>=2.13.0->spacy!=3.7.0,<4.0.0,>=3.4.4->presidio-analyzer) (3.4.1)\n",
            "Requirement already satisfied: urllib3<3,>=1.21.1 in /usr/local/lib/python3.11/dist-packages (from requests<3.0.0,>=2.13.0->spacy!=3.7.0,<4.0.0,>=3.4.4->presidio-analyzer) (2.3.0)\n",
            "Requirement already satisfied: certifi>=2017.4.17 in /usr/local/lib/python3.11/dist-packages (from requests<3.0.0,>=2.13.0->spacy!=3.7.0,<4.0.0,>=3.4.4->presidio-analyzer) (2025.1.31)\n",
            "Requirement already satisfied: blis<1.3.0,>=1.2.0 in /usr/local/lib/python3.11/dist-packages (from thinc<8.4.0,>=8.3.4->spacy!=3.7.0,<4.0.0,>=3.4.4->presidio-analyzer) (1.2.0)\n",
            "Requirement already satisfied: confection<1.0.0,>=0.0.1 in /usr/local/lib/python3.11/dist-packages (from thinc<8.4.0,>=8.3.4->spacy!=3.7.0,<4.0.0,>=3.4.4->presidio-analyzer) (0.1.5)\n",
            "Requirement already satisfied: click>=8.0.0 in /usr/local/lib/python3.11/dist-packages (from typer<1.0.0,>=0.3.0->spacy!=3.7.0,<4.0.0,>=3.4.4->presidio-analyzer) (8.1.8)\n",
            "Requirement already satisfied: shellingham>=1.3.0 in /usr/local/lib/python3.11/dist-packages (from typer<1.0.0,>=0.3.0->spacy!=3.7.0,<4.0.0,>=3.4.4->presidio-analyzer) (1.5.4)\n",
            "Requirement already satisfied: rich>=10.11.0 in /usr/local/lib/python3.11/dist-packages (from typer<1.0.0,>=0.3.0->spacy!=3.7.0,<4.0.0,>=3.4.4->presidio-analyzer) (13.9.4)\n",
            "Requirement already satisfied: cloudpathlib<1.0.0,>=0.7.0 in /usr/local/lib/python3.11/dist-packages (from weasel<0.5.0,>=0.1.0->spacy!=3.7.0,<4.0.0,>=3.4.4->presidio-analyzer) (0.20.0)\n",
            "Requirement already satisfied: smart-open<8.0.0,>=5.2.1 in /usr/local/lib/python3.11/dist-packages (from weasel<0.5.0,>=0.1.0->spacy!=3.7.0,<4.0.0,>=3.4.4->presidio-analyzer) (7.1.0)\n",
            "Requirement already satisfied: MarkupSafe>=2.0 in /usr/local/lib/python3.11/dist-packages (from jinja2->spacy!=3.7.0,<4.0.0,>=3.4.4->presidio-analyzer) (3.0.2)\n",
            "Requirement already satisfied: marisa-trie>=1.1.0 in /usr/local/lib/python3.11/dist-packages (from language-data>=1.2->langcodes<4.0.0,>=3.2.0->spacy!=3.7.0,<4.0.0,>=3.4.4->presidio-analyzer) (1.2.1)\n",
            "Requirement already satisfied: markdown-it-py>=2.2.0 in /usr/local/lib/python3.11/dist-packages (from rich>=10.11.0->typer<1.0.0,>=0.3.0->spacy!=3.7.0,<4.0.0,>=3.4.4->presidio-analyzer) (3.0.0)\n",
            "Requirement already satisfied: pygments<3.0.0,>=2.13.0 in /usr/local/lib/python3.11/dist-packages (from rich>=10.11.0->typer<1.0.0,>=0.3.0->spacy!=3.7.0,<4.0.0,>=3.4.4->presidio-analyzer) (2.18.0)\n",
            "Requirement already satisfied: wrapt in /usr/local/lib/python3.11/dist-packages (from smart-open<8.0.0,>=5.2.1->weasel<0.5.0,>=0.1.0->spacy!=3.7.0,<4.0.0,>=3.4.4->presidio-analyzer) (1.17.2)\n",
            "Requirement already satisfied: mdurl~=0.1 in /usr/local/lib/python3.11/dist-packages (from markdown-it-py>=2.2.0->rich>=10.11.0->typer<1.0.0,>=0.3.0->spacy!=3.7.0,<4.0.0,>=3.4.4->presidio-analyzer) (0.1.2)\n",
            "Downloading presidio_analyzer-2.2.357-py3-none-any.whl (112 kB)\n",
            "\u001b[2K   \u001b[90m━━━━━━━━━━━━━━━━━━━━━━━━━━━━━━━━━━━━━━━━\u001b[0m \u001b[32m112.3/112.3 kB\u001b[0m \u001b[31m5.1 MB/s\u001b[0m eta \u001b[36m0:00:00\u001b[0m\n",
            "\u001b[?25hDownloading phonenumbers-8.13.55-py2.py3-none-any.whl (2.6 MB)\n",
            "\u001b[2K   \u001b[90m━━━━━━━━━━━━━━━━━━━━━━━━━━━━━━━━━━━━━━━━\u001b[0m \u001b[32m2.6/2.6 MB\u001b[0m \u001b[31m55.1 MB/s\u001b[0m eta \u001b[36m0:00:00\u001b[0m\n",
            "\u001b[?25hDownloading tldextract-5.1.3-py3-none-any.whl (104 kB)\n",
            "\u001b[2K   \u001b[90m━━━━━━━━━━━━━━━━━━━━━━━━━━━━━━━━━━━━━━━━\u001b[0m \u001b[32m104.9/104.9 kB\u001b[0m \u001b[31m10.3 MB/s\u001b[0m eta \u001b[36m0:00:00\u001b[0m\n",
            "\u001b[?25hDownloading requests_file-2.1.0-py2.py3-none-any.whl (4.2 kB)\n",
            "Installing collected packages: phonenumbers, requests-file, tldextract, presidio-analyzer\n",
            "Successfully installed phonenumbers-8.13.55 presidio-analyzer-2.2.357 requests-file-2.1.0 tldextract-5.1.3\n",
            "Collecting presidio-anonymizer\n",
            "  Downloading presidio_anonymizer-2.2.357-py3-none-any.whl.metadata (8.2 kB)\n",
            "Collecting azure-core (from presidio-anonymizer)\n",
            "  Downloading azure_core-1.32.0-py3-none-any.whl.metadata (39 kB)\n",
            "Collecting pycryptodome>=3.10.1 (from presidio-anonymizer)\n",
            "  Downloading pycryptodome-3.21.0-cp36-abi3-manylinux_2_17_x86_64.manylinux2014_x86_64.whl.metadata (3.4 kB)\n",
            "Requirement already satisfied: requests>=2.21.0 in /usr/local/lib/python3.11/dist-packages (from azure-core->presidio-anonymizer) (2.32.3)\n",
            "Requirement already satisfied: six>=1.11.0 in /usr/local/lib/python3.11/dist-packages (from azure-core->presidio-anonymizer) (1.17.0)\n",
            "Requirement already satisfied: typing-extensions>=4.6.0 in /usr/local/lib/python3.11/dist-packages (from azure-core->presidio-anonymizer) (4.12.2)\n",
            "Requirement already satisfied: charset-normalizer<4,>=2 in /usr/local/lib/python3.11/dist-packages (from requests>=2.21.0->azure-core->presidio-anonymizer) (3.4.1)\n",
            "Requirement already satisfied: idna<4,>=2.5 in /usr/local/lib/python3.11/dist-packages (from requests>=2.21.0->azure-core->presidio-anonymizer) (3.10)\n",
            "Requirement already satisfied: urllib3<3,>=1.21.1 in /usr/local/lib/python3.11/dist-packages (from requests>=2.21.0->azure-core->presidio-anonymizer) (2.3.0)\n",
            "Requirement already satisfied: certifi>=2017.4.17 in /usr/local/lib/python3.11/dist-packages (from requests>=2.21.0->azure-core->presidio-anonymizer) (2025.1.31)\n",
            "Downloading presidio_anonymizer-2.2.357-py3-none-any.whl (31 kB)\n",
            "Downloading pycryptodome-3.21.0-cp36-abi3-manylinux_2_17_x86_64.manylinux2014_x86_64.whl (2.3 MB)\n",
            "\u001b[2K   \u001b[90m━━━━━━━━━━━━━━━━━━━━━━━━━━━━━━━━━━━━━━━━\u001b[0m \u001b[32m2.3/2.3 MB\u001b[0m \u001b[31m44.7 MB/s\u001b[0m eta \u001b[36m0:00:00\u001b[0m\n",
            "\u001b[?25hDownloading azure_core-1.32.0-py3-none-any.whl (198 kB)\n",
            "\u001b[2K   \u001b[90m━━━━━━━━━━━━━━━━━━━━━━━━━━━━━━━━━━━━━━━━\u001b[0m \u001b[32m198.9/198.9 kB\u001b[0m \u001b[31m20.4 MB/s\u001b[0m eta \u001b[36m0:00:00\u001b[0m\n",
            "\u001b[?25hInstalling collected packages: pycryptodome, azure-core, presidio-anonymizer\n",
            "Successfully installed azure-core-1.32.0 presidio-anonymizer-2.2.357 pycryptodome-3.21.0\n"
          ]
        }
      ],
      "source": [
        "!pip install presidio-analyzer\n",
        "!pip install presidio-anonymizer"
      ]
    },
    {
      "cell_type": "code",
      "execution_count": null,
      "metadata": {
        "colab": {
          "base_uri": "https://localhost:8080/"
        },
        "id": "bx0ioe10XsAI",
        "outputId": "b2416d5c-37a6-41a7-c409-7e67948da3f1"
      },
      "outputs": [
        {
          "name": "stderr",
          "output_type": "stream",
          "text": [
            "WARNING:presidio-analyzer:Recognizer not added to registry because language is not supported by registry - CreditCardRecognizer supported languages: es, registry supported languages: en\n",
            "WARNING:presidio-analyzer:Recognizer not added to registry because language is not supported by registry - CreditCardRecognizer supported languages: it, registry supported languages: en\n",
            "WARNING:presidio-analyzer:Recognizer not added to registry because language is not supported by registry - CreditCardRecognizer supported languages: pl, registry supported languages: en\n",
            "WARNING:presidio-analyzer:Recognizer not added to registry because language is not supported by registry - EsNifRecognizer supported languages: es, registry supported languages: en\n",
            "WARNING:presidio-analyzer:Recognizer not added to registry because language is not supported by registry - EsNieRecognizer supported languages: es, registry supported languages: en\n",
            "WARNING:presidio-analyzer:Recognizer not added to registry because language is not supported by registry - ItDriverLicenseRecognizer supported languages: it, registry supported languages: en\n",
            "WARNING:presidio-analyzer:Recognizer not added to registry because language is not supported by registry - ItFiscalCodeRecognizer supported languages: it, registry supported languages: en\n",
            "WARNING:presidio-analyzer:Recognizer not added to registry because language is not supported by registry - ItVatCodeRecognizer supported languages: it, registry supported languages: en\n",
            "WARNING:presidio-analyzer:Recognizer not added to registry because language is not supported by registry - ItIdentityCardRecognizer supported languages: it, registry supported languages: en\n",
            "WARNING:presidio-analyzer:Recognizer not added to registry because language is not supported by registry - ItPassportRecognizer supported languages: it, registry supported languages: en\n",
            "WARNING:presidio-analyzer:Recognizer not added to registry because language is not supported by registry - PlPeselRecognizer supported languages: pl, registry supported languages: en\n"
          ]
        },
        {
          "name": "stdout",
          "output_type": "stream",
          "text": [
            "Detected entities: [type: PERSON, start: 11, end: 19, score: 0.85]\n",
            "Anonymized text: text: My name is <PERSON> and my phone number is 555-1234.\n",
            "items:\n",
            "[\n",
            "    {'start': 11, 'end': 19, 'entity_type': 'PERSON', 'text': '<PERSON>', 'operator': 'replace'}\n",
            "]\n",
            "\n"
          ]
        }
      ],
      "source": [
        "from presidio_analyzer import AnalyzerEngine\n",
        "from presidio_anonymizer import AnonymizerEngine\n",
        "\n",
        "# Initialize the analyzer and anonymizer\n",
        "analyzer = AnalyzerEngine()\n",
        "anonymizer = AnonymizerEngine()\n",
        "\n",
        "# Input text\n",
        "text = \"My name is John Doe and my phone number is 555-1234.\"\n",
        "\n",
        "# Detect sensitive information\n",
        "results = analyzer.analyze(text=text, language=\"en\")\n",
        "print(\"Detected entities:\", results)\n",
        "\n",
        "# Anonymize the text\n",
        "anonymized_text = anonymizer.anonymize(text=text, analyzer_results=results)\n",
        "print(\"Anonymized text:\", anonymized_text)"
      ]
    },
    {
      "cell_type": "code",
      "execution_count": null,
      "metadata": {
        "colab": {
          "base_uri": "https://localhost:8080/"
        },
        "id": "0bMQoSNtZ6aX",
        "outputId": "f786fdc1-3530-43cb-df31-c720625c6d31"
      },
      "outputs": [
        {
          "name": "stdout",
          "output_type": "stream",
          "text": [
            "Collecting pdfplumber\n",
            "  Downloading pdfplumber-0.11.5-py3-none-any.whl.metadata (42 kB)\n",
            "\u001b[?25l     \u001b[90m━━━━━━━━━━━━━━━━━━━━━━━━━━━━━━━━━━━━━━━━\u001b[0m \u001b[32m0.0/42.5 kB\u001b[0m \u001b[31m?\u001b[0m eta \u001b[36m-:--:--\u001b[0m\r\u001b[2K     \u001b[90m━━━━━━━━━━━━━━━━━━━━━━━━━━━━━━━━━━━━━━━━\u001b[0m \u001b[32m42.5/42.5 kB\u001b[0m \u001b[31m2.3 MB/s\u001b[0m eta \u001b[36m0:00:00\u001b[0m\n",
            "\u001b[?25hCollecting pdfminer.six==20231228 (from pdfplumber)\n",
            "  Downloading pdfminer.six-20231228-py3-none-any.whl.metadata (4.2 kB)\n",
            "Requirement already satisfied: Pillow>=9.1 in /usr/local/lib/python3.11/dist-packages (from pdfplumber) (11.1.0)\n",
            "Collecting pypdfium2>=4.18.0 (from pdfplumber)\n",
            "  Downloading pypdfium2-4.30.1-py3-none-manylinux_2_17_x86_64.manylinux2014_x86_64.whl.metadata (48 kB)\n",
            "\u001b[2K     \u001b[90m━━━━━━━━━━━━━━━━━━━━━━━━━━━━━━━━━━━━━━━━\u001b[0m \u001b[32m48.2/48.2 kB\u001b[0m \u001b[31m2.9 MB/s\u001b[0m eta \u001b[36m0:00:00\u001b[0m\n",
            "\u001b[?25hRequirement already satisfied: charset-normalizer>=2.0.0 in /usr/local/lib/python3.11/dist-packages (from pdfminer.six==20231228->pdfplumber) (3.4.1)\n",
            "Requirement already satisfied: cryptography>=36.0.0 in /usr/local/lib/python3.11/dist-packages (from pdfminer.six==20231228->pdfplumber) (43.0.3)\n",
            "Requirement already satisfied: cffi>=1.12 in /usr/local/lib/python3.11/dist-packages (from cryptography>=36.0.0->pdfminer.six==20231228->pdfplumber) (1.17.1)\n",
            "Requirement already satisfied: pycparser in /usr/local/lib/python3.11/dist-packages (from cffi>=1.12->cryptography>=36.0.0->pdfminer.six==20231228->pdfplumber) (2.22)\n",
            "Downloading pdfplumber-0.11.5-py3-none-any.whl (59 kB)\n",
            "\u001b[2K   \u001b[90m━━━━━━━━━━━━━━━━━━━━━━━━━━━━━━━━━━━━━━━━\u001b[0m \u001b[32m59.5/59.5 kB\u001b[0m \u001b[31m4.1 MB/s\u001b[0m eta \u001b[36m0:00:00\u001b[0m\n",
            "\u001b[?25hDownloading pdfminer.six-20231228-py3-none-any.whl (5.6 MB)\n",
            "\u001b[2K   \u001b[90m━━━━━━━━━━━━━━━━━━━━━━━━━━━━━━━━━━━━━━━━\u001b[0m \u001b[32m5.6/5.6 MB\u001b[0m \u001b[31m70.4 MB/s\u001b[0m eta \u001b[36m0:00:00\u001b[0m\n",
            "\u001b[?25hDownloading pypdfium2-4.30.1-py3-none-manylinux_2_17_x86_64.manylinux2014_x86_64.whl (2.9 MB)\n",
            "\u001b[2K   \u001b[90m━━━━━━━━━━━━━━━━━━━━━━━━━━━━━━━━━━━━━━━━\u001b[0m \u001b[32m2.9/2.9 MB\u001b[0m \u001b[31m75.6 MB/s\u001b[0m eta \u001b[36m0:00:00\u001b[0m\n",
            "\u001b[?25hInstalling collected packages: pypdfium2, pdfminer.six, pdfplumber\n",
            "Successfully installed pdfminer.six-20231228 pdfplumber-0.11.5 pypdfium2-4.30.1\n"
          ]
        }
      ],
      "source": [
        "!pip install pdfplumber"
      ]
    },
    {
      "cell_type": "code",
      "execution_count": null,
      "metadata": {
        "colab": {
          "base_uri": "https://localhost:8080/"
        },
        "id": "dHWpWmcdYESH",
        "outputId": "7c8329f5-f189-4faa-c3c0-966fae49bf66"
      },
      "outputs": [
        {
          "name": "stdout",
          "output_type": "stream",
          "text": [
            "Extracted Text: Divorce Agreement\n",
            "This Divorce Agreement (\"Agreement\") is made and entered into on this ___ day of\n",
            "__________, 20__, by and between Justin Powell, residing at 009 Cooper Loaf Apt. 167\n",
            "West Tanya, NV 33483, and Margaret Gonzales, residing at 087 Sarah Hills Apt. 760\n",
            "Brewershire, IA 90392. The parties have agreed to dissolve their marriage and settle all\n",
            "matters related to the division of assets, child custody, spousal support, and other\n",
            "obligations as outlined below.\n",
            "1. Recitals\n",
            "WHEREAS, the parties were married on 2025-02-06 in 462 Mcknight Unions Apt. 585\n",
            "North Dannyhaven, GA 55306;\n",
            "WHEREAS, the parties have decided to dissolve their marriage amicably;\n",
            "WHEREAS, the parties wish to resolve all issues arising from their marriage, including but\n",
            "not limited to property division, child custody, child support, spousal support, and other\n",
            "matters;\n",
            "NOW, THEREFORE, in consideration of the mutual promises and covenants contained\n",
            "herein, the parties agree as follows:\n",
            "2. Division of Assets and Debts\n",
            "The parties agree to divide their marital assets and debts as follows:\n",
            "- Real Estate: The marital home located at 7564 Ray Walk Suite 355\n",
            "Nancyview, NV 77664 shall be transferred to Justin Powell. Any outstanding mortgage or\n",
            "liens shall remain the responsibility of Justin Powell.\n",
            "- Bank Accounts: All joint bank accounts shall be closed, and the funds shall be divided\n",
            "equally between the parties.\n",
            "- Retirement Accounts: Each party shall retain their respective retirement accounts (e.g.,\n",
            "401(k), IRA). Any joint retirement accounts shall be divided according to a Qualified\n",
            "Domestic Relations Order (QDRO).\n",
            "- Vehicles: Each party shall retain ownership of the vehicle(s) titled in their name. Any loans\n",
            "associated with the vehicles shall remain the responsibility of the titled owner.\n",
            "- Personal Property: Each party shall retain their personal belongings, including furniture,\n",
            "electronics, and other household items as mutually agreed upon.\n",
            "- Debts: All joint debts incurred during the marriage shall be divided equally unless\n",
            "otherwise specified herein.\n",
            "3. Child Custody and Support\n",
            "The parties agree to the following custody and support arrangement:\n",
            "- Legal Custody: Joint legal custody shall be granted to both parties, meaning both parents\n",
            "shall share decision-making authority regarding the children’s education, healthcare, and\n",
            "general welfare.\n",
            "- Physical Custody: The children shall reside primarily with [Parent Name], with visitation\n",
            "rights granted to [Other Parent Name] as follows:- Weekends: Every other weekend from Friday at 6:00 PM to Sunday at 6:00 PM.\n",
            "- Holidays: The children shall alternate holidays between the parents as follows:\n",
            "Thanksgiving with [Parent A] in even years, Christmas with [Parent B] in odd years, etc.\n",
            "- Child Support: Justin Powell shall pay $385 per month in child support to Margaret\n",
            "Gonzales. Payments shall be made via bank transfer and are due on the 1st of each month.\n",
            "- Medical Expenses: Both parties shall equally share any uninsured medical, dental, or\n",
            "educational expenses for the children.\n",
            "4. Spousal Support (Alimony)\n",
            "The parties agree to the following spousal support arrangement:\n",
            "- Justin Powell shall pay $567 per month in spousal support to Margaret Gonzales for a\n",
            "period of 5 years, beginning on 2025-01-25.\n",
            "- The obligation to pay spousal support shall terminate upon the death of either party, the\n",
            "remarriage of the receiving party, or the expiration of the agreed-upon duration, whichever\n",
            "occurs first.\n",
            "5. Health Insurance and Benefits\n",
            "The parties agree to the following regarding health insurance and benefits:\n",
            "- Health Insurance: Justin Powell shall maintain health insurance coverage for the children\n",
            "until they reach the age of majority or graduate from high school, whichever occurs later.\n",
            "- Life Insurance: Justin Powell shall maintain a life insurance policy with a face value of\n",
            "$455972, naming Margaret Gonzales as the beneficiary to secure child support and/or\n",
            "spousal support obligations.\n",
            "6. Tax Matters\n",
            "The parties agree to the following regarding tax matters:\n",
            "- Dependency Exemptions: The parties shall alternate claiming the children as dependents\n",
            "for tax purposes, with [Parent A] claiming them in even years and [Parent B] in odd years.\n",
            "- Filing Status: Each party shall file their taxes separately unless otherwise agreed upon in\n",
            "writing.\n",
            "7. Dispute Resolution\n",
            "In the event of any disputes arising under this Agreement, the parties agree to attempt to\n",
            "resolve such disputes through mediation before pursuing litigation. If mediation fails, the\n",
            "matter may be resolved through arbitration or court proceedings as permitted by law.\n",
            "8. General Provisions\n",
            "The parties agree to the following general provisions:\n",
            "- Entire Agreement: This Agreement constitutes the entire understanding between the\n",
            "parties and supersedes all prior agreements, whether written or oral.\n",
            "- Modifications: Any modifications to this Agreement must be in writing and signed by bothparties.\n",
            "- Governing Law: This Agreement shall be governed by and construed in accordance with\n",
            "the laws of the State of West Virginia.\n",
            "9. Signatures\n",
            "Justin Powell's Signature:\n",
            "Date: ___/___/20__\n",
            "Margaret Gonzales's Signature:\n",
            "Date: ___/___/20__\n",
            "Witness 1: Jose Davila\n",
            "Date: ___/___/20__\n",
            "Witness 2: Rebekah Rodriguez\n",
            "Date: ___/___/20__\n",
            "Notary Acknowledgment\n",
            "State of West Virginia\n",
            "County of British Virgin IslandsOn this ___ day of __________, 20__, before me, the undersigned notary public, personally\n",
            "appeared Justin Powell and Margaret Gonzales, known to me (or satisfactorily proven) to be\n",
            "the persons whose names are subscribed to this instrument, and acknowledged that they\n",
            "executed it for the purposes therein contained.\n",
            "___________________________\n",
            "Mendoza-Harper, Notary Public\n",
            "My Commission Expires: ___/___/20__\n"
          ]
        }
      ],
      "source": [
        "import pdfplumber\n",
        "\n",
        "def extract_text_from_pdf(pdf_path):\n",
        "    text = \"\"\n",
        "    with pdfplumber.open(pdf_path) as pdf:\n",
        "        for page in pdf.pages:\n",
        "            text += page.extract_text()\n",
        "    return text\n",
        "\n",
        "pdf_path = \"/content/Detailed_Divorce_Agreement_0.pdf\"\n",
        "extracted_text = extract_text_from_pdf(pdf_path)\n",
        "print(\"Extracted Text:\", extracted_text)"
      ]
    },
    {
      "cell_type": "code",
      "execution_count": null,
      "metadata": {
        "colab": {
          "base_uri": "https://localhost:8080/"
        },
        "id": "AamceTaMZ4tm",
        "outputId": "fadface2-8a5d-46b3-b023-55b21d33114c"
      },
      "outputs": [
        {
          "name": "stderr",
          "output_type": "stream",
          "text": [
            "WARNING:presidio-analyzer:Recognizer not added to registry because language is not supported by registry - CreditCardRecognizer supported languages: es, registry supported languages: en\n",
            "WARNING:presidio-analyzer:Recognizer not added to registry because language is not supported by registry - CreditCardRecognizer supported languages: it, registry supported languages: en\n",
            "WARNING:presidio-analyzer:Recognizer not added to registry because language is not supported by registry - CreditCardRecognizer supported languages: pl, registry supported languages: en\n",
            "WARNING:presidio-analyzer:Recognizer not added to registry because language is not supported by registry - EsNifRecognizer supported languages: es, registry supported languages: en\n",
            "WARNING:presidio-analyzer:Recognizer not added to registry because language is not supported by registry - EsNieRecognizer supported languages: es, registry supported languages: en\n",
            "WARNING:presidio-analyzer:Recognizer not added to registry because language is not supported by registry - ItDriverLicenseRecognizer supported languages: it, registry supported languages: en\n",
            "WARNING:presidio-analyzer:Recognizer not added to registry because language is not supported by registry - ItFiscalCodeRecognizer supported languages: it, registry supported languages: en\n",
            "WARNING:presidio-analyzer:Recognizer not added to registry because language is not supported by registry - ItVatCodeRecognizer supported languages: it, registry supported languages: en\n",
            "WARNING:presidio-analyzer:Recognizer not added to registry because language is not supported by registry - ItIdentityCardRecognizer supported languages: it, registry supported languages: en\n",
            "WARNING:presidio-analyzer:Recognizer not added to registry because language is not supported by registry - ItPassportRecognizer supported languages: it, registry supported languages: en\n",
            "WARNING:presidio-analyzer:Recognizer not added to registry because language is not supported by registry - PlPeselRecognizer supported languages: pl, registry supported languages: en\n"
          ]
        },
        {
          "name": "stdout",
          "output_type": "stream",
          "text": [
            "Detected Entities: [type: PERSON, start: 132, end: 145, score: 0.85, type: LOCATION, start: 163, end: 178, score: 0.85, type: PERSON, start: 210, end: 227, score: 0.85, type: PERSON, start: 245, end: 260, score: 0.85, type: LOCATION, start: 279, end: 287, score: 0.85, type: DATE_TIME, start: 520, end: 530, score: 0.85, type: PERSON, start: 563, end: 579, score: 0.85, type: DATE_TIME, start: 584, end: 589, score: 0.85, type: LOCATION, start: 1117, end: 1140, score: 0.85, type: LOCATION, start: 1141, end: 1150, score: 0.85, type: DATE_TIME, start: 1155, end: 1160, score: 0.85, type: PERSON, start: 1185, end: 1198, score: 0.85, type: PERSON, start: 1269, end: 1282, score: 0.85, type: DATE_TIME, start: 2510, end: 2529, score: 0.85, type: DATE_TIME, start: 2535, end: 2541, score: 0.85, type: DATE_TIME, start: 2545, end: 2562, score: 0.85, type: DATE_TIME, start: 2566, end: 2573, score: 0.85, type: DATE_TIME, start: 2657, end: 2669, score: 0.85, type: DATE_TIME, start: 2694, end: 2699, score: 0.85, type: DATE_TIME, start: 2701, end: 2710, score: 0.85, type: DATE_TIME, start: 2730, end: 2739, score: 0.85, type: PERSON, start: 2763, end: 2776, score: 0.85, type: PERSON, start: 2822, end: 2839, score: 0.85, type: DATE_TIME, start: 2897, end: 2918, score: 0.85, type: PERSON, start: 3141, end: 3154, score: 0.85, type: PERSON, start: 3202, end: 3219, score: 0.85, type: DATE_TIME, start: 3236, end: 3243, score: 0.85, type: DATE_TIME, start: 3258, end: 3268, score: 0.85, type: PERSON, start: 3597, end: 3610, score: 0.85, type: PERSON, start: 3778, end: 3791, score: 0.85, type: PERSON, start: 3868, end: 3885, score: 0.85, type: DATE_TIME, start: 4183, end: 4188, score: 0.85, type: DATE_TIME, start: 4207, end: 4216, score: 0.85, type: LOCATION, start: 5052, end: 5065, score: 0.85, type: PERSON, start: 5081, end: 5096, score: 0.85, type: PERSON, start: 5127, end: 5146, score: 0.85, type: PERSON, start: 5188, end: 5199, score: 0.85, type: PERSON, start: 5230, end: 5247, score: 0.85, type: LOCATION, start: 5298, end: 5318, score: 0.85, type: LOCATION, start: 5322, end: 5346, score: 0.85, type: PERSON, start: 5443, end: 5456, score: 0.85, type: PERSON, start: 5461, end: 5478, score: 0.85, type: US_DRIVER_LICENSE, start: 3853, end: 3859, score: 0.4, type: IN_PAN, start: 99, end: 109, score: 0.05, type: IN_PAN, start: 520, end: 530, score: 0.05, type: IN_PAN, start: 569, end: 579, score: 0.05, type: IN_PAN, start: 1404, end: 1414, score: 0.05, type: IN_PAN, start: 1455, end: 1465, score: 0.05, type: IN_PAN, start: 1466, end: 1476, score: 0.05, type: IN_PAN, start: 1517, end: 1527, score: 0.05, type: IN_PAN, start: 1708, end: 1718, score: 0.05, type: IN_PAN, start: 1850, end: 1860, score: 0.05, type: IN_PAN, start: 2324, end: 2334, score: 0.05, type: IN_PAN, start: 2438, end: 2448, score: 0.05, type: IN_PAN, start: 3258, end: 3268, score: 0.05, type: IN_PAN, start: 3276, end: 3286, score: 0.05, type: IN_PAN, start: 3362, end: 3372, score: 0.05, type: IN_PAN, start: 3404, end: 3414, score: 0.05]\n"
          ]
        }
      ],
      "source": [
        "from presidio_analyzer import AnalyzerEngine\n",
        "\n",
        "# Initialize the analyzer\n",
        "analyzer = AnalyzerEngine()\n",
        "\n",
        "# Analyze the extracted text\n",
        "results = analyzer.analyze(text=extracted_text, language=\"en\")\n",
        "print(\"Detected Entities:\", results)"
      ]
    },
    {
      "cell_type": "code",
      "execution_count": null,
      "metadata": {
        "colab": {
          "base_uri": "https://localhost:8080/"
        },
        "id": "y9kf_pOuaV-8",
        "outputId": "9b6a900f-f571-45b9-a29f-d77dddd9191d"
      },
      "outputs": [
        {
          "name": "stdout",
          "output_type": "stream",
          "text": [
            "Anonymized Text: text: Divorce Agreement\n",
            "This Divorce Agreement (\"Agreement\") is made and entered into on this ___ day of\n",
            "<IN_PAN>, 20__, by and between <PERSON>, residing at 009 <LOCATION>. 167\n",
            "West Tanya, NV 33483, and <PERSON>, residing at 087 <PERSON>. 760\n",
            "Brewershire, <LOCATION>. The parties have agreed to dissolve their marriage and settle all\n",
            "matters related to the division of assets, child custody, spousal support, and other\n",
            "obligations as outlined below.\n",
            "1. Recitals\n",
            "WHEREAS, the parties were married on <DATE_TIME> in 462 Mcknight Unions Apt. 585\n",
            "<PERSON>, GA <DATE_TIME>;\n",
            "WHEREAS, the parties have decided to dissolve their marriage amicably;\n",
            "WHEREAS, the parties wish to resolve all issues arising from their marriage, including but\n",
            "not limited to property division, child custody, child support, spousal support, and other\n",
            "matters;\n",
            "NOW, THEREFORE, in consideration of the mutual promises and covenants contained\n",
            "herein, the parties agree as follows:\n",
            "2. Division of Assets and Debts\n",
            "The parties agree to divide their marital assets and debts as follows:\n",
            "- Real Estate: The marital home located at <LOCATION>\n",
            "<LOCATION>, NV <DATE_TIME> shall be transferred to <PERSON>. Any outstanding mortgage or\n",
            "liens shall remain the responsibility of <PERSON>.\n",
            "- Bank Accounts: All joint bank accounts shall be closed, and the funds shall be divided\n",
            "equally between the parties.\n",
            "- <IN_PAN> Accounts: Each party shall retain their <IN_PAN> accounts (e.g.,\n",
            "401(k), IRA). Any joint <IN_PAN> accounts shall be divided according to a Qualified\n",
            "Domestic Relations Order (QDRO).\n",
            "- Vehicles: Each party shall retain ownership of the vehicle(s) titled in their name. Any loans\n",
            "<IN_PAN> with the vehicles shall remain the responsibility of the titled owner.\n",
            "- Personal Property: Each party shall retain their personal <IN_PAN>, including furniture,\n",
            "electronics, and other household items as mutually agreed upon.\n",
            "- Debts: All joint debts incurred during the marriage shall be divided equally unless\n",
            "otherwise specified herein.\n",
            "3. Child Custody and Support\n",
            "The parties agree to the following custody and support arrangement:\n",
            "- Legal Custody: Joint legal custody shall be granted to both parties, meaning both parents\n",
            "shall share decision-making authority regarding the children’s education, <IN_PAN>, and\n",
            "general welfare.\n",
            "- Physical Custody: The children shall reside primarily with [Parent Name], with <IN_PAN>\n",
            "rights granted to [Other Parent Name] as follows:- Weekends: <DATE_TIME> from <DATE_TIME> at <DATE_TIME> at <DATE_TIME>.\n",
            "- Holidays: The children shall alternate holidays between the parents as follows:\n",
            "<DATE_TIME> with [Parent A] in even <DATE_TIME>, <DATE_TIME> with [Parent B] in <DATE_TIME>, etc.\n",
            "- Child Support: <PERSON> shall pay $385 per month in child support to <PERSON>. Payments shall be made via bank transfer and are due on <DATE_TIME>.\n",
            "- Medical Expenses: Both parties shall equally share any uninsured medical, dental, or\n",
            "educational expenses for the children.\n",
            "4. Spousal Support (Alimony)\n",
            "The parties agree to the following spousal support arrangement:\n",
            "- <PERSON> shall pay $567 per month in spousal support to <PERSON> for a\n",
            "period of <DATE_TIME>, beginning on <DATE_TIME>.\n",
            "- The <IN_PAN> to pay spousal support shall terminate upon the death of either party, the\n",
            "<IN_PAN> of the receiving party, or the <IN_PAN> of the agreed-upon duration, whichever\n",
            "occurs first.\n",
            "5. Health Insurance and Benefits\n",
            "The parties agree to the following regarding health insurance and benefits:\n",
            "- Health Insurance: <PERSON> shall maintain health insurance coverage for the children\n",
            "until they reach the age of majority or graduate from high school, whichever occurs later.\n",
            "- Life Insurance: <PERSON> shall maintain a life insurance policy with a face value of\n",
            "$<US_DRIVER_LICENSE>, naming <PERSON> as the beneficiary to secure child support and/or\n",
            "spousal support obligations.\n",
            "6. Tax Matters\n",
            "The parties agree to the following regarding tax matters:\n",
            "- Dependency Exemptions: The parties shall alternate claiming the children as dependents\n",
            "for tax purposes, with [Parent A] claiming them in even <DATE_TIME> and [Parent B] in <DATE_TIME>.\n",
            "- Filing Status: Each party shall file their taxes separately unless otherwise agreed upon in\n",
            "writing.\n",
            "7. Dispute Resolution\n",
            "In the event of any disputes arising under this Agreement, the parties agree to attempt to\n",
            "resolve such disputes through mediation before pursuing litigation. If mediation fails, the\n",
            "matter may be resolved through arbitration or court proceedings as permitted by law.\n",
            "8. General Provisions\n",
            "The parties agree to the following general provisions:\n",
            "- Entire Agreement: This Agreement constitutes the entire understanding between the\n",
            "parties and supersedes all prior agreements, whether written or oral.\n",
            "- Modifications: Any modifications to this Agreement must be in writing and signed by bothparties.\n",
            "- Governing Law: This Agreement shall be governed by and construed in accordance with\n",
            "the laws of the State of <LOCATION>.\n",
            "9. Signatures\n",
            "<PERSON> Signature:\n",
            "Date: ___/___/20__\n",
            "<PERSON> Signature:\n",
            "Date: ___/___/20__\n",
            "Witness 1: <PERSON>\n",
            "Date: ___/___/20__\n",
            "Witness 2: <PERSON>\n",
            "Date: ___/___/20__\n",
            "Notary Acknowledgment\n",
            "State of <LOCATION> of <LOCATION> this ___ day of __________, 20__, before me, the undersigned notary public, personally\n",
            "appeared <PERSON> and <PERSON>, known to me (or satisfactorily proven) to be\n",
            "the persons whose names are subscribed to this instrument, and acknowledged that they\n",
            "executed it for the purposes therein contained.\n",
            "___________________________\n",
            "Mendoza-Harper, Notary Public\n",
            "My Commission Expires: ___/___/20__\n",
            "items:\n",
            "[\n",
            "    {'start': 5298, 'end': 5306, 'entity_type': 'PERSON', 'text': '<PERSON>', 'operator': 'replace'},\n",
            "    {'start': 5285, 'end': 5293, 'entity_type': 'PERSON', 'text': '<PERSON>', 'operator': 'replace'},\n",
            "    {'start': 5178, 'end': 5188, 'entity_type': 'LOCATION', 'text': '<LOCATION>', 'operator': 'replace'},\n",
            "    {'start': 5164, 'end': 5174, 'entity_type': 'LOCATION', 'text': '<LOCATION>', 'operator': 'replace'},\n",
            "    {'start': 5105, 'end': 5113, 'entity_type': 'PERSON', 'text': '<PERSON>', 'operator': 'replace'},\n",
            "    {'start': 5066, 'end': 5074, 'entity_type': 'PERSON', 'text': '<PERSON>', 'operator': 'replace'},\n",
            "    {'start': 5016, 'end': 5024, 'entity_type': 'PERSON', 'text': '<PERSON>', 'operator': 'replace'},\n",
            "    {'start': 4977, 'end': 4985, 'entity_type': 'PERSON', 'text': '<PERSON>', 'operator': 'replace'},\n",
            "    {'start': 4951, 'end': 4961, 'entity_type': 'LOCATION', 'text': '<LOCATION>', 'operator': 'replace'},\n",
            "    {'start': 4104, 'end': 4115, 'entity_type': 'DATE_TIME', 'text': '<DATE_TIME>', 'operator': 'replace'},\n",
            "    {'start': 4074, 'end': 4085, 'entity_type': 'DATE_TIME', 'text': '<DATE_TIME>', 'operator': 'replace'},\n",
            "    {'start': 3768, 'end': 3776, 'entity_type': 'PERSON', 'text': '<PERSON>', 'operator': 'replace'},\n",
            "    {'start': 3740, 'end': 3759, 'entity_type': 'US_DRIVER_LICENSE', 'text': '<US_DRIVER_LICENSE>', 'operator': 'replace'},\n",
            "    {'start': 3670, 'end': 3678, 'entity_type': 'PERSON', 'text': '<PERSON>', 'operator': 'replace'},\n",
            "    {'start': 3494, 'end': 3502, 'entity_type': 'PERSON', 'text': '<PERSON>', 'operator': 'replace'},\n",
            "    {'start': 3303, 'end': 3311, 'entity_type': 'IN_PAN', 'text': '<IN_PAN>', 'operator': 'replace'},\n",
            "    {'start': 3263, 'end': 3271, 'entity_type': 'IN_PAN', 'text': '<IN_PAN>', 'operator': 'replace'},\n",
            "    {'start': 3179, 'end': 3187, 'entity_type': 'IN_PAN', 'text': '<IN_PAN>', 'operator': 'replace'},\n",
            "    {'start': 3160, 'end': 3171, 'entity_type': 'DATE_TIME', 'text': '<DATE_TIME>', 'operator': 'replace'},\n",
            "    {'start': 3134, 'end': 3145, 'entity_type': 'DATE_TIME', 'text': '<DATE_TIME>', 'operator': 'replace'},\n",
            "    {'start': 3109, 'end': 3117, 'entity_type': 'PERSON', 'text': '<PERSON>', 'operator': 'replace'},\n",
            "    {'start': 3053, 'end': 3061, 'entity_type': 'PERSON', 'text': '<PERSON>', 'operator': 'replace'},\n",
            "    {'start': 2819, 'end': 2830, 'entity_type': 'DATE_TIME', 'text': '<DATE_TIME>', 'operator': 'replace'},\n",
            "    {'start': 2753, 'end': 2761, 'entity_type': 'PERSON', 'text': '<PERSON>', 'operator': 'replace'},\n",
            "    {'start': 2699, 'end': 2707, 'entity_type': 'PERSON', 'text': '<PERSON>', 'operator': 'replace'},\n",
            "    {'start': 2664, 'end': 2675, 'entity_type': 'DATE_TIME', 'text': '<DATE_TIME>', 'operator': 'replace'},\n",
            "    {'start': 2633, 'end': 2644, 'entity_type': 'DATE_TIME', 'text': '<DATE_TIME>', 'operator': 'replace'},\n",
            "    {'start': 2620, 'end': 2631, 'entity_type': 'DATE_TIME', 'text': '<DATE_TIME>', 'operator': 'replace'},\n",
            "    {'start': 2584, 'end': 2595, 'entity_type': 'DATE_TIME', 'text': '<DATE_TIME>', 'operator': 'replace'},\n",
            "    {'start': 2489, 'end': 2500, 'entity_type': 'DATE_TIME', 'text': '<DATE_TIME>', 'operator': 'replace'},\n",
            "    {'start': 2474, 'end': 2485, 'entity_type': 'DATE_TIME', 'text': '<DATE_TIME>', 'operator': 'replace'},\n",
            "    {'start': 2459, 'end': 2470, 'entity_type': 'DATE_TIME', 'text': '<DATE_TIME>', 'operator': 'replace'},\n",
            "    {'start': 2442, 'end': 2453, 'entity_type': 'DATE_TIME', 'text': '<DATE_TIME>', 'operator': 'replace'},\n",
            "    {'start': 2372, 'end': 2380, 'entity_type': 'IN_PAN', 'text': '<IN_PAN>', 'operator': 'replace'},\n",
            "    {'start': 2260, 'end': 2268, 'entity_type': 'IN_PAN', 'text': '<IN_PAN>', 'operator': 'replace'},\n",
            "    {'start': 1788, 'end': 1796, 'entity_type': 'IN_PAN', 'text': '<IN_PAN>', 'operator': 'replace'},\n",
            "    {'start': 1648, 'end': 1656, 'entity_type': 'IN_PAN', 'text': '<IN_PAN>', 'operator': 'replace'},\n",
            "    {'start': 1459, 'end': 1467, 'entity_type': 'IN_PAN', 'text': '<IN_PAN>', 'operator': 'replace'},\n",
            "    {'start': 1410, 'end': 1418, 'entity_type': 'IN_PAN', 'text': '<IN_PAN>', 'operator': 'replace'},\n",
            "    {'start': 1361, 'end': 1369, 'entity_type': 'IN_PAN', 'text': '<IN_PAN>', 'operator': 'replace'},\n",
            "    {'start': 1231, 'end': 1239, 'entity_type': 'PERSON', 'text': '<PERSON>', 'operator': 'replace'},\n",
            "    {'start': 1152, 'end': 1160, 'entity_type': 'PERSON', 'text': '<PERSON>', 'operator': 'replace'},\n",
            "    {'start': 1116, 'end': 1127, 'entity_type': 'DATE_TIME', 'text': '<DATE_TIME>', 'operator': 'replace'},\n",
            "    {'start': 1101, 'end': 1111, 'entity_type': 'LOCATION', 'text': '<LOCATION>', 'operator': 'replace'},\n",
            "    {'start': 1090, 'end': 1100, 'entity_type': 'LOCATION', 'text': '<LOCATION>', 'operator': 'replace'},\n",
            "    {'start': 551, 'end': 562, 'entity_type': 'DATE_TIME', 'text': '<DATE_TIME>', 'operator': 'replace'},\n",
            "    {'start': 538, 'end': 546, 'entity_type': 'PERSON', 'text': '<PERSON>', 'operator': 'replace'},\n",
            "    {'start': 494, 'end': 505, 'entity_type': 'DATE_TIME', 'text': '<DATE_TIME>', 'operator': 'replace'},\n",
            "    {'start': 251, 'end': 261, 'entity_type': 'LOCATION', 'text': '<LOCATION>', 'operator': 'replace'},\n",
            "    {'start': 224, 'end': 232, 'entity_type': 'PERSON', 'text': '<PERSON>', 'operator': 'replace'},\n",
            "    {'start': 198, 'end': 206, 'entity_type': 'PERSON', 'text': '<PERSON>', 'operator': 'replace'},\n",
            "    {'start': 156, 'end': 166, 'entity_type': 'LOCATION', 'text': '<LOCATION>', 'operator': 'replace'},\n",
            "    {'start': 130, 'end': 138, 'entity_type': 'PERSON', 'text': '<PERSON>', 'operator': 'replace'},\n",
            "    {'start': 99, 'end': 107, 'entity_type': 'IN_PAN', 'text': '<IN_PAN>', 'operator': 'replace'}\n",
            "]\n",
            "\n"
          ]
        }
      ],
      "source": [
        "from presidio_anonymizer import AnonymizerEngine\n",
        "\n",
        "# Initialize the anonymizer\n",
        "anonymizer = AnonymizerEngine()\n",
        "\n",
        "# Anonymize the text\n",
        "anonymized_text = anonymizer.anonymize(text=extracted_text, analyzer_results=results)\n",
        "print(\"Anonymized Text:\", anonymized_text)"
      ]
    },
    {
      "cell_type": "markdown",
      "source": [
        "## Presidio only with Regex"
      ],
      "metadata": {
        "id": "EPTAPo8ghK1g"
      }
    },
    {
      "cell_type": "code",
      "execution_count": null,
      "metadata": {
        "colab": {
          "base_uri": "https://localhost:8080/"
        },
        "id": "LZIYO7d4acMO",
        "outputId": "f782b976-c509-4d5f-b537-62c8bf209177"
      },
      "outputs": [
        {
          "name": "stdout",
          "output_type": "stream",
          "text": [
            "Detected Entities with Custom Recognizer: [type: PERSON, start: 132, end: 145, score: 0.85, type: LOCATION, start: 163, end: 178, score: 0.85, type: PERSON, start: 210, end: 227, score: 0.85, type: PERSON, start: 245, end: 260, score: 0.85, type: LOCATION, start: 279, end: 287, score: 0.85, type: DATE_TIME, start: 520, end: 530, score: 0.85, type: PERSON, start: 563, end: 579, score: 0.85, type: DATE_TIME, start: 584, end: 589, score: 0.85, type: LOCATION, start: 1117, end: 1140, score: 0.85, type: LOCATION, start: 1141, end: 1150, score: 0.85, type: DATE_TIME, start: 1155, end: 1160, score: 0.85, type: PERSON, start: 1185, end: 1198, score: 0.85, type: PERSON, start: 1269, end: 1282, score: 0.85, type: DATE_TIME, start: 2510, end: 2529, score: 0.85, type: DATE_TIME, start: 2535, end: 2541, score: 0.85, type: DATE_TIME, start: 2545, end: 2562, score: 0.85, type: DATE_TIME, start: 2566, end: 2573, score: 0.85, type: DATE_TIME, start: 2657, end: 2669, score: 0.85, type: DATE_TIME, start: 2694, end: 2699, score: 0.85, type: DATE_TIME, start: 2701, end: 2710, score: 0.85, type: DATE_TIME, start: 2730, end: 2739, score: 0.85, type: PERSON, start: 2763, end: 2776, score: 0.85, type: PERSON, start: 2822, end: 2839, score: 0.85, type: DATE_TIME, start: 2897, end: 2918, score: 0.85, type: PERSON, start: 3141, end: 3154, score: 0.85, type: PERSON, start: 3202, end: 3219, score: 0.85, type: DATE_TIME, start: 3236, end: 3243, score: 0.85, type: DATE_TIME, start: 3258, end: 3268, score: 0.85, type: PERSON, start: 3597, end: 3610, score: 0.85, type: PERSON, start: 3778, end: 3791, score: 0.85, type: PERSON, start: 3868, end: 3885, score: 0.85, type: DATE_TIME, start: 4183, end: 4188, score: 0.85, type: DATE_TIME, start: 4207, end: 4216, score: 0.85, type: LOCATION, start: 5052, end: 5065, score: 0.85, type: PERSON, start: 5081, end: 5096, score: 0.85, type: PERSON, start: 5127, end: 5146, score: 0.85, type: PERSON, start: 5188, end: 5199, score: 0.85, type: PERSON, start: 5230, end: 5247, score: 0.85, type: LOCATION, start: 5298, end: 5318, score: 0.85, type: LOCATION, start: 5322, end: 5346, score: 0.85, type: PERSON, start: 5443, end: 5456, score: 0.85, type: PERSON, start: 5461, end: 5478, score: 0.85, type: MONEY, start: 2787, end: 2791, score: 0.8, type: MONEY, start: 3165, end: 3169, score: 0.8, type: MONEY, start: 3852, end: 3859, score: 0.8, type: US_DRIVER_LICENSE, start: 3853, end: 3859, score: 0.4, type: IN_PAN, start: 99, end: 109, score: 0.05, type: IN_PAN, start: 520, end: 530, score: 0.05, type: IN_PAN, start: 569, end: 579, score: 0.05, type: IN_PAN, start: 1404, end: 1414, score: 0.05, type: IN_PAN, start: 1455, end: 1465, score: 0.05, type: IN_PAN, start: 1466, end: 1476, score: 0.05, type: IN_PAN, start: 1517, end: 1527, score: 0.05, type: IN_PAN, start: 1708, end: 1718, score: 0.05, type: IN_PAN, start: 1850, end: 1860, score: 0.05, type: IN_PAN, start: 2324, end: 2334, score: 0.05, type: IN_PAN, start: 2438, end: 2448, score: 0.05, type: IN_PAN, start: 3258, end: 3268, score: 0.05, type: IN_PAN, start: 3276, end: 3286, score: 0.05, type: IN_PAN, start: 3362, end: 3372, score: 0.05, type: IN_PAN, start: 3404, end: 3414, score: 0.05]\n"
          ]
        }
      ],
      "source": [
        "from presidio_analyzer import Pattern, PatternRecognizer\n",
        "\n",
        "# Define a custom pattern for monetary values\n",
        "money_pattern = Pattern(\n",
        "    name=\"money_pattern\",\n",
        "    regex=r\"\\$\\d+(\\.\\d{1,2})?\",  # Matches dollar amounts like $100 or $100.50\n",
        "    score=0.8\n",
        ")\n",
        "\n",
        "# Create a custom recognizer\n",
        "money_recognizer = PatternRecognizer(\n",
        "    supported_entity=\"MONEY\",\n",
        "    patterns=[money_pattern]\n",
        ")\n",
        "\n",
        "# Add the custom recognizer to the analyzer\n",
        "analyzer.registry.add_recognizer(money_recognizer)\n",
        "\n",
        "# Re-analyze the text with the custom recognizer\n",
        "results = analyzer.analyze(text=extracted_text, language=\"en\")\n",
        "print(\"Detected Entities with Custom Recognizer:\", results)"
      ]
    },
    {
      "cell_type": "code",
      "execution_count": null,
      "metadata": {
        "colab": {
          "base_uri": "https://localhost:8080/"
        },
        "id": "_aI-22olaqAB",
        "outputId": "5d0f560f-f43a-4c71-bba1-376aa6688d70"
      },
      "outputs": [
        {
          "name": "stdout",
          "output_type": "stream",
          "text": [
            "Anonymized Text: text: Divorce Agreement\n",
            "This Divorce Agreement (\"Agreement\") is made and entered into on this ___ day of\n",
            "<IN_PAN>, 20__, by and between <PERSON>, residing at 009 <LOCATION>. 167\n",
            "West Tanya, NV 33483, and <PERSON>, residing at 087 <PERSON>. 760\n",
            "Brewershire, <LOCATION>. The parties have agreed to dissolve their marriage and settle all\n",
            "matters related to the division of assets, child custody, spousal support, and other\n",
            "obligations as outlined below.\n",
            "1. Recitals\n",
            "WHEREAS, the parties were married on <DATE_TIME> in 462 Mcknight Unions Apt. 585\n",
            "<PERSON>, GA <DATE_TIME>;\n",
            "WHEREAS, the parties have decided to dissolve their marriage amicably;\n",
            "WHEREAS, the parties wish to resolve all issues arising from their marriage, including but\n",
            "not limited to property division, child custody, child support, spousal support, and other\n",
            "matters;\n",
            "NOW, THEREFORE, in consideration of the mutual promises and covenants contained\n",
            "herein, the parties agree as follows:\n",
            "2. Division of Assets and Debts\n",
            "The parties agree to divide their marital assets and debts as follows:\n",
            "- Real Estate: The marital home located at <LOCATION>\n",
            "<LOCATION>, NV <DATE_TIME> shall be transferred to <PERSON>. Any outstanding mortgage or\n",
            "liens shall remain the responsibility of <PERSON>.\n",
            "- Bank Accounts: All joint bank accounts shall be closed, and the funds shall be divided\n",
            "equally between the parties.\n",
            "- <IN_PAN> Accounts: Each party shall retain their <IN_PAN> accounts (e.g.,\n",
            "401(k), IRA). Any joint <IN_PAN> accounts shall be divided according to a Qualified\n",
            "Domestic Relations Order (QDRO).\n",
            "- Vehicles: Each party shall retain ownership of the vehicle(s) titled in their name. Any loans\n",
            "<IN_PAN> with the vehicles shall remain the responsibility of the titled owner.\n",
            "- Personal Property: Each party shall retain their personal <IN_PAN>, including furniture,\n",
            "electronics, and other household items as mutually agreed upon.\n",
            "- Debts: All joint debts incurred during the marriage shall be divided equally unless\n",
            "otherwise specified herein.\n",
            "3. Child Custody and Support\n",
            "The parties agree to the following custody and support arrangement:\n",
            "- Legal Custody: Joint legal custody shall be granted to both parties, meaning both parents\n",
            "shall share decision-making authority regarding the children’s education, <IN_PAN>, and\n",
            "general welfare.\n",
            "- Physical Custody: The children shall reside primarily with [Parent Name], with <IN_PAN>\n",
            "rights granted to [Other Parent Name] as follows:- Weekends: <DATE_TIME> from <DATE_TIME> at <DATE_TIME> at <DATE_TIME>.\n",
            "- Holidays: The children shall alternate holidays between the parents as follows:\n",
            "<DATE_TIME> with [Parent A] in even <DATE_TIME>, <DATE_TIME> with [Parent B] in <DATE_TIME>, etc.\n",
            "- Child Support: <PERSON> shall pay <MONEY> per month in child support to <PERSON>. Payments shall be made via bank transfer and are due on <DATE_TIME>.\n",
            "- Medical Expenses: Both parties shall equally share any uninsured medical, dental, or\n",
            "educational expenses for the children.\n",
            "4. Spousal Support (Alimony)\n",
            "The parties agree to the following spousal support arrangement:\n",
            "- <PERSON> shall pay <MONEY> per month in spousal support to <PERSON> for a\n",
            "period of <DATE_TIME>, beginning on <DATE_TIME>.\n",
            "- The <IN_PAN> to pay spousal support shall terminate upon the death of either party, the\n",
            "<IN_PAN> of the receiving party, or the <IN_PAN> of the agreed-upon duration, whichever\n",
            "occurs first.\n",
            "5. Health Insurance and Benefits\n",
            "The parties agree to the following regarding health insurance and benefits:\n",
            "- Health Insurance: <PERSON> shall maintain health insurance coverage for the children\n",
            "until they reach the age of majority or graduate from high school, whichever occurs later.\n",
            "- Life Insurance: <PERSON> shall maintain a life insurance policy with a face value of\n",
            "<MONEY>, naming <PERSON> as the beneficiary to secure child support and/or\n",
            "spousal support obligations.\n",
            "6. Tax Matters\n",
            "The parties agree to the following regarding tax matters:\n",
            "- Dependency Exemptions: The parties shall alternate claiming the children as dependents\n",
            "for tax purposes, with [Parent A] claiming them in even <DATE_TIME> and [Parent B] in <DATE_TIME>.\n",
            "- Filing Status: Each party shall file their taxes separately unless otherwise agreed upon in\n",
            "writing.\n",
            "7. Dispute Resolution\n",
            "In the event of any disputes arising under this Agreement, the parties agree to attempt to\n",
            "resolve such disputes through mediation before pursuing litigation. If mediation fails, the\n",
            "matter may be resolved through arbitration or court proceedings as permitted by law.\n",
            "8. General Provisions\n",
            "The parties agree to the following general provisions:\n",
            "- Entire Agreement: This Agreement constitutes the entire understanding between the\n",
            "parties and supersedes all prior agreements, whether written or oral.\n",
            "- Modifications: Any modifications to this Agreement must be in writing and signed by bothparties.\n",
            "- Governing Law: This Agreement shall be governed by and construed in accordance with\n",
            "the laws of the State of <LOCATION>.\n",
            "9. Signatures\n",
            "<PERSON> Signature:\n",
            "Date: ___/___/20__\n",
            "<PERSON> Signature:\n",
            "Date: ___/___/20__\n",
            "Witness 1: <PERSON>\n",
            "Date: ___/___/20__\n",
            "Witness 2: <PERSON>\n",
            "Date: ___/___/20__\n",
            "Notary Acknowledgment\n",
            "State of <LOCATION> of <LOCATION> this ___ day of __________, 20__, before me, the undersigned notary public, personally\n",
            "appeared <PERSON> and <PERSON>, known to me (or satisfactorily proven) to be\n",
            "the persons whose names are subscribed to this instrument, and acknowledged that they\n",
            "executed it for the purposes therein contained.\n",
            "___________________________\n",
            "Mendoza-Harper, Notary Public\n",
            "My Commission Expires: ___/___/20__\n",
            "items:\n",
            "[\n",
            "    {'start': 5291, 'end': 5299, 'entity_type': 'PERSON', 'text': '<PERSON>', 'operator': 'replace'},\n",
            "    {'start': 5278, 'end': 5286, 'entity_type': 'PERSON', 'text': '<PERSON>', 'operator': 'replace'},\n",
            "    {'start': 5171, 'end': 5181, 'entity_type': 'LOCATION', 'text': '<LOCATION>', 'operator': 'replace'},\n",
            "    {'start': 5157, 'end': 5167, 'entity_type': 'LOCATION', 'text': '<LOCATION>', 'operator': 'replace'},\n",
            "    {'start': 5098, 'end': 5106, 'entity_type': 'PERSON', 'text': '<PERSON>', 'operator': 'replace'},\n",
            "    {'start': 5059, 'end': 5067, 'entity_type': 'PERSON', 'text': '<PERSON>', 'operator': 'replace'},\n",
            "    {'start': 5009, 'end': 5017, 'entity_type': 'PERSON', 'text': '<PERSON>', 'operator': 'replace'},\n",
            "    {'start': 4970, 'end': 4978, 'entity_type': 'PERSON', 'text': '<PERSON>', 'operator': 'replace'},\n",
            "    {'start': 4944, 'end': 4954, 'entity_type': 'LOCATION', 'text': '<LOCATION>', 'operator': 'replace'},\n",
            "    {'start': 4097, 'end': 4108, 'entity_type': 'DATE_TIME', 'text': '<DATE_TIME>', 'operator': 'replace'},\n",
            "    {'start': 4067, 'end': 4078, 'entity_type': 'DATE_TIME', 'text': '<DATE_TIME>', 'operator': 'replace'},\n",
            "    {'start': 3761, 'end': 3769, 'entity_type': 'PERSON', 'text': '<PERSON>', 'operator': 'replace'},\n",
            "    {'start': 3745, 'end': 3752, 'entity_type': 'MONEY', 'text': '<MONEY>', 'operator': 'replace'},\n",
            "    {'start': 3676, 'end': 3684, 'entity_type': 'PERSON', 'text': '<PERSON>', 'operator': 'replace'},\n",
            "    {'start': 3500, 'end': 3508, 'entity_type': 'PERSON', 'text': '<PERSON>', 'operator': 'replace'},\n",
            "    {'start': 3309, 'end': 3317, 'entity_type': 'IN_PAN', 'text': '<IN_PAN>', 'operator': 'replace'},\n",
            "    {'start': 3269, 'end': 3277, 'entity_type': 'IN_PAN', 'text': '<IN_PAN>', 'operator': 'replace'},\n",
            "    {'start': 3185, 'end': 3193, 'entity_type': 'IN_PAN', 'text': '<IN_PAN>', 'operator': 'replace'},\n",
            "    {'start': 3166, 'end': 3177, 'entity_type': 'DATE_TIME', 'text': '<DATE_TIME>', 'operator': 'replace'},\n",
            "    {'start': 3140, 'end': 3151, 'entity_type': 'DATE_TIME', 'text': '<DATE_TIME>', 'operator': 'replace'},\n",
            "    {'start': 3115, 'end': 3123, 'entity_type': 'PERSON', 'text': '<PERSON>', 'operator': 'replace'},\n",
            "    {'start': 3075, 'end': 3082, 'entity_type': 'MONEY', 'text': '<MONEY>', 'operator': 'replace'},\n",
            "    {'start': 3056, 'end': 3064, 'entity_type': 'PERSON', 'text': '<PERSON>', 'operator': 'replace'},\n",
            "    {'start': 2822, 'end': 2833, 'entity_type': 'DATE_TIME', 'text': '<DATE_TIME>', 'operator': 'replace'},\n",
            "    {'start': 2756, 'end': 2764, 'entity_type': 'PERSON', 'text': '<PERSON>', 'operator': 'replace'},\n",
            "    {'start': 2718, 'end': 2725, 'entity_type': 'MONEY', 'text': '<MONEY>', 'operator': 'replace'},\n",
            "    {'start': 2699, 'end': 2707, 'entity_type': 'PERSON', 'text': '<PERSON>', 'operator': 'replace'},\n",
            "    {'start': 2664, 'end': 2675, 'entity_type': 'DATE_TIME', 'text': '<DATE_TIME>', 'operator': 'replace'},\n",
            "    {'start': 2633, 'end': 2644, 'entity_type': 'DATE_TIME', 'text': '<DATE_TIME>', 'operator': 'replace'},\n",
            "    {'start': 2620, 'end': 2631, 'entity_type': 'DATE_TIME', 'text': '<DATE_TIME>', 'operator': 'replace'},\n",
            "    {'start': 2584, 'end': 2595, 'entity_type': 'DATE_TIME', 'text': '<DATE_TIME>', 'operator': 'replace'},\n",
            "    {'start': 2489, 'end': 2500, 'entity_type': 'DATE_TIME', 'text': '<DATE_TIME>', 'operator': 'replace'},\n",
            "    {'start': 2474, 'end': 2485, 'entity_type': 'DATE_TIME', 'text': '<DATE_TIME>', 'operator': 'replace'},\n",
            "    {'start': 2459, 'end': 2470, 'entity_type': 'DATE_TIME', 'text': '<DATE_TIME>', 'operator': 'replace'},\n",
            "    {'start': 2442, 'end': 2453, 'entity_type': 'DATE_TIME', 'text': '<DATE_TIME>', 'operator': 'replace'},\n",
            "    {'start': 2372, 'end': 2380, 'entity_type': 'IN_PAN', 'text': '<IN_PAN>', 'operator': 'replace'},\n",
            "    {'start': 2260, 'end': 2268, 'entity_type': 'IN_PAN', 'text': '<IN_PAN>', 'operator': 'replace'},\n",
            "    {'start': 1788, 'end': 1796, 'entity_type': 'IN_PAN', 'text': '<IN_PAN>', 'operator': 'replace'},\n",
            "    {'start': 1648, 'end': 1656, 'entity_type': 'IN_PAN', 'text': '<IN_PAN>', 'operator': 'replace'},\n",
            "    {'start': 1459, 'end': 1467, 'entity_type': 'IN_PAN', 'text': '<IN_PAN>', 'operator': 'replace'},\n",
            "    {'start': 1410, 'end': 1418, 'entity_type': 'IN_PAN', 'text': '<IN_PAN>', 'operator': 'replace'},\n",
            "    {'start': 1361, 'end': 1369, 'entity_type': 'IN_PAN', 'text': '<IN_PAN>', 'operator': 'replace'},\n",
            "    {'start': 1231, 'end': 1239, 'entity_type': 'PERSON', 'text': '<PERSON>', 'operator': 'replace'},\n",
            "    {'start': 1152, 'end': 1160, 'entity_type': 'PERSON', 'text': '<PERSON>', 'operator': 'replace'},\n",
            "    {'start': 1116, 'end': 1127, 'entity_type': 'DATE_TIME', 'text': '<DATE_TIME>', 'operator': 'replace'},\n",
            "    {'start': 1101, 'end': 1111, 'entity_type': 'LOCATION', 'text': '<LOCATION>', 'operator': 'replace'},\n",
            "    {'start': 1090, 'end': 1100, 'entity_type': 'LOCATION', 'text': '<LOCATION>', 'operator': 'replace'},\n",
            "    {'start': 551, 'end': 562, 'entity_type': 'DATE_TIME', 'text': '<DATE_TIME>', 'operator': 'replace'},\n",
            "    {'start': 538, 'end': 546, 'entity_type': 'PERSON', 'text': '<PERSON>', 'operator': 'replace'},\n",
            "    {'start': 494, 'end': 505, 'entity_type': 'DATE_TIME', 'text': '<DATE_TIME>', 'operator': 'replace'},\n",
            "    {'start': 251, 'end': 261, 'entity_type': 'LOCATION', 'text': '<LOCATION>', 'operator': 'replace'},\n",
            "    {'start': 224, 'end': 232, 'entity_type': 'PERSON', 'text': '<PERSON>', 'operator': 'replace'},\n",
            "    {'start': 198, 'end': 206, 'entity_type': 'PERSON', 'text': '<PERSON>', 'operator': 'replace'},\n",
            "    {'start': 156, 'end': 166, 'entity_type': 'LOCATION', 'text': '<LOCATION>', 'operator': 'replace'},\n",
            "    {'start': 130, 'end': 138, 'entity_type': 'PERSON', 'text': '<PERSON>', 'operator': 'replace'},\n",
            "    {'start': 99, 'end': 107, 'entity_type': 'IN_PAN', 'text': '<IN_PAN>', 'operator': 'replace'}\n",
            "]\n",
            "\n"
          ]
        }
      ],
      "source": [
        "from presidio_anonymizer import AnonymizerEngine\n",
        "\n",
        "# Initialize the anonymizer\n",
        "anonymizer = AnonymizerEngine()\n",
        "\n",
        "# Anonymize the text\n",
        "anonymized_text = anonymizer.anonymize(text=extracted_text, analyzer_results=results)\n",
        "print(\"Anonymized Text:\", anonymized_text)"
      ]
    },
    {
      "cell_type": "markdown",
      "metadata": {
        "id": "LOXOAp1GCF0g"
      },
      "source": [
        "# Spacy only"
      ]
    },
    {
      "cell_type": "code",
      "execution_count": null,
      "metadata": {
        "id": "wIwOXZ4oCp4x"
      },
      "outputs": [],
      "source": [
        "# https://mjghadge9007.medium.com/building-your-own-custom-named-entity-recognition-ner-model-with-spacy-v3-a-step-by-step-guide-15c7dcb1c416"
      ]
    },
    {
      "cell_type": "code",
      "source": [
        "!pip install -U spacy\n",
        "!pip install spacy_transformers"
      ],
      "metadata": {
        "colab": {
          "base_uri": "https://localhost:8080/"
        },
        "id": "3JOuM3V6GVY6",
        "outputId": "0519704c-83f9-45d8-a4ff-506b29590594"
      },
      "execution_count": 1,
      "outputs": [
        {
          "output_type": "stream",
          "name": "stdout",
          "text": [
            "Requirement already satisfied: spacy in /usr/local/lib/python3.11/dist-packages (3.7.5)\n",
            "Collecting spacy\n",
            "  Downloading spacy-3.8.4-cp311-cp311-manylinux_2_17_x86_64.manylinux2014_x86_64.whl.metadata (27 kB)\n",
            "Requirement already satisfied: spacy-legacy<3.1.0,>=3.0.11 in /usr/local/lib/python3.11/dist-packages (from spacy) (3.0.12)\n",
            "Requirement already satisfied: spacy-loggers<2.0.0,>=1.0.0 in /usr/local/lib/python3.11/dist-packages (from spacy) (1.0.5)\n",
            "Requirement already satisfied: murmurhash<1.1.0,>=0.28.0 in /usr/local/lib/python3.11/dist-packages (from spacy) (1.0.12)\n",
            "Requirement already satisfied: cymem<2.1.0,>=2.0.2 in /usr/local/lib/python3.11/dist-packages (from spacy) (2.0.11)\n",
            "Requirement already satisfied: preshed<3.1.0,>=3.0.2 in /usr/local/lib/python3.11/dist-packages (from spacy) (3.0.9)\n",
            "Collecting thinc<8.4.0,>=8.3.4 (from spacy)\n",
            "  Downloading thinc-8.3.4-cp311-cp311-manylinux_2_17_x86_64.manylinux2014_x86_64.whl.metadata (15 kB)\n",
            "Requirement already satisfied: wasabi<1.2.0,>=0.9.1 in /usr/local/lib/python3.11/dist-packages (from spacy) (1.1.3)\n",
            "Requirement already satisfied: srsly<3.0.0,>=2.4.3 in /usr/local/lib/python3.11/dist-packages (from spacy) (2.5.1)\n",
            "Requirement already satisfied: catalogue<2.1.0,>=2.0.6 in /usr/local/lib/python3.11/dist-packages (from spacy) (2.0.10)\n",
            "Requirement already satisfied: weasel<0.5.0,>=0.1.0 in /usr/local/lib/python3.11/dist-packages (from spacy) (0.4.1)\n",
            "Requirement already satisfied: typer<1.0.0,>=0.3.0 in /usr/local/lib/python3.11/dist-packages (from spacy) (0.15.1)\n",
            "Requirement already satisfied: tqdm<5.0.0,>=4.38.0 in /usr/local/lib/python3.11/dist-packages (from spacy) (4.67.1)\n",
            "Requirement already satisfied: numpy>=1.19.0 in /usr/local/lib/python3.11/dist-packages (from spacy) (1.26.4)\n",
            "Requirement already satisfied: requests<3.0.0,>=2.13.0 in /usr/local/lib/python3.11/dist-packages (from spacy) (2.32.3)\n",
            "Requirement already satisfied: pydantic!=1.8,!=1.8.1,<3.0.0,>=1.7.4 in /usr/local/lib/python3.11/dist-packages (from spacy) (2.10.6)\n",
            "Requirement already satisfied: jinja2 in /usr/local/lib/python3.11/dist-packages (from spacy) (3.1.5)\n",
            "Requirement already satisfied: setuptools in /usr/local/lib/python3.11/dist-packages (from spacy) (75.1.0)\n",
            "Requirement already satisfied: packaging>=20.0 in /usr/local/lib/python3.11/dist-packages (from spacy) (24.2)\n",
            "Requirement already satisfied: langcodes<4.0.0,>=3.2.0 in /usr/local/lib/python3.11/dist-packages (from spacy) (3.5.0)\n",
            "Requirement already satisfied: language-data>=1.2 in /usr/local/lib/python3.11/dist-packages (from langcodes<4.0.0,>=3.2.0->spacy) (1.3.0)\n",
            "Requirement already satisfied: annotated-types>=0.6.0 in /usr/local/lib/python3.11/dist-packages (from pydantic!=1.8,!=1.8.1,<3.0.0,>=1.7.4->spacy) (0.7.0)\n",
            "Requirement already satisfied: pydantic-core==2.27.2 in /usr/local/lib/python3.11/dist-packages (from pydantic!=1.8,!=1.8.1,<3.0.0,>=1.7.4->spacy) (2.27.2)\n",
            "Requirement already satisfied: typing-extensions>=4.12.2 in /usr/local/lib/python3.11/dist-packages (from pydantic!=1.8,!=1.8.1,<3.0.0,>=1.7.4->spacy) (4.12.2)\n",
            "Requirement already satisfied: charset-normalizer<4,>=2 in /usr/local/lib/python3.11/dist-packages (from requests<3.0.0,>=2.13.0->spacy) (3.4.1)\n",
            "Requirement already satisfied: idna<4,>=2.5 in /usr/local/lib/python3.11/dist-packages (from requests<3.0.0,>=2.13.0->spacy) (3.10)\n",
            "Requirement already satisfied: urllib3<3,>=1.21.1 in /usr/local/lib/python3.11/dist-packages (from requests<3.0.0,>=2.13.0->spacy) (2.3.0)\n",
            "Requirement already satisfied: certifi>=2017.4.17 in /usr/local/lib/python3.11/dist-packages (from requests<3.0.0,>=2.13.0->spacy) (2025.1.31)\n",
            "Collecting blis<1.3.0,>=1.2.0 (from thinc<8.4.0,>=8.3.4->spacy)\n",
            "  Downloading blis-1.2.0-cp311-cp311-manylinux_2_17_x86_64.manylinux2014_x86_64.whl.metadata (7.7 kB)\n",
            "Requirement already satisfied: confection<1.0.0,>=0.0.1 in /usr/local/lib/python3.11/dist-packages (from thinc<8.4.0,>=8.3.4->spacy) (0.1.5)\n",
            "Requirement already satisfied: click>=8.0.0 in /usr/local/lib/python3.11/dist-packages (from typer<1.0.0,>=0.3.0->spacy) (8.1.8)\n",
            "Requirement already satisfied: shellingham>=1.3.0 in /usr/local/lib/python3.11/dist-packages (from typer<1.0.0,>=0.3.0->spacy) (1.5.4)\n",
            "Requirement already satisfied: rich>=10.11.0 in /usr/local/lib/python3.11/dist-packages (from typer<1.0.0,>=0.3.0->spacy) (13.9.4)\n",
            "Requirement already satisfied: cloudpathlib<1.0.0,>=0.7.0 in /usr/local/lib/python3.11/dist-packages (from weasel<0.5.0,>=0.1.0->spacy) (0.20.0)\n",
            "Requirement already satisfied: smart-open<8.0.0,>=5.2.1 in /usr/local/lib/python3.11/dist-packages (from weasel<0.5.0,>=0.1.0->spacy) (7.1.0)\n",
            "Requirement already satisfied: MarkupSafe>=2.0 in /usr/local/lib/python3.11/dist-packages (from jinja2->spacy) (3.0.2)\n",
            "Requirement already satisfied: marisa-trie>=1.1.0 in /usr/local/lib/python3.11/dist-packages (from language-data>=1.2->langcodes<4.0.0,>=3.2.0->spacy) (1.2.1)\n",
            "Requirement already satisfied: markdown-it-py>=2.2.0 in /usr/local/lib/python3.11/dist-packages (from rich>=10.11.0->typer<1.0.0,>=0.3.0->spacy) (3.0.0)\n",
            "Requirement already satisfied: pygments<3.0.0,>=2.13.0 in /usr/local/lib/python3.11/dist-packages (from rich>=10.11.0->typer<1.0.0,>=0.3.0->spacy) (2.18.0)\n",
            "Requirement already satisfied: wrapt in /usr/local/lib/python3.11/dist-packages (from smart-open<8.0.0,>=5.2.1->weasel<0.5.0,>=0.1.0->spacy) (1.17.2)\n",
            "Requirement already satisfied: mdurl~=0.1 in /usr/local/lib/python3.11/dist-packages (from markdown-it-py>=2.2.0->rich>=10.11.0->typer<1.0.0,>=0.3.0->spacy) (0.1.2)\n",
            "Downloading spacy-3.8.4-cp311-cp311-manylinux_2_17_x86_64.manylinux2014_x86_64.whl (30.6 MB)\n",
            "\u001b[2K   \u001b[90m━━━━━━━━━━━━━━━━━━━━━━━━━━━━━━━━━━━━━━━━\u001b[0m \u001b[32m30.6/30.6 MB\u001b[0m \u001b[31m23.9 MB/s\u001b[0m eta \u001b[36m0:00:00\u001b[0m\n",
            "\u001b[?25hDownloading thinc-8.3.4-cp311-cp311-manylinux_2_17_x86_64.manylinux2014_x86_64.whl (3.9 MB)\n",
            "\u001b[2K   \u001b[90m━━━━━━━━━━━━━━━━━━━━━━━━━━━━━━━━━━━━━━━━\u001b[0m \u001b[32m3.9/3.9 MB\u001b[0m \u001b[31m29.5 MB/s\u001b[0m eta \u001b[36m0:00:00\u001b[0m\n",
            "\u001b[?25hDownloading blis-1.2.0-cp311-cp311-manylinux_2_17_x86_64.manylinux2014_x86_64.whl (11.7 MB)\n",
            "\u001b[2K   \u001b[90m━━━━━━━━━━━━━━━━━━━━━━━━━━━━━━━━━━━━━━━━\u001b[0m \u001b[32m11.7/11.7 MB\u001b[0m \u001b[31m28.3 MB/s\u001b[0m eta \u001b[36m0:00:00\u001b[0m\n",
            "\u001b[?25hInstalling collected packages: blis, thinc, spacy\n",
            "  Attempting uninstall: blis\n",
            "    Found existing installation: blis 0.7.11\n",
            "    Uninstalling blis-0.7.11:\n",
            "      Successfully uninstalled blis-0.7.11\n",
            "  Attempting uninstall: thinc\n",
            "    Found existing installation: thinc 8.2.5\n",
            "    Uninstalling thinc-8.2.5:\n",
            "      Successfully uninstalled thinc-8.2.5\n",
            "  Attempting uninstall: spacy\n",
            "    Found existing installation: spacy 3.7.5\n",
            "    Uninstalling spacy-3.7.5:\n",
            "      Successfully uninstalled spacy-3.7.5\n",
            "\u001b[31mERROR: pip's dependency resolver does not currently take into account all the packages that are installed. This behaviour is the source of the following dependency conflicts.\n",
            "en-core-web-sm 3.7.1 requires spacy<3.8.0,>=3.7.2, but you have spacy 3.8.4 which is incompatible.\u001b[0m\u001b[31m\n",
            "\u001b[0mSuccessfully installed blis-1.2.0 spacy-3.8.4 thinc-8.3.4\n",
            "Collecting spacy_transformers\n",
            "  Downloading spacy_transformers-1.3.8-cp311-cp311-manylinux_2_17_x86_64.manylinux2014_x86_64.whl.metadata (7.0 kB)\n",
            "Requirement already satisfied: spacy<4.1.0,>=3.5.0 in /usr/local/lib/python3.11/dist-packages (from spacy_transformers) (3.8.4)\n",
            "Requirement already satisfied: numpy>=1.19.0 in /usr/local/lib/python3.11/dist-packages (from spacy_transformers) (1.26.4)\n",
            "Requirement already satisfied: transformers<4.50.0,>=3.4.0 in /usr/local/lib/python3.11/dist-packages (from spacy_transformers) (4.48.3)\n",
            "Requirement already satisfied: torch>=1.8.0 in /usr/local/lib/python3.11/dist-packages (from spacy_transformers) (2.5.1+cu124)\n",
            "Requirement already satisfied: srsly<3.0.0,>=2.4.0 in /usr/local/lib/python3.11/dist-packages (from spacy_transformers) (2.5.1)\n",
            "Collecting spacy-alignments<1.0.0,>=0.7.2 (from spacy_transformers)\n",
            "  Downloading spacy_alignments-0.9.1-cp311-cp311-manylinux_2_17_x86_64.manylinux2014_x86_64.whl.metadata (2.7 kB)\n",
            "Requirement already satisfied: spacy-legacy<3.1.0,>=3.0.11 in /usr/local/lib/python3.11/dist-packages (from spacy<4.1.0,>=3.5.0->spacy_transformers) (3.0.12)\n",
            "Requirement already satisfied: spacy-loggers<2.0.0,>=1.0.0 in /usr/local/lib/python3.11/dist-packages (from spacy<4.1.0,>=3.5.0->spacy_transformers) (1.0.5)\n",
            "Requirement already satisfied: murmurhash<1.1.0,>=0.28.0 in /usr/local/lib/python3.11/dist-packages (from spacy<4.1.0,>=3.5.0->spacy_transformers) (1.0.12)\n",
            "Requirement already satisfied: cymem<2.1.0,>=2.0.2 in /usr/local/lib/python3.11/dist-packages (from spacy<4.1.0,>=3.5.0->spacy_transformers) (2.0.11)\n",
            "Requirement already satisfied: preshed<3.1.0,>=3.0.2 in /usr/local/lib/python3.11/dist-packages (from spacy<4.1.0,>=3.5.0->spacy_transformers) (3.0.9)\n",
            "Requirement already satisfied: thinc<8.4.0,>=8.3.4 in /usr/local/lib/python3.11/dist-packages (from spacy<4.1.0,>=3.5.0->spacy_transformers) (8.3.4)\n",
            "Requirement already satisfied: wasabi<1.2.0,>=0.9.1 in /usr/local/lib/python3.11/dist-packages (from spacy<4.1.0,>=3.5.0->spacy_transformers) (1.1.3)\n",
            "Requirement already satisfied: catalogue<2.1.0,>=2.0.6 in /usr/local/lib/python3.11/dist-packages (from spacy<4.1.0,>=3.5.0->spacy_transformers) (2.0.10)\n",
            "Requirement already satisfied: weasel<0.5.0,>=0.1.0 in /usr/local/lib/python3.11/dist-packages (from spacy<4.1.0,>=3.5.0->spacy_transformers) (0.4.1)\n",
            "Requirement already satisfied: typer<1.0.0,>=0.3.0 in /usr/local/lib/python3.11/dist-packages (from spacy<4.1.0,>=3.5.0->spacy_transformers) (0.15.1)\n",
            "Requirement already satisfied: tqdm<5.0.0,>=4.38.0 in /usr/local/lib/python3.11/dist-packages (from spacy<4.1.0,>=3.5.0->spacy_transformers) (4.67.1)\n",
            "Requirement already satisfied: requests<3.0.0,>=2.13.0 in /usr/local/lib/python3.11/dist-packages (from spacy<4.1.0,>=3.5.0->spacy_transformers) (2.32.3)\n",
            "Requirement already satisfied: pydantic!=1.8,!=1.8.1,<3.0.0,>=1.7.4 in /usr/local/lib/python3.11/dist-packages (from spacy<4.1.0,>=3.5.0->spacy_transformers) (2.10.6)\n",
            "Requirement already satisfied: jinja2 in /usr/local/lib/python3.11/dist-packages (from spacy<4.1.0,>=3.5.0->spacy_transformers) (3.1.5)\n",
            "Requirement already satisfied: setuptools in /usr/local/lib/python3.11/dist-packages (from spacy<4.1.0,>=3.5.0->spacy_transformers) (75.1.0)\n",
            "Requirement already satisfied: packaging>=20.0 in /usr/local/lib/python3.11/dist-packages (from spacy<4.1.0,>=3.5.0->spacy_transformers) (24.2)\n",
            "Requirement already satisfied: langcodes<4.0.0,>=3.2.0 in /usr/local/lib/python3.11/dist-packages (from spacy<4.1.0,>=3.5.0->spacy_transformers) (3.5.0)\n",
            "Requirement already satisfied: filelock in /usr/local/lib/python3.11/dist-packages (from torch>=1.8.0->spacy_transformers) (3.17.0)\n",
            "Requirement already satisfied: typing-extensions>=4.8.0 in /usr/local/lib/python3.11/dist-packages (from torch>=1.8.0->spacy_transformers) (4.12.2)\n",
            "Requirement already satisfied: networkx in /usr/local/lib/python3.11/dist-packages (from torch>=1.8.0->spacy_transformers) (3.4.2)\n",
            "Requirement already satisfied: fsspec in /usr/local/lib/python3.11/dist-packages (from torch>=1.8.0->spacy_transformers) (2024.10.0)\n",
            "Collecting nvidia-cuda-nvrtc-cu12==12.4.127 (from torch>=1.8.0->spacy_transformers)\n",
            "  Downloading nvidia_cuda_nvrtc_cu12-12.4.127-py3-none-manylinux2014_x86_64.whl.metadata (1.5 kB)\n",
            "Collecting nvidia-cuda-runtime-cu12==12.4.127 (from torch>=1.8.0->spacy_transformers)\n",
            "  Downloading nvidia_cuda_runtime_cu12-12.4.127-py3-none-manylinux2014_x86_64.whl.metadata (1.5 kB)\n",
            "Collecting nvidia-cuda-cupti-cu12==12.4.127 (from torch>=1.8.0->spacy_transformers)\n",
            "  Downloading nvidia_cuda_cupti_cu12-12.4.127-py3-none-manylinux2014_x86_64.whl.metadata (1.6 kB)\n",
            "Collecting nvidia-cudnn-cu12==9.1.0.70 (from torch>=1.8.0->spacy_transformers)\n",
            "  Downloading nvidia_cudnn_cu12-9.1.0.70-py3-none-manylinux2014_x86_64.whl.metadata (1.6 kB)\n",
            "Collecting nvidia-cublas-cu12==12.4.5.8 (from torch>=1.8.0->spacy_transformers)\n",
            "  Downloading nvidia_cublas_cu12-12.4.5.8-py3-none-manylinux2014_x86_64.whl.metadata (1.5 kB)\n",
            "Collecting nvidia-cufft-cu12==11.2.1.3 (from torch>=1.8.0->spacy_transformers)\n",
            "  Downloading nvidia_cufft_cu12-11.2.1.3-py3-none-manylinux2014_x86_64.whl.metadata (1.5 kB)\n",
            "Collecting nvidia-curand-cu12==10.3.5.147 (from torch>=1.8.0->spacy_transformers)\n",
            "  Downloading nvidia_curand_cu12-10.3.5.147-py3-none-manylinux2014_x86_64.whl.metadata (1.5 kB)\n",
            "Collecting nvidia-cusolver-cu12==11.6.1.9 (from torch>=1.8.0->spacy_transformers)\n",
            "  Downloading nvidia_cusolver_cu12-11.6.1.9-py3-none-manylinux2014_x86_64.whl.metadata (1.6 kB)\n",
            "Collecting nvidia-cusparse-cu12==12.3.1.170 (from torch>=1.8.0->spacy_transformers)\n",
            "  Downloading nvidia_cusparse_cu12-12.3.1.170-py3-none-manylinux2014_x86_64.whl.metadata (1.6 kB)\n",
            "Requirement already satisfied: nvidia-nccl-cu12==2.21.5 in /usr/local/lib/python3.11/dist-packages (from torch>=1.8.0->spacy_transformers) (2.21.5)\n",
            "Requirement already satisfied: nvidia-nvtx-cu12==12.4.127 in /usr/local/lib/python3.11/dist-packages (from torch>=1.8.0->spacy_transformers) (12.4.127)\n",
            "Collecting nvidia-nvjitlink-cu12==12.4.127 (from torch>=1.8.0->spacy_transformers)\n",
            "  Downloading nvidia_nvjitlink_cu12-12.4.127-py3-none-manylinux2014_x86_64.whl.metadata (1.5 kB)\n",
            "Requirement already satisfied: triton==3.1.0 in /usr/local/lib/python3.11/dist-packages (from torch>=1.8.0->spacy_transformers) (3.1.0)\n",
            "Requirement already satisfied: sympy==1.13.1 in /usr/local/lib/python3.11/dist-packages (from torch>=1.8.0->spacy_transformers) (1.13.1)\n",
            "Requirement already satisfied: mpmath<1.4,>=1.1.0 in /usr/local/lib/python3.11/dist-packages (from sympy==1.13.1->torch>=1.8.0->spacy_transformers) (1.3.0)\n",
            "Requirement already satisfied: huggingface-hub<1.0,>=0.24.0 in /usr/local/lib/python3.11/dist-packages (from transformers<4.50.0,>=3.4.0->spacy_transformers) (0.28.1)\n",
            "Requirement already satisfied: pyyaml>=5.1 in /usr/local/lib/python3.11/dist-packages (from transformers<4.50.0,>=3.4.0->spacy_transformers) (6.0.2)\n",
            "Requirement already satisfied: regex!=2019.12.17 in /usr/local/lib/python3.11/dist-packages (from transformers<4.50.0,>=3.4.0->spacy_transformers) (2024.11.6)\n",
            "Requirement already satisfied: tokenizers<0.22,>=0.21 in /usr/local/lib/python3.11/dist-packages (from transformers<4.50.0,>=3.4.0->spacy_transformers) (0.21.0)\n",
            "Requirement already satisfied: safetensors>=0.4.1 in /usr/local/lib/python3.11/dist-packages (from transformers<4.50.0,>=3.4.0->spacy_transformers) (0.5.2)\n",
            "Requirement already satisfied: language-data>=1.2 in /usr/local/lib/python3.11/dist-packages (from langcodes<4.0.0,>=3.2.0->spacy<4.1.0,>=3.5.0->spacy_transformers) (1.3.0)\n",
            "Requirement already satisfied: annotated-types>=0.6.0 in /usr/local/lib/python3.11/dist-packages (from pydantic!=1.8,!=1.8.1,<3.0.0,>=1.7.4->spacy<4.1.0,>=3.5.0->spacy_transformers) (0.7.0)\n",
            "Requirement already satisfied: pydantic-core==2.27.2 in /usr/local/lib/python3.11/dist-packages (from pydantic!=1.8,!=1.8.1,<3.0.0,>=1.7.4->spacy<4.1.0,>=3.5.0->spacy_transformers) (2.27.2)\n",
            "Requirement already satisfied: charset-normalizer<4,>=2 in /usr/local/lib/python3.11/dist-packages (from requests<3.0.0,>=2.13.0->spacy<4.1.0,>=3.5.0->spacy_transformers) (3.4.1)\n",
            "Requirement already satisfied: idna<4,>=2.5 in /usr/local/lib/python3.11/dist-packages (from requests<3.0.0,>=2.13.0->spacy<4.1.0,>=3.5.0->spacy_transformers) (3.10)\n",
            "Requirement already satisfied: urllib3<3,>=1.21.1 in /usr/local/lib/python3.11/dist-packages (from requests<3.0.0,>=2.13.0->spacy<4.1.0,>=3.5.0->spacy_transformers) (2.3.0)\n",
            "Requirement already satisfied: certifi>=2017.4.17 in /usr/local/lib/python3.11/dist-packages (from requests<3.0.0,>=2.13.0->spacy<4.1.0,>=3.5.0->spacy_transformers) (2025.1.31)\n",
            "Requirement already satisfied: blis<1.3.0,>=1.2.0 in /usr/local/lib/python3.11/dist-packages (from thinc<8.4.0,>=8.3.4->spacy<4.1.0,>=3.5.0->spacy_transformers) (1.2.0)\n",
            "Requirement already satisfied: confection<1.0.0,>=0.0.1 in /usr/local/lib/python3.11/dist-packages (from thinc<8.4.0,>=8.3.4->spacy<4.1.0,>=3.5.0->spacy_transformers) (0.1.5)\n",
            "Requirement already satisfied: click>=8.0.0 in /usr/local/lib/python3.11/dist-packages (from typer<1.0.0,>=0.3.0->spacy<4.1.0,>=3.5.0->spacy_transformers) (8.1.8)\n",
            "Requirement already satisfied: shellingham>=1.3.0 in /usr/local/lib/python3.11/dist-packages (from typer<1.0.0,>=0.3.0->spacy<4.1.0,>=3.5.0->spacy_transformers) (1.5.4)\n",
            "Requirement already satisfied: rich>=10.11.0 in /usr/local/lib/python3.11/dist-packages (from typer<1.0.0,>=0.3.0->spacy<4.1.0,>=3.5.0->spacy_transformers) (13.9.4)\n",
            "Requirement already satisfied: cloudpathlib<1.0.0,>=0.7.0 in /usr/local/lib/python3.11/dist-packages (from weasel<0.5.0,>=0.1.0->spacy<4.1.0,>=3.5.0->spacy_transformers) (0.20.0)\n",
            "Requirement already satisfied: smart-open<8.0.0,>=5.2.1 in /usr/local/lib/python3.11/dist-packages (from weasel<0.5.0,>=0.1.0->spacy<4.1.0,>=3.5.0->spacy_transformers) (7.1.0)\n",
            "Requirement already satisfied: MarkupSafe>=2.0 in /usr/local/lib/python3.11/dist-packages (from jinja2->spacy<4.1.0,>=3.5.0->spacy_transformers) (3.0.2)\n",
            "Requirement already satisfied: marisa-trie>=1.1.0 in /usr/local/lib/python3.11/dist-packages (from language-data>=1.2->langcodes<4.0.0,>=3.2.0->spacy<4.1.0,>=3.5.0->spacy_transformers) (1.2.1)\n",
            "Requirement already satisfied: markdown-it-py>=2.2.0 in /usr/local/lib/python3.11/dist-packages (from rich>=10.11.0->typer<1.0.0,>=0.3.0->spacy<4.1.0,>=3.5.0->spacy_transformers) (3.0.0)\n",
            "Requirement already satisfied: pygments<3.0.0,>=2.13.0 in /usr/local/lib/python3.11/dist-packages (from rich>=10.11.0->typer<1.0.0,>=0.3.0->spacy<4.1.0,>=3.5.0->spacy_transformers) (2.18.0)\n",
            "Requirement already satisfied: wrapt in /usr/local/lib/python3.11/dist-packages (from smart-open<8.0.0,>=5.2.1->weasel<0.5.0,>=0.1.0->spacy<4.1.0,>=3.5.0->spacy_transformers) (1.17.2)\n",
            "Requirement already satisfied: mdurl~=0.1 in /usr/local/lib/python3.11/dist-packages (from markdown-it-py>=2.2.0->rich>=10.11.0->typer<1.0.0,>=0.3.0->spacy<4.1.0,>=3.5.0->spacy_transformers) (0.1.2)\n",
            "Downloading spacy_transformers-1.3.8-cp311-cp311-manylinux_2_17_x86_64.manylinux2014_x86_64.whl (756 kB)\n",
            "\u001b[2K   \u001b[90m━━━━━━━━━━━━━━━━━━━━━━━━━━━━━━━━━━━━━━━━\u001b[0m \u001b[32m756.2/756.2 kB\u001b[0m \u001b[31m13.6 MB/s\u001b[0m eta \u001b[36m0:00:00\u001b[0m\n",
            "\u001b[?25hDownloading spacy_alignments-0.9.1-cp311-cp311-manylinux_2_17_x86_64.manylinux2014_x86_64.whl (313 kB)\n",
            "\u001b[2K   \u001b[90m━━━━━━━━━━━━━━━━━━━━━━━━━━━━━━━━━━━━━━━━\u001b[0m \u001b[32m314.0/314.0 kB\u001b[0m \u001b[31m21.6 MB/s\u001b[0m eta \u001b[36m0:00:00\u001b[0m\n",
            "\u001b[?25hDownloading nvidia_cublas_cu12-12.4.5.8-py3-none-manylinux2014_x86_64.whl (363.4 MB)\n",
            "\u001b[2K   \u001b[90m━━━━━━━━━━━━━━━━━━━━━━━━━━━━━━━━━━━━━━━━\u001b[0m \u001b[32m363.4/363.4 MB\u001b[0m \u001b[31m3.1 MB/s\u001b[0m eta \u001b[36m0:00:00\u001b[0m\n",
            "\u001b[?25hDownloading nvidia_cuda_cupti_cu12-12.4.127-py3-none-manylinux2014_x86_64.whl (13.8 MB)\n",
            "\u001b[2K   \u001b[90m━━━━━━━━━━━━━━━━━━━━━━━━━━━━━━━━━━━━━━━━\u001b[0m \u001b[32m13.8/13.8 MB\u001b[0m \u001b[31m47.2 MB/s\u001b[0m eta \u001b[36m0:00:00\u001b[0m\n",
            "\u001b[?25hDownloading nvidia_cuda_nvrtc_cu12-12.4.127-py3-none-manylinux2014_x86_64.whl (24.6 MB)\n",
            "\u001b[2K   \u001b[90m━━━━━━━━━━━━━━━━━━━━━━━━━━━━━━━━━━━━━━━━\u001b[0m \u001b[32m24.6/24.6 MB\u001b[0m \u001b[31m13.1 MB/s\u001b[0m eta \u001b[36m0:00:00\u001b[0m\n",
            "\u001b[?25hDownloading nvidia_cuda_runtime_cu12-12.4.127-py3-none-manylinux2014_x86_64.whl (883 kB)\n",
            "\u001b[2K   \u001b[90m━━━━━━━━━━━━━━━━━━━━━━━━━━━━━━━━━━━━━━━━\u001b[0m \u001b[32m883.7/883.7 kB\u001b[0m \u001b[31m24.1 MB/s\u001b[0m eta \u001b[36m0:00:00\u001b[0m\n",
            "\u001b[?25hDownloading nvidia_cudnn_cu12-9.1.0.70-py3-none-manylinux2014_x86_64.whl (664.8 MB)\n",
            "\u001b[2K   \u001b[90m━━━━━━━━━━━━━━━━━━━━━━━━━━━━━━━━━━━━━━━━\u001b[0m \u001b[32m664.8/664.8 MB\u001b[0m \u001b[31m2.6 MB/s\u001b[0m eta \u001b[36m0:00:00\u001b[0m\n",
            "\u001b[?25hDownloading nvidia_cufft_cu12-11.2.1.3-py3-none-manylinux2014_x86_64.whl (211.5 MB)\n",
            "\u001b[2K   \u001b[90m━━━━━━━━━━━━━━━━━━━━━━━━━━━━━━━━━━━━━━━━\u001b[0m \u001b[32m211.5/211.5 MB\u001b[0m \u001b[31m5.5 MB/s\u001b[0m eta \u001b[36m0:00:00\u001b[0m\n",
            "\u001b[?25hDownloading nvidia_curand_cu12-10.3.5.147-py3-none-manylinux2014_x86_64.whl (56.3 MB)\n",
            "\u001b[2K   \u001b[90m━━━━━━━━━━━━━━━━━━━━━━━━━━━━━━━━━━━━━━━━\u001b[0m \u001b[32m56.3/56.3 MB\u001b[0m \u001b[31m12.3 MB/s\u001b[0m eta \u001b[36m0:00:00\u001b[0m\n",
            "\u001b[?25hDownloading nvidia_cusolver_cu12-11.6.1.9-py3-none-manylinux2014_x86_64.whl (127.9 MB)\n",
            "\u001b[2K   \u001b[90m━━━━━━━━━━━━━━━━━━━━━━━━━━━━━━━━━━━━━━━━\u001b[0m \u001b[32m127.9/127.9 MB\u001b[0m \u001b[31m8.3 MB/s\u001b[0m eta \u001b[36m0:00:00\u001b[0m\n",
            "\u001b[?25hDownloading nvidia_cusparse_cu12-12.3.1.170-py3-none-manylinux2014_x86_64.whl (207.5 MB)\n",
            "\u001b[2K   \u001b[90m━━━━━━━━━━━━━━━━━━━━━━━━━━━━━━━━━━━━━━━━\u001b[0m \u001b[32m207.5/207.5 MB\u001b[0m \u001b[31m5.8 MB/s\u001b[0m eta \u001b[36m0:00:00\u001b[0m\n",
            "\u001b[?25hDownloading nvidia_nvjitlink_cu12-12.4.127-py3-none-manylinux2014_x86_64.whl (21.1 MB)\n",
            "\u001b[2K   \u001b[90m━━━━━━━━━━━━━━━━━━━━━━━━━━━━━━━━━━━━━━━━\u001b[0m \u001b[32m21.1/21.1 MB\u001b[0m \u001b[31m72.3 MB/s\u001b[0m eta \u001b[36m0:00:00\u001b[0m\n",
            "\u001b[?25hInstalling collected packages: spacy-alignments, nvidia-nvjitlink-cu12, nvidia-curand-cu12, nvidia-cufft-cu12, nvidia-cuda-runtime-cu12, nvidia-cuda-nvrtc-cu12, nvidia-cuda-cupti-cu12, nvidia-cublas-cu12, nvidia-cusparse-cu12, nvidia-cudnn-cu12, nvidia-cusolver-cu12, spacy_transformers\n",
            "  Attempting uninstall: nvidia-nvjitlink-cu12\n",
            "    Found existing installation: nvidia-nvjitlink-cu12 12.5.82\n",
            "    Uninstalling nvidia-nvjitlink-cu12-12.5.82:\n",
            "      Successfully uninstalled nvidia-nvjitlink-cu12-12.5.82\n",
            "  Attempting uninstall: nvidia-curand-cu12\n",
            "    Found existing installation: nvidia-curand-cu12 10.3.6.82\n",
            "    Uninstalling nvidia-curand-cu12-10.3.6.82:\n",
            "      Successfully uninstalled nvidia-curand-cu12-10.3.6.82\n",
            "  Attempting uninstall: nvidia-cufft-cu12\n",
            "    Found existing installation: nvidia-cufft-cu12 11.2.3.61\n",
            "    Uninstalling nvidia-cufft-cu12-11.2.3.61:\n",
            "      Successfully uninstalled nvidia-cufft-cu12-11.2.3.61\n",
            "  Attempting uninstall: nvidia-cuda-runtime-cu12\n",
            "    Found existing installation: nvidia-cuda-runtime-cu12 12.5.82\n",
            "    Uninstalling nvidia-cuda-runtime-cu12-12.5.82:\n",
            "      Successfully uninstalled nvidia-cuda-runtime-cu12-12.5.82\n",
            "  Attempting uninstall: nvidia-cuda-nvrtc-cu12\n",
            "    Found existing installation: nvidia-cuda-nvrtc-cu12 12.5.82\n",
            "    Uninstalling nvidia-cuda-nvrtc-cu12-12.5.82:\n",
            "      Successfully uninstalled nvidia-cuda-nvrtc-cu12-12.5.82\n",
            "  Attempting uninstall: nvidia-cuda-cupti-cu12\n",
            "    Found existing installation: nvidia-cuda-cupti-cu12 12.5.82\n",
            "    Uninstalling nvidia-cuda-cupti-cu12-12.5.82:\n",
            "      Successfully uninstalled nvidia-cuda-cupti-cu12-12.5.82\n",
            "  Attempting uninstall: nvidia-cublas-cu12\n",
            "    Found existing installation: nvidia-cublas-cu12 12.5.3.2\n",
            "    Uninstalling nvidia-cublas-cu12-12.5.3.2:\n",
            "      Successfully uninstalled nvidia-cublas-cu12-12.5.3.2\n",
            "  Attempting uninstall: nvidia-cusparse-cu12\n",
            "    Found existing installation: nvidia-cusparse-cu12 12.5.1.3\n",
            "    Uninstalling nvidia-cusparse-cu12-12.5.1.3:\n",
            "      Successfully uninstalled nvidia-cusparse-cu12-12.5.1.3\n",
            "  Attempting uninstall: nvidia-cudnn-cu12\n",
            "    Found existing installation: nvidia-cudnn-cu12 9.3.0.75\n",
            "    Uninstalling nvidia-cudnn-cu12-9.3.0.75:\n",
            "      Successfully uninstalled nvidia-cudnn-cu12-9.3.0.75\n",
            "  Attempting uninstall: nvidia-cusolver-cu12\n",
            "    Found existing installation: nvidia-cusolver-cu12 11.6.3.83\n",
            "    Uninstalling nvidia-cusolver-cu12-11.6.3.83:\n",
            "      Successfully uninstalled nvidia-cusolver-cu12-11.6.3.83\n",
            "Successfully installed nvidia-cublas-cu12-12.4.5.8 nvidia-cuda-cupti-cu12-12.4.127 nvidia-cuda-nvrtc-cu12-12.4.127 nvidia-cuda-runtime-cu12-12.4.127 nvidia-cudnn-cu12-9.1.0.70 nvidia-cufft-cu12-11.2.1.3 nvidia-curand-cu12-10.3.5.147 nvidia-cusolver-cu12-11.6.1.9 nvidia-cusparse-cu12-12.3.1.170 nvidia-nvjitlink-cu12-12.4.127 spacy-alignments-0.9.1 spacy_transformers-1.3.8\n"
          ]
        }
      ]
    },
    {
      "cell_type": "code",
      "source": [
        "import spacy\n",
        "from spacy.tokens import DocBin\n",
        "from tqdm import tqdm\n",
        "import json"
      ],
      "metadata": {
        "id": "-KPshnBIGQeH"
      },
      "execution_count": null,
      "outputs": []
    },
    {
      "cell_type": "code",
      "source": [
        "def get_spacy_doc(data, db):\n",
        "  # Create a blank spaCy pipeline\n",
        "  nlp = spacy.blank('en')\n",
        "\n",
        "  # Iterate through the data\n",
        "  for text, annot in tqdm(data):\n",
        "    doc = nlp.make_doc(text)\n",
        "    annot = annot['entities']\n",
        "\n",
        "    ents = []\n",
        "    entity_indices = []\n",
        "\n",
        "    # Extract entities from the annotations\n",
        "    for start, end, label in annot:\n",
        "      skip_entity = False\n",
        "      for idx in range(start, end):\n",
        "        if idx in entity_indices:\n",
        "          skip_entity = True\n",
        "          break\n",
        "      if skip_entity:\n",
        "        continue\n",
        "\n",
        "      entity_indices = entity_indices + list(range(start, end))\n",
        "      try:\n",
        "        span = doc.char_span(start, end, label=label, alignment_mode='strict')\n",
        "      except:\n",
        "        continue\n",
        "\n",
        "      if span is None:\n",
        "        # Log errors for annotations that couldn't be processed\n",
        "        err_data = str([start, end]) + \"    \" + str(text) + \"\\n\"\n",
        "        print(\"Error\")\n",
        "      else:\n",
        "        ents.append(span)\n",
        "\n",
        "    try:\n",
        "      doc.ents = ents\n",
        "      db.add(doc)\n",
        "    except:\n",
        "      pass\n",
        "  return db"
      ],
      "metadata": {
        "id": "N9M94DVJGPVO"
      },
      "execution_count": null,
      "outputs": []
    },
    {
      "cell_type": "code",
      "source": [
        "import os\n",
        "annotation_data = []\n",
        "annotation_list = os.listdir(\"/content/drive/MyDrive/omdena_legal/spacy_annotations\")\n",
        "for ann_files in annotation_list:\n",
        "  data = json.load(open(f\"/content/drive/MyDrive/omdena_legal/spacy_annotations/{ann_files}\",\"r\"))\n",
        "  annotation_data.append(data)"
      ],
      "metadata": {
        "id": "eTsByP1kHDS_"
      },
      "execution_count": null,
      "outputs": []
    },
    {
      "cell_type": "code",
      "source": [
        "db = DocBin()\n",
        "for data in annotation_data:\n",
        "  db = get_spacy_doc(data, db)"
      ],
      "metadata": {
        "colab": {
          "base_uri": "https://localhost:8080/"
        },
        "id": "_2Vog4t2HXGQ",
        "outputId": "f533806a-8217-4fe6-9f69-1fa1d2071b56"
      },
      "execution_count": null,
      "outputs": [
        {
          "output_type": "stream",
          "name": "stderr",
          "text": [
            "100%|██████████| 1/1 [00:00<00:00,  2.07it/s]\n",
            "100%|██████████| 1/1 [00:00<00:00, 16.86it/s]\n",
            "100%|██████████| 1/1 [00:00<00:00, 24.28it/s]\n",
            "100%|██████████| 1/1 [00:00<00:00, 21.96it/s]\n",
            "100%|██████████| 1/1 [00:00<00:00,  6.57it/s]\n",
            "100%|██████████| 1/1 [00:00<00:00, 20.58it/s]\n",
            "100%|██████████| 1/1 [00:00<00:00, 22.21it/s]\n",
            "100%|██████████| 1/1 [00:00<00:00, 22.41it/s]\n",
            "100%|██████████| 1/1 [00:00<00:00, 23.85it/s]\n",
            "100%|██████████| 1/1 [00:00<00:00, 23.46it/s]\n"
          ]
        }
      ]
    },
    {
      "cell_type": "code",
      "source": [
        "db.to_disk(\"/content/drive/MyDrive/omdena_legal/train.spacy\")"
      ],
      "metadata": {
        "id": "XSS7V8MvHsf5"
      },
      "execution_count": null,
      "outputs": []
    },
    {
      "cell_type": "code",
      "source": [
        "!python -m spacy init fill-config /content/drive/MyDrive/omdena_legal/custom_ner/config/base_config.cfg /content/drive/MyDrive/omdena_legal/custom_ner/config/config.cfg"
      ],
      "metadata": {
        "colab": {
          "base_uri": "https://localhost:8080/"
        },
        "id": "O0kMLEbOJSRG",
        "outputId": "da12501f-36e8-4cd9-ebe3-b89e022cb792"
      },
      "execution_count": null,
      "outputs": [
        {
          "output_type": "stream",
          "name": "stdout",
          "text": [
            "\u001b[38;5;2m✔ Auto-filled config with all values\u001b[0m\n",
            "\u001b[38;5;2m✔ Saved config\u001b[0m\n",
            "/content/drive/MyDrive/omdena_legal/custom_ner/config/config.cfg\n",
            "You can now add your data and train your pipeline:\n",
            "python -m spacy train config.cfg --paths.train ./train.spacy --paths.dev ./dev.spacy\n"
          ]
        }
      ]
    },
    {
      "cell_type": "code",
      "source": [
        "!python -m spacy train /content/drive/MyDrive/omdena_legal/custom_ner/config/config.cfg  --output /content/drive/MyDrive/omdena_legal/custom_ner/trained_models/output  --paths.train /content/drive/MyDrive/omdena_legal/train.spacy  --paths.dev /content/drive/MyDrive/omdena_legal/train.spacy --gpu-id 0"
      ],
      "metadata": {
        "colab": {
          "base_uri": "https://localhost:8080/"
        },
        "id": "ZlmX5WQqK5By",
        "outputId": "83fd692a-7bb6-43f9-f893-a0cc79ee22ff"
      },
      "execution_count": null,
      "outputs": [
        {
          "output_type": "stream",
          "name": "stdout",
          "text": [
            "\u001b[38;5;4mℹ Saving to output directory:\n",
            "/content/drive/MyDrive/omdena_legal/custom_ner/trained_models/output\u001b[0m\n",
            "\u001b[38;5;4mℹ Using GPU: 0\u001b[0m\n",
            "\u001b[1m\n",
            "=========================== Initializing pipeline ===========================\u001b[0m\n",
            "tokenizer_config.json: 100% 25.0/25.0 [00:00<00:00, 184kB/s]\n",
            "config.json: 100% 481/481 [00:00<00:00, 3.52MB/s]\n",
            "vocab.json: 100% 899k/899k [00:00<00:00, 3.68MB/s]\n",
            "merges.txt: 100% 456k/456k [00:00<00:00, 2.80MB/s]\n",
            "tokenizer.json: 100% 1.36M/1.36M [00:00<00:00, 4.10MB/s]\n",
            "2025-02-27 11:40:01.003103: E external/local_xla/xla/stream_executor/cuda/cuda_fft.cc:477] Unable to register cuFFT factory: Attempting to register factory for plugin cuFFT when one has already been registered\n",
            "WARNING: All log messages before absl::InitializeLog() is called are written to STDERR\n",
            "E0000 00:00:1740656401.294308    2173 cuda_dnn.cc:8310] Unable to register cuDNN factory: Attempting to register factory for plugin cuDNN when one has already been registered\n",
            "E0000 00:00:1740656401.372887    2173 cuda_blas.cc:1418] Unable to register cuBLAS factory: Attempting to register factory for plugin cuBLAS when one has already been registered\n",
            "2025-02-27 11:40:02.006191: I tensorflow/core/platform/cpu_feature_guard.cc:210] This TensorFlow binary is optimized to use available CPU instructions in performance-critical operations.\n",
            "To enable the following instructions: AVX2 AVX512F FMA, in other operations, rebuild TensorFlow with the appropriate compiler flags.\n",
            "model.safetensors: 100% 499M/499M [00:02<00:00, 235MB/s]\n",
            "Some weights of RobertaModel were not initialized from the model checkpoint at roberta-base and are newly initialized: ['roberta.pooler.dense.bias', 'roberta.pooler.dense.weight']\n",
            "You should probably TRAIN this model on a down-stream task to be able to use it for predictions and inference.\n",
            "\u001b[38;5;2m✔ Initialized pipeline\u001b[0m\n",
            "\u001b[1m\n",
            "============================= Training pipeline =============================\u001b[0m\n",
            "\u001b[38;5;4mℹ Pipeline: ['transformer', 'ner']\u001b[0m\n",
            "\u001b[38;5;4mℹ Initial learn rate: 0.0\u001b[0m\n",
            "E    #       LOSS TRANS...  LOSS NER  ENTS_F  ENTS_P  ENTS_R  SCORE \n",
            "---  ------  -------------  --------  ------  ------  ------  ------\n",
            "  0       0       33491.15   1001.89    0.00    0.00    0.00    0.00\n",
            " 20     200      909804.75  54989.39   95.75   94.99   96.53    0.96\n",
            " 40     400        2045.54    286.35  100.00  100.00  100.00    1.00\n",
            " 60     600           6.64      9.61  100.00  100.00  100.00    1.00\n",
            " 80     800           6.73      8.49  100.00  100.00  100.00    1.00\n",
            "100    1000           5.66      5.04  100.00  100.00  100.00    1.00\n"
          ]
        }
      ]
    },
    {
      "cell_type": "code",
      "source": [
        "nlp = spacy.load('/content/drive/MyDrive/omdena_legal/custom_ner/trained_models/output/model-best')"
      ],
      "metadata": {
        "colab": {
          "base_uri": "https://localhost:8080/"
        },
        "id": "xq-rlObYMCLW",
        "outputId": "f267cb61-3dc0-4602-c752-c422fe8c845e"
      },
      "execution_count": null,
      "outputs": [
        {
          "output_type": "stream",
          "name": "stderr",
          "text": [
            "/usr/local/lib/python3.11/dist-packages/spacy_transformers/layers/hf_shim.py:124: FutureWarning: You are using `torch.load` with `weights_only=False` (the current default value), which uses the default pickle module implicitly. It is possible to construct malicious pickle data which will execute arbitrary code during unpickling (See https://github.com/pytorch/pytorch/blob/main/SECURITY.md#untrusted-models for more details). In a future release, the default value for `weights_only` will be flipped to `True`. This limits the functions that could be executed during unpickling. Arbitrary objects will no longer be allowed to be loaded via this mode unless they are explicitly allowlisted by the user via `torch.serialization.add_safe_globals`. We recommend you start setting `weights_only=True` for any use case where you don't have full control of the loaded file. Please open an issue on GitHub for any issues related to this experimental feature.\n",
            "  self._model.load_state_dict(torch.load(filelike, map_location=device))\n"
          ]
        }
      ]
    },
    {
      "cell_type": "code",
      "source": [
        "with open(\"/content/Detailed_Divorce_Agreement_11.txt\") as f:\n",
        "  test_data = f.read()"
      ],
      "metadata": {
        "id": "xpaueORsQSV3"
      },
      "execution_count": null,
      "outputs": []
    },
    {
      "cell_type": "code",
      "source": [
        "doc = nlp(test_data)\n",
        "for ent in doc.ents:\n",
        "  print(ent.text, \"  ->>>>  \", ent.label_)"
      ],
      "metadata": {
        "colab": {
          "base_uri": "https://localhost:8080/"
        },
        "id": "0FB3XXDZQaIi",
        "outputId": "948b2621-771c-4fda-fb26-ddebe1c0afc4"
      },
      "execution_count": null,
      "outputs": [
        {
          "output_type": "stream",
          "name": "stdout",
          "text": [
            "___ day of __________, 20__   ->>>>   DATE\n",
            "Steven Salas   ->>>>   NAME\n",
            "Unit 5898 Box 9346\n",
            "DPO AA 23038   ->>>>   STREET_ADDRESS\n",
            "Amanda Krause   ->>>>   NAME\n",
            "670 Peterson Viaduct Suite 530\n",
            "Spencerhaven, FM 86681.   ->>>>   STREET_ADDRESS\n",
            "2025-01-06   ->>>>   DATE\n",
            "896 Joseph Glens\n",
            "Snyderchester, MP 34339   ->>>>   STREET_ADDRESS\n",
            "351 Ford Locks Apt. 922\n",
            "New Michelleborough, CO 17048   ->>>>   STREET_ADDRESS\n",
            "Steven Salas.   ->>>>   NAME\n",
            "Steven Salas.   ->>>>   NAME\n",
            "Parent Name   ->>>>   NAME\n",
            "Other Parent Name   ->>>>   NAME\n",
            "Parent A   ->>>>   NAME\n",
            "Parent B   ->>>>   NAME\n",
            "Steven Salas   ->>>>   NAME\n",
            "$535   ->>>>   MONEY\n",
            "Amanda Krause.   ->>>>   NAME\n",
            "Steven Salas   ->>>>   NAME\n",
            "$556   ->>>>   MONEY\n",
            "Amanda Krause   ->>>>   NAME\n",
            "4 years   ->>>>   TENURE\n",
            "2025-01-04.   ->>>>   DATE\n",
            "Steven Salas   ->>>>   NAME\n",
            "Steven Salas   ->>>>   NAME\n",
            "$511911   ->>>>   MONEY\n",
            "Amanda Krause   ->>>>   NAME\n",
            "Parent A   ->>>>   NAME\n",
            "Parent B   ->>>>   NAME\n",
            "Oklahoma.   ->>>>   COUNTRY\n",
            "Steven Salas   ->>>>   NAME\n",
            "___/___/20__   ->>>>   DATE\n",
            "Amanda Krause   ->>>>   NAME\n",
            "___/___/20__   ->>>>   DATE\n",
            "Christy Ware   ->>>>   NAME\n",
            "___/___/20__   ->>>>   DATE\n",
            "Adrian Burton   ->>>>   NAME\n",
            "___/___/20__   ->>>>   DATE\n",
            "Oklahoma   ->>>>   COUNTRY\n",
            "Slovakia   ->>>>   COUNTRY\n",
            "Slovak   ->>>>   COUNTRY\n",
            "Republic   ->>>>   COUNTRY\n",
            "___ day of __________, 20__   ->>>>   DATE\n",
            "Steven Salas   ->>>>   NAME\n",
            "Amanda Krause   ->>>>   NAME\n",
            "Fuller, Kerr and Spencer   ->>>>   NAME\n",
            "___/___/20__   ->>>>   DATE\n"
          ]
        }
      ]
    },
    {
      "cell_type": "code",
      "source": [
        "!pip install reportlab\n",
        "!pip install python-docx"
      ],
      "metadata": {
        "colab": {
          "base_uri": "https://localhost:8080/"
        },
        "id": "k2MH2CWrZ-ZD",
        "outputId": "738a2d51-c4e0-4398-bace-df6e052d59ee"
      },
      "execution_count": 8,
      "outputs": [
        {
          "output_type": "stream",
          "name": "stdout",
          "text": [
            "Collecting reportlab\n",
            "  Downloading reportlab-4.3.1-py3-none-any.whl.metadata (1.7 kB)\n",
            "Requirement already satisfied: pillow>=9.0.0 in /usr/local/lib/python3.11/dist-packages (from reportlab) (11.1.0)\n",
            "Requirement already satisfied: chardet in /usr/local/lib/python3.11/dist-packages (from reportlab) (5.2.0)\n",
            "Downloading reportlab-4.3.1-py3-none-any.whl (1.9 MB)\n",
            "\u001b[?25l   \u001b[90m━━━━━━━━━━━━━━━━━━━━━━━━━━━━━━━━━━━━━━━━\u001b[0m \u001b[32m0.0/1.9 MB\u001b[0m \u001b[31m?\u001b[0m eta \u001b[36m-:--:--\u001b[0m\r\u001b[2K   \u001b[91m━━━━━━━━━━━━━━━━━━\u001b[0m\u001b[90m╺\u001b[0m\u001b[90m━━━━━━━━━━━━━━━━━━━━━\u001b[0m \u001b[32m0.9/1.9 MB\u001b[0m \u001b[31m26.6 MB/s\u001b[0m eta \u001b[36m0:00:01\u001b[0m\r\u001b[2K   \u001b[90m━━━━━━━━━━━━━━━━━━━━━━━━━━━━━━━━━━━━━━━━\u001b[0m \u001b[32m1.9/1.9 MB\u001b[0m \u001b[31m34.3 MB/s\u001b[0m eta \u001b[36m0:00:00\u001b[0m\n",
            "\u001b[?25hInstalling collected packages: reportlab\n",
            "Successfully installed reportlab-4.3.1\n",
            "Collecting python-docx\n",
            "  Downloading python_docx-1.1.2-py3-none-any.whl.metadata (2.0 kB)\n",
            "Requirement already satisfied: lxml>=3.1.0 in /usr/local/lib/python3.11/dist-packages (from python-docx) (5.3.1)\n",
            "Requirement already satisfied: typing-extensions>=4.9.0 in /usr/local/lib/python3.11/dist-packages (from python-docx) (4.12.2)\n",
            "Downloading python_docx-1.1.2-py3-none-any.whl (244 kB)\n",
            "\u001b[2K   \u001b[90m━━━━━━━━━━━━━━━━━━━━━━━━━━━━━━━━━━━━━━━━\u001b[0m \u001b[32m244.3/244.3 kB\u001b[0m \u001b[31m6.7 MB/s\u001b[0m eta \u001b[36m0:00:00\u001b[0m\n",
            "\u001b[?25hInstalling collected packages: python-docx\n",
            "Successfully installed python-docx-1.1.2\n"
          ]
        }
      ]
    },
    {
      "cell_type": "code",
      "source": [
        "from reportlab.lib.pagesizes import letter\n",
        "from reportlab.pdfgen import canvas\n",
        "from docx import Document"
      ],
      "metadata": {
        "id": "iBkuWRSMQhqv"
      },
      "execution_count": null,
      "outputs": []
    },
    {
      "cell_type": "code",
      "source": [
        "new_text = list(test_data)\n",
        "for ent in doc.ents:\n",
        "    label = ent.label_  # Entity label\n",
        "    label = f\"<{label}>\"\n",
        "    replacement = label.ljust(len(ent.text))[:len(ent.text)]  # Ensure same length\n",
        "    new_text[ent.start_char:ent.end_char] = replacement  # Replace in span\n",
        "\n",
        "modified_text = \"\".join(new_text)"
      ],
      "metadata": {
        "id": "4c9h7ICnEUbm"
      },
      "execution_count": null,
      "outputs": []
    },
    {
      "cell_type": "code",
      "source": [
        "def save_text_as_docx(text, filename=\"output.docx\"):\n",
        "    doc = Document()\n",
        "    doc.add_paragraph(text)  # Add modified text\n",
        "    doc.save(filename)\n",
        "\n",
        "# Save modified text to DOCX\n",
        "save_text_as_docx(modified_text, \"modified_text.docx\")"
      ],
      "metadata": {
        "id": "nalH-el4aK7E"
      },
      "execution_count": null,
      "outputs": []
    },
    {
      "cell_type": "markdown",
      "source": [
        "# Spacy model in Presidio registry"
      ],
      "metadata": {
        "id": "TkyKduixcZab"
      }
    },
    {
      "cell_type": "code",
      "source": [
        "from presidio_analyzer import AnalyzerEngine, RecognizerRegistry, EntityRecognizer, RecognizerResult\n",
        "from presidio_analyzer.nlp_engine import NlpEngineProvider\n",
        "import spacy\n",
        "\n",
        "# Step 1: Load your custom SpaCy model\n",
        "nlp = spacy.load('/content/drive/MyDrive/omdena_legal/custom_ner/trained_models/output/model-best')\n",
        "\n",
        "# Step 2: Create a custom recognizer using SpaCy\n",
        "class SpacyCustomRecognizer(EntityRecognizer):\n",
        "    def __init__(self, nlp_model):\n",
        "        super().__init__(supported_entities=[\"NAME\", \"COUNTRY\", \"MONEY\", \"DATE\", \"TENURE\", \"STREET_ADDRESS\"])\n",
        "        self.nlp_model = nlp_model\n",
        "\n",
        "    def load(self):\n",
        "        pass  # No additional loading required since SpaCy model is already loaded\n",
        "\n",
        "    def analyze(self, text, entities, nlp_artifacts=None):\n",
        "        doc = self.nlp_model(text)\n",
        "        results = []\n",
        "        for ent in doc.ents:\n",
        "            if ent.label_ in self.supported_entities:\n",
        "                # Use RecognizerResult to structure the output\n",
        "                result = RecognizerResult(\n",
        "                    entity_type=ent.label_,\n",
        "                    start=ent.start_char,\n",
        "                    end=ent.end_char,\n",
        "                    score=1.0  # Confidence score (SpaCy doesn't provide this directly)\n",
        "                )\n",
        "                results.append(result)\n",
        "        return results\n",
        "\n",
        "# Step 3: Register the custom recognizer with Presidio\n",
        "custom_recognizer = SpacyCustomRecognizer(nlp_model=nlp)\n",
        "\n",
        "# Create a RecognizerRegistry and add the custom recognizer\n",
        "registry = RecognizerRegistry()\n",
        "registry.add_recognizer(custom_recognizer)\n",
        "\n",
        "# Configure Presidio's NLP engine (optional, if you want to use SpaCy as the NLP backend)\n",
        "nlp_engine_provider = NlpEngineProvider(nlp_configuration={\n",
        "    \"nlp_engine_name\": \"spacy\",\n",
        "    \"models\": [{\"lang_code\": \"en\", \"model_name\": \"en_core_web_sm\"}]\n",
        "})\n",
        "\n",
        "# Step 4: Initialize Presidio's AnalyzerEngine with the custom recognizer\n",
        "analyzer = AnalyzerEngine(registry=registry, nlp_engine=nlp_engine_provider.create_engine())\n",
        "\n",
        "with open(\"/content/Detailed_Divorce_Agreement_11.txt\") as f:\n",
        "  test_data = f.read()\n",
        "\n",
        "# Step 5: Run inference using Presidio (includes both custom and base models)\n",
        "results = analyzer.analyze(text=test_data, language=\"en\")\n",
        "\n",
        "# Print detected entities\n",
        "for result in results:\n",
        "    print(f\"Entity: {result.entity_type}, Span: {test_data[result.start:result.end]}, Start: {result.start}, End: {result.end}\")\n",
        "\n",
        "# Step 6: Recreate the document with labeled entities\n",
        "new_text = list(test_data)\n",
        "for result in results:\n",
        "    label = f\"<{result.entity_type}>\"\n",
        "    replacement = label.ljust(result.end - result.start)[:result.end - result.start]  # Ensure same length\n",
        "    new_text[result.start:result.end] = replacement  # Replace in span\n",
        "\n",
        "modified_text = \"\".join(new_text)"
      ],
      "metadata": {
        "colab": {
          "base_uri": "https://localhost:8080/"
        },
        "id": "B5G49MvgeERx",
        "outputId": "60332b98-49fa-4e0d-c30c-a7d9990aec57"
      },
      "execution_count": 6,
      "outputs": [
        {
          "output_type": "stream",
          "name": "stderr",
          "text": [
            "WARNING:presidio-analyzer:model_to_presidio_entity_mapping is missing from configuration, using default\n",
            "WARNING:presidio-analyzer:low_score_entity_names is missing from configuration, using default\n",
            "WARNING:presidio-analyzer:labels_to_ignore is missing from configuration, using default\n"
          ]
        },
        {
          "output_type": "stream",
          "name": "stdout",
          "text": [
            "Entity: DATE, Span: ___ day of __________, 20__, Start: 89, End: 116\n",
            "Entity: NAME, Span: Steven Salas, Start: 133, End: 145\n",
            "Entity: STREET_ADDRESS, Span: Unit 5898 Box 9346\n",
            "DPO AA 23038, Start: 159, End: 190\n",
            "Entity: NAME, Span: Amanda Krause, Start: 196, End: 209\n",
            "Entity: STREET_ADDRESS, Span: 670 Peterson Viaduct Suite 530\n",
            "Spencerhaven, FM 86681., Start: 223, End: 277\n",
            "Entity: DATE, Span: 2025-01-06, Start: 511, End: 521\n",
            "Entity: STREET_ADDRESS, Span: 896 Joseph Glens\n",
            "Snyderchester, MP 34339, Start: 525, End: 565\n",
            "Entity: STREET_ADDRESS, Span: 351 Ford Locks Apt. 922\n",
            "New Michelleborough, CO 17048, Start: 1095, End: 1148\n",
            "Entity: NAME, Span: Steven Salas., Start: 1173, End: 1186\n",
            "Entity: NAME, Span: Steven Salas., Start: 1256, End: 1269\n",
            "Entity: NAME, Span: Parent Name, Start: 2407, End: 2418\n",
            "Entity: NAME, Span: Other Parent Name, Start: 2456, End: 2473\n",
            "Entity: NAME, Span: Parent A, Start: 2669, End: 2677\n",
            "Entity: NAME, Span: Parent B, Start: 2710, End: 2718\n",
            "Entity: NAME, Span: Steven Salas, Start: 2756, End: 2768\n",
            "Entity: MONEY, Span: $535, Start: 2779, End: 2783\n",
            "Entity: NAME, Span: Amanda Krause., Start: 2814, End: 2828\n",
            "Entity: NAME, Span: Steven Salas, Start: 3131, End: 3143\n",
            "Entity: MONEY, Span: $556, Start: 3154, End: 3158\n",
            "Entity: NAME, Span: Amanda Krause, Start: 3191, End: 3204\n",
            "Entity: TENURE, Span: 4 years, Start: 3221, End: 3228\n",
            "Entity: DATE, Span: 2025-01-04., Start: 3243, End: 3254\n",
            "Entity: NAME, Span: Steven Salas, Start: 3585, End: 3597\n",
            "Entity: NAME, Span: Steven Salas, Start: 3765, End: 3777\n",
            "Entity: MONEY, Span: $511911, Start: 3838, End: 3845\n",
            "Entity: NAME, Span: Amanda Krause, Start: 3854, End: 3867\n",
            "Entity: NAME, Span: Parent A, Start: 4136, End: 4144\n",
            "Entity: NAME, Span: Parent B, Start: 4179, End: 4187\n",
            "Entity: COUNTRY, Span: Oklahoma., Start: 5043, End: 5052\n",
            "Entity: NAME, Span: Steven Salas, Start: 5070, End: 5082\n",
            "Entity: DATE, Span: ___/___/20__, Start: 5105, End: 5117\n",
            "Entity: NAME, Span: Amanda Krause, Start: 5120, End: 5133\n",
            "Entity: DATE, Span: ___/___/20__, Start: 5156, End: 5168\n",
            "Entity: NAME, Span: Christy Ware, Start: 5182, End: 5194\n",
            "Entity: DATE, Span: ___/___/20__, Start: 5204, End: 5216\n",
            "Entity: NAME, Span: Adrian Burton, Start: 5230, End: 5243\n",
            "Entity: DATE, Span: ___/___/20__, Start: 5253, End: 5265\n",
            "Entity: COUNTRY, Span: Oklahoma, Start: 5300, End: 5308\n",
            "Entity: COUNTRY, Span: Slovakia, Start: 5319, End: 5327\n",
            "Entity: COUNTRY, Span: Slovak, Start: 5329, End: 5335\n",
            "Entity: COUNTRY, Span: Republic, Start: 5336, End: 5344\n",
            "Entity: DATE, Span: ___ day of __________, 20__, Start: 5355, End: 5382\n",
            "Entity: NAME, Span: Steven Salas, Start: 5446, End: 5458\n",
            "Entity: NAME, Span: Amanda Krause, Start: 5463, End: 5476\n",
            "Entity: NAME, Span: Fuller, Kerr and Spencer, Start: 5686, End: 5710\n",
            "Entity: DATE, Span: ___/___/20__, Start: 5749, End: 5761\n"
          ]
        }
      ]
    },
    {
      "cell_type": "code",
      "source": [
        "from docx import Document\n",
        "def save_text_as_docx(text, filename=\"output.docx\"):\n",
        "    doc = Document()\n",
        "    doc.add_paragraph(text)  # Add modified text\n",
        "    doc.save(filename)\n",
        "\n",
        "# Save modified text to DOCX\n",
        "save_text_as_docx(modified_text, \"modified_text.docx\")"
      ],
      "metadata": {
        "id": "iZNiieTrdd22"
      },
      "execution_count": 9,
      "outputs": []
    },
    {
      "cell_type": "code",
      "source": [],
      "metadata": {
        "id": "aGvh3xKaeqcB"
      },
      "execution_count": null,
      "outputs": []
    }
  ],
  "metadata": {
    "colab": {
      "provenance": [],
      "gpuType": "T4"
    },
    "kernelspec": {
      "display_name": "Python 3",
      "name": "python3"
    },
    "language_info": {
      "name": "python"
    },
    "accelerator": "GPU"
  },
  "nbformat": 4,
  "nbformat_minor": 0
}